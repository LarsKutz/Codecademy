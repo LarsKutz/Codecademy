{
 "cells": [
  {
   "cell_type": "markdown",
   "metadata": {},
   "source": [
    "# Review"
   ]
  },
  {
   "cell_type": "code",
   "execution_count": 2,
   "metadata": {},
   "outputs": [],
   "source": [
    "import pandas as pd\n",
    "from scipy.stats import chi2_contingency"
   ]
  },
  {
   "cell_type": "markdown",
   "metadata": {},
   "source": [
    "As a final exercise, the NPI dataset has been loaded for you as npi. Remember that the columns are defined as follows:\n",
    "- `influence`: `yes` = I have a natural talent for influencing people; `no` = I am not good at influencing people.\n",
    "- `blend_in`: `yes` = I prefer to blend in with the crowd; `no` = I like to be the center of attention.\n",
    "- `special`: `yes` = I think I am a special person; `no` = I am no better or worse than most people.\n",
    "- `leader`: `yes` = I see myself as a good leader; `no` = I am not sure if I would make a good leader.\n",
    "- `authority`: `yes` = I like to have authority over other people; `no` = I don’t mind following orders.\n",
    "\n",
    "Which other pairs of questions might be associated (or not)? Use the workspace and your newfound skills to investigate for yourself!"
   ]
  },
  {
   "cell_type": "code",
   "execution_count": 3,
   "metadata": {},
   "outputs": [
    {
     "data": {
      "text/html": [
       "<div>\n",
       "<style scoped>\n",
       "    .dataframe tbody tr th:only-of-type {\n",
       "        vertical-align: middle;\n",
       "    }\n",
       "\n",
       "    .dataframe tbody tr th {\n",
       "        vertical-align: top;\n",
       "    }\n",
       "\n",
       "    .dataframe thead th {\n",
       "        text-align: right;\n",
       "    }\n",
       "</style>\n",
       "<table border=\"1\" class=\"dataframe\">\n",
       "  <thead>\n",
       "    <tr style=\"text-align: right;\">\n",
       "      <th></th>\n",
       "      <th>influence</th>\n",
       "      <th>blend_in</th>\n",
       "      <th>special</th>\n",
       "      <th>leader</th>\n",
       "      <th>authority</th>\n",
       "    </tr>\n",
       "  </thead>\n",
       "  <tbody>\n",
       "    <tr>\n",
       "      <th>0</th>\n",
       "      <td>no</td>\n",
       "      <td>yes</td>\n",
       "      <td>yes</td>\n",
       "      <td>yes</td>\n",
       "      <td>yes</td>\n",
       "    </tr>\n",
       "    <tr>\n",
       "      <th>1</th>\n",
       "      <td>no</td>\n",
       "      <td>yes</td>\n",
       "      <td>no</td>\n",
       "      <td>no</td>\n",
       "      <td>no</td>\n",
       "    </tr>\n",
       "    <tr>\n",
       "      <th>2</th>\n",
       "      <td>yes</td>\n",
       "      <td>no</td>\n",
       "      <td>yes</td>\n",
       "      <td>yes</td>\n",
       "      <td>yes</td>\n",
       "    </tr>\n",
       "    <tr>\n",
       "      <th>3</th>\n",
       "      <td>yes</td>\n",
       "      <td>no</td>\n",
       "      <td>no</td>\n",
       "      <td>yes</td>\n",
       "      <td>yes</td>\n",
       "    </tr>\n",
       "    <tr>\n",
       "      <th>4</th>\n",
       "      <td>yes</td>\n",
       "      <td>yes</td>\n",
       "      <td>no</td>\n",
       "      <td>yes</td>\n",
       "      <td>no</td>\n",
       "    </tr>\n",
       "  </tbody>\n",
       "</table>\n",
       "</div>"
      ],
      "text/plain": [
       "  influence blend_in special leader authority\n",
       "0        no      yes     yes    yes       yes\n",
       "1        no      yes      no     no        no\n",
       "2       yes       no     yes    yes       yes\n",
       "3       yes       no      no    yes       yes\n",
       "4       yes      yes      no    yes        no"
      ]
     },
     "execution_count": 3,
     "metadata": {},
     "output_type": "execute_result"
    }
   ],
   "source": [
    "df = pd.read_csv('npi_sample.csv')\n",
    "df.head()"
   ]
  },
  {
   "cell_type": "markdown",
   "metadata": {},
   "source": [
    "### Just one Example between two categorical columns"
   ]
  },
  {
   "cell_type": "markdown",
   "metadata": {},
   "source": [
    "Frequency Table"
   ]
  },
  {
   "cell_type": "code",
   "execution_count": 4,
   "metadata": {},
   "outputs": [
    {
     "data": {
      "text/html": [
       "<div>\n",
       "<style scoped>\n",
       "    .dataframe tbody tr th:only-of-type {\n",
       "        vertical-align: middle;\n",
       "    }\n",
       "\n",
       "    .dataframe tbody tr th {\n",
       "        vertical-align: top;\n",
       "    }\n",
       "\n",
       "    .dataframe thead th {\n",
       "        text-align: right;\n",
       "    }\n",
       "</style>\n",
       "<table border=\"1\" class=\"dataframe\">\n",
       "  <thead>\n",
       "    <tr style=\"text-align: right;\">\n",
       "      <th>blend_in</th>\n",
       "      <th>no</th>\n",
       "      <th>yes</th>\n",
       "    </tr>\n",
       "    <tr>\n",
       "      <th>influence</th>\n",
       "      <th></th>\n",
       "      <th></th>\n",
       "    </tr>\n",
       "  </thead>\n",
       "  <tbody>\n",
       "    <tr>\n",
       "      <th>no</th>\n",
       "      <td>773</td>\n",
       "      <td>3535</td>\n",
       "    </tr>\n",
       "    <tr>\n",
       "      <th>yes</th>\n",
       "      <td>2626</td>\n",
       "      <td>4163</td>\n",
       "    </tr>\n",
       "  </tbody>\n",
       "</table>\n",
       "</div>"
      ],
      "text/plain": [
       "blend_in     no   yes\n",
       "influence            \n",
       "no          773  3535\n",
       "yes        2626  4163"
      ]
     },
     "execution_count": 4,
     "metadata": {},
     "output_type": "execute_result"
    }
   ],
   "source": [
    "influence_blend_in_freq = pd.crosstab(df.influence, df.blend_in)\n",
    "influence_blend_in_freq"
   ]
  },
  {
   "cell_type": "markdown",
   "metadata": {},
   "source": [
    "Propotion Table"
   ]
  },
  {
   "cell_type": "code",
   "execution_count": 5,
   "metadata": {},
   "outputs": [
    {
     "data": {
      "text/html": [
       "<div>\n",
       "<style scoped>\n",
       "    .dataframe tbody tr th:only-of-type {\n",
       "        vertical-align: middle;\n",
       "    }\n",
       "\n",
       "    .dataframe tbody tr th {\n",
       "        vertical-align: top;\n",
       "    }\n",
       "\n",
       "    .dataframe thead th {\n",
       "        text-align: right;\n",
       "    }\n",
       "</style>\n",
       "<table border=\"1\" class=\"dataframe\">\n",
       "  <thead>\n",
       "    <tr style=\"text-align: right;\">\n",
       "      <th>blend_in</th>\n",
       "      <th>no</th>\n",
       "      <th>yes</th>\n",
       "    </tr>\n",
       "    <tr>\n",
       "      <th>influence</th>\n",
       "      <th></th>\n",
       "      <th></th>\n",
       "    </tr>\n",
       "  </thead>\n",
       "  <tbody>\n",
       "    <tr>\n",
       "      <th>no</th>\n",
       "      <td>0.069658</td>\n",
       "      <td>0.318555</td>\n",
       "    </tr>\n",
       "    <tr>\n",
       "      <th>yes</th>\n",
       "      <td>0.236641</td>\n",
       "      <td>0.375146</td>\n",
       "    </tr>\n",
       "  </tbody>\n",
       "</table>\n",
       "</div>"
      ],
      "text/plain": [
       "blend_in         no       yes\n",
       "influence                    \n",
       "no         0.069658  0.318555\n",
       "yes        0.236641  0.375146"
      ]
     },
     "execution_count": 5,
     "metadata": {},
     "output_type": "execute_result"
    }
   ],
   "source": [
    "influence_blend_in_prop = influence_blend_in_freq / len(df)\n",
    "influence_blend_in_prop"
   ]
  },
  {
   "cell_type": "markdown",
   "metadata": {},
   "source": [
    "Marginal Proportions"
   ]
  },
  {
   "cell_type": "code",
   "execution_count": 6,
   "metadata": {},
   "outputs": [
    {
     "data": {
      "text/plain": [
       "(influence\n",
       " no     0.388213\n",
       " yes    0.611787\n",
       " dtype: float64,\n",
       " blend_in\n",
       " no     0.306299\n",
       " yes    0.693701\n",
       " dtype: float64)"
      ]
     },
     "execution_count": 6,
     "metadata": {},
     "output_type": "execute_result"
    }
   ],
   "source": [
    "influence_marginal = influence_blend_in_prop.sum(axis=1)\n",
    "blend_in_marginal = influence_blend_in_prop.sum(axis=0)\n",
    "\n",
    "influence_marginal, blend_in_marginal"
   ]
  },
  {
   "cell_type": "markdown",
   "metadata": {},
   "source": [
    "Expected Contingency Table"
   ]
  },
  {
   "cell_type": "code",
   "execution_count": 7,
   "metadata": {},
   "outputs": [],
   "source": [
    "chi2, p, dof, expected = chi2_contingency(influence_blend_in_freq)"
   ]
  },
  {
   "cell_type": "code",
   "execution_count": 8,
   "metadata": {},
   "outputs": [
    {
     "data": {
      "text/plain": [
       "(array([[1319.53609084, 2988.46390916],\n",
       "        [2079.46390916, 4709.53609084]]),\n",
       " blend_in     no   yes\n",
       " influence            \n",
       " no          773  3535\n",
       " yes        2626  4163)"
      ]
     },
     "execution_count": 8,
     "metadata": {},
     "output_type": "execute_result"
    }
   ],
   "source": [
    "expected, influence_blend_in_freq"
   ]
  },
  {
   "cell_type": "code",
   "execution_count": 9,
   "metadata": {},
   "outputs": [
    {
     "data": {
      "text/plain": [
       "(np.float64(8.431959337996535e-118), 1)"
      ]
     },
     "execution_count": 9,
     "metadata": {},
     "output_type": "execute_result"
    }
   ],
   "source": [
    "p, dof"
   ]
  },
  {
   "cell_type": "code",
   "execution_count": 10,
   "metadata": {},
   "outputs": [
    {
     "data": {
      "text/plain": [
       "np.float64(532.4132818664078)"
      ]
     },
     "execution_count": 10,
     "metadata": {},
     "output_type": "execute_result"
    }
   ],
   "source": [
    "chi2"
   ]
  },
  {
   "cell_type": "markdown",
   "metadata": {},
   "source": [
    "**Answer:** The Pair `influence` and `blend_in` are associated to each other, because the expected contingency table is not equal to the observed contingency table. The $\\chi^2$ has a value of `532` and way higher than then the critical value of `4`. "
   ]
  },
  {
   "cell_type": "markdown",
   "metadata": {},
   "source": [
    "### Testing"
   ]
  },
  {
   "cell_type": "code",
   "execution_count": 11,
   "metadata": {},
   "outputs": [],
   "source": [
    "def association(col1, col2):\n",
    "    freq = pd.crosstab(col1, col2)\n",
    "    prop = freq / len(col1)\n",
    "    marginal1 = prop.sum(axis=1)\n",
    "    marginal2 = prop.sum(axis=0)\n",
    "    chi2, p, dof, expected = chi2_contingency(freq)\n",
    "    \n",
    "    return freq, prop, marginal1, marginal2, chi2, p, dof, expected"
   ]
  },
  {
   "cell_type": "code",
   "execution_count": 17,
   "metadata": {},
   "outputs": [
    {
     "name": "stdout",
     "output_type": "stream",
     "text": [
      "Frequency: \n",
      "special      no   yes\n",
      "influence            \n",
      "no         2725  1583\n",
      "yes        3249  3540\n",
      "\n",
      "Proportion: \n",
      "special          no       yes\n",
      "influence                    \n",
      "no         0.245562  0.142651\n",
      "yes        0.292782  0.319005\n",
      "\n",
      "Marginal 1: \n",
      "influence\n",
      "no     0.388213\n",
      "yes    0.611787\n",
      "dtype: float64\n",
      "\n",
      "Marginal 2: \n",
      "special\n",
      "no     0.538344\n",
      "yes    0.461656\n",
      "dtype: float64\n",
      "\n",
      "Chi2: 250.80246206335414\n",
      "\n",
      "P-value: 1.73578852784625e-56\n",
      "\n",
      "Degrees of Freedom: 1\n",
      "\n",
      "Expected: \n",
      "[[2319.1846445 1988.8153555]\n",
      " [3654.8153555 3134.1846445]]\n"
     ]
    }
   ],
   "source": [
    "freq, prop, marginal1, marginal2, chi2, p, dof, expected = association(df.influence, df.special)\n",
    "\n",
    "print(f\"Frequency: \\n{freq}\", end=\"\\n\\n\")\n",
    "print(f\"Proportion: \\n{prop}\", end=\"\\n\\n\")\n",
    "print(f\"Marginal 1: \\n{marginal1}\", end=\"\\n\\n\")\n",
    "print(f\"Marginal 2: \\n{marginal2}\", end=\"\\n\\n\")\n",
    "print(f\"Chi2: {chi2}\", end=\"\\n\\n\")\n",
    "print(f\"P-value: {p}\", end=\"\\n\\n\")\n",
    "print(f\"Degrees of Freedom: {dof}\", end=\"\\n\\n\")\n",
    "print(f\"Expected: \\n{expected}\")"
   ]
  },
  {
   "cell_type": "code",
   "execution_count": 23,
   "metadata": {},
   "outputs": [
    {
     "name": "stdout",
     "output_type": "stream",
     "text": [
      "Association between influence and blend_in\n",
      "--------------------------------------------------\n",
      "Chi2: 532.4132818664078\n",
      "\n",
      "\n",
      "Association between influence and special\n",
      "--------------------------------------------------\n",
      "Chi2: 250.80246206335414\n",
      "\n",
      "\n",
      "Association between influence and leader\n",
      "--------------------------------------------------\n",
      "Chi2: 1307.8836807573769\n",
      "\n",
      "\n",
      "Association between influence and authority\n",
      "--------------------------------------------------\n",
      "Chi2: 356.9691576604298\n",
      "\n",
      "\n",
      "Association between blend_in and special\n",
      "--------------------------------------------------\n",
      "Chi2: 631.5051574353496\n",
      "\n",
      "\n",
      "Association between blend_in and leader\n",
      "--------------------------------------------------\n",
      "Chi2: 462.44980106783\n",
      "\n",
      "\n",
      "Association between blend_in and authority\n",
      "--------------------------------------------------\n",
      "Chi2: 665.4529799272262\n",
      "\n",
      "\n",
      "Association between special and leader\n",
      "--------------------------------------------------\n",
      "Chi2: 410.7382415694936\n",
      "\n",
      "\n",
      "Association between special and authority\n",
      "--------------------------------------------------\n",
      "Chi2: 679.1219526170606\n",
      "\n",
      "\n",
      "Association between leader and authority\n",
      "--------------------------------------------------\n",
      "Chi2: 869.2684782761069\n",
      "\n",
      "\n"
     ]
    }
   ],
   "source": [
    "import itertools\n",
    "\n",
    "columns = df.columns\n",
    "combinations = list(itertools.combinations(columns, 2))\n",
    "\n",
    "for combination in combinations:\n",
    "    print(f\"Association between {combination[0]} and {combination[1]}\")\n",
    "    print(\"--------------------------------------------------\")\n",
    "    freq, prop, marginal1, marginal2, chi2, p, dof, expected = association(df[combination[0]], df[combination[1]])\n",
    "    print(f\"Chi2: {chi2}\", end=\"\\n\\n\\n\")"
   ]
  }
 ],
 "metadata": {
  "kernelspec": {
   "display_name": "Codecademy-XphA9WxU",
   "language": "python",
   "name": "python3"
  },
  "language_info": {
   "codemirror_mode": {
    "name": "ipython",
    "version": 3
   },
   "file_extension": ".py",
   "mimetype": "text/x-python",
   "name": "python",
   "nbconvert_exporter": "python",
   "pygments_lexer": "ipython3",
   "version": "3.11.1"
  }
 },
 "nbformat": 4,
 "nbformat_minor": 2
}
