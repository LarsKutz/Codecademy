{
 "cells": [
  {
   "cell_type": "markdown",
   "metadata": {},
   "source": [
    "# Manipulation"
   ]
  },
  {
   "cell_type": "code",
   "execution_count": 1,
   "metadata": {},
   "outputs": [],
   "source": [
    "import pandas as pd \n",
    "import sqlite3\n",
    "\n",
    "\n",
    "def create_df(cursor):\n",
    "    data = cursor.fetchall()\n",
    "    column_names = [description[0] for description in cursor.description]\n",
    "    df = pd.DataFrame(data, columns=column_names)\n",
    "    return df\n",
    "\n",
    "\n",
    "conn = sqlite3.connect(\":memory:\")"
   ]
  },
  {
   "cell_type": "markdown",
   "metadata": {},
   "source": [
    "#### 1. "
   ]
  },
  {
   "cell_type": "markdown",
   "metadata": {},
   "source": [
    "Create a table named friends with three columns:\n",
    "\n",
    "- `id` that stores `INTEGER`\n",
    "- `name` that stores `TEXT`\n",
    "- `birthday` that stores `DATE`"
   ]
  },
  {
   "cell_type": "code",
   "execution_count": 2,
   "metadata": {},
   "outputs": [
    {
     "data": {
      "text/plain": [
       "<sqlite3.Cursor at 0x188d8cb3bc0>"
      ]
     },
     "execution_count": 2,
     "metadata": {},
     "output_type": "execute_result"
    }
   ],
   "source": [
    "st = \"\"\"\n",
    "    CREATE TABLE friends (\n",
    "        id INTEGER,\n",
    "        name TEXT,\n",
    "        birthday DATE\n",
    "    );\n",
    "\"\"\"\n",
    "conn.execute(st)"
   ]
  },
  {
   "cell_type": "markdown",
   "metadata": {},
   "source": [
    "#### 2. "
   ]
  },
  {
   "cell_type": "markdown",
   "metadata": {},
   "source": [
    "Beneath your current code, add Ororo Munroe to `friends`.\n",
    "\n",
    "Her birthday is May 30th, 1940."
   ]
  },
  {
   "cell_type": "code",
   "execution_count": 3,
   "metadata": {},
   "outputs": [
    {
     "data": {
      "text/plain": [
       "<sqlite3.Cursor at 0x188d8d06140>"
      ]
     },
     "execution_count": 3,
     "metadata": {},
     "output_type": "execute_result"
    }
   ],
   "source": [
    "st = \"\"\"\n",
    "    INSERT INTO friends (id, name, birthday)\n",
    "    VALUES (1, 'Ororo Munroe', '1940-05-30');\n",
    "\"\"\"\n",
    "conn.execute(st)"
   ]
  },
  {
   "cell_type": "markdown",
   "metadata": {},
   "source": [
    "#### 3."
   ]
  },
  {
   "cell_type": "markdown",
   "metadata": {},
   "source": [
    "Let’s make sure that Ororo has been added to the database:\n",
    "\n",
    "```sql\n",
    "SELECT * \n",
    "FROM friends;\n",
    "```\n",
    "\n",
    "\n",
    "Check for two things:\n",
    "\n",
    "Is `friends` table created?\n",
    "Is Ororo Munroe added to it?"
   ]
  },
  {
   "cell_type": "code",
   "execution_count": 6,
   "metadata": {},
   "outputs": [
    {
     "data": {
      "text/html": [
       "<div>\n",
       "<style scoped>\n",
       "    .dataframe tbody tr th:only-of-type {\n",
       "        vertical-align: middle;\n",
       "    }\n",
       "\n",
       "    .dataframe tbody tr th {\n",
       "        vertical-align: top;\n",
       "    }\n",
       "\n",
       "    .dataframe thead th {\n",
       "        text-align: right;\n",
       "    }\n",
       "</style>\n",
       "<table border=\"1\" class=\"dataframe\">\n",
       "  <thead>\n",
       "    <tr style=\"text-align: right;\">\n",
       "      <th></th>\n",
       "      <th>id</th>\n",
       "      <th>name</th>\n",
       "      <th>birthday</th>\n",
       "    </tr>\n",
       "  </thead>\n",
       "  <tbody>\n",
       "    <tr>\n",
       "      <th>0</th>\n",
       "      <td>1</td>\n",
       "      <td>Ororo Munroe</td>\n",
       "      <td>1940-05-30</td>\n",
       "    </tr>\n",
       "  </tbody>\n",
       "</table>\n",
       "</div>"
      ],
      "text/plain": [
       "   id          name    birthday\n",
       "0   1  Ororo Munroe  1940-05-30"
      ]
     },
     "execution_count": 6,
     "metadata": {},
     "output_type": "execute_result"
    }
   ],
   "source": [
    "st = \"\"\"\n",
    "    SELECT * FROM friends;\n",
    "\"\"\"\n",
    "cursor = conn.execute(st)\n",
    "\n",
    "\n",
    "create_df(cursor)"
   ]
  },
  {
   "cell_type": "markdown",
   "metadata": {},
   "source": [
    "#### 4."
   ]
  },
  {
   "cell_type": "markdown",
   "metadata": {},
   "source": [
    "Let’s move on!\n",
    "\n",
    "Add two of your friends to the table.\n",
    "\n",
    "Insert an `id`, `name`, and `birthday` for each of them."
   ]
  },
  {
   "cell_type": "code",
   "execution_count": 5,
   "metadata": {},
   "outputs": [
    {
     "data": {
      "text/plain": [
       "<sqlite3.Cursor at 0x247e2fa6040>"
      ]
     },
     "execution_count": 5,
     "metadata": {},
     "output_type": "execute_result"
    }
   ],
   "source": [
    "st = \"\"\"\n",
    "    INSERT INTO friends (id, name, birthday)\n",
    "    VALUES (2, 'Jean Grey', '1940-05-30');\n",
    "\"\"\"\n",
    "conn.execute(st)\n",
    "\n",
    "\n",
    "st = \"\"\"\n",
    "    INSERT INTO friends (id, name, birthday)\n",
    "    VALUES (3, 'Kitty Pryde', '1940-05-30');\n",
    "\"\"\"\n",
    "conn.execute(st)"
   ]
  },
  {
   "cell_type": "markdown",
   "metadata": {},
   "source": [
    "#### 5."
   ]
  },
  {
   "cell_type": "markdown",
   "metadata": {},
   "source": [
    "Ororo Munroe just realized that she can control the weather and decided to change her name. Her new name is “Storm”.\n",
    "\n",
    "Update her record in `friends`."
   ]
  },
  {
   "cell_type": "code",
   "execution_count": 6,
   "metadata": {},
   "outputs": [
    {
     "data": {
      "text/plain": [
       "<sqlite3.Cursor at 0x247e2fa5f40>"
      ]
     },
     "execution_count": 6,
     "metadata": {},
     "output_type": "execute_result"
    }
   ],
   "source": [
    "st = \"\"\"\n",
    "    UPDATE friends\n",
    "    SET name = \"Storm\"\n",
    "    WHERE  name = \"Ororo Munroe\";\n",
    "\"\"\"\n",
    "conn.execute(st)"
   ]
  },
  {
   "cell_type": "markdown",
   "metadata": {},
   "source": [
    "#### 6."
   ]
  },
  {
   "cell_type": "markdown",
   "metadata": {},
   "source": [
    "Add a new column named `email`."
   ]
  },
  {
   "cell_type": "code",
   "execution_count": 7,
   "metadata": {},
   "outputs": [
    {
     "data": {
      "text/plain": [
       "<sqlite3.Cursor at 0x247e2f57840>"
      ]
     },
     "execution_count": 7,
     "metadata": {},
     "output_type": "execute_result"
    }
   ],
   "source": [
    "st = \"\"\"\n",
    "    ALTER TABLE friends\n",
    "    ADD COLUMN email TEXT;\n",
    "\"\"\"\n",
    "conn.execute(st)"
   ]
  },
  {
   "cell_type": "markdown",
   "metadata": {},
   "source": [
    "#### 7."
   ]
  },
  {
   "cell_type": "markdown",
   "metadata": {},
   "source": [
    "Update the email address for everyone in your table.\n",
    "\n",
    "Storm’s email is `storm@codecademy.com`."
   ]
  },
  {
   "cell_type": "code",
   "execution_count": 8,
   "metadata": {},
   "outputs": [
    {
     "data": {
      "text/plain": [
       "<sqlite3.Cursor at 0x247e2fa7140>"
      ]
     },
     "execution_count": 8,
     "metadata": {},
     "output_type": "execute_result"
    }
   ],
   "source": [
    "st = \"\"\"\n",
    "    UPDATE friends\n",
    "    SET email = \"storm@codecademy.com\"\n",
    "    WHERE  name = \"Storm\";\n",
    "\"\"\"\n",
    "conn.execute(st)\n",
    "\n",
    "\n",
    "st = \"\"\"\n",
    "    UPDATE friends\n",
    "    SET email = \"jeangrey@codecademy.com\"\n",
    "    WHERE  name = \"Jean Grey\";\n",
    "\"\"\"\n",
    "conn.execute(st)\n",
    "\n",
    "\n",
    "st = \"\"\"\n",
    "    UPDATE friends\n",
    "    SET email = \"kittypryde@codecademy.com\"\n",
    "    WHERE  name = \"Kitty Pryde\";\n",
    "\"\"\"\n",
    "conn.execute(st)"
   ]
  },
  {
   "cell_type": "markdown",
   "metadata": {},
   "source": [
    "#### 8."
   ]
  },
  {
   "cell_type": "markdown",
   "metadata": {},
   "source": [
    "Wait, Storm is fictional…\n",
    "\n",
    "Remove her from `friends`."
   ]
  },
  {
   "cell_type": "code",
   "execution_count": 9,
   "metadata": {},
   "outputs": [
    {
     "data": {
      "text/plain": [
       "<sqlite3.Cursor at 0x247e2fa67c0>"
      ]
     },
     "execution_count": 9,
     "metadata": {},
     "output_type": "execute_result"
    }
   ],
   "source": [
    "st = \"\"\"\n",
    "    DELETE FROM friends\n",
    "    WHERE name = \"Storm\";\n",
    "\"\"\"\n",
    "conn.execute(st)"
   ]
  },
  {
   "cell_type": "markdown",
   "metadata": {},
   "source": [
    "#### 9."
   ]
  },
  {
   "cell_type": "markdown",
   "metadata": {},
   "source": [
    "Great job! Let’s take a look at the result one last time:"
   ]
  },
  {
   "cell_type": "code",
   "execution_count": 10,
   "metadata": {},
   "outputs": [
    {
     "data": {
      "text/html": [
       "<div>\n",
       "<style scoped>\n",
       "    .dataframe tbody tr th:only-of-type {\n",
       "        vertical-align: middle;\n",
       "    }\n",
       "\n",
       "    .dataframe tbody tr th {\n",
       "        vertical-align: top;\n",
       "    }\n",
       "\n",
       "    .dataframe thead th {\n",
       "        text-align: right;\n",
       "    }\n",
       "</style>\n",
       "<table border=\"1\" class=\"dataframe\">\n",
       "  <thead>\n",
       "    <tr style=\"text-align: right;\">\n",
       "      <th></th>\n",
       "      <th>id</th>\n",
       "      <th>name</th>\n",
       "      <th>birthday</th>\n",
       "      <th>email</th>\n",
       "    </tr>\n",
       "  </thead>\n",
       "  <tbody>\n",
       "    <tr>\n",
       "      <th>0</th>\n",
       "      <td>2</td>\n",
       "      <td>Jean Grey</td>\n",
       "      <td>1940-05-30</td>\n",
       "      <td>jeangrey@codecademy.com</td>\n",
       "    </tr>\n",
       "    <tr>\n",
       "      <th>1</th>\n",
       "      <td>3</td>\n",
       "      <td>Kitty Pryde</td>\n",
       "      <td>1940-05-30</td>\n",
       "      <td>kittypryde@codecademy.com</td>\n",
       "    </tr>\n",
       "  </tbody>\n",
       "</table>\n",
       "</div>"
      ],
      "text/plain": [
       "   id         name    birthday                      email\n",
       "0   2    Jean Grey  1940-05-30    jeangrey@codecademy.com\n",
       "1   3  Kitty Pryde  1940-05-30  kittypryde@codecademy.com"
      ]
     },
     "execution_count": 10,
     "metadata": {},
     "output_type": "execute_result"
    }
   ],
   "source": [
    "st = \"\"\"\n",
    "    SELECT * FROM friends;\n",
    "\"\"\"\n",
    "cursor = conn.execute(st)\n",
    "\n",
    "\n",
    "create_df(cursor)"
   ]
  }
 ],
 "metadata": {
  "kernelspec": {
   "display_name": "Codecademy-XphA9WxU",
   "language": "python",
   "name": "python3"
  },
  "language_info": {
   "codemirror_mode": {
    "name": "ipython",
    "version": 3
   },
   "file_extension": ".py",
   "mimetype": "text/x-python",
   "name": "python",
   "nbconvert_exporter": "python",
   "pygments_lexer": "ipython3",
   "version": "3.11.1"
  }
 },
 "nbformat": 4,
 "nbformat_minor": 2
}
