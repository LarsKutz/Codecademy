{
 "cells": [
  {
   "cell_type": "markdown",
   "metadata": {},
   "source": [
    "# Linear Algebra with Python"
   ]
  },
  {
   "cell_type": "code",
   "execution_count": 42,
   "metadata": {},
   "outputs": [],
   "source": [
    "import numpy as np"
   ]
  },
  {
   "cell_type": "markdown",
   "metadata": {},
   "source": [
    "## 2. Using NumPy Arrays"
   ]
  },
  {
   "cell_type": "markdown",
   "metadata": {},
   "source": [
    "- The core of using NumPy effectively for linear algebra is using NumPy arrays. \n",
    "- NumPy arrays are n-dimensional array data structures that can be used to represent both vectors (1-dimensional array) and matrices (2-dimensional arrays).\n",
    "- A NumPy array is initialized using the `np.array()` function, and including a Python list argument or Python nested list argument for arrays with more than one dimension.\n",
    "- For example, the following creates a NumPy array representation of a vector:"
   ]
  },
  {
   "cell_type": "code",
   "execution_count": 3,
   "metadata": {},
   "outputs": [],
   "source": [
    "v = np.array([1, 2, 3, 4, 5, 6])"
   ]
  },
  {
   "cell_type": "markdown",
   "metadata": {},
   "source": [
    "- We can also create a matrix, which is the equivalent of a two-dimensional NumPy array, using a nested Python list:"
   ]
  },
  {
   "cell_type": "code",
   "execution_count": 5,
   "metadata": {},
   "outputs": [
    {
     "data": {
      "text/plain": [
       "array([[1, 2],\n",
       "       [3, 4]])"
      ]
     },
     "execution_count": 5,
     "metadata": {},
     "output_type": "execute_result"
    }
   ],
   "source": [
    "A = np.array([[1,2],[3,4]])\n",
    "A"
   ]
  },
  {
   "cell_type": "markdown",
   "metadata": {},
   "source": [
    "- Matrices can also be created by combining existing vectors using the `np.column_stack()` function:"
   ]
  },
  {
   "cell_type": "code",
   "execution_count": 6,
   "metadata": {},
   "outputs": [
    {
     "data": {
      "text/plain": [
       "array([[-2,  0,  3],\n",
       "       [-2,  0,  3],\n",
       "       [-2,  0,  3],\n",
       "       [-2,  0,  3]])"
      ]
     },
     "execution_count": 6,
     "metadata": {},
     "output_type": "execute_result"
    }
   ],
   "source": [
    "v = np.array([-2,-2,-2,-2])\n",
    "u = np.array([0,0,0,0])\n",
    "w = np.array([3,3,3,3])\n",
    "\n",
    "A = np.column_stack((v, u, w))\n",
    "A"
   ]
  },
  {
   "cell_type": "markdown",
   "metadata": {},
   "source": [
    "- To access the shape of a matrix or vector once it’s been created as a NumPy array, we call the `.shape` attribute of the array variable:"
   ]
  },
  {
   "cell_type": "code",
   "execution_count": 7,
   "metadata": {},
   "outputs": [
    {
     "data": {
      "text/plain": [
       "(2, 2)"
      ]
     },
     "execution_count": 7,
     "metadata": {},
     "output_type": "execute_result"
    }
   ],
   "source": [
    "A = np.array([[1,2],[3,4]])\n",
    "A.shape"
   ]
  },
  {
   "cell_type": "markdown",
   "metadata": {},
   "source": [
    "- To access individual elements in a NumPy array, we can index the array using square brackets. \n",
    "- Unlike regular Python lists, we can index into all dimensions in a single square bracket, separating the dimension indices with commas.\n",
    "- Thus in order to index the element equal to 2 in matrix A, we can do the following:"
   ]
  },
  {
   "cell_type": "code",
   "execution_count": 8,
   "metadata": {},
   "outputs": [
    {
     "data": {
      "text/plain": [
       "np.int64(2)"
      ]
     },
     "execution_count": 8,
     "metadata": {},
     "output_type": "execute_result"
    }
   ],
   "source": [
    "A = np.array([[1,2],[3,4]])\n",
    "A[0,1]"
   ]
  },
  {
   "cell_type": "markdown",
   "metadata": {},
   "source": [
    "- We can also select a subset or entire dimension of a NumPy array using a colon. \n",
    "- For example, if we want the entire second column of a matrix, we can index the second column and use an empty colon to select every row as such:"
   ]
  },
  {
   "cell_type": "code",
   "execution_count": 9,
   "metadata": {},
   "outputs": [
    {
     "data": {
      "text/plain": [
       "array([2, 4])"
      ]
     },
     "execution_count": 9,
     "metadata": {},
     "output_type": "execute_result"
    }
   ],
   "source": [
    "A = np.array([[1,2],[3,4]])\n",
    "A[:,1]"
   ]
  },
  {
   "cell_type": "markdown",
   "metadata": {},
   "source": [
    "Note: `[2 4]` is a column vector, but it outputs in the terminal horizontally."
   ]
  },
  {
   "cell_type": "markdown",
   "metadata": {},
   "source": [
    "### Tasks"
   ]
  },
  {
   "cell_type": "markdown",
   "metadata": {},
   "source": [
    "**Task 1**  \n",
    "- Three NumPy arrays are preloaded in for you: `vector_1`, `vector_2`, and `vector_3`. Use `.column_stack()` to combine these three arrays into a 4x3 matrix. \n",
    "- Save this value to a variable called `matrix`.\n",
    "- In your matrix:\n",
    "    - `vector_1` should be the first column.\n",
    "    - `vector_2` should be the second column.\n",
    "    - `vector_3` should be the third column.\n",
    "- Print out `matrix` as well so you see its output in the terminal.\n",
    "\n",
    "<br>\n",
    "\n",
    "**Task 2**  \n",
    "- Print out the shape of `matrix` into the output terminal.\n",
    "\n",
    "<br>\n",
    "\n",
    "**Task 3**  \n",
    "- Use array indexing to print out the third column of `matrix` in the output terminal."
   ]
  },
  {
   "cell_type": "code",
   "execution_count": 10,
   "metadata": {},
   "outputs": [],
   "source": [
    "# Given vectors\n",
    "vector_1 = np.array([-2,-6,2,3])\n",
    "vector_2 = np.array([4,1,-3,8])\n",
    "vector_3 = np.array([5,-7,9,0])"
   ]
  },
  {
   "cell_type": "code",
   "execution_count": 13,
   "metadata": {},
   "outputs": [
    {
     "name": "stdout",
     "output_type": "stream",
     "text": [
      "[[-2  4  5]\n",
      " [-6  1 -7]\n",
      " [ 2 -3  9]\n",
      " [ 3  8  0]]\n",
      "(4, 3)\n",
      "[ 5 -7  9  0]\n"
     ]
    }
   ],
   "source": [
    "# Task 1\n",
    "matrix = np.column_stack((vector_1, vector_2, vector_3))\n",
    "print(matrix)\n",
    "\n",
    "# Task 2\n",
    "print(matrix.shape)\n",
    "\n",
    "# Task 3\n",
    "print(matrix[:,2])"
   ]
  },
  {
   "cell_type": "markdown",
   "metadata": {},
   "source": [
    "## 3. Using NumPy for Linear Algebra Operations"
   ]
  },
  {
   "cell_type": "markdown",
   "metadata": {},
   "source": [
    "- Now that we know how to use NumPy arrays to create vectors and matrices, we can learn how to perform various linear algebra operations using Python.\n",
    "- To multiply a vector or matrix by a scalar, we use inbuilt Python multiplication between the NumPy array and the scalar:\n",
    "\n",
    "<br>\n",
    "\n",
    "- Written out mathematically, this is:\n",
    "$$\n",
    "4 \\begin{bmatrix} 1 & 2 \\\\ 3 & 4 \\end{bmatrix} = \\begin{bmatrix} 4 & 8 \\\\ 12 & 16 \\end{bmatrix}"
   ]
  },
  {
   "cell_type": "code",
   "execution_count": 16,
   "metadata": {},
   "outputs": [
    {
     "data": {
      "text/plain": [
       "array([[ 4,  8],\n",
       "       [12, 16]])"
      ]
     },
     "execution_count": 16,
     "metadata": {},
     "output_type": "execute_result"
    }
   ],
   "source": [
    "A = np.array([[1,2],[3,4]])\n",
    "4 * A"
   ]
  },
  {
   "cell_type": "markdown",
   "metadata": {},
   "source": [
    "- To add equally sized vectors or matrices, we can again use inbuilt Python addition between the NumPy arrays.\n",
    "\n",
    "<br>\n",
    "\n",
    "- Written out mathematically, this is:\n",
    "$$\n",
    "\\begin{bmatrix} 1 & 2 \\\\ 3 & 4 \\end{bmatrix} + \\begin{bmatrix} -4 & -3 \\\\ -2 & -1 \\end{bmatrix} = \\begin{bmatrix} -3 & -1 \\\\ 1 & 3 \\end{bmatrix}\n",
    "$$"
   ]
  },
  {
   "cell_type": "code",
   "execution_count": 17,
   "metadata": {},
   "outputs": [
    {
     "data": {
      "text/plain": [
       "array([[-3, -1],\n",
       "       [ 1,  3]])"
      ]
     },
     "execution_count": 17,
     "metadata": {},
     "output_type": "execute_result"
    }
   ],
   "source": [
    "A = np.array([[1,2],[3,4]])\n",
    "B = np.array([[-4,-3],[-2,-1]])\n",
    "A + B"
   ]
  },
  {
   "cell_type": "markdown",
   "metadata": {},
   "source": [
    "- Vector dot products can be computed using the `np.dot()` function:\n",
    "\n",
    "<br>\n",
    "\n",
    "- Written out mathematically, this is:\n",
    "$$\n",
    "\\begin{bmatrix} -1 \\\\ -2 \\\\ -3 \\end{bmatrix} \\cdot \\begin{bmatrix} 2 \\\\ 2 \\\\ 2 \\end{bmatrix} = -12"
   ]
  },
  {
   "cell_type": "code",
   "execution_count": 18,
   "metadata": {},
   "outputs": [
    {
     "data": {
      "text/plain": [
       "np.int64(-12)"
      ]
     },
     "execution_count": 18,
     "metadata": {},
     "output_type": "execute_result"
    }
   ],
   "source": [
    "v = np.array([-1,-2,-3])\n",
    "u = np.array([2,2,2])\n",
    "np.dot(v,u)"
   ]
  },
  {
   "cell_type": "markdown",
   "metadata": {},
   "source": [
    "- Matrix multiplication is computed using either the `np.matmul()` function or using the `@` symbol as shorthand. \n",
    "- It is important to note that using the typical Python multiplication symbol `*` will result in an elementwise multiplication instead.\n",
    "\n",
    "<br>\n",
    "\n",
    "- Written out mathematically, this is:\n",
    "$$\n",
    "\\begin{bmatrix} 1 & 2 \\\\ 3 & 4 \\end{bmatrix} \\cdot \\begin{bmatrix} -4 & -3 \\\\ -2 & -1 \\end{bmatrix} = \\begin{bmatrix} -8 & -5 \\\\ -20 & -13 \\end{bmatrix}\n",
    "$$"
   ]
  },
  {
   "cell_type": "code",
   "execution_count": 23,
   "metadata": {},
   "outputs": [
    {
     "name": "stdout",
     "output_type": "stream",
     "text": [
      "[[ -8  -5]\n",
      " [-20 -13]]\n",
      "[[ -8  -5]\n",
      " [-20 -13]]\n"
     ]
    }
   ],
   "source": [
    "A = np.array([[1,2],[3,4]])\n",
    "B = np.array([[-4,-3],[-2,-1]])\n",
    "\n",
    "# one way to matrix multiply\n",
    "print(np.matmul(A,B))\n",
    "# another way to matrix multiply\n",
    "print(A @ B)"
   ]
  },
  {
   "cell_type": "markdown",
   "metadata": {},
   "source": [
    "### Tasks"
   ]
  },
  {
   "cell_type": "markdown",
   "metadata": {},
   "source": [
    "**Task 1**  \n",
    "- Calculate the following equation using NumPy:\n",
    "$$ D = 4A - 2B $$\n",
    "- Save your equation to a variable called `D` and print it in the output terminal. \n",
    "- Try calculating by hand before or after using Python to verify you understand how the operation works!\n",
    "\n",
    "<br>\n",
    "\n",
    "**Task 2**  \n",
    "- Calculate the following matrix multiplication equation using NumPy:\n",
    "$$ E = AC $$\n",
    "- Save your equation to a variable called `E` and print it in the output terminal. \n",
    "- Try calculating by hand before or after using Python to verify you understand how the operation works!\n",
    "\n",
    "<br>\n",
    "\n",
    "**Task 3**  \n",
    "- Calculate the following matrix multiplication equation using NumPy:\n",
    "$$ F = CA $$\n",
    "- Save your equation to a variable called `F` and print it in the output terminal. \n",
    "- Try calculating by hand before or after using Python to verify you understand how the operation works!"
   ]
  },
  {
   "cell_type": "code",
   "execution_count": 25,
   "metadata": {},
   "outputs": [
    {
     "data": {
      "text/plain": [
       "((2, 3), (2, 3), (3, 2))"
      ]
     },
     "execution_count": 25,
     "metadata": {},
     "output_type": "execute_result"
    }
   ],
   "source": [
    "# Given\n",
    "# 2 x 3 matrix\n",
    "A = np.array([[2,3,-4], [-2, 1, -3]])\n",
    "# 2 x 3 matrix\n",
    "B = np.array([[1,-1,4], [3,-3,3]])\n",
    "# 3 x 2 matrix\n",
    "C = np.array([[1, 2], [3, 4], [5, 6]])\n",
    "\n",
    "A.shape, B.shape, C.shape"
   ]
  },
  {
   "cell_type": "markdown",
   "metadata": {},
   "source": [
    "**Task 1**  \n",
    "- Calculating by hand:\n",
    "$$ D = 4A - 2B $$\n",
    "$$ D = 4 \\begin{bmatrix} 2 & 3 & -4 \\\\ -2 & 1 & -3 \\end{bmatrix} - 2 \\begin{bmatrix} 1 & -1 & 4 \\\\ 3 & -3 & 3 \\end{bmatrix} = \\begin{bmatrix} 8 & 12 & -16 \\\\ -8 & 4 & -12 \\end{bmatrix} - \\begin{bmatrix} 2 & -2 & 8 \\\\ 6 & -6 & 6 \\end{bmatrix} = \\begin{bmatrix} 6 & 14 & -24 \\\\ -14 & 10 & -18 \\end{bmatrix} $$"
   ]
  },
  {
   "cell_type": "code",
   "execution_count": 26,
   "metadata": {},
   "outputs": [
    {
     "data": {
      "text/plain": [
       "array([[  6,  14, -24],\n",
       "       [-14,  10, -18]])"
      ]
     },
     "execution_count": 26,
     "metadata": {},
     "output_type": "execute_result"
    }
   ],
   "source": [
    "# Task 1\n",
    "D = 4*A - 2*B\n",
    "D"
   ]
  },
  {
   "cell_type": "markdown",
   "metadata": {},
   "source": [
    "**Task 2**\n",
    "- Calculating by hand:\n",
    "$$ E = AC $$\n",
    "$$ E = \\begin{bmatrix} 2 & 3 & -4 \\\\ -2 & 1 & -3 \\end{bmatrix} \\begin{bmatrix} 1 & 2 \\\\ 3 & 4 \\\\ 5 & 6 \\end{bmatrix} = \\begin{bmatrix} 2 \\cdot 1 + 3 \\cdot 3 + (-4) \\cdot 5 & 2 \\cdot 2 + 3 \\cdot 4 + (-4) \\cdot 6 \\\\ (-2) \\cdot 1 + 1 \\cdot 3 + (-3) \\cdot 5 & (-2) \\cdot 2 + 1 \\cdot 4 + (-3) \\cdot 6 \\end{bmatrix} = \\begin{bmatrix} 2 + 9 - 20 & 4 + 12 - 24 \\\\ -2 + 3 - 15 & -4 + 4 - 18 \\end{bmatrix} = \\begin{bmatrix} -9 & -8 \\\\ -14 & -18 \\end{bmatrix} $$"
   ]
  },
  {
   "cell_type": "code",
   "execution_count": 28,
   "metadata": {},
   "outputs": [
    {
     "data": {
      "text/plain": [
       "array([[ -9,  -8],\n",
       "       [-14, -18]])"
      ]
     },
     "execution_count": 28,
     "metadata": {},
     "output_type": "execute_result"
    }
   ],
   "source": [
    "E = A @ C\n",
    "E"
   ]
  },
  {
   "cell_type": "markdown",
   "metadata": {},
   "source": [
    "**Task 3**\n",
    "- Calculating by hand:\n",
    "$$ F = CA $$\n",
    "$$ F = \\begin{bmatrix} 1 & 2 \\\\ 3 & 4 \\\\ 5 & 6 \\end{bmatrix} \\begin{bmatrix} 2 & 3 & -4 \\\\ -2 & 1 & -3 \\end{bmatrix} = \\begin{bmatrix} 1 \\cdot 2 + 2 \\cdot (-2) & 1 \\cdot 3 + 2 \\cdot 1 & 1 \\cdot (-4) + 2 \\cdot (-3) \\\\ 3 \\cdot 2 + 4 \\cdot (-2) & 3 \\cdot 3 + 4 \\cdot 1 & 3 \\cdot (-4) + 4 \\cdot (-3) \\\\ 5 \\cdot 2 + 6 \\cdot (-2) & 5 \\cdot 3 + 6 \\cdot 1 & 5 \\cdot (-4) + 6 \\cdot (-3) \\end{bmatrix} = \\begin{bmatrix} 2 - 4 & 3 + 2 & -4 - 6 \\\\ 6 - 8 & 9 + 4 & -12 - 12 \\\\ 10 - 12 & 15 + 6 & -20 - 18 \\end{bmatrix} = \\begin{bmatrix} -2 & 5 & -10 \\\\ -2 & 13 & -24 \\\\ -2 & 21 & -38 \\end{bmatrix} $$"
   ]
  },
  {
   "cell_type": "code",
   "execution_count": 29,
   "metadata": {},
   "outputs": [
    {
     "data": {
      "text/plain": [
       "array([[ -2,   5, -10],\n",
       "       [ -2,  13, -24],\n",
       "       [ -2,  21, -38]])"
      ]
     },
     "execution_count": 29,
     "metadata": {},
     "output_type": "execute_result"
    }
   ],
   "source": [
    "F = C @ A\n",
    "F"
   ]
  },
  {
   "cell_type": "markdown",
   "metadata": {},
   "source": [
    "## 4. Special Matrices"
   ]
  },
  {
   "cell_type": "markdown",
   "metadata": {},
   "source": [
    "- In addition to having built-in support for many linear algebra-related operations, Let’s see how NumPy can create special matrices, such as the identity matrix.\n",
    "- An identity matrix can be constructed using the `np.eye()` functions, which takes an integer argument that determines the *n x n* size of the square identity matrix."
   ]
  },
  {
   "cell_type": "code",
   "execution_count": 30,
   "metadata": {},
   "outputs": [
    {
     "data": {
      "text/plain": [
       "array([[1., 0., 0., 0.],\n",
       "       [0., 1., 0., 0.],\n",
       "       [0., 0., 1., 0.],\n",
       "       [0., 0., 0., 1.]])"
      ]
     },
     "execution_count": 30,
     "metadata": {},
     "output_type": "execute_result"
    }
   ],
   "source": [
    "identity = np.eye(4)\n",
    "identity"
   ]
  },
  {
   "cell_type": "markdown",
   "metadata": {},
   "source": [
    "- A matrix or vector of all zeros can be constructed using the `np.zeros()` function, which takes in a tuple argument for the shape of the NumPy array filled with zeros."
   ]
  },
  {
   "cell_type": "code",
   "execution_count": 31,
   "metadata": {},
   "outputs": [
    {
     "data": {
      "text/plain": [
       "array([0., 0., 0., 0., 0.])"
      ]
     },
     "execution_count": 31,
     "metadata": {},
     "output_type": "execute_result"
    }
   ],
   "source": [
    "# 5-element vector of zeros\n",
    "zero_vector = np.zeros((5))\n",
    "zero_vector"
   ]
  },
  {
   "cell_type": "code",
   "execution_count": 32,
   "metadata": {},
   "outputs": [
    {
     "data": {
      "text/plain": [
       "array([[0., 0.],\n",
       "       [0., 0.],\n",
       "       [0., 0.]])"
      ]
     },
     "execution_count": 32,
     "metadata": {},
     "output_type": "execute_result"
    }
   ],
   "source": [
    "# 3x2 matrix of zeros\n",
    "zero_matrix = np.zeros((3,2))\n",
    "zero_matrix"
   ]
  },
  {
   "cell_type": "markdown",
   "metadata": {},
   "source": [
    "- The transpose of a matrix can be accessed using the `.T` attribute of a NumPy array as shown below:"
   ]
  },
  {
   "cell_type": "code",
   "execution_count": 34,
   "metadata": {},
   "outputs": [
    {
     "data": {
      "text/plain": [
       "(array([[1, 2],\n",
       "        [3, 4]]),\n",
       " array([[1, 3],\n",
       "        [2, 4]]))"
      ]
     },
     "execution_count": 34,
     "metadata": {},
     "output_type": "execute_result"
    }
   ],
   "source": [
    "A = np.array([[1,2],[3,4]])\n",
    "A_transpose = A.T\n",
    "A, A_transpose"
   ]
  },
  {
   "cell_type": "markdown",
   "metadata": {},
   "source": [
    "- Since `A_transpose` is the transpose of `A`, the rows and columns are swapped."
   ]
  },
  {
   "cell_type": "markdown",
   "metadata": {},
   "source": [
    "### Tasks"
   ]
  },
  {
   "cell_type": "markdown",
   "metadata": {},
   "source": [
    "**Task 1**  \n",
    "- Two NumPy arrays are given, `A` and `B`, representing two 3x3 matrices. \n",
    "- Print out the matrix product of `AB` and the matrix product of `BA`.\n",
    "- What does this say about the relationship between matrix `A` and matrix `B`?\n",
    "\n",
    "<br>\n",
    "\n",
    "**Task 2**  \n",
    "- Print out the transpose of both matrix `A` and matrix `B`. \n",
    "- What is the first row of each transposed matrix?"
   ]
  },
  {
   "cell_type": "code",
   "execution_count": 37,
   "metadata": {},
   "outputs": [
    {
     "data": {
      "text/plain": [
       "(array([[ 1, -1,  1],\n",
       "        [ 0,  1,  0],\n",
       "        [-1,  2,  1]]),\n",
       " array([[ 0.5,  1.5, -0.5],\n",
       "        [ 0. ,  1. ,  0. ],\n",
       "        [ 0.5, -0.5,  0.5]]))"
      ]
     },
     "execution_count": 37,
     "metadata": {},
     "output_type": "execute_result"
    }
   ],
   "source": [
    "# Given\n",
    "A = np.array([[1,-1,1], [0,1,0], [-1,2,1]])\n",
    "B = np.array([[0.5,1.5,-0.5], [0,1,0], [0.5,-0.5,0.5]])\n",
    "A, B"
   ]
  },
  {
   "cell_type": "code",
   "execution_count": 39,
   "metadata": {},
   "outputs": [
    {
     "data": {
      "text/plain": [
       "(array([[1., 0., 0.],\n",
       "        [0., 1., 0.],\n",
       "        [0., 0., 1.]]),\n",
       " array([[1., 0., 0.],\n",
       "        [0., 1., 0.],\n",
       "        [0., 0., 1.]]))"
      ]
     },
     "execution_count": 39,
     "metadata": {},
     "output_type": "execute_result"
    }
   ],
   "source": [
    "# Task 1\n",
    "A@B, B@A    # They are the inverse of each other"
   ]
  },
  {
   "cell_type": "code",
   "execution_count": 41,
   "metadata": {},
   "outputs": [
    {
     "data": {
      "text/plain": [
       "(array([[ 1,  0, -1],\n",
       "        [-1,  1,  2],\n",
       "        [ 1,  0,  1]]),\n",
       " array([[ 0.5,  0. ,  0.5],\n",
       "        [ 1.5,  1. , -0.5],\n",
       "        [-0.5,  0. ,  0.5]]))"
      ]
     },
     "execution_count": 41,
     "metadata": {},
     "output_type": "execute_result"
    }
   ],
   "source": [
    "# Task 2\n",
    "A.T, B.T    # The first row is the first column of the original matrix"
   ]
  },
  {
   "cell_type": "markdown",
   "metadata": {},
   "source": [
    "## 5. Additional Linear Algebra Operations"
   ]
  },
  {
   "cell_type": "markdown",
   "metadata": {},
   "source": [
    "- Moving past special matrices, there are some more advanced linear algebra operations we can perform using NumPy. \n",
    "- To start, we will be using the `numpy.linalg` sublibrary to perform the following operations:\n",
    "- The “norm” (or length/magnitude) of a vector can be found using the `np.linalg.norm()` function."
   ]
  },
  {
   "cell_type": "code",
   "execution_count": 44,
   "metadata": {},
   "outputs": [
    {
     "data": {
      "text/plain": [
       "np.float64(4.58257569495584)"
      ]
     },
     "execution_count": 44,
     "metadata": {},
     "output_type": "execute_result"
    }
   ],
   "source": [
    "v = np.array([2,-4,1])\n",
    "v_norm = np.linalg.norm(v)\n",
    "v_norm"
   ]
  },
  {
   "cell_type": "markdown",
   "metadata": {},
   "source": [
    "- The inverse of a square matrix, if one exists, can be found using `np.linalg.inv()`:"
   ]
  },
  {
   "cell_type": "code",
   "execution_count": 45,
   "metadata": {},
   "outputs": [
    {
     "data": {
      "text/plain": [
       "array([[-2. ,  1. ],\n",
       "       [ 1.5, -0.5]])"
      ]
     },
     "execution_count": 45,
     "metadata": {},
     "output_type": "execute_result"
    }
   ],
   "source": [
    "A = np.array([[1,2],[3,4]])\n",
    "np.linalg.inv(A)"
   ]
  },
  {
   "cell_type": "markdown",
   "metadata": {},
   "source": [
    "- Finally, we can actually solve for unknown variables in a system on linear equations in *Ax=b* form using `np.linalg.solve()`, which takes in the *A* and *b* parameters. \n",
    "- Given:\n",
    "$$\n",
    "x + 4y - z = -1 \\\\\n",
    "-x - 3y + 2z = 2 \\\\\n",
    "2x - y - 2z = -2\n",
    "$$"
   ]
  },
  {
   "cell_type": "markdown",
   "metadata": {},
   "source": [
    "- We convert to *Ax=b* form and solve."
   ]
  },
  {
   "cell_type": "code",
   "execution_count": 47,
   "metadata": {},
   "outputs": [
    {
     "data": {
      "text/plain": [
       "(np.float64(0.0), np.float64(0.0), np.float64(1.0))"
      ]
     },
     "execution_count": 47,
     "metadata": {},
     "output_type": "execute_result"
    }
   ],
   "source": [
    "# each array in A is an equation from the above system of equations\n",
    "A = np.array([[1,4,-1],[-1,-3,2],[2,-1,-2]])\n",
    "# the solution to each equation\n",
    "b = np.array([-1,2,-2])\n",
    "# solve for x, y, and z\n",
    "x,y,z = np.linalg.solve(A,b)\n",
    "x, y, z"
   ]
  },
  {
   "cell_type": "markdown",
   "metadata": {},
   "source": [
    "### Tasks"
   ]
  },
  {
   "cell_type": "markdown",
   "metadata": {},
   "source": [
    "**Task 1**  \n",
    "- We have a system of equations written out. \n",
    "- Let’s put this in the form *Ax=b* and solve the system using NumPy.\n",
    "- First, let’s define *A* using a NumPy array. \n",
    "- Save this NumPy array in a variable called `A`.\n",
    "-  When you define `A`, pay attention to the coefficients in each equation.\n",
    "\n",
    "<br>\n",
    "\n",
    "**Task 2**  \n",
    "- We now need the *b* part of our *Ax=b* form.\n",
    "- Create a NumPy array in a variable named `b` that represents the system of equations given.\n",
    "\n",
    "<br>\n",
    "\n",
    "**Task 3**  \n",
    "- Use `np.linalg.solve()` to solve *Ax=b*. Use the variables `x`, `y`, and `z` to represent the solutions.\n",
    "- After using `np.linalg.solve()`, use the following line of code to view the solution to the system of equations:"
   ]
  },
  {
   "cell_type": "code",
   "execution_count": 48,
   "metadata": {},
   "outputs": [
    {
     "data": {
      "text/plain": [
       "'\\n4x + z = 2\\n-y + 2z - 3x = 0\\n.5y - x - 1.5z = -4\\n'"
      ]
     },
     "execution_count": 48,
     "metadata": {},
     "output_type": "execute_result"
    }
   ],
   "source": [
    "# Given\n",
    "'''\n",
    "4x + z = 2\n",
    "-y + 2z - 3x = 0\n",
    ".5y - x - 1.5z = -4\n",
    "'''"
   ]
  },
  {
   "cell_type": "code",
   "execution_count": 51,
   "metadata": {},
   "outputs": [
    {
     "data": {
      "text/plain": [
       "(np.float64(6.0), np.float64(-62.0), np.float64(-22.0))"
      ]
     },
     "execution_count": 51,
     "metadata": {},
     "output_type": "execute_result"
    }
   ],
   "source": [
    "# Task 1\n",
    "A = np.array([[4, 0, 1],[-3, -1, 2],[-1, .5, -1.5]])\n",
    "\n",
    "# Task 2\n",
    "b = np.array([2, 0, -4])\n",
    "\n",
    "# Task 3\n",
    "x, y, z = np.linalg.solve(A,b)\n",
    "x, y, z"
   ]
  },
  {
   "cell_type": "markdown",
   "metadata": {},
   "source": [
    "## 6. Review"
   ]
  },
  {
   "cell_type": "markdown",
   "metadata": {},
   "source": [
    "- Using what you have learned in this lesson, find the unknowns `a`, `b`, `c`, and `d`. "
   ]
  },
  {
   "cell_type": "code",
   "execution_count": 54,
   "metadata": {},
   "outputs": [
    {
     "data": {
      "text/plain": [
       "'\\n2a + 3d - 2c = 4\\n-c + 4b - a = 1\\n2d - 2c + 3a - b = 2\\n-2a + 3c - b = -2\\n'"
      ]
     },
     "execution_count": 54,
     "metadata": {},
     "output_type": "execute_result"
    }
   ],
   "source": [
    "# Given\n",
    "'''\n",
    "2a + 3d - 2c = 4\n",
    "-c + 4b - a = 1\n",
    "2d - 2c + 3a - b = 2\n",
    "-2a + 3c - b = -2\n",
    "'''"
   ]
  },
  {
   "cell_type": "code",
   "execution_count": 55,
   "metadata": {},
   "outputs": [
    {
     "name": "stdout",
     "output_type": "stream",
     "text": [
      "[[ 2  0 -2  3]\n",
      " [-1  4 -1  0]\n",
      " [ 3 -1 -2  2]\n",
      " [-2 -1  3  0]]\n",
      "[ 4  1  2 -2]\n",
      "(np.float64(-1.4999999999999998), np.float64(-0.5909090909090906), np.float64(-1.8636363636363633), np.float64(1.0909090909090908))\n"
     ]
    }
   ],
   "source": [
    "A = np.array([[2, 0, -2, 3], [-1, 4, -1, 0], [3, -1, -2, 2], [-2, -1, 3, 0]])\n",
    "print(A)\n",
    "\n",
    "z = np.array([4, 1, 2, -2])\n",
    "print(z)\n",
    "\n",
    "a, b, c, d = np.linalg.solve(A, z)\n",
    "print((a, b, c, d))"
   ]
  }
 ],
 "metadata": {
  "kernelspec": {
   "display_name": "Codecademy-XphA9WxU",
   "language": "python",
   "name": "python3"
  },
  "language_info": {
   "codemirror_mode": {
    "name": "ipython",
    "version": 3
   },
   "file_extension": ".py",
   "mimetype": "text/x-python",
   "name": "python",
   "nbconvert_exporter": "python",
   "pygments_lexer": "ipython3",
   "version": "3.11.1"
  }
 },
 "nbformat": 4,
 "nbformat_minor": 2
}
