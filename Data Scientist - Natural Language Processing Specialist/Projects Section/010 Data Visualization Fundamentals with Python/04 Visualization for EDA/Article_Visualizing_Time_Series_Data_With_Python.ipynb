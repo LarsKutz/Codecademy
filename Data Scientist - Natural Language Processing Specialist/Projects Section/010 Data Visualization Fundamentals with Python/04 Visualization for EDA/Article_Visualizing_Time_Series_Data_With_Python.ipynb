{
 "cells": [
  {
   "cell_type": "markdown",
   "metadata": {},
   "source": [
    "# Visualizing Time Series Data With Python"
   ]
  },
  {
   "cell_type": "markdown",
   "metadata": {},
   "source": [
    "## Introduction"
   ]
  },
  {
   "cell_type": "markdown",
   "metadata": {},
   "source": [
    "- Data represented in a single point in time is known as cross-sectional data. \n",
    "- As a Data Scientist or Analyst, sometimes you might encounter data that is collected over periods of time, known as time series data.\n",
    "- Time series data shows up in the real world quite often. \n",
    "- For example, weather readings, company stock prices, and sales data are all examples of data that can be tracked over time. \n",
    "- Therefore, it’s important that you are able to explore and visualize data with a time component.\n",
    "- In this article, you will learn how to explore time series data with Python using the following:\n",
    "    - Line plots\n",
    "    - Box plots\n",
    "    - Heatmaps\n",
    "    - Lag plots\n",
    "    - Autocorrelation plots"
   ]
  },
  {
   "cell_type": "markdown",
   "metadata": {},
   "source": [
    "## Line plot"
   ]
  },
  {
   "cell_type": "markdown",
   "metadata": {},
   "source": [
    "- A *line plot* is commonly used for visualizing time series data.\n",
    "- In a line plot, time is usually on the x-axis and the observation values are on the y-axis. \n",
    "- Let’s show an example of this plot using a CSV file of sales data for a small business over a five-year period.\n",
    "- First, let’s import several useful Python libraries and load in our data:"
   ]
  },
  {
   "cell_type": "markdown",
   "metadata": {},
   "source": [
    "```python\t\n",
    "# import libraries\n",
    "import pandas as pd \n",
    "import matplotlib.pyplot as plt\n",
    "import seaborn as sns\n",
    "\n",
    "# load in data\n",
    "sales_data = pd.read_csv(\"sales_data.csv\")\n",
    "\n",
    "# peek at first few rows of data\n",
    "sales_data.head()\n",
    "```"
   ]
  },
  {
   "cell_type": "markdown",
   "metadata": {},
   "source": [
    "- Here are the first few rows of the sales data:  \n",
    "    |       date |    sales |\n",
    "    |------------|----------|\n",
    "    | 2016-01-01 | 2000.0 1 | \n",
    "    | 2016-01-02 | 1700.0 2 | \n",
    "    | 2016-01-03 | 1800.0 3 | \n",
    "    | 2016-01-04 | 1400.0 4 | \n",
    "    | 2016-01-05 | 1500.0   |\n",
    "- Let’s create a line plot of the data, with date on the x-axis and sales on the y-axis:"
   ]
  },
  {
   "cell_type": "markdown",
   "metadata": {},
   "source": [
    "```python\t\n",
    "# convert string to datetime64\n",
    "sales_data[\"date\"] = sales_data[\"date\"].apply(pd.to_datetime)\n",
    "sales_data.set_index(\"date\", inplace=True)\n",
    "\n",
    "# create line plot of sales data\n",
    "plt.plot(sales_data[\"date\"], sales_data[\"sales\"])\n",
    "plt.xlabel(\"Date\")\n",
    "plt.ylabel(\"Sales (USD)\")\n",
    "plt.show()\n",
    "```"
   ]
  },
  {
   "cell_type": "markdown",
   "metadata": {},
   "source": [
    "![line_plot](Images/lineplot.svg)"
   ]
  },
  {
   "cell_type": "markdown",
   "metadata": {},
   "source": [
    "- Notice how we can see the trend of the data over time. \n",
    "- Looking at the chart, it seems that:\n",
    "    - Sales are seasonal, peaking at the beginning and end of each year, and slowing down in the middle of each year.\n",
    "    - Sales don’t seem to show signs of growth over time - this appears to be a stagnant business."
   ]
  },
  {
   "cell_type": "markdown",
   "metadata": {},
   "source": [
    "## Box plot"
   ]
  },
  {
   "cell_type": "markdown",
   "metadata": {},
   "source": [
    "- When working with time series data, box plots can be useful to see the distribution of values grouped by time interval.\n",
    "- For example, let’s create a box plot for each year of sales and put them side-to-side for comparison:"
   ]
  },
  {
   "cell_type": "markdown",
   "metadata": {},
   "source": [
    "```python\t\n",
    "# extract year from date column\n",
    "sales_data[\"year\"] = sales_data[\"date\"].dt.year\n",
    "\n",
    "# box plot grouped by year\n",
    "sns.boxplot(data=sales_data, x=\"year\", y=\"sales\")\n",
    "plt.show()\n",
    "```"
   ]
  },
  {
   "cell_type": "markdown",
   "metadata": {},
   "source": [
    "![box_plot](Images/boxplot.svg)"
   ]
  },
  {
   "cell_type": "markdown",
   "metadata": {},
   "source": [
    "- For each year of the sales data, we can easily see useful information such as median sales, the highest and lowest sales, the interquartile range of our data, and any outliers.\n",
    "- Median sales for each year (represented by the horizontal line in each box) are quite stable, suggesting that sales are not growing over time."
   ]
  },
  {
   "cell_type": "markdown",
   "metadata": {},
   "source": [
    "## Heatmap"
   ]
  },
  {
   "cell_type": "markdown",
   "metadata": {},
   "source": [
    "- We can also use a heatmap to compare observations between time intervals in time series data.\n",
    "- **For example**: \n",
    "    - Let’s create a density heatmap with year on the y-axis and month on the x-axis. \n",
    "    - This can be done by invoking the `heatmap()` function of the `sns` Seaborn object:"
   ]
  },
  {
   "cell_type": "markdown",
   "metadata": {},
   "source": [
    "```python\n",
    "# calculate total sales for each month\n",
    "sales = sales_data.groupby([\"year\", \"month\"]).sum()\n",
    "\n",
    "# re-format the data for the heat-map\n",
    "sales_month_year = sales.reset_index().pivot(index=\"year\", columns=\"month\", values=\"sales\")\n",
    "\n",
    "# create heatmap\n",
    "sns.heatmap(sales_month_year, cbar_kws={\"label\": \"Total Sales\"})\n",
    "plt.title(\"Sales Over Time\")\n",
    "plt.xlabel(\"Month\")\n",
    "plt.ylabel(\"Year\")\n",
    "plt.show()\n",
    "```"
   ]
  },
  {
   "cell_type": "markdown",
   "metadata": {},
   "source": [
    "![heatmap](Images/heatmap_mnth_year_sales.svg)"
   ]
  },
  {
   "cell_type": "markdown",
   "metadata": {},
   "source": [
    "- Recall that in a heatmap, as the color gets brighter and moves from dark purple to yellow, the total sales in the corresponding cell is higher.\n",
    "- Here, we see once again that the sales are pretty consistent year after year and also exhibit seasonality."
   ]
  },
  {
   "cell_type": "markdown",
   "metadata": {},
   "source": [
    "## Lag scatter plot"
   ]
  },
  {
   "cell_type": "markdown",
   "metadata": {},
   "source": [
    "- We can use a *lag scatter plot* to explore the relationship between an observation and a lag of that observation.\n",
    "- In a time series, a *lag* is a previous observation:\n",
    "    - The observation at a previous time step (the smallest time interval for which we have distinct measurements) is called lag 1.\n",
    "    - The observation at two times ago is called lag 2, etc.\n",
    "- In the sales dataset, we have a different sales value for each day. \n",
    "- Therefore, the lag 1 value for any particular day is equal to the sales on the previous day. \n",
    "- The lag 2 value is the sales two days ago, etc.\n",
    "- The `plotting` module of the `pandas` library has a built-in `lag_plot` function that plots the observation at time t on the x-axis and the lag 1 observation (t+1) on the y-axis:"
   ]
  },
  {
   "cell_type": "markdown",
   "metadata": {},
   "source": [
    "```python\n",
    "# import lag_plot function\n",
    "from pandas.plotting import lag_plot\n",
    "\n",
    "# lag scatter plot\n",
    "lag_plot(sales_data)\n",
    "plt.show()\n",
    "```"
   ]
  },
  {
   "cell_type": "markdown",
   "metadata": {},
   "source": [
    "![lag_plot](Images/lagplot.svg)"
   ]
  },
  {
   "cell_type": "markdown",
   "metadata": {},
   "source": [
    "- How can we interpret a lag scatter plot?\n",
    "    - If the points move from the bottom left to the top right, this indicates a positive correlation between observations and their lag 1 values. For example, high sales on one day are associated with high sales on the previous day.\n",
    "    - If the points move from the top left to the bottom right, this indicates a negative correlation between observations and their lag 1 values. For example, high sales on one day are associated with low sales on the previous day and vice versa.\n",
    "    - If there is no identifiable structure in the lag plot, this indicates the data is random, and there is no association between values at consecutive time points. For example, sales on one day tell you no information about expected sales on the following day.\n",
    "- Exploring the relationship between an observation and a lag of that observation is useful for helping us determine whether a dataset is random.\n",
    "- Since the points in the sales data move along a diagonal line from the bottom left to the top right, this indicates that our data is not random and there is a positive correlation between observations and their lag 1 values."
   ]
  },
  {
   "cell_type": "markdown",
   "metadata": {},
   "source": [
    "## Autocorrelation plot"
   ]
  },
  {
   "cell_type": "markdown",
   "metadata": {},
   "source": [
    "- An *autocorrelation plot* is used to show whether the elements of a time series are positively correlated, negatively correlated, or independent of each other.\n",
    "- This can be plotted with the `autocorrelation_plot()` function of the `pandas.plotting` module:"
   ]
  },
  {
   "cell_type": "markdown",
   "metadata": {},
   "source": [
    "```python\n",
    "# import autocorrelation function\n",
    "from pandas.plotting import autocorrelation_plot\n",
    "\n",
    "# autocorrelation plot\n",
    "autocorrelation_plot(sales_data)\n",
    "plt.show()\n",
    "```"
   ]
  },
  {
   "cell_type": "markdown",
   "metadata": {},
   "source": [
    "![autocorrelation_plot](Images/autocorrelation.webp)"
   ]
  },
  {
   "cell_type": "markdown",
   "metadata": {},
   "source": [
    "- In the autocorrelation plot above, lag is on the x-axis and the value of the autocorrelation, which ranges from -1 to 1, is on the y-axis. \n",
    "- A value near 0 indicates a weak correlation while values closer to -1 and 1 indicate a strong correlation.\n",
    "\n",
    "<br>\n",
    "\n",
    "- Notice how the autocorrelation plot for the sales data forms waves, oscillating between strong negative and positive correlation. \n",
    "- These waves suggest that our dataset exhibits seasonality.\n",
    "\n",
    "<br>\n",
    "\n",
    "- Also, notice how the autocorrelation decreases over time. \n",
    "- This indicates that sales tend to be similar on consecutive days, but sales from three years ago are less associated with today’s sales than sales from one year ago."
   ]
  }
 ],
 "metadata": {
  "language_info": {
   "name": "python"
  }
 },
 "nbformat": 4,
 "nbformat_minor": 2
}
