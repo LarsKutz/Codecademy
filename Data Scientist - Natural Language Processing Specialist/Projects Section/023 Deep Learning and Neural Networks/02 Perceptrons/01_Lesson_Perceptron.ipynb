{
 "cells": [
  {
   "cell_type": "markdown",
   "id": "f2bf9491",
   "metadata": {},
   "source": [
    "# Perceptron"
   ]
  },
  {
   "cell_type": "code",
   "execution_count": 14,
   "id": "44a8afc6",
   "metadata": {},
   "outputs": [],
   "source": [
    "import matplotlib.pyplot as plt\n",
    "import matplotlib.animation as animation\n",
    "import random"
   ]
  },
  {
   "cell_type": "markdown",
   "id": "353955f0",
   "metadata": {},
   "source": [
    "## 2. Representing a Perceptron"
   ]
  },
  {
   "cell_type": "markdown",
   "id": "d51237b0",
   "metadata": {},
   "source": [
    "**Task 1**  \n",
    "- Our `Perceptron` class by default takes two inputs and a pre-defined weight for each input.\n",
    "- Complete the `__init__()` method inside the `Perceptron` class by creating instance variables `self.num_inputs` and `self.weights` that represent the attributes of a `Perceptron` object.\n",
    "- Assign the parameters `num_inputs` and `weights` to `self.num_inputs` and `self.weights` respectively.\n",
    "\n",
    "<br>\n",
    "\n",
    "**Task 2**  \n",
    "- Create a `Perceptron` object called `cool_perceptron` (without any arguments) and print it out to see what it looks like."
   ]
  },
  {
   "cell_type": "code",
   "execution_count": 1,
   "id": "3ac3cd67",
   "metadata": {},
   "outputs": [
    {
     "name": "stdout",
     "output_type": "stream",
     "text": [
      "<__main__.Perceptron object at 0x0000017D82733750>\n"
     ]
    }
   ],
   "source": [
    "class Perceptron:\n",
    "    def __init__(self, num_inputs=2, weights=[1,1]):\n",
    "        self.num_inputs = num_inputs\n",
    "        self.weights = weights\n",
    "\n",
    "\n",
    "cool_perceptron = Perceptron()\n",
    "print(cool_perceptron)"
   ]
  },
  {
   "cell_type": "markdown",
   "id": "95a9f824",
   "metadata": {},
   "source": [
    "## 3. Step 1: Weighted Sum"
   ]
  },
  {
   "cell_type": "markdown",
   "id": "b765b3d5",
   "metadata": {},
   "source": [
    "**Task 1**  \n",
    "- Create a variable called `weighted_sum` to hold the value of the weighted sum and set its starting value to `0`.\n",
    "- Return `weighted_sum` outside the for loop.\n",
    "\n",
    "<br>\n",
    "\n",
    "**Task 2**  \n",
    "- Let’s go through each input-weight pair and find the weighted sum using indexing.\n",
    "- For each iteration in the loop, find the product of the input and weight at index `i`, add the result to `weighted_sum`, and store it back in `weighted_sum` to update the value of `weighted_sum`.\n",
    "\n",
    "<br>\n",
    "\n",
    "**Task 3**  \n",
    "- Outside the `Perceptron` class, after the Perceptron object `cool_perceptron` has been created, print out the weighted sum for the inputs `[24, 55]`.\n",
    "- What is the weighted sum?"
   ]
  },
  {
   "cell_type": "code",
   "execution_count": 2,
   "id": "75f9f5d8",
   "metadata": {},
   "outputs": [
    {
     "name": "stdout",
     "output_type": "stream",
     "text": [
      "103\n"
     ]
    }
   ],
   "source": [
    "class Perceptron:\n",
    "    def __init__(self, num_inputs=2, weights=[2,1]):\n",
    "        self.num_inputs = num_inputs\n",
    "        self.weights = weights\n",
    "        \n",
    "    def weighted_sum(self, inputs):\n",
    "        weighted_sum = 0\n",
    "        for i in range(self.num_inputs):\n",
    "            weighted_sum += self.weights[i] * inputs[i]\n",
    "        return weighted_sum\n",
    "\n",
    "cool_perceptron = Perceptron()\n",
    "print(cool_perceptron.weighted_sum([24, 55]))"
   ]
  },
  {
   "cell_type": "markdown",
   "id": "c0ef68dd",
   "metadata": {},
   "source": [
    "## 4. Step 2: Activation Function"
   ]
  },
  {
   "cell_type": "markdown",
   "id": "06117c09",
   "metadata": {},
   "source": [
    "**Task 1**  \n",
    "- Inside the `.activation()` method, return `1` if the `weighted_sum` is greater than or equal to `0`.\n",
    "\n",
    "<br>\n",
    "\n",
    "**Task 2**  \n",
    "- Inside the `.activation()` method, return `-1` if the `weighted_sum` is less than `0`.\n",
    "\n",
    "<br>\n",
    "\n",
    "**Task 3**  \n",
    "- Print out the result of the method `.activation()` called on `cool_perceptron` if the weighted sum is `52`."
   ]
  },
  {
   "cell_type": "code",
   "execution_count": 4,
   "id": "a0ed4275",
   "metadata": {},
   "outputs": [
    {
     "name": "stdout",
     "output_type": "stream",
     "text": [
      "79\n",
      "1\n"
     ]
    }
   ],
   "source": [
    "class Perceptron:\n",
    "    def __init__(self, num_inputs=2, weights=[1,1]):\n",
    "        self.num_inputs = num_inputs\n",
    "        self.weights = weights\n",
    "        \n",
    "    def weighted_sum(self, inputs):\n",
    "        weighted_sum = 0\n",
    "        for i in range(self.num_inputs):\n",
    "            weighted_sum += self.weights[i] * inputs[i]\n",
    "        return weighted_sum\n",
    "    \n",
    "    def activation(self, weighted_sum):\n",
    "        if weighted_sum >= 0:\n",
    "            return 1\n",
    "        if weighted_sum < 0:\n",
    "            return -1\n",
    "\n",
    "cool_perceptron = Perceptron()\n",
    "print(cool_perceptron.weighted_sum([24, 55]))\n",
    "print(cool_perceptron.activation(52))"
   ]
  },
  {
   "cell_type": "markdown",
   "id": "88d5c6f8",
   "metadata": {},
   "source": [
    "## 5. Training the Perceptron"
   ]
  },
  {
   "cell_type": "code",
   "execution_count": 6,
   "id": "0c0b8ec2",
   "metadata": {},
   "outputs": [
    {
     "data": {
      "image/png": "[encoded data removed]",
      "text/plain": [
       "<Figure size 640x480 with 1 Axes>"
      ]
     },
     "metadata": {},
     "output_type": "display_data"
    }
   ],
   "source": [
    "def generate_training_set(num_points):\n",
    "\tx_coordinates = [random.randint(0, 50) for i in range(num_points)]\n",
    "\ty_coordinates = [random.randint(0, 50) for i in range(num_points)]\n",
    "\ttraining_set = dict()\n",
    "\tfor x, y in zip(x_coordinates, y_coordinates):\n",
    "\t\tif x <= 45-y:\n",
    "\t\t\ttraining_set[(x,y)] = 1\n",
    "\t\telif x > 45-y:\n",
    "\t\t\ttraining_set[(x,y)] = -1\n",
    "\treturn training_set\n",
    "\n",
    "\n",
    "training_set = generate_training_set(30)\n",
    "\n",
    "\n",
    "x_plus = []\n",
    "y_plus = []\n",
    "x_minus = []\n",
    "y_minus = []\n",
    "\n",
    "\n",
    "for data in training_set:\n",
    "\tif training_set[data] == 1:\n",
    "\t\tx_plus.append(data[0])\n",
    "\t\ty_plus.append(data[1])\n",
    "\telif training_set[data] == -1:\n",
    "\t\tx_minus.append(data[0])\n",
    "\t\ty_minus.append(data[1])\n",
    "\n",
    "\n",
    "fig = plt.figure()\n",
    "ax = plt.axes(xlim=(-25, 75), ylim=(-25, 75))\n",
    "plt.scatter(x_plus, y_plus, marker = '+', c = 'green', s = 128, linewidth = 2)\n",
    "plt.scatter(x_minus, y_minus, marker = '_', c = 'red', s = 128, linewidth = 2)\n",
    "plt.title(\"Training Set\")\n",
    "plt.show()"
   ]
  },
  {
   "cell_type": "markdown",
   "id": "0746f2c0",
   "metadata": {},
   "source": [
    "## 6. Training Error"
   ]
  },
  {
   "cell_type": "markdown",
   "id": "54ac68d3",
   "metadata": {},
   "source": [
    "**Task 1**  \n",
    "- In the `.training()` method, let’s find the perceptron’s error on each inputs in `training_set`.\n",
    "- First, we need the perceptron’s predicted output for a point. \n",
    "- Inside the `for` loop, create a variable called `prediction` and assign it the correct label value using `.activation()`, .`weighted_sum()`, and `inputs` in a single statement.\n",
    "\n",
    "<br>\n",
    "\n",
    "**Task 2**  \n",
    "- Create a variable named `actual` and assign it the actual label for each `inputs` in `training_set`.\n",
    "\n",
    "<br>\n",
    "\n",
    "**Task 3**  \n",
    "- Create a variable called `error` and assign it the value of `actual - prediction`."
   ]
  },
  {
   "cell_type": "code",
   "execution_count": 7,
   "id": "b61842ee",
   "metadata": {},
   "outputs": [
    {
     "name": "stdout",
     "output_type": "stream",
     "text": [
      "79\n",
      "1\n"
     ]
    }
   ],
   "source": [
    "class Perceptron:\n",
    "    def __init__(self, num_inputs=2, weights=[1,1]):\n",
    "        self.num_inputs = num_inputs\n",
    "        self.weights = weights\n",
    "        \n",
    "    def weighted_sum(self, inputs):\n",
    "        weighted_sum = 0\n",
    "        for i in range(self.num_inputs):\n",
    "            weighted_sum += self.weights[i]*inputs[i]\n",
    "        return weighted_sum\n",
    "    \n",
    "    def activation(self, weighted_sum):\n",
    "        if weighted_sum >= 0:\n",
    "            return 1\n",
    "        if weighted_sum < 0:\n",
    "            return -1\n",
    "        \n",
    "    def training(self, training_set):\n",
    "        for inputs in training_set:\n",
    "            prediction = self.activation(self.weighted_sum(inputs))\n",
    "            actual = training_set[inputs]\n",
    "            error = actual - prediction\n",
    "\n",
    "\n",
    "cool_perceptron = Perceptron()\n",
    "print(cool_perceptron.weighted_sum([24, 55]))\n",
    "print(cool_perceptron.activation(52))"
   ]
  },
  {
   "cell_type": "markdown",
   "id": "9b30125c",
   "metadata": {},
   "source": [
    "## 8. The Perceptron Algorithm"
   ]
  },
  {
   "cell_type": "markdown",
   "id": "5965307d",
   "metadata": {},
   "source": [
    "- In this exercise, you will continue to work on the `.training()` method. \n",
    "- We have made the following changes to this method from the last exercise:\n",
    "    - `foundLine` = False (a boolean that indicates whether the perceptron has found a line to separate the positive and negative labels)\n",
    "    - `while not foundLine`: (a `while` loop that continues to train the perceptron until the line is found)\n",
    "    - `total_error = 0` (to count the total error the perceptron makes in each round)\n",
    "    - `total_error += abs(error)` (to update the total error the perceptron makes in each round)"
   ]
  },
  {
   "cell_type": "markdown",
   "id": "3524cd36",
   "metadata": {},
   "source": [
    "**Task 1**  \n",
    "- If the algorithm doesn’t find an error, the perceptron must have correctly predicted the labels for all points.\n",
    "- Outside the `for` loop (but inside the `while` loop), change the value of `foundLine` to `True` if `total_error` equals `0`.\n",
    "\n",
    "<br>\n",
    "\n",
    "**Task 2**  \n",
    "- In order to update the weight for each `inputs`, create another `for` loop (inside the existing `for` loop) that iterates a loop variable `i` through a `range` of `self.num_inputs`.\n",
    "\n",
    "<br>\n",
    "\n",
    "**Task 3**  \n",
    "- \n",
    "\n",
    "<br>\n",
    "\n",
    "**Task 4**  \n",
    "- "
   ]
  },
  {
   "cell_type": "code",
   "execution_count": 9,
   "id": "c8aa69c5",
   "metadata": {},
   "outputs": [
    {
     "name": "stdout",
     "output_type": "stream",
     "text": [
      "[-5, 1]\n"
     ]
    }
   ],
   "source": [
    "class Perceptron:\n",
    "    def __init__(self, num_inputs=2, weights=[1,1]):\n",
    "        self.num_inputs = num_inputs\n",
    "        self.weights = weights\n",
    "        \n",
    "    def weighted_sum(self, inputs):\n",
    "        weighted_sum = 0\n",
    "        for i in range(self.num_inputs):\n",
    "            weighted_sum += self.weights[i]*inputs[i]\n",
    "        return weighted_sum\n",
    "    \n",
    "    def activation(self, weighted_sum):\n",
    "        if weighted_sum >= 0:\n",
    "            return 1\n",
    "        if weighted_sum < 0:\n",
    "            return -1\n",
    "        \n",
    "    def training(self, training_set):\n",
    "        foundLine = False\n",
    "        while not foundLine:\n",
    "            total_error = 0\n",
    "            for inputs in training_set:\n",
    "                prediction = self.activation(self.weighted_sum(inputs))\n",
    "                actual = training_set[inputs]\n",
    "                error = actual - prediction\n",
    "                total_error += abs(error)\n",
    "                for i in range(self.num_inputs):\n",
    "                    self.weights[i] += error*inputs[i]\n",
    "            if total_error == 0:\n",
    "                foundLine = True\n",
    "\n",
    "\n",
    "cool_perceptron = Perceptron()\n",
    "small_training_set = {(0,3):1, (3,0):-1, (0,-3):-1, (-3,0):1}\n",
    "cool_perceptron.training(small_training_set)\n",
    "print(cool_perceptron.weights)"
   ]
  },
  {
   "cell_type": "markdown",
   "id": "fda1e9c8",
   "metadata": {},
   "source": [
    "## 9. The Bias Weight"
   ]
  },
  {
   "cell_type": "markdown",
   "id": "f9ba1153",
   "metadata": {},
   "source": [
    "**Task 1**  \n",
    "- How does this change the code so far? You only have to consider two small changes:\n",
    "    - Add a 1 to the set of inputs (now there are 3 inputs instead of 2)\n",
    "    - Add a bias weight to the list of weights (now there are 3 weights instead of 2)\n",
    "- We’ll automatically make these replacements in the code so you should be good to go!"
   ]
  },
  {
   "cell_type": "code",
   "execution_count": 13,
   "id": "f3ee1c20",
   "metadata": {},
   "outputs": [
    {
     "name": "stdout",
     "output_type": "stream",
     "text": [
      "[-5, 1, -1]\n"
     ]
    }
   ],
   "source": [
    "class Perceptron:\n",
    "    def __init__(self, num_inputs=3, weights=[1,1,1]):\n",
    "        self.num_inputs = num_inputs\n",
    "        self.weights = weights\n",
    "        \n",
    "    def weighted_sum(self, inputs):\n",
    "        weighted_sum = 0\n",
    "        for i in range(self.num_inputs):\n",
    "            weighted_sum += self.weights[i]*inputs[i]\n",
    "        return weighted_sum\n",
    "    \n",
    "    def activation(self, weighted_sum):\n",
    "        if weighted_sum >= 0:\n",
    "            return 1\n",
    "        if weighted_sum < 0:\n",
    "            return -1\n",
    "        \n",
    "    def training(self, training_set):\n",
    "        foundLine = False\n",
    "        while not foundLine:\n",
    "            total_error = 0\n",
    "            for inputs in training_set:\n",
    "                prediction = self.activation(self.weighted_sum(inputs))\n",
    "                actual = training_set[inputs]\n",
    "                error = actual - prediction\n",
    "                total_error += abs(error)\n",
    "                for i in range(self.num_inputs):\n",
    "                    self.weights[i] += error*inputs[i]\n",
    "            if total_error == 0:\n",
    "                foundLine = True\n",
    "\n",
    "\n",
    "cool_perceptron = Perceptron()\n",
    "small_training_set = {(0,3,1):1, (3,0,1):-1, (0,-3,1):-1, (-3,0,1):1}\n",
    "cool_perceptron.training(small_training_set)\n",
    "print(cool_perceptron.weights)"
   ]
  },
  {
   "cell_type": "markdown",
   "id": "800f906a",
   "metadata": {},
   "source": [
    "## 10. Representing a Line"
   ]
  },
  {
   "cell_type": "code",
   "execution_count": 15,
   "id": "7f1c408c",
   "metadata": {},
   "outputs": [],
   "source": [
    "lines = []\n",
    "\n",
    "class Perceptron:\n",
    "    def __init__(self, num_inputs=3, weights=[1,1,1]):\n",
    "        self.num_inputs = num_inputs\n",
    "        self.weights = weights\n",
    "\n",
    "    def weighted_sum(self, inputs):\n",
    "        weighted_sum = 0\n",
    "        for i in range(self.num_inputs):\n",
    "            weighted_sum += self.weights[i]*inputs[i]\n",
    "        return weighted_sum\n",
    "\n",
    "    def activation(self, weighted_sum):\n",
    "        if weighted_sum >= 0:\n",
    "            return 1\n",
    "        if weighted_sum < 0:\n",
    "            return -1\n",
    "\n",
    "    def training(self, training_set):\n",
    "        foundLine = False\n",
    "        while not foundLine:\n",
    "            total_error = 0\n",
    "        for inputs in training_set:\n",
    "            prediction = self.activation(self.weighted_sum(inputs))\n",
    "            actual = training_set[inputs]\n",
    "            error = actual - prediction\n",
    "            total_error += abs(error)\n",
    "            for i in range(self.num_inputs):\n",
    "                self.weights[i] += error*inputs[i]\n",
    "\n",
    "        slope = -self.weights[0]/self.weights[1]\n",
    "        intercept = -self.weights[2]/self.weights[1]\n",
    "        y1 = (slope * 0) + intercept\n",
    "        y2 = (slope * 50) + intercept\n",
    "        lines.append([[0,50], [y1, y2]])\n",
    "\n",
    "        if total_error == 0:\n",
    "            foundLine = True"
   ]
  },
  {
   "cell_type": "code",
   "execution_count": null,
   "id": "04d4173e",
   "metadata": {},
   "outputs": [],
   "source": [
    "def generate_training_set(num_points):\n",
    "\tx_coordinates = [random.randint(0, 50) for i in range(num_points)]\n",
    "\ty_coordinates = [random.randint(0, 50) for i in range(num_points)]\n",
    "\ttraining_set = dict()\n",
    "\tfor x, y in zip(x_coordinates, y_coordinates):\n",
    "\t\tif x <= 45-y:\n",
    "\t\t\ttraining_set[(x,y,1)] = 1\n",
    "\t\telif x > 45-y:\n",
    "\t\t\ttraining_set[(x,y,1)] = -1\n",
    "\treturn training_set\n",
    "\n",
    "training_set = generate_training_set(30)\n",
    "\n",
    "x_plus = []\n",
    "y_plus = []\n",
    "x_minus = []\n",
    "y_minus = []\n",
    "\n",
    "for data in training_set:\n",
    "\tif training_set[data] == 1:\n",
    "\t\tx_plus.append(data[0])\n",
    "\t\ty_plus.append(data[1])\n",
    "\telif training_set[data] == -1:\n",
    "\t\tx_minus.append(data[0])\n",
    "\t\ty_minus.append(data[1])\n",
    "\n",
    "perceptron = Perceptron()\n",
    "perceptron.training(training_set)\n",
    "\n",
    "fig = plt.figure()\n",
    "ax = plt.axes(xlim=(-25, 75), ylim=(-25, 75))\n",
    "line, = ax.plot([], [], lw=2)\n",
    "\n",
    "fig.patch.set_facecolor('#ffc107')\n",
    "\n",
    "plt.scatter(x_plus, y_plus, marker = '+', c = 'green', s = 128, linewidth = 2)\n",
    "plt.scatter(x_minus, y_minus, marker = '_', c = 'red', s = 128, linewidth = 2)\n",
    "\n",
    "plt.title('Iteration: 0')\n",
    "\n",
    "\n",
    "def animate(i):\n",
    "    print(i)\n",
    "    line.set_xdata(lines[i][0])  # update the data\n",
    "    line.set_ydata(lines[i][1])  # update the data\n",
    "    return line,\n",
    "\n",
    "def init():\n",
    "    line.set_data([], [])\n",
    "    return line,\n",
    "\n",
    "ani = animation.FuncAnimation(fig, animate, frames=1, init_func=init, interval=50, blit=True, repeat=False)\n",
    "\n",
    "plt.show()"
   ]
  }
 ],
 "metadata": {
  "kernelspec": {
   "display_name": "Codecademy-XphA9WxU",
   "language": "python",
   "name": "python3"
  },
  "language_info": {
   "codemirror_mode": {
    "name": "ipython",
    "version": 3
   },
   "file_extension": ".py",
   "mimetype": "text/x-python",
   "name": "python",
   "nbconvert_exporter": "python",
   "pygments_lexer": "ipython3",
   "version": "3.11.1"
  }
 },
 "nbformat": 4,
 "nbformat_minor": 5
}
