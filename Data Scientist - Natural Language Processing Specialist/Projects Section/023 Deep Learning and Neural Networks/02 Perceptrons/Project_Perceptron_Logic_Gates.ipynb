{
 "cells": [
  {
   "cell_type": "markdown",
   "id": "a3815e0c",
   "metadata": {},
   "source": [
    "# Perceptron Logic Gates"
   ]
  },
  {
   "cell_type": "markdown",
   "id": "edd81bad",
   "metadata": {},
   "source": [
    "In this project, we will use perceptrons to model the fundamental building blocks of computers — logic gates.\n",
    "\n",
    "<img src=\"Images/logic_gates.svg\" width=\"600\">\n",
    "\n",
    "For example, the table below shows the results of an AND gate. Given two inputs, an AND gate will output a `1` only if both inputs are a `1`:\n",
    "\n",
    "| Input 1 | Input 2 | Output |\n",
    "|---------|---------|--------|\n",
    "|    0    |    0    |   0    |\n",
    "|    0    |    1    |   0    |\n",
    "|    1    |    0    |   0    |\n",
    "|    1    |    1    |   1    |\n",
    "\n",
    "We’ll discuss how an AND gate can be thought of as linearly separable data and train a perceptron to perform AND.\n",
    "\n",
    "We’ll also investigate an XOR gate — a gate that outputs a `1` only if one of the inputs is a `1`:\n",
    "\n",
    "| Input 1 | Input 2 | Output |\n",
    "|---------|---------|--------|\n",
    "|    0    |    0    |   0    |\n",
    "|    0    |    1    |   1    |\n",
    "|    1    |    0    |   1    |\n",
    "|    1    |    1    |   0    |\n",
    "\n",
    "We’ll think about why an XOR gate isn’t linearly separable and show how a perceptron fails to learn XOR."
   ]
  },
  {
   "cell_type": "code",
   "execution_count": 1,
   "id": "53955a53",
   "metadata": {},
   "outputs": [],
   "source": [
    "from sklearn.linear_model import Perceptron\n",
    "import matplotlib.pyplot as plt\n",
    "import numpy as np\n",
    "from itertools import product"
   ]
  },
  {
   "cell_type": "markdown",
   "id": "a193cc47",
   "metadata": {},
   "source": [
    "## 1."
   ]
  },
  {
   "cell_type": "markdown",
   "id": "3b4131de",
   "metadata": {},
   "source": [
    "- To begin, let’s think of an AND gate as a dataset of four points. \n",
    "- The four points should be the four possible inputs to the AND gate. \n",
    "- For example, the first point in the dataset should be `[0, 0]`.\n",
    "- Create a variable named `data` that is a list that contains the four possible inputs to an AND gate."
   ]
  },
  {
   "cell_type": "code",
   "execution_count": 2,
   "id": "a39a1278",
   "metadata": {},
   "outputs": [],
   "source": [
    "data = [[0, 0], [0, 1], [1, 0], [1, 1]]"
   ]
  },
  {
   "cell_type": "markdown",
   "id": "e6cb5528",
   "metadata": {},
   "source": [
    "## 2."
   ]
  },
  {
   "cell_type": "markdown",
   "id": "47e06565",
   "metadata": {},
   "source": [
    "- Each data point should have a label associated with it. \n",
    "- The label will be the result of the AND gate given the input.\n",
    "- Create a variable named `labels`. \n",
    "- This should be a list where each label corresponds to a point in `data`. \n",
    "- For example, if the last item in `data` is `[1, 1]`, the last label should be `1`."
   ]
  },
  {
   "cell_type": "code",
   "execution_count": 3,
   "id": "7d134e29",
   "metadata": {},
   "outputs": [],
   "source": [
    "labels = [0, 0, 0, 1]"
   ]
  },
  {
   "cell_type": "markdown",
   "id": "1e78e830",
   "metadata": {},
   "source": [
    "## 3."
   ]
  },
  {
   "cell_type": "markdown",
   "id": "342d2e37",
   "metadata": {},
   "source": [
    "- Let’s plot these four points on a graph.\n",
    "- Call `plt.scatter()` using three parameters:\n",
    "    - The first parameter should be a list of the x values of each point. You can get this using list comprehension — `[point[0] for point in data]`.\n",
    "    - The second parameter should be a list of the y values of each point. \n",
    "    - The third parameter should be `c = labels`. This will make the points with label `1` a different color than points with label `0`.\n",
    "- After calling `plt.scatter()` call `plt.show()`. As you continue to write your code, make sure `plt.show()` is always the last line of code.\n",
    "- Why is this data linearly separable?"
   ]
  },
  {
   "cell_type": "code",
   "execution_count": 4,
   "id": "9169f775",
   "metadata": {},
   "outputs": [
    {
     "data": {
      "image/png": "[encoded data removed]",
      "text/plain": [
       "<Figure size 640x480 with 1 Axes>"
      ]
     },
     "metadata": {},
     "output_type": "display_data"
    }
   ],
   "source": [
    "plt.scatter([point[0] for point in data], [point[1] for point in data], c=labels)\n",
    "plt.show()"
   ]
  },
  {
   "cell_type": "markdown",
   "id": "8e6dd0b4",
   "metadata": {},
   "source": [
    "It's linearly separable because you can draw a straight line that separates the points with label `0` from the points with label `1`."
   ]
  },
  {
   "cell_type": "markdown",
   "id": "89d13d01",
   "metadata": {},
   "source": [
    "## 4."
   ]
  },
  {
   "cell_type": "markdown",
   "id": "8a9af5a0",
   "metadata": {},
   "source": [
    "- Now that we have our data, let’s build a perceptron to learn AND. \n",
    "- Create a `Perceptron` object named `classifier`. \n",
    "- For now, set the parameter `max_iter` to `40`, and set `random_state` to `22`.\n",
    "- `max_iter` sets the number of times the perceptron loops through the training data. \n",
    "- The default is `1000`, so we’re cutting the training pretty short! \n",
    "- Let’s see if our algorithm learns AND, even with very little training."
   ]
  },
  {
   "cell_type": "code",
   "execution_count": 5,
   "id": "3c85fcb3",
   "metadata": {},
   "outputs": [],
   "source": [
    "classifier = Perceptron(max_iter=40, random_state=22)"
   ]
  },
  {
   "cell_type": "markdown",
   "id": "495268c3",
   "metadata": {},
   "source": [
    "## 5."
   ]
  },
  {
   "cell_type": "markdown",
   "id": "d236bfb3",
   "metadata": {},
   "source": [
    "- We’ll now train the model. \n",
    "- Call the `.fit()` method using `data` and `labels` as parameters."
   ]
  },
  {
   "cell_type": "code",
   "execution_count": 6,
   "id": "ce662d22",
   "metadata": {},
   "outputs": [
    {
     "data": {
      "text/html": [
       "<style>#sk-container-id-1 {\n",
       "  /* Definition of color scheme common for light and dark mode */\n",
       "  --sklearn-color-text: #000;\n",
       "  --sklearn-color-text-muted: #666;\n",
       "  --sklearn-color-line: gray;\n",
       "  /* Definition of color scheme for unfitted estimators */\n",
       "  --sklearn-color-unfitted-level-0: #fff5e6;\n",
       "  --sklearn-color-unfitted-level-1: #f6e4d2;\n",
       "  --sklearn-color-unfitted-level-2: #ffe0b3;\n",
       "  --sklearn-color-unfitted-level-3: chocolate;\n",
       "  /* Definition of color scheme for fitted estimators */\n",
       "  --sklearn-color-fitted-level-0: #f0f8ff;\n",
       "  --sklearn-color-fitted-level-1: #d4ebff;\n",
       "  --sklearn-color-fitted-level-2: #b3dbfd;\n",
       "  --sklearn-color-fitted-level-3: cornflowerblue;\n",
       "\n",
       "  /* Specific color for light theme */\n",
       "  --sklearn-color-text-on-default-background: var(--sg-text-color, var(--theme-code-foreground, var(--jp-content-font-color1, black)));\n",
       "  --sklearn-color-background: var(--sg-background-color, var(--theme-background, var(--jp-layout-color0, white)));\n",
       "  --sklearn-color-border-box: var(--sg-text-color, var(--theme-code-foreground, var(--jp-content-font-color1, black)));\n",
       "  --sklearn-color-icon: #696969;\n",
       "\n",
       "  @media (prefers-color-scheme: dark) {\n",
       "    /* Redefinition of color scheme for dark theme */\n",
       "    --sklearn-color-text-on-default-background: var(--sg-text-color, var(--theme-code-foreground, var(--jp-content-font-color1, white)));\n",
       "    --sklearn-color-background: var(--sg-background-color, var(--theme-background, var(--jp-layout-color0, #111)));\n",
       "    --sklearn-color-border-box: var(--sg-text-color, var(--theme-code-foreground, var(--jp-content-font-color1, white)));\n",
       "    --sklearn-color-icon: #878787;\n",
       "  }\n",
       "}\n",
       "\n",
       "#sk-container-id-1 {\n",
       "  color: var(--sklearn-color-text);\n",
       "}\n",
       "\n",
       "#sk-container-id-1 pre {\n",
       "  padding: 0;\n",
       "}\n",
       "\n",
       "#sk-container-id-1 input.sk-hidden--visually {\n",
       "  border: 0;\n",
       "  clip: rect(1px 1px 1px 1px);\n",
       "  clip: rect(1px, 1px, 1px, 1px);\n",
       "  height: 1px;\n",
       "  margin: -1px;\n",
       "  overflow: hidden;\n",
       "  padding: 0;\n",
       "  position: absolute;\n",
       "  width: 1px;\n",
       "}\n",
       "\n",
       "#sk-container-id-1 div.sk-dashed-wrapped {\n",
       "  border: 1px dashed var(--sklearn-color-line);\n",
       "  margin: 0 0.4em 0.5em 0.4em;\n",
       "  box-sizing: border-box;\n",
       "  padding-bottom: 0.4em;\n",
       "  background-color: var(--sklearn-color-background);\n",
       "}\n",
       "\n",
       "#sk-container-id-1 div.sk-container {\n",
       "  /* jupyter's `normalize.less` sets `[hidden] { display: none; }`\n",
       "     but bootstrap.min.css set `[hidden] { display: none !important; }`\n",
       "     so we also need the `!important` here to be able to override the\n",
       "     default hidden behavior on the sphinx rendered scikit-learn.org.\n",
       "     See: https://github.com/scikit-learn/scikit-learn/issues/21755 */\n",
       "  display: inline-block !important;\n",
       "  position: relative;\n",
       "}\n",
       "\n",
       "#sk-container-id-1 div.sk-text-repr-fallback {\n",
       "  display: none;\n",
       "}\n",
       "\n",
       "div.sk-parallel-item,\n",
       "div.sk-serial,\n",
       "div.sk-item {\n",
       "  /* draw centered vertical line to link estimators */\n",
       "  background-image: linear-gradient(var(--sklearn-color-text-on-default-background), var(--sklearn-color-text-on-default-background));\n",
       "  background-size: 2px 100%;\n",
       "  background-repeat: no-repeat;\n",
       "  background-position: center center;\n",
       "}\n",
       "\n",
       "/* Parallel-specific style estimator block */\n",
       "\n",
       "#sk-container-id-1 div.sk-parallel-item::after {\n",
       "  content: \"\";\n",
       "  width: 100%;\n",
       "  border-bottom: 2px solid var(--sklearn-color-text-on-default-background);\n",
       "  flex-grow: 1;\n",
       "}\n",
       "\n",
       "#sk-container-id-1 div.sk-parallel {\n",
       "  display: flex;\n",
       "  align-items: stretch;\n",
       "  justify-content: center;\n",
       "  background-color: var(--sklearn-color-background);\n",
       "  position: relative;\n",
       "}\n",
       "\n",
       "#sk-container-id-1 div.sk-parallel-item {\n",
       "  display: flex;\n",
       "  flex-direction: column;\n",
       "}\n",
       "\n",
       "#sk-container-id-1 div.sk-parallel-item:first-child::after {\n",
       "  align-self: flex-end;\n",
       "  width: 50%;\n",
       "}\n",
       "\n",
       "#sk-container-id-1 div.sk-parallel-item:last-child::after {\n",
       "  align-self: flex-start;\n",
       "  width: 50%;\n",
       "}\n",
       "\n",
       "#sk-container-id-1 div.sk-parallel-item:only-child::after {\n",
       "  width: 0;\n",
       "}\n",
       "\n",
       "/* Serial-specific style estimator block */\n",
       "\n",
       "#sk-container-id-1 div.sk-serial {\n",
       "  display: flex;\n",
       "  flex-direction: column;\n",
       "  align-items: center;\n",
       "  background-color: var(--sklearn-color-background);\n",
       "  padding-right: 1em;\n",
       "  padding-left: 1em;\n",
       "}\n",
       "\n",
       "\n",
       "/* Toggleable style: style used for estimator/Pipeline/ColumnTransformer box that is\n",
       "clickable and can be expanded/collapsed.\n",
       "- Pipeline and ColumnTransformer use this feature and define the default style\n",
       "- Estimators will overwrite some part of the style using the `sk-estimator` class\n",
       "*/\n",
       "\n",
       "/* Pipeline and ColumnTransformer style (default) */\n",
       "\n",
       "#sk-container-id-1 div.sk-toggleable {\n",
       "  /* Default theme specific background. It is overwritten whether we have a\n",
       "  specific estimator or a Pipeline/ColumnTransformer */\n",
       "  background-color: var(--sklearn-color-background);\n",
       "}\n",
       "\n",
       "/* Toggleable label */\n",
       "#sk-container-id-1 label.sk-toggleable__label {\n",
       "  cursor: pointer;\n",
       "  display: flex;\n",
       "  width: 100%;\n",
       "  margin-bottom: 0;\n",
       "  padding: 0.5em;\n",
       "  box-sizing: border-box;\n",
       "  text-align: center;\n",
       "  align-items: start;\n",
       "  justify-content: space-between;\n",
       "  gap: 0.5em;\n",
       "}\n",
       "\n",
       "#sk-container-id-1 label.sk-toggleable__label .caption {\n",
       "  font-size: 0.6rem;\n",
       "  font-weight: lighter;\n",
       "  color: var(--sklearn-color-text-muted);\n",
       "}\n",
       "\n",
       "#sk-container-id-1 label.sk-toggleable__label-arrow:before {\n",
       "  /* Arrow on the left of the label */\n",
       "  content: \"▸\";\n",
       "  float: left;\n",
       "  margin-right: 0.25em;\n",
       "  color: var(--sklearn-color-icon);\n",
       "}\n",
       "\n",
       "#sk-container-id-1 label.sk-toggleable__label-arrow:hover:before {\n",
       "  color: var(--sklearn-color-text);\n",
       "}\n",
       "\n",
       "/* Toggleable content - dropdown */\n",
       "\n",
       "#sk-container-id-1 div.sk-toggleable__content {\n",
       "  max-height: 0;\n",
       "  max-width: 0;\n",
       "  overflow: hidden;\n",
       "  text-align: left;\n",
       "  /* unfitted */\n",
       "  background-color: var(--sklearn-color-unfitted-level-0);\n",
       "}\n",
       "\n",
       "#sk-container-id-1 div.sk-toggleable__content.fitted {\n",
       "  /* fitted */\n",
       "  background-color: var(--sklearn-color-fitted-level-0);\n",
       "}\n",
       "\n",
       "#sk-container-id-1 div.sk-toggleable__content pre {\n",
       "  margin: 0.2em;\n",
       "  border-radius: 0.25em;\n",
       "  color: var(--sklearn-color-text);\n",
       "  /* unfitted */\n",
       "  background-color: var(--sklearn-color-unfitted-level-0);\n",
       "}\n",
       "\n",
       "#sk-container-id-1 div.sk-toggleable__content.fitted pre {\n",
       "  /* unfitted */\n",
       "  background-color: var(--sklearn-color-fitted-level-0);\n",
       "}\n",
       "\n",
       "#sk-container-id-1 input.sk-toggleable__control:checked~div.sk-toggleable__content {\n",
       "  /* Expand drop-down */\n",
       "  max-height: 200px;\n",
       "  max-width: 100%;\n",
       "  overflow: auto;\n",
       "}\n",
       "\n",
       "#sk-container-id-1 input.sk-toggleable__control:checked~label.sk-toggleable__label-arrow:before {\n",
       "  content: \"▾\";\n",
       "}\n",
       "\n",
       "/* Pipeline/ColumnTransformer-specific style */\n",
       "\n",
       "#sk-container-id-1 div.sk-label input.sk-toggleable__control:checked~label.sk-toggleable__label {\n",
       "  color: var(--sklearn-color-text);\n",
       "  background-color: var(--sklearn-color-unfitted-level-2);\n",
       "}\n",
       "\n",
       "#sk-container-id-1 div.sk-label.fitted input.sk-toggleable__control:checked~label.sk-toggleable__label {\n",
       "  background-color: var(--sklearn-color-fitted-level-2);\n",
       "}\n",
       "\n",
       "/* Estimator-specific style */\n",
       "\n",
       "/* Colorize estimator box */\n",
       "#sk-container-id-1 div.sk-estimator input.sk-toggleable__control:checked~label.sk-toggleable__label {\n",
       "  /* unfitted */\n",
       "  background-color: var(--sklearn-color-unfitted-level-2);\n",
       "}\n",
       "\n",
       "#sk-container-id-1 div.sk-estimator.fitted input.sk-toggleable__control:checked~label.sk-toggleable__label {\n",
       "  /* fitted */\n",
       "  background-color: var(--sklearn-color-fitted-level-2);\n",
       "}\n",
       "\n",
       "#sk-container-id-1 div.sk-label label.sk-toggleable__label,\n",
       "#sk-container-id-1 div.sk-label label {\n",
       "  /* The background is the default theme color */\n",
       "  color: var(--sklearn-color-text-on-default-background);\n",
       "}\n",
       "\n",
       "/* On hover, darken the color of the background */\n",
       "#sk-container-id-1 div.sk-label:hover label.sk-toggleable__label {\n",
       "  color: var(--sklearn-color-text);\n",
       "  background-color: var(--sklearn-color-unfitted-level-2);\n",
       "}\n",
       "\n",
       "/* Label box, darken color on hover, fitted */\n",
       "#sk-container-id-1 div.sk-label.fitted:hover label.sk-toggleable__label.fitted {\n",
       "  color: var(--sklearn-color-text);\n",
       "  background-color: var(--sklearn-color-fitted-level-2);\n",
       "}\n",
       "\n",
       "/* Estimator label */\n",
       "\n",
       "#sk-container-id-1 div.sk-label label {\n",
       "  font-family: monospace;\n",
       "  font-weight: bold;\n",
       "  display: inline-block;\n",
       "  line-height: 1.2em;\n",
       "}\n",
       "\n",
       "#sk-container-id-1 div.sk-label-container {\n",
       "  text-align: center;\n",
       "}\n",
       "\n",
       "/* Estimator-specific */\n",
       "#sk-container-id-1 div.sk-estimator {\n",
       "  font-family: monospace;\n",
       "  border: 1px dotted var(--sklearn-color-border-box);\n",
       "  border-radius: 0.25em;\n",
       "  box-sizing: border-box;\n",
       "  margin-bottom: 0.5em;\n",
       "  /* unfitted */\n",
       "  background-color: var(--sklearn-color-unfitted-level-0);\n",
       "}\n",
       "\n",
       "#sk-container-id-1 div.sk-estimator.fitted {\n",
       "  /* fitted */\n",
       "  background-color: var(--sklearn-color-fitted-level-0);\n",
       "}\n",
       "\n",
       "/* on hover */\n",
       "#sk-container-id-1 div.sk-estimator:hover {\n",
       "  /* unfitted */\n",
       "  background-color: var(--sklearn-color-unfitted-level-2);\n",
       "}\n",
       "\n",
       "#sk-container-id-1 div.sk-estimator.fitted:hover {\n",
       "  /* fitted */\n",
       "  background-color: var(--sklearn-color-fitted-level-2);\n",
       "}\n",
       "\n",
       "/* Specification for estimator info (e.g. \"i\" and \"?\") */\n",
       "\n",
       "/* Common style for \"i\" and \"?\" */\n",
       "\n",
       ".sk-estimator-doc-link,\n",
       "a:link.sk-estimator-doc-link,\n",
       "a:visited.sk-estimator-doc-link {\n",
       "  float: right;\n",
       "  font-size: smaller;\n",
       "  line-height: 1em;\n",
       "  font-family: monospace;\n",
       "  background-color: var(--sklearn-color-background);\n",
       "  border-radius: 1em;\n",
       "  height: 1em;\n",
       "  width: 1em;\n",
       "  text-decoration: none !important;\n",
       "  margin-left: 0.5em;\n",
       "  text-align: center;\n",
       "  /* unfitted */\n",
       "  border: var(--sklearn-color-unfitted-level-1) 1pt solid;\n",
       "  color: var(--sklearn-color-unfitted-level-1);\n",
       "}\n",
       "\n",
       ".sk-estimator-doc-link.fitted,\n",
       "a:link.sk-estimator-doc-link.fitted,\n",
       "a:visited.sk-estimator-doc-link.fitted {\n",
       "  /* fitted */\n",
       "  border: var(--sklearn-color-fitted-level-1) 1pt solid;\n",
       "  color: var(--sklearn-color-fitted-level-1);\n",
       "}\n",
       "\n",
       "/* On hover */\n",
       "div.sk-estimator:hover .sk-estimator-doc-link:hover,\n",
       ".sk-estimator-doc-link:hover,\n",
       "div.sk-label-container:hover .sk-estimator-doc-link:hover,\n",
       ".sk-estimator-doc-link:hover {\n",
       "  /* unfitted */\n",
       "  background-color: var(--sklearn-color-unfitted-level-3);\n",
       "  color: var(--sklearn-color-background);\n",
       "  text-decoration: none;\n",
       "}\n",
       "\n",
       "div.sk-estimator.fitted:hover .sk-estimator-doc-link.fitted:hover,\n",
       ".sk-estimator-doc-link.fitted:hover,\n",
       "div.sk-label-container:hover .sk-estimator-doc-link.fitted:hover,\n",
       ".sk-estimator-doc-link.fitted:hover {\n",
       "  /* fitted */\n",
       "  background-color: var(--sklearn-color-fitted-level-3);\n",
       "  color: var(--sklearn-color-background);\n",
       "  text-decoration: none;\n",
       "}\n",
       "\n",
       "/* Span, style for the box shown on hovering the info icon */\n",
       ".sk-estimator-doc-link span {\n",
       "  display: none;\n",
       "  z-index: 9999;\n",
       "  position: relative;\n",
       "  font-weight: normal;\n",
       "  right: .2ex;\n",
       "  padding: .5ex;\n",
       "  margin: .5ex;\n",
       "  width: min-content;\n",
       "  min-width: 20ex;\n",
       "  max-width: 50ex;\n",
       "  color: var(--sklearn-color-text);\n",
       "  box-shadow: 2pt 2pt 4pt #999;\n",
       "  /* unfitted */\n",
       "  background: var(--sklearn-color-unfitted-level-0);\n",
       "  border: .5pt solid var(--sklearn-color-unfitted-level-3);\n",
       "}\n",
       "\n",
       ".sk-estimator-doc-link.fitted span {\n",
       "  /* fitted */\n",
       "  background: var(--sklearn-color-fitted-level-0);\n",
       "  border: var(--sklearn-color-fitted-level-3);\n",
       "}\n",
       "\n",
       ".sk-estimator-doc-link:hover span {\n",
       "  display: block;\n",
       "}\n",
       "\n",
       "/* \"?\"-specific style due to the `<a>` HTML tag */\n",
       "\n",
       "#sk-container-id-1 a.estimator_doc_link {\n",
       "  float: right;\n",
       "  font-size: 1rem;\n",
       "  line-height: 1em;\n",
       "  font-family: monospace;\n",
       "  background-color: var(--sklearn-color-background);\n",
       "  border-radius: 1rem;\n",
       "  height: 1rem;\n",
       "  width: 1rem;\n",
       "  text-decoration: none;\n",
       "  /* unfitted */\n",
       "  color: var(--sklearn-color-unfitted-level-1);\n",
       "  border: var(--sklearn-color-unfitted-level-1) 1pt solid;\n",
       "}\n",
       "\n",
       "#sk-container-id-1 a.estimator_doc_link.fitted {\n",
       "  /* fitted */\n",
       "  border: var(--sklearn-color-fitted-level-1) 1pt solid;\n",
       "  color: var(--sklearn-color-fitted-level-1);\n",
       "}\n",
       "\n",
       "/* On hover */\n",
       "#sk-container-id-1 a.estimator_doc_link:hover {\n",
       "  /* unfitted */\n",
       "  background-color: var(--sklearn-color-unfitted-level-3);\n",
       "  color: var(--sklearn-color-background);\n",
       "  text-decoration: none;\n",
       "}\n",
       "\n",
       "#sk-container-id-1 a.estimator_doc_link.fitted:hover {\n",
       "  /* fitted */\n",
       "  background-color: var(--sklearn-color-fitted-level-3);\n",
       "}\n",
       "</style><div id=\"sk-container-id-1\" class=\"sk-top-container\"><div class=\"sk-text-repr-fallback\"><pre>Perceptron(max_iter=40, random_state=22)</pre><b>In a Jupyter environment, please rerun this cell to show the HTML representation or trust the notebook. <br />On GitHub, the HTML representation is unable to render, please try loading this page with nbviewer.org.</b></div><div class=\"sk-container\" hidden><div class=\"sk-item\"><div class=\"sk-estimator fitted sk-toggleable\"><input class=\"sk-toggleable__control sk-hidden--visually\" id=\"sk-estimator-id-1\" type=\"checkbox\" checked><label for=\"sk-estimator-id-1\" class=\"sk-toggleable__label fitted sk-toggleable__label-arrow\"><div><div>Perceptron</div></div><div><a class=\"sk-estimator-doc-link fitted\" rel=\"noreferrer\" target=\"_blank\" href=\"https://scikit-learn.org/1.6/modules/generated/sklearn.linear_model.Perceptron.html\">?<span>Documentation for Perceptron</span></a><span class=\"sk-estimator-doc-link fitted\">i<span>Fitted</span></span></div></label><div class=\"sk-toggleable__content fitted\"><pre>Perceptron(max_iter=40, random_state=22)</pre></div> </div></div></div></div>"
      ],
      "text/plain": [
       "Perceptron(max_iter=40, random_state=22)"
      ]
     },
     "execution_count": 6,
     "metadata": {},
     "output_type": "execute_result"
    }
   ],
   "source": [
    "classifier.fit(data, labels)"
   ]
  },
  {
   "cell_type": "markdown",
   "id": "8a0252a9",
   "metadata": {},
   "source": [
    "## 6."
   ]
  },
  {
   "cell_type": "markdown",
   "id": "bbc52b03",
   "metadata": {},
   "source": [
    "- Let’s see if the algorithm learned AND. \n",
    "- Call `classifier`‘s `.score()` method using `data` and `labels` as parameters. \n",
    "- Print the results. \n",
    "- This will print the accuracy of the model on the data points.\n",
    "- Note that it is pretty unusual to train and test on the same dataset. \n",
    "- In this case, since there are only four possible inputs to AND, we’re stuck training on every possible input and testing on those same points."
   ]
  },
  {
   "cell_type": "code",
   "execution_count": 7,
   "id": "e0ab4f16",
   "metadata": {},
   "outputs": [
    {
     "data": {
      "text/plain": [
       "1.0"
      ]
     },
     "execution_count": 7,
     "metadata": {},
     "output_type": "execute_result"
    }
   ],
   "source": [
    "classifier.score(data, labels)"
   ]
  },
  {
   "cell_type": "markdown",
   "id": "987b671d",
   "metadata": {},
   "source": [
    "## 7."
   ]
  },
  {
   "cell_type": "markdown",
   "id": "a6c33d93",
   "metadata": {},
   "source": [
    "- Your perceptron should have 100% accuracy!\n",
    "-  You just taught it an AND gate!\n",
    "- Let’s change the labels so your data now represents an XOR gate. \n",
    "- The label should be a `1` only if one of the inputs is a `1`. \n",
    "- What is the accuracy of the perceptron now? \n",
    "- Is the data linearly separable?"
   ]
  },
  {
   "cell_type": "code",
   "execution_count": 8,
   "id": "03ebd604",
   "metadata": {},
   "outputs": [
    {
     "data": {
      "image/png": "[encoded data removed]",
      "text/plain": [
       "<Figure size 640x480 with 1 Axes>"
      ]
     },
     "metadata": {},
     "output_type": "display_data"
    }
   ],
   "source": [
    "labels_xor = [0, 1, 1, 0]\n",
    "\n",
    "plt.scatter([point[0] for point in data], [point[1] for point in data], c=labels_xor)\n",
    "plt.show()"
   ]
  },
  {
   "cell_type": "code",
   "execution_count": 9,
   "id": "d9db81c5",
   "metadata": {},
   "outputs": [
    {
     "data": {
      "text/plain": [
       "0.5"
      ]
     },
     "execution_count": 9,
     "metadata": {},
     "output_type": "execute_result"
    }
   ],
   "source": [
    "classifier = Perceptron(max_iter=40, random_state=22)\n",
    "classifier.fit(data, labels_xor)\n",
    "classifier.score(data, labels_xor)"
   ]
  },
  {
   "cell_type": "markdown",
   "id": "cb1cb4d8",
   "metadata": {},
   "source": [
    "## 8."
   ]
  },
  {
   "cell_type": "markdown",
   "id": "62891b4c",
   "metadata": {},
   "source": [
    "- Try changing the data to represent an OR gate. \n",
    "- The label of a point should be a `1` if *any* of the input values are a `1`.\n",
    "- Before running your code, predict what will happen. \n",
    "- Is the data linearly separable? \n",
    "- What do you expect the accuracy of the perceptron to be?"
   ]
  },
  {
   "cell_type": "code",
   "execution_count": 10,
   "id": "372a2842",
   "metadata": {},
   "outputs": [
    {
     "data": {
      "image/png": "[encoded data removed]",
      "text/plain": [
       "<Figure size 640x480 with 1 Axes>"
      ]
     },
     "metadata": {},
     "output_type": "display_data"
    }
   ],
   "source": [
    "labels_or = [0, 1, 1, 1]\n",
    "\n",
    "plt.scatter([point[0] for point in data], [point[1] for point in data], c=labels_or)\n",
    "plt.show()"
   ]
  },
  {
   "cell_type": "code",
   "execution_count": 11,
   "id": "2131afc0",
   "metadata": {},
   "outputs": [
    {
     "data": {
      "text/plain": [
       "1.0"
      ]
     },
     "execution_count": 11,
     "metadata": {},
     "output_type": "execute_result"
    }
   ],
   "source": [
    "classifier = Perceptron(max_iter=40, random_state=22)\n",
    "classifier.fit(data, labels_or)\n",
    "classifier.score(data, labels_or)"
   ]
  },
  {
   "cell_type": "markdown",
   "id": "2868279c",
   "metadata": {},
   "source": [
    "## 9."
   ]
  },
  {
   "cell_type": "markdown",
   "id": "7bc7f10b",
   "metadata": {},
   "source": [
    "- We know the perceptron has been trained correctly, but let’s try to visualize what decision boundary it is making. \n",
    "- Reset your labels to be representing an AND gate.\n",
    "- Let’s first investigate the classifier’s `.decision_function()` method. \n",
    "- Given a list of points, this method returns the distance those points are from the decision boundary. \n",
    "- The closer the number is to `0`, the closer that point is to the decision boundary.\n",
    "- Try calling `classifier`‘s `.decision_function()` method using `[[0, 0], [1, 1], [0.5, 0.5]]` as a parameter. \n",
    "- Print the results.\n",
    "- Is the point `[0, 0]` or the point `[1, 1]` closer to the decision boundary?"
   ]
  },
  {
   "cell_type": "code",
   "execution_count": 12,
   "id": "569404e1",
   "metadata": {},
   "outputs": [
    {
     "data": {
      "text/plain": [
       "array([-1.,  3.,  1.])"
      ]
     },
     "execution_count": 12,
     "metadata": {},
     "output_type": "execute_result"
    }
   ],
   "source": [
    "classifier.decision_function([[0, 0], [1, 1], [0.5, 0.5]])"
   ]
  },
  {
   "cell_type": "markdown",
   "id": "d42a9385",
   "metadata": {},
   "source": [
    "## 10."
   ]
  },
  {
   "cell_type": "markdown",
   "id": "175852dd",
   "metadata": {},
   "source": [
    "- Even though an input like `[0.5, 0.5]` isn’t a real input to an AND logic gate, we can still check to see how far it is from the decision boundary.\n",
    "- We could also do this to the point `[0, 0.1]`, `[0, 0.2]` and so on. \n",
    "- If we do this for a grid of points, we can make a heat map that reveals the decision boundary.\n",
    "- To begin, we need to create a list of the points we want to input to `.decision_function()`.\n",
    "- Begin by creating a list named `x_values`. \n",
    "- `x_values` should be a list of 100 evenly spaced decimals between `0` and `1`. \n",
    "- `np.linspace(0, 1, 100)` will do this.\n",
    "- Do the same for `y_values`."
   ]
  },
  {
   "cell_type": "code",
   "execution_count": 13,
   "id": "532facbd",
   "metadata": {},
   "outputs": [],
   "source": [
    "x_values = np.linspace(0, 1, 100)\n",
    "y_values = np.linspace(0, 1, 100)"
   ]
  },
  {
   "cell_type": "markdown",
   "id": "5389cda0",
   "metadata": {},
   "source": [
    "## 11."
   ]
  },
  {
   "cell_type": "markdown",
   "id": "874552f9",
   "metadata": {},
   "source": [
    "- We have a list of 100 x values and 100 y values. \n",
    "- We now want to find every possible combination of those x and y values.\n",
    "- The function product will do this for you. For example, consider the following code:\n",
    "    ```python\n",
    "    list(product([1, 2, 3], [4, 5, 6]))\n",
    "    ```\n",
    "- This code will produces the following list:\n",
    "    ```python\n",
    "    [(1, 4), (1, 5), (1, 6), (2, 4), (2, 5), (2, 6), (3, 4), (3, 5), (3, 6)]\n",
    "    ```\n",
    "- Call `product()` using `x_values` and `y_values` as paramters. \n",
    "- Don’t forget to put `list()` around the call to `product()`. \n",
    "- Store the result in a variable named `point_grid`."
   ]
  },
  {
   "cell_type": "code",
   "execution_count": 14,
   "id": "d69f600a",
   "metadata": {},
   "outputs": [],
   "source": [
    "point_grid = list(product(x_values, y_values))"
   ]
  },
  {
   "cell_type": "markdown",
   "id": "28a554ff",
   "metadata": {},
   "source": [
    "## 12."
   ]
  },
  {
   "cell_type": "markdown",
   "id": "f946efca",
   "metadata": {},
   "source": [
    "- Call `classifier`‘s `.decision_function()` method using `point_grid` as a parameter. \n",
    "- Store the results in a variable named `distances`."
   ]
  },
  {
   "cell_type": "code",
   "execution_count": 15,
   "id": "b06fb9fa",
   "metadata": {},
   "outputs": [
    {
     "data": {
      "text/plain": [
       "array([-1.        , -0.97979798, -0.95959596, -0.93939394, -0.91919192])"
      ]
     },
     "execution_count": 15,
     "metadata": {},
     "output_type": "execute_result"
    }
   ],
   "source": [
    "distances = classifier.decision_function(point_grid)\n",
    "distances[:5]"
   ]
  },
  {
   "cell_type": "markdown",
   "id": "c1783f03",
   "metadata": {},
   "source": [
    "## 13."
   ]
  },
  {
   "cell_type": "markdown",
   "id": "8eb9330b",
   "metadata": {},
   "source": [
    "- Right now `distances` stores positive and negative values. \n",
    "- We only care about how far away a point is from the boundary — we don’t care about the sign.\n",
    "- Take the absolute value of every distance. \n",
    "- Use list comprehension to call `abs()` on every point in the list and store it in a new variable called `abs_distances`."
   ]
  },
  {
   "cell_type": "code",
   "execution_count": 16,
   "id": "2b29c370",
   "metadata": {},
   "outputs": [
    {
     "data": {
      "text/plain": [
       "[np.float64(1.0),\n",
       " np.float64(0.9797979797979798),\n",
       " np.float64(0.9595959595959596),\n",
       " np.float64(0.9393939393939394),\n",
       " np.float64(0.9191919191919192)]"
      ]
     },
     "execution_count": 16,
     "metadata": {},
     "output_type": "execute_result"
    }
   ],
   "source": [
    "abs_distances = list(map(abs, distances))\n",
    "abs_distances[:5]"
   ]
  },
  {
   "cell_type": "markdown",
   "id": "9554fc94",
   "metadata": {},
   "source": [
    "## 14."
   ]
  },
  {
   "cell_type": "markdown",
   "id": "1f0910a3",
   "metadata": {},
   "source": [
    "- We’re almost ready to draw the heat map. \n",
    "- We’re going to be using Matplotlib’s `pcolormesh()` function.\n",
    "- Right now, `abs_distances` is a list of `10000` numbers. \n",
    "- `pcolormesh` needs a two dimensional list. \n",
    "- We need to turn `abs_distances` into a 100 by 100 two dimensional array.\n",
    "- Numpy’s `reshape` function does this for us. \n",
    "- The code below turns list `lst` into a 2 by 2 list.\n",
    "    ```python\n",
    "    lst = [1, 2 ,3, 4]\n",
    "    new_lst = np.reshape(lst, (2, 2))\n",
    "    ```\n",
    "- `new_lst` now looks like this:\n",
    "    ```python\n",
    "    [[1, 2],\n",
    "     [3, 4]]\n",
    "    ```\n",
    "- Turn `abs_distances` into a 100 by 100 list and name it `distances_matrix`."
   ]
  },
  {
   "cell_type": "code",
   "execution_count": 17,
   "id": "8b128696",
   "metadata": {},
   "outputs": [
    {
     "data": {
      "text/plain": [
       "(100, 100)"
      ]
     },
     "execution_count": 17,
     "metadata": {},
     "output_type": "execute_result"
    }
   ],
   "source": [
    "distances_matrix = np.array(abs_distances).reshape(100, 100)\n",
    "distances_matrix.shape"
   ]
  },
  {
   "cell_type": "markdown",
   "id": "80f278a0",
   "metadata": {},
   "source": [
    "## 15."
   ]
  },
  {
   "cell_type": "markdown",
   "id": "f5748a61",
   "metadata": {},
   "source": [
    "- It’s finally time to draw the heat map! \n",
    "- Call `plt.pcolormesh()` with the following three parameters:\n",
    "    - `x_values`\n",
    "    - `y_values`\n",
    "    - `distances_matrix`\n",
    "- Save the result in a variable named `heatmap`.\n",
    "- Then call `plt.colorbar()` using `heatmap` as a parameter. \n",
    "- This will put a legend on the heat map.\n",
    "- Make sure `plt.show()` is still below these function calls."
   ]
  },
  {
   "cell_type": "code",
   "execution_count": 18,
   "id": "cac30108",
   "metadata": {},
   "outputs": [
    {
     "data": {
      "image/png": "[encoded data removed]",
      "text/plain": [
       "<Figure size 640x480 with 2 Axes>"
      ]
     },
     "metadata": {},
     "output_type": "display_data"
    }
   ],
   "source": [
    "heatmap = plt.pcolormesh(x_values, y_values, distances_matrix)\n",
    "plt.colorbar(heatmap)\n",
    "plt.show()"
   ]
  },
  {
   "cell_type": "markdown",
   "id": "2c305c92",
   "metadata": {},
   "source": [
    "## 16."
   ]
  },
  {
   "cell_type": "markdown",
   "id": "9225e690",
   "metadata": {},
   "source": [
    "- Great work! You now have a great visualization of what the perceptron is doing. \n",
    "- You should see a purple line where the distances are `0`. \n",
    "- That’s the decision boundary!\n",
    "\n",
    "<br>\n",
    "\n",
    "- Change your labels back to representing an OR gate. \n",
    "- Where does the decision boundary go?\n",
    "\n",
    "<br>\n",
    "\n",
    "- Change your labels to represent an XOR gate. \n",
    "- Remember, this data is not linearly separable. \n",
    "- Where does the decision boundary go?\n",
    "\n",
    "<br>\n",
    "\n",
    "- Perceptrons can’t solve problems that aren’t linearly separable. \n",
    "- However, if you combine multiple perceptrons together, you now have a neural net that can solve these problems!\n",
    "\n",
    "<br>\n",
    "\n",
    "- This is incredibly similar to logic gates. \n",
    "- AND gates and OR gates can’t produce the output of XOR gates, but when you combine a few ANDs and ORs, you can make an XOR!"
   ]
  },
  {
   "cell_type": "code",
   "execution_count": 19,
   "id": "02410b66",
   "metadata": {},
   "outputs": [
    {
     "data": {
      "image/png": "[encoded data removed]",
      "text/plain": [
       "<Figure size 2500x500 with 6 Axes>"
      ]
     },
     "metadata": {},
     "output_type": "display_data"
    }
   ],
   "source": [
    "def plot_decision_boundary(classifier, data, labels):\n",
    "    classifier.fit(data, labels)\n",
    "    x_vals = np.linspace(0, 1, 100)\n",
    "    y_vals = np.linspace(0, 1, 100)\n",
    "    point_grid = list(product(x_vals, y_vals))\n",
    "    distances = classifier.decision_function(point_grid)\n",
    "    abs_distances = list(map(abs, distances))\n",
    "    distances_matrix = np.array(abs_distances).reshape(100, 100)\n",
    "    heatmap = plt.pcolormesh(x_vals, y_vals, distances_matrix)\n",
    "    plt.colorbar(heatmap)\n",
    "\n",
    "\n",
    "classifier = Perceptron(max_iter=40, random_state=22)\n",
    "data = [[0, 0], [1, 0], [0, 1], [1, 1]]\n",
    "labels_and = [0, 0, 0, 1]\n",
    "labels_or = [0, 1, 1, 1]\n",
    "labels_xor = [0, 1, 1, 0]\n",
    "\n",
    "plt.figure(figsize=(25, 5))\n",
    "\n",
    "plt.subplot(1, 3, 1)\n",
    "plt.title(\"AND\")\n",
    "plot_decision_boundary(classifier, data, labels_and)\n",
    "\n",
    "plt.subplot(1, 3, 2)\n",
    "plt.title(\"OR\")\n",
    "plot_decision_boundary(classifier, data, labels_or)\n",
    "\n",
    "plt.subplot(1, 3, 3)\n",
    "plt.title(\"XOR\")\n",
    "plot_decision_boundary(classifier, data, labels_xor)\n",
    "\n",
    "plt.show()"
   ]
  }
 ],
 "metadata": {
  "kernelspec": {
   "display_name": "Codecademy-XphA9WxU",
   "language": "python",
   "name": "python3"
  },
  "language_info": {
   "codemirror_mode": {
    "name": "ipython",
    "version": 3
   },
   "file_extension": ".py",
   "mimetype": "text/x-python",
   "name": "python",
   "nbconvert_exporter": "python",
   "pygments_lexer": "ipython3",
   "version": "3.11.1"
  }
 },
 "nbformat": 4,
 "nbformat_minor": 5
}
