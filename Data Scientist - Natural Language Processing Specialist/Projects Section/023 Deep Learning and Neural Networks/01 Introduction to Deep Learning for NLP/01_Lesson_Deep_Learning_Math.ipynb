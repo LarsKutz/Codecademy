{
 "cells": [
  {
   "cell_type": "markdown",
   "id": "61966c0e",
   "metadata": {},
   "source": [
    "# Deep Learning Math"
   ]
  },
  {
   "cell_type": "markdown",
   "id": "7d5eadea",
   "metadata": {},
   "source": [
    "## 4. Matrix Algebra"
   ]
  },
  {
   "cell_type": "markdown",
   "id": "730b8936",
   "metadata": {},
   "source": [
    "**Task 1**  \n",
    "- Matrix Addition Practice Question:\n",
    "$$ \\begin{bmatrix} 1 & 6 \\\\ 3 & 2 \\end{bmatrix} + \\begin{bmatrix} 2 & 1 \\\\ 5 & 6 \\end{bmatrix} $$\n",
    "\n",
    "<br>\n",
    "\n",
    "**Task 2**  \n",
    "- Scalar Multiplication Practice Question:\n",
    "$$ 2 \\cdot \\begin{bmatrix} 3 & 5 \\\\ -2 & 12 \\end{bmatrix} $$ \n",
    "\n",
    "<br>\n",
    "\n",
    "**Task 3**  \n",
    "- Matrix Multiplication Practice Question:\n",
    "$$ \\begin{bmatrix} 1 & 6 \\\\ 3 & 2 \\end{bmatrix} \\cdot \\begin{bmatrix} 2 & 1 \\\\ 5 & 6 \\end{bmatrix} $$\n",
    "\n",
    "<br>\n",
    "\n",
    "**Task 4**  \n",
    "- Matrix Transpose Practice Question:\n",
    "$$ \\begin{bmatrix} 2 & 1 & 3 \\\\ 5 & 6 & 4 \\end{bmatrix}^T $$"
   ]
  },
  {
   "cell_type": "markdown",
   "id": "caa274ab",
   "metadata": {},
   "source": [
    "**Solutions**\n",
    "\n",
    "**Task 1**  \n",
    "$$ \\begin{bmatrix} 1 & 6 \\\\ 3 & 2 \\end{bmatrix} + \\begin{bmatrix} 2 & 1 \\\\ 5 & 6 \\end{bmatrix} = \\begin{bmatrix} 1+2 & 6+1 \\\\ 3+5 & 2+6 \\end{bmatrix} = \\begin{bmatrix} 3 & 7 \\\\ 8 & 8 \\end{bmatrix} $$\n",
    "\n",
    "<br>\n",
    "\n",
    "**Task 2**  \n",
    "$$ 2 \\cdot \\begin{bmatrix} 3 & 5 \\\\ -2 & 12 \\end{bmatrix} = \\begin{bmatrix} 2 \\cdot 3 & 2 \\cdot 5 \\\\ 2 \\cdot (-2) & 2 \\cdot 12 \\end{bmatrix} = \\begin{bmatrix} 6 & 10 \\\\ -4 & 24 \\end{bmatrix} $$\n",
    "\n",
    "<br>\n",
    "\n",
    "**Task 3**  \n",
    "$$ \\begin{bmatrix} 1 & 6 \\\\ 3 & 2 \\end{bmatrix} \\cdot \\begin{bmatrix} 2 & 1 \\\\ 5 & 6 \\end{bmatrix} = \\begin{bmatrix} 1 \\cdot 2 + 6 \\cdot 5 & 1 \\cdot 1 + 6 \\cdot 6 \\\\ 3 \\cdot 2 + 2 \\cdot 5 & 3 \\cdot 1 + 2 \\cdot 6 \\end{bmatrix} = \\begin{bmatrix} 32 & 37 \\\\ 16 & 15 \\end{bmatrix} $$\n",
    "\n",
    "<br>\n",
    "\n",
    "**Task 4**  \n",
    "$$ \\begin{bmatrix} 2 & 1 & 3 \\\\ 5 & 6 & 4 \\end{bmatrix}^T = \\begin{bmatrix} 2 & 5 \\\\ 1 & 6 \\\\ 3 & 4 \\end{bmatrix} $$"
   ]
  }
 ],
 "metadata": {
  "language_info": {
   "name": "python"
  }
 },
 "nbformat": 4,
 "nbformat_minor": 5
}
