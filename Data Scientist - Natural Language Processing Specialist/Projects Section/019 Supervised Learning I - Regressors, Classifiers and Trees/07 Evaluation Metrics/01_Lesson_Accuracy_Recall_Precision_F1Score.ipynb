{
 "cells": [
  {
   "cell_type": "markdown",
   "metadata": {},
   "source": [
    "# Accuracy, Recall, Precision, F1 Score"
   ]
  },
  {
   "cell_type": "code",
   "execution_count": 17,
   "metadata": {},
   "outputs": [],
   "source": [
    "from sklearn.metrics import confusion_matrix\n",
    "from sklearn.metrics import accuracy_score, recall_score, precision_score, f1_score"
   ]
  },
  {
   "cell_type": "markdown",
   "metadata": {},
   "source": [
    "## 1. Confusion Matrix"
   ]
  },
  {
   "cell_type": "markdown",
   "metadata": {},
   "source": [
    "**Task 1**  \n",
    "- We’ve given you two ordered lists. \n",
    "- `actual` represents the true labels of the dataset. \n",
    "- Each `1` in the list represents an email that is spam and each `0` represents an email that is not spam. \n",
    "- `predicted` represents the classifications that the machine learning algorithm returned. For each email, the classifier predicted whether the email was spam or not spam.\n",
    "\n",
    "<br>\n",
    "\n",
    "- Create four variables to store the results. \n",
    "- They should be called `true_positives`, `true_negatives`, `false_positives`, and `false_negatives`. \n",
    "- Initialize each of the variables to `0`.\n",
    "\n",
    "<br>\n",
    "\n",
    "**Task 2**  \n",
    "- Loop through each of the predictions in the list and add `1` to `true_positives` every time the algorithm found a true positive. \n",
    "- A true positive is when the actual label and the classifier’s predicted label are both `1`.\n",
    "\n",
    "<br>\n",
    "\n",
    "**Task 3**  \n",
    "- Inside the for loop, count the number of true negatives, false positives, and false negatives.\n",
    "\n",
    "<br>\n",
    "\n",
    "**Task 4**  \n",
    "- Outside of the for loop, print the final `true_positives`, `true_negatives`, `false_positives`, and `false_negatives` values.\n",
    "\n",
    "<br>\n",
    "\n",
    "**Task 5**  \n",
    "- We have already imported a function `confusion_matrix` from `scikit-learn`. \n",
    "- Create a variable `conf_matrix` and pass the list of `actual` and `predicted` values to the `confusion_matrix` function.\n",
    "\n",
    "<br>\n",
    "\n",
    "**Task 6**  \n",
    "- Print `conf_matrix`."
   ]
  },
  {
   "cell_type": "code",
   "execution_count": null,
   "metadata": {},
   "outputs": [],
   "source": [
    "actual = [1, 0, 0, 1, 1, 1, 0, 1, 1, 1]\n",
    "predicted = [0, 1, 1, 1, 1, 0, 1, 0, 1, 0]"
   ]
  },
  {
   "cell_type": "code",
   "execution_count": 9,
   "metadata": {},
   "outputs": [
    {
     "name": "stdout",
     "output_type": "stream",
     "text": [
      "True Positives:  3\n",
      "True Negatives:  0\n",
      "False Positives:  3\n",
      "False Negatives:  4\n",
      "[[0 3]\n",
      " [4 3]]\n"
     ]
    }
   ],
   "source": [
    "true_positives = 0\n",
    "true_negatives = 0\n",
    "false_positives = 0\n",
    "false_negatives = 0\n",
    "\n",
    "for act, pred in zip(actual, predicted):\n",
    "    if act == 1 and pred == 1:\n",
    "        true_positives += 1\n",
    "    elif act == 0 and pred == 0:\n",
    "        true_negatives += 1\n",
    "    elif act == 0 and pred== 1:\n",
    "        false_positives += 1\n",
    "    elif act == 1 and pred == 0:\n",
    "        false_negatives += 1\n",
    "\n",
    "print(\"True Positives: \", true_positives)\n",
    "print(\"True Negatives: \", true_negatives)\n",
    "print(\"False Positives: \", false_positives)\n",
    "print(\"False Negatives: \", false_negatives)\n",
    "\n",
    "conf_matrix = confusion_matrix(actual, predicted)\n",
    "print(conf_matrix)"
   ]
  },
  {
   "cell_type": "markdown",
   "metadata": {},
   "source": [
    "## 2. Accuracy"
   ]
  },
  {
   "cell_type": "markdown",
   "metadata": {},
   "source": [
    "**Task 1**  \n",
    "- Calculate the accuracy and store it in a variable named `accuracy`. \n",
    "- Print `accuracy`."
   ]
  },
  {
   "cell_type": "code",
   "execution_count": 10,
   "metadata": {},
   "outputs": [],
   "source": [
    "actual = [1, 0, 0, 1, 1, 1, 0, 1, 1, 1]\n",
    "predicted = [0, 1, 1, 1, 1, 0, 1, 0, 1, 0]\n",
    "\n",
    "true_positives = 0\n",
    "true_negatives = 0\n",
    "false_positives = 0\n",
    "false_negatives = 0\n",
    "\n",
    "for i in range(len(predicted)):\n",
    "    #True Positives\n",
    "    if actual[i] == 1 and predicted[i] == 1:\n",
    "        true_positives += 1\n",
    "    #True Negatives\n",
    "    if actual[i] == 0 and predicted[i] == 0:\n",
    "        true_negatives += 1 \n",
    "    #False Positives\n",
    "    if actual[i] == 0 and predicted[i] == 1:\n",
    "        false_positives += 1\n",
    "    #False Negatives\n",
    "    if actual[i] == 1 and predicted[i] == 0:\n",
    "        false_negatives += 1"
   ]
  },
  {
   "cell_type": "code",
   "execution_count": 11,
   "metadata": {},
   "outputs": [
    {
     "data": {
      "text/plain": [
       "0.3"
      ]
     },
     "execution_count": 11,
     "metadata": {},
     "output_type": "execute_result"
    }
   ],
   "source": [
    "accuracy = (true_positives + true_negatives) / len(actual)\n",
    "accuracy"
   ]
  },
  {
   "cell_type": "markdown",
   "metadata": {},
   "source": [
    "## 3. Recall"
   ]
  },
  {
   "cell_type": "markdown",
   "metadata": {},
   "source": [
    "**Task 1**  \n",
    "- alculate the recall and store it in a variable named `recall`. \n",
    "- Print the `recall`."
   ]
  },
  {
   "cell_type": "code",
   "execution_count": null,
   "metadata": {},
   "outputs": [],
   "source": [
    "actual = [1, 0, 0, 1, 1, 1, 0, 1, 1, 1]\n",
    "predicted = [0, 1, 1, 1, 1, 0, 1, 0, 1, 0]\n",
    "\n",
    "true_positives = 0\n",
    "true_negatives = 0\n",
    "false_positives = 0\n",
    "false_negatives = 0\n",
    "\n",
    "for i in range(len(predicted)):\n",
    "    if actual[i] == 1 and predicted[i] == 1:\n",
    "        true_positives += 1\n",
    "    if actual[i] == 0 and predicted[i] == 0:\n",
    "        true_negatives += 1\n",
    "    if actual[i] == 0 and predicted[i] == 1:\n",
    "        false_positives += 1\n",
    "    if actual[i] == 1 and predicted[i] == 0:\n",
    "        false_negatives += 1"
   ]
  },
  {
   "cell_type": "code",
   "execution_count": 12,
   "metadata": {},
   "outputs": [
    {
     "data": {
      "text/plain": [
       "0.42857142857142855"
      ]
     },
     "execution_count": 12,
     "metadata": {},
     "output_type": "execute_result"
    }
   ],
   "source": [
    "recall = true_positives / (true_positives + false_negatives)\n",
    "recall"
   ]
  },
  {
   "cell_type": "markdown",
   "metadata": {},
   "source": [
    "## 4. Precision"
   ]
  },
  {
   "cell_type": "markdown",
   "metadata": {},
   "source": [
    "**Task 1**  \n",
    "- Calculate the precision and store it in a variable named `precision`. \n",
    "- Print the `precision`."
   ]
  },
  {
   "cell_type": "code",
   "execution_count": 13,
   "metadata": {},
   "outputs": [],
   "source": [
    "actual = [1, 0, 0, 1, 1, 1, 0, 1, 1, 1]\n",
    "predicted = [0, 1, 1, 1, 1, 0, 1, 0, 1, 0]\n",
    "\n",
    "true_positives = 0\n",
    "true_negatives = 0\n",
    "false_positives = 0\n",
    "false_negatives = 0\n",
    "\n",
    "for i in range(len(predicted)):\n",
    "    if actual[i] == 1 and predicted[i] == 1:\n",
    "        true_positives += 1\n",
    "    if actual[i] == 0 and predicted[i] == 0:\n",
    "        true_negatives += 1\n",
    "    if actual[i] == 0 and predicted[i] == 1:\n",
    "        false_positives += 1\n",
    "    if actual[i] == 1 and predicted[i] == 0:\n",
    "        false_negatives += 1"
   ]
  },
  {
   "cell_type": "code",
   "execution_count": 14,
   "metadata": {},
   "outputs": [
    {
     "data": {
      "text/plain": [
       "0.5"
      ]
     },
     "execution_count": 14,
     "metadata": {},
     "output_type": "execute_result"
    }
   ],
   "source": [
    "precision = true_positives / (true_positives + false_positives)\n",
    "precision"
   ]
  },
  {
   "cell_type": "markdown",
   "metadata": {},
   "source": [
    "## 5. F1 Score"
   ]
  },
  {
   "cell_type": "markdown",
   "metadata": {},
   "source": [
    "**Task 1**  \n",
    "- Calculate and print the F1-score. \n",
    "- Store the F1-score in a variable named `f_1`."
   ]
  },
  {
   "cell_type": "code",
   "execution_count": 15,
   "metadata": {},
   "outputs": [],
   "source": [
    "actual = [1, 0, 0, 1, 1, 1, 0, 1, 1, 1]\n",
    "predicted = [0, 1, 1, 1, 1, 0, 1, 0, 1, 0]\n",
    "\n",
    "true_positives = 0\n",
    "true_negatives = 0\n",
    "false_positives = 0\n",
    "false_negatives = 0\n",
    "\n",
    "for i in range(len(predicted)):\n",
    "    if actual[i] == 1 and predicted[i] == 1:\n",
    "        true_positives += 1\n",
    "    if actual[i] == 0 and predicted[i] == 0:\n",
    "        true_negatives += 1\n",
    "    if actual[i] == 0 and predicted[i] == 1:\n",
    "        false_positives += 1\n",
    "    if actual[i] == 1 and predicted[i] == 0:\n",
    "        false_negatives += 1"
   ]
  },
  {
   "cell_type": "code",
   "execution_count": null,
   "metadata": {},
   "outputs": [
    {
     "data": {
      "text/plain": [
       "0.4615384615384615"
      ]
     },
     "execution_count": 16,
     "metadata": {},
     "output_type": "execute_result"
    }
   ],
   "source": [
    "precision = true_positives / (true_positives + false_positives)\n",
    "recall = true_positives / (true_positives + false_negatives)\n",
    "\n",
    "f_1 = 2 * (precision * recall) / (precision + recall)\n",
    "f_1"
   ]
  },
  {
   "cell_type": "markdown",
   "metadata": {},
   "source": [
    "## 6. Review"
   ]
  },
  {
   "cell_type": "markdown",
   "metadata": {},
   "source": [
    "**Task 1**  \n",
    "- Python’s `scikit-learn` library has functions that will help you calculate accuracy, recall, precision, and F1-score. \n",
    "- They all take two parameters — a list of the actual labels and a list of the predicted classifications.\n",
    "- Call `accuracy_score()` using the correct parameters and print the results.\n",
    "\n",
    "<br>\n",
    "\n",
    "**Task 2**  \n",
    "- Call the three other functions and print the results. \n",
    "- The name of those functions are:\n",
    "    - `recall_score()`\n",
    "    - `precision_score()`\n",
    "    - `f1_score()`"
   ]
  },
  {
   "cell_type": "code",
   "execution_count": 18,
   "metadata": {},
   "outputs": [],
   "source": [
    "actual = [1, 0, 0, 1, 1, 1, 0, 1, 1, 1]\n",
    "predicted = [0, 1, 1, 1, 1, 0, 1, 0, 1, 0]"
   ]
  },
  {
   "cell_type": "code",
   "execution_count": 20,
   "metadata": {},
   "outputs": [
    {
     "name": "stdout",
     "output_type": "stream",
     "text": [
      "0.3\n",
      "0.42857142857142855\n",
      "0.5\n",
      "0.46153846153846156\n"
     ]
    }
   ],
   "source": [
    "print(accuracy_score(actual, predicted))\n",
    "print(recall_score(actual, predicted))\n",
    "print(precision_score(actual, predicted))\n",
    "print(f1_score(actual, predicted))"
   ]
  }
 ],
 "metadata": {
  "kernelspec": {
   "display_name": "Codecademy-XphA9WxU",
   "language": "python",
   "name": "python3"
  },
  "language_info": {
   "codemirror_mode": {
    "name": "ipython",
    "version": 3
   },
   "file_extension": ".py",
   "mimetype": "text/x-python",
   "name": "python",
   "nbconvert_exporter": "python",
   "pygments_lexer": "ipython3",
   "version": "3.11.1"
  }
 },
 "nbformat": 4,
 "nbformat_minor": 2
}
