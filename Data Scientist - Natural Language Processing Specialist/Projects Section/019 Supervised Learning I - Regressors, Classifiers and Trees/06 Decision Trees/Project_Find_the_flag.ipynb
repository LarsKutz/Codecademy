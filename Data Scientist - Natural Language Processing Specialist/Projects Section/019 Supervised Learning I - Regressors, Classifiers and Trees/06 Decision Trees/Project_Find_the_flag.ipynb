{
 "cells": [
  {
   "cell_type": "markdown",
   "metadata": {},
   "source": [
    "# Find the flag!"
   ]
  },
  {
   "cell_type": "markdown",
   "metadata": {},
   "source": [
    "Can you guess which continent this flag comes from?  \n",
    "![flag](Images/reunion.webp)  \n",
    "What are some of the features that would clue you in? Maybe some of the colors are good indicators. The presence or absence of certain shapes could give you a hint. In this project, we’ll use decision trees to try to predict the continent of flags based on several of these features.\n",
    "\n",
    "We’ll explore which features are the best to use and the best way to create your decision tree."
   ]
  },
  {
   "cell_type": "markdown",
   "metadata": {},
   "source": [
    "## Datasets"
   ]
  },
  {
   "cell_type": "markdown",
   "metadata": {},
   "source": [
    "The original data set is available at the UCI Machine Learning Repository:\n",
    "- [https://archive.ics.uci.edu/ml/datasets/Flags](https://archive.ics.uci.edu/dataset/40/flags)"
   ]
  },
  {
   "cell_type": "code",
   "execution_count": 255,
   "metadata": {},
   "outputs": [],
   "source": [
    "import seaborn as sns\n",
    "import pandas as pd\n",
    "import numpy as np\n",
    "from sklearn.model_selection import train_test_split\n",
    "import matplotlib.pyplot as plt\n",
    "from sklearn.tree import DecisionTreeClassifier\n",
    "from sklearn import tree"
   ]
  },
  {
   "cell_type": "code",
   "execution_count": 256,
   "metadata": {},
   "outputs": [],
   "source": [
    "cols = ['name','landmass','zone', 'area', 'population', 'language','religion','bars','stripes','colours', \n",
    "        'red','green','blue','gold','white','black','orange','mainhue','circles', \n",
    "        'crosses','saltires','quarters','sunstars','crescent','triangle','icon','animate','text','topleft','botright']\n",
    "\n",
    "df= pd.read_csv(\"https://archive.ics.uci.edu/ml/machine-learning-databases/flags/flag.data\", names = cols)\n",
    "\n",
    "var = ['red', 'green', 'blue','gold', 'white', 'black', 'orange', 'mainhue','bars','stripes', 'circles','crosses', \n",
    "       'saltires','quarters','sunstars','triangle','animate']"
   ]
  },
  {
   "cell_type": "code",
   "execution_count": 257,
   "metadata": {},
   "outputs": [
    {
     "data": {
      "text/plain": [
       "17"
      ]
     },
     "execution_count": 257,
     "metadata": {},
     "output_type": "execute_result"
    }
   ],
   "source": [
    "len(var)"
   ]
  },
  {
   "cell_type": "markdown",
   "metadata": {},
   "source": [
    "##  1."
   ]
  },
  {
   "cell_type": "markdown",
   "metadata": {},
   "source": [
    "- he dataset has been loaded for you and saved as a dataframe named `df`. \n",
    "- Some of the input and output features of interest are:\n",
    "    - `name`: Name of the country concerned\n",
    "    - `landmass`: 1=N.America, 2=S.America, 3=Europe, 4=Africa, 5=Asia, 6=Oceania\n",
    "    - `bars`: Number of vertical bars in the flag\n",
    "    - `stripes`: Number of horizontal stripes in the flag\n",
    "    - `colours`: Number of different colours in the flag\n",
    "    - `red`: 0 if red absent, 1 if red present in the flag\n",
    "    - …\n",
    "    - `mainhue`: predominant colour in the flag (tie-breaks decided by taking the topmost hue, if that fails then the most central hue, and if that fails the leftmost hue)\n",
    "    - `circles`: Number of circles in the flag\n",
    "    - `crosses`: Number of (upright) crosses\n",
    "    - `saltires`: Number of diagonal crosses\n",
    "    - `quarters`: Number of quartered sections\n",
    "    - `sunstars`: Number of sun or star symbols\n",
    "- We will build a decision tree classifier to predict what continent a particular flag comes from. \n",
    "- Before that, we want to understand the distribution of flags by continent. \n",
    "- Calcluate the count of flags by `landmass` value."
   ]
  },
  {
   "cell_type": "code",
   "execution_count": 258,
   "metadata": {},
   "outputs": [
    {
     "data": {
      "application/vnd.microsoft.datawrangler.viewer.v0+json": {
       "columns": [
        {
         "name": "index",
         "rawType": "int64",
         "type": "integer"
        },
        {
         "name": "landmass",
         "rawType": "object",
         "type": "string"
        },
        {
         "name": "count",
         "rawType": "int64",
         "type": "integer"
        }
       ],
       "conversionMethod": "pd.DataFrame",
       "ref": "4574404d-611a-448d-8d3d-7929235eaaea",
       "rows": [
        [
         "0",
         "Africa",
         "52"
        ],
        [
         "1",
         "Asia",
         "39"
        ],
        [
         "2",
         "Europe",
         "35"
        ],
        [
         "3",
         "North America",
         "31"
        ],
        [
         "4",
         "Oceania",
         "20"
        ],
        [
         "5",
         "South America",
         "17"
        ]
       ],
       "shape": {
        "columns": 2,
        "rows": 6
       }
      },
      "text/html": [
       "<div>\n",
       "<style scoped>\n",
       "    .dataframe tbody tr th:only-of-type {\n",
       "        vertical-align: middle;\n",
       "    }\n",
       "\n",
       "    .dataframe tbody tr th {\n",
       "        vertical-align: top;\n",
       "    }\n",
       "\n",
       "    .dataframe thead th {\n",
       "        text-align: right;\n",
       "    }\n",
       "</style>\n",
       "<table border=\"1\" class=\"dataframe\">\n",
       "  <thead>\n",
       "    <tr style=\"text-align: right;\">\n",
       "      <th></th>\n",
       "      <th>landmass</th>\n",
       "      <th>count</th>\n",
       "    </tr>\n",
       "  </thead>\n",
       "  <tbody>\n",
       "    <tr>\n",
       "      <th>0</th>\n",
       "      <td>Africa</td>\n",
       "      <td>52</td>\n",
       "    </tr>\n",
       "    <tr>\n",
       "      <th>1</th>\n",
       "      <td>Asia</td>\n",
       "      <td>39</td>\n",
       "    </tr>\n",
       "    <tr>\n",
       "      <th>2</th>\n",
       "      <td>Europe</td>\n",
       "      <td>35</td>\n",
       "    </tr>\n",
       "    <tr>\n",
       "      <th>3</th>\n",
       "      <td>North America</td>\n",
       "      <td>31</td>\n",
       "    </tr>\n",
       "    <tr>\n",
       "      <th>4</th>\n",
       "      <td>Oceania</td>\n",
       "      <td>20</td>\n",
       "    </tr>\n",
       "    <tr>\n",
       "      <th>5</th>\n",
       "      <td>South America</td>\n",
       "      <td>17</td>\n",
       "    </tr>\n",
       "  </tbody>\n",
       "</table>\n",
       "</div>"
      ],
      "text/plain": [
       "        landmass  count\n",
       "0         Africa     52\n",
       "1           Asia     39\n",
       "2         Europe     35\n",
       "3  North America     31\n",
       "4        Oceania     20\n",
       "5  South America     17"
      ]
     },
     "execution_count": 258,
     "metadata": {},
     "output_type": "execute_result"
    }
   ],
   "source": [
    "df.landmass.value_counts().reset_index().replace({1: 'North America', 2: 'South America', 3: 'Europe', 4: 'Africa', 5: 'Asia', 6: 'Oceania'})"
   ]
  },
  {
   "cell_type": "markdown",
   "metadata": {},
   "source": [
    "##  2."
   ]
  },
  {
   "cell_type": "markdown",
   "metadata": {},
   "source": [
    "- Rather than looking at all six continents, we will focus on just two, Europe and Oceania. \n",
    "- Create a new dataframe with only flags from Europe and Oceania."
   ]
  },
  {
   "cell_type": "code",
   "execution_count": 259,
   "metadata": {},
   "outputs": [
    {
     "data": {
      "application/vnd.microsoft.datawrangler.viewer.v0+json": {
       "columns": [
        {
         "name": "index",
         "rawType": "int64",
         "type": "integer"
        },
        {
         "name": "name",
         "rawType": "object",
         "type": "string"
        },
        {
         "name": "landmass",
         "rawType": "int64",
         "type": "integer"
        },
        {
         "name": "zone",
         "rawType": "int64",
         "type": "integer"
        },
        {
         "name": "area",
         "rawType": "int64",
         "type": "integer"
        },
        {
         "name": "population",
         "rawType": "int64",
         "type": "integer"
        },
        {
         "name": "language",
         "rawType": "int64",
         "type": "integer"
        },
        {
         "name": "religion",
         "rawType": "int64",
         "type": "integer"
        },
        {
         "name": "bars",
         "rawType": "int64",
         "type": "integer"
        },
        {
         "name": "stripes",
         "rawType": "int64",
         "type": "integer"
        },
        {
         "name": "colours",
         "rawType": "int64",
         "type": "integer"
        },
        {
         "name": "red",
         "rawType": "int64",
         "type": "integer"
        },
        {
         "name": "green",
         "rawType": "int64",
         "type": "integer"
        },
        {
         "name": "blue",
         "rawType": "int64",
         "type": "integer"
        },
        {
         "name": "gold",
         "rawType": "int64",
         "type": "integer"
        },
        {
         "name": "white",
         "rawType": "int64",
         "type": "integer"
        },
        {
         "name": "black",
         "rawType": "int64",
         "type": "integer"
        },
        {
         "name": "orange",
         "rawType": "int64",
         "type": "integer"
        },
        {
         "name": "mainhue",
         "rawType": "object",
         "type": "string"
        },
        {
         "name": "circles",
         "rawType": "int64",
         "type": "integer"
        },
        {
         "name": "crosses",
         "rawType": "int64",
         "type": "integer"
        },
        {
         "name": "saltires",
         "rawType": "int64",
         "type": "integer"
        },
        {
         "name": "quarters",
         "rawType": "int64",
         "type": "integer"
        },
        {
         "name": "sunstars",
         "rawType": "int64",
         "type": "integer"
        },
        {
         "name": "crescent",
         "rawType": "int64",
         "type": "integer"
        },
        {
         "name": "triangle",
         "rawType": "int64",
         "type": "integer"
        },
        {
         "name": "icon",
         "rawType": "int64",
         "type": "integer"
        },
        {
         "name": "animate",
         "rawType": "int64",
         "type": "integer"
        },
        {
         "name": "text",
         "rawType": "int64",
         "type": "integer"
        },
        {
         "name": "topleft",
         "rawType": "object",
         "type": "string"
        },
        {
         "name": "botright",
         "rawType": "object",
         "type": "string"
        }
       ],
       "conversionMethod": "pd.DataFrame",
       "ref": "3428e490-29d0-4e5b-a7f9-3ca87b83ff53",
       "rows": [
        [
         "1",
         "Albania",
         "3",
         "1",
         "29",
         "3",
         "6",
         "6",
         "0",
         "0",
         "3",
         "1",
         "0",
         "0",
         "1",
         "0",
         "1",
         "0",
         "red",
         "0",
         "0",
         "0",
         "0",
         "1",
         "0",
         "0",
         "0",
         "1",
         "0",
         "red",
         "red"
        ],
        [
         "3",
         "American-Samoa",
         "6",
         "3",
         "0",
         "0",
         "1",
         "1",
         "0",
         "0",
         "5",
         "1",
         "0",
         "1",
         "1",
         "1",
         "0",
         "1",
         "blue",
         "0",
         "0",
         "0",
         "0",
         "0",
         "0",
         "1",
         "1",
         "1",
         "0",
         "blue",
         "red"
        ],
        [
         "4",
         "Andorra",
         "3",
         "1",
         "0",
         "0",
         "6",
         "0",
         "3",
         "0",
         "3",
         "1",
         "0",
         "1",
         "1",
         "0",
         "0",
         "0",
         "gold",
         "0",
         "0",
         "0",
         "0",
         "0",
         "0",
         "0",
         "0",
         "0",
         "0",
         "blue",
         "red"
        ],
        [
         "10",
         "Australia",
         "6",
         "2",
         "7690",
         "15",
         "1",
         "1",
         "0",
         "0",
         "3",
         "1",
         "0",
         "1",
         "0",
         "1",
         "0",
         "0",
         "blue",
         "0",
         "1",
         "1",
         "1",
         "6",
         "0",
         "0",
         "0",
         "0",
         "0",
         "white",
         "blue"
        ],
        [
         "11",
         "Austria",
         "3",
         "1",
         "84",
         "8",
         "4",
         "0",
         "0",
         "3",
         "2",
         "1",
         "0",
         "0",
         "0",
         "1",
         "0",
         "0",
         "red",
         "0",
         "0",
         "0",
         "0",
         "0",
         "0",
         "0",
         "0",
         "0",
         "0",
         "red",
         "red"
        ]
       ],
       "shape": {
        "columns": 30,
        "rows": 5
       }
      },
      "text/html": [
       "<div>\n",
       "<style scoped>\n",
       "    .dataframe tbody tr th:only-of-type {\n",
       "        vertical-align: middle;\n",
       "    }\n",
       "\n",
       "    .dataframe tbody tr th {\n",
       "        vertical-align: top;\n",
       "    }\n",
       "\n",
       "    .dataframe thead th {\n",
       "        text-align: right;\n",
       "    }\n",
       "</style>\n",
       "<table border=\"1\" class=\"dataframe\">\n",
       "  <thead>\n",
       "    <tr style=\"text-align: right;\">\n",
       "      <th></th>\n",
       "      <th>name</th>\n",
       "      <th>landmass</th>\n",
       "      <th>zone</th>\n",
       "      <th>area</th>\n",
       "      <th>population</th>\n",
       "      <th>language</th>\n",
       "      <th>religion</th>\n",
       "      <th>bars</th>\n",
       "      <th>stripes</th>\n",
       "      <th>colours</th>\n",
       "      <th>...</th>\n",
       "      <th>saltires</th>\n",
       "      <th>quarters</th>\n",
       "      <th>sunstars</th>\n",
       "      <th>crescent</th>\n",
       "      <th>triangle</th>\n",
       "      <th>icon</th>\n",
       "      <th>animate</th>\n",
       "      <th>text</th>\n",
       "      <th>topleft</th>\n",
       "      <th>botright</th>\n",
       "    </tr>\n",
       "  </thead>\n",
       "  <tbody>\n",
       "    <tr>\n",
       "      <th>1</th>\n",
       "      <td>Albania</td>\n",
       "      <td>3</td>\n",
       "      <td>1</td>\n",
       "      <td>29</td>\n",
       "      <td>3</td>\n",
       "      <td>6</td>\n",
       "      <td>6</td>\n",
       "      <td>0</td>\n",
       "      <td>0</td>\n",
       "      <td>3</td>\n",
       "      <td>...</td>\n",
       "      <td>0</td>\n",
       "      <td>0</td>\n",
       "      <td>1</td>\n",
       "      <td>0</td>\n",
       "      <td>0</td>\n",
       "      <td>0</td>\n",
       "      <td>1</td>\n",
       "      <td>0</td>\n",
       "      <td>red</td>\n",
       "      <td>red</td>\n",
       "    </tr>\n",
       "    <tr>\n",
       "      <th>3</th>\n",
       "      <td>American-Samoa</td>\n",
       "      <td>6</td>\n",
       "      <td>3</td>\n",
       "      <td>0</td>\n",
       "      <td>0</td>\n",
       "      <td>1</td>\n",
       "      <td>1</td>\n",
       "      <td>0</td>\n",
       "      <td>0</td>\n",
       "      <td>5</td>\n",
       "      <td>...</td>\n",
       "      <td>0</td>\n",
       "      <td>0</td>\n",
       "      <td>0</td>\n",
       "      <td>0</td>\n",
       "      <td>1</td>\n",
       "      <td>1</td>\n",
       "      <td>1</td>\n",
       "      <td>0</td>\n",
       "      <td>blue</td>\n",
       "      <td>red</td>\n",
       "    </tr>\n",
       "    <tr>\n",
       "      <th>4</th>\n",
       "      <td>Andorra</td>\n",
       "      <td>3</td>\n",
       "      <td>1</td>\n",
       "      <td>0</td>\n",
       "      <td>0</td>\n",
       "      <td>6</td>\n",
       "      <td>0</td>\n",
       "      <td>3</td>\n",
       "      <td>0</td>\n",
       "      <td>3</td>\n",
       "      <td>...</td>\n",
       "      <td>0</td>\n",
       "      <td>0</td>\n",
       "      <td>0</td>\n",
       "      <td>0</td>\n",
       "      <td>0</td>\n",
       "      <td>0</td>\n",
       "      <td>0</td>\n",
       "      <td>0</td>\n",
       "      <td>blue</td>\n",
       "      <td>red</td>\n",
       "    </tr>\n",
       "    <tr>\n",
       "      <th>10</th>\n",
       "      <td>Australia</td>\n",
       "      <td>6</td>\n",
       "      <td>2</td>\n",
       "      <td>7690</td>\n",
       "      <td>15</td>\n",
       "      <td>1</td>\n",
       "      <td>1</td>\n",
       "      <td>0</td>\n",
       "      <td>0</td>\n",
       "      <td>3</td>\n",
       "      <td>...</td>\n",
       "      <td>1</td>\n",
       "      <td>1</td>\n",
       "      <td>6</td>\n",
       "      <td>0</td>\n",
       "      <td>0</td>\n",
       "      <td>0</td>\n",
       "      <td>0</td>\n",
       "      <td>0</td>\n",
       "      <td>white</td>\n",
       "      <td>blue</td>\n",
       "    </tr>\n",
       "    <tr>\n",
       "      <th>11</th>\n",
       "      <td>Austria</td>\n",
       "      <td>3</td>\n",
       "      <td>1</td>\n",
       "      <td>84</td>\n",
       "      <td>8</td>\n",
       "      <td>4</td>\n",
       "      <td>0</td>\n",
       "      <td>0</td>\n",
       "      <td>3</td>\n",
       "      <td>2</td>\n",
       "      <td>...</td>\n",
       "      <td>0</td>\n",
       "      <td>0</td>\n",
       "      <td>0</td>\n",
       "      <td>0</td>\n",
       "      <td>0</td>\n",
       "      <td>0</td>\n",
       "      <td>0</td>\n",
       "      <td>0</td>\n",
       "      <td>red</td>\n",
       "      <td>red</td>\n",
       "    </tr>\n",
       "  </tbody>\n",
       "</table>\n",
       "<p>5 rows × 30 columns</p>\n",
       "</div>"
      ],
      "text/plain": [
       "              name  landmass  zone  area  population  language  religion  \\\n",
       "1          Albania         3     1    29           3         6         6   \n",
       "3   American-Samoa         6     3     0           0         1         1   \n",
       "4          Andorra         3     1     0           0         6         0   \n",
       "10       Australia         6     2  7690          15         1         1   \n",
       "11         Austria         3     1    84           8         4         0   \n",
       "\n",
       "    bars  stripes  colours  ...  saltires  quarters  sunstars  crescent  \\\n",
       "1      0        0        3  ...         0         0         1         0   \n",
       "3      0        0        5  ...         0         0         0         0   \n",
       "4      3        0        3  ...         0         0         0         0   \n",
       "10     0        0        3  ...         1         1         6         0   \n",
       "11     0        3        2  ...         0         0         0         0   \n",
       "\n",
       "    triangle  icon  animate text  topleft  botright  \n",
       "1          0     0        1    0      red       red  \n",
       "3          1     1        1    0     blue       red  \n",
       "4          0     0        0    0     blue       red  \n",
       "10         0     0        0    0    white      blue  \n",
       "11         0     0        0    0      red       red  \n",
       "\n",
       "[5 rows x 30 columns]"
      ]
     },
     "execution_count": 259,
     "metadata": {},
     "output_type": "execute_result"
    }
   ],
   "source": [
    "df_eur_oce = df[df['landmass'].isin([3, 6])]\n",
    "df_eur_oce.head()"
   ]
  },
  {
   "cell_type": "markdown",
   "metadata": {},
   "source": [
    "##  3."
   ]
  },
  {
   "cell_type": "markdown",
   "metadata": {},
   "source": [
    "- Given the list of predictors in the list `var`, print the average values of each for these two continents. \n",
    "- Note which predictors have very different averages."
   ]
  },
  {
   "cell_type": "code",
   "execution_count": 260,
   "metadata": {},
   "outputs": [
    {
     "data": {
      "application/vnd.microsoft.datawrangler.viewer.v0+json": {
       "columns": [
        {
         "name": "landmass",
         "rawType": "int64",
         "type": "integer"
        },
        {
         "name": "red",
         "rawType": "float64",
         "type": "float"
        },
        {
         "name": "green",
         "rawType": "float64",
         "type": "float"
        },
        {
         "name": "blue",
         "rawType": "float64",
         "type": "float"
        },
        {
         "name": "gold",
         "rawType": "float64",
         "type": "float"
        },
        {
         "name": "white",
         "rawType": "float64",
         "type": "float"
        },
        {
         "name": "black",
         "rawType": "float64",
         "type": "float"
        },
        {
         "name": "orange",
         "rawType": "float64",
         "type": "float"
        },
        {
         "name": "bars",
         "rawType": "float64",
         "type": "float"
        },
        {
         "name": "stripes",
         "rawType": "float64",
         "type": "float"
        },
        {
         "name": "circles",
         "rawType": "float64",
         "type": "float"
        },
        {
         "name": "crosses",
         "rawType": "float64",
         "type": "float"
        },
        {
         "name": "saltires",
         "rawType": "float64",
         "type": "float"
        },
        {
         "name": "quarters",
         "rawType": "float64",
         "type": "float"
        },
        {
         "name": "sunstars",
         "rawType": "float64",
         "type": "float"
        },
        {
         "name": "triangle",
         "rawType": "float64",
         "type": "float"
        },
        {
         "name": "animate",
         "rawType": "float64",
         "type": "float"
        }
       ],
       "conversionMethod": "pd.DataFrame",
       "ref": "d205338a-9b8b-431e-a162-d525f4546d49",
       "rows": [
        [
         "3",
         "0.8285714285714286",
         "0.2",
         "0.5142857142857142",
         "0.42857142857142855",
         "0.7714285714285715",
         "0.17142857142857143",
         "0.05714285714285714",
         "0.6285714285714286",
         "1.2857142857142858",
         "0.02857142857142857",
         "0.2857142857142857",
         "0.02857142857142857",
         "0.02857142857142857",
         "0.14285714285714285",
         "0.02857142857142857",
         "0.11428571428571428"
        ],
        [
         "6",
         "0.8",
         "0.2",
         "0.8",
         "0.6",
         "0.95",
         "0.15",
         "0.15",
         "0.0",
         "0.4",
         "0.15",
         "0.4",
         "0.3",
         "0.4",
         "3.3",
         "0.25",
         "0.3"
        ]
       ],
       "shape": {
        "columns": 16,
        "rows": 2
       }
      },
      "text/html": [
       "<div>\n",
       "<style scoped>\n",
       "    .dataframe tbody tr th:only-of-type {\n",
       "        vertical-align: middle;\n",
       "    }\n",
       "\n",
       "    .dataframe tbody tr th {\n",
       "        vertical-align: top;\n",
       "    }\n",
       "\n",
       "    .dataframe thead th {\n",
       "        text-align: right;\n",
       "    }\n",
       "</style>\n",
       "<table border=\"1\" class=\"dataframe\">\n",
       "  <thead>\n",
       "    <tr style=\"text-align: right;\">\n",
       "      <th></th>\n",
       "      <th>red</th>\n",
       "      <th>green</th>\n",
       "      <th>blue</th>\n",
       "      <th>gold</th>\n",
       "      <th>white</th>\n",
       "      <th>black</th>\n",
       "      <th>orange</th>\n",
       "      <th>bars</th>\n",
       "      <th>stripes</th>\n",
       "      <th>circles</th>\n",
       "      <th>crosses</th>\n",
       "      <th>saltires</th>\n",
       "      <th>quarters</th>\n",
       "      <th>sunstars</th>\n",
       "      <th>triangle</th>\n",
       "      <th>animate</th>\n",
       "    </tr>\n",
       "    <tr>\n",
       "      <th>landmass</th>\n",
       "      <th></th>\n",
       "      <th></th>\n",
       "      <th></th>\n",
       "      <th></th>\n",
       "      <th></th>\n",
       "      <th></th>\n",
       "      <th></th>\n",
       "      <th></th>\n",
       "      <th></th>\n",
       "      <th></th>\n",
       "      <th></th>\n",
       "      <th></th>\n",
       "      <th></th>\n",
       "      <th></th>\n",
       "      <th></th>\n",
       "      <th></th>\n",
       "    </tr>\n",
       "  </thead>\n",
       "  <tbody>\n",
       "    <tr>\n",
       "      <th>3</th>\n",
       "      <td>0.828571</td>\n",
       "      <td>0.2</td>\n",
       "      <td>0.514286</td>\n",
       "      <td>0.428571</td>\n",
       "      <td>0.771429</td>\n",
       "      <td>0.171429</td>\n",
       "      <td>0.057143</td>\n",
       "      <td>0.628571</td>\n",
       "      <td>1.285714</td>\n",
       "      <td>0.028571</td>\n",
       "      <td>0.285714</td>\n",
       "      <td>0.028571</td>\n",
       "      <td>0.028571</td>\n",
       "      <td>0.142857</td>\n",
       "      <td>0.028571</td>\n",
       "      <td>0.114286</td>\n",
       "    </tr>\n",
       "    <tr>\n",
       "      <th>6</th>\n",
       "      <td>0.800000</td>\n",
       "      <td>0.2</td>\n",
       "      <td>0.800000</td>\n",
       "      <td>0.600000</td>\n",
       "      <td>0.950000</td>\n",
       "      <td>0.150000</td>\n",
       "      <td>0.150000</td>\n",
       "      <td>0.000000</td>\n",
       "      <td>0.400000</td>\n",
       "      <td>0.150000</td>\n",
       "      <td>0.400000</td>\n",
       "      <td>0.300000</td>\n",
       "      <td>0.400000</td>\n",
       "      <td>3.300000</td>\n",
       "      <td>0.250000</td>\n",
       "      <td>0.300000</td>\n",
       "    </tr>\n",
       "  </tbody>\n",
       "</table>\n",
       "</div>"
      ],
      "text/plain": [
       "               red  green      blue      gold     white     black    orange  \\\n",
       "landmass                                                                      \n",
       "3         0.828571    0.2  0.514286  0.428571  0.771429  0.171429  0.057143   \n",
       "6         0.800000    0.2  0.800000  0.600000  0.950000  0.150000  0.150000   \n",
       "\n",
       "              bars   stripes   circles   crosses  saltires  quarters  \\\n",
       "landmass                                                               \n",
       "3         0.628571  1.285714  0.028571  0.285714  0.028571  0.028571   \n",
       "6         0.000000  0.400000  0.150000  0.400000  0.300000  0.400000   \n",
       "\n",
       "          sunstars  triangle   animate  \n",
       "landmass                                \n",
       "3         0.142857  0.028571  0.114286  \n",
       "6         3.300000  0.250000  0.300000  "
      ]
     },
     "execution_count": 260,
     "metadata": {},
     "output_type": "execute_result"
    }
   ],
   "source": [
    "df_eur_oce.groupby('landmass')[var].mean(numeric_only=True)"
   ]
  },
  {
   "cell_type": "markdown",
   "metadata": {},
   "source": [
    "##  4."
   ]
  },
  {
   "cell_type": "markdown",
   "metadata": {},
   "source": [
    "- We will build a classifier to distinguish flags for these two continents – but first, inspect the variable types for each of the predictors.\n",
    "    ```python\t\n",
    "    labels = (df[\"landmass\"].isin([3,6]))*1\n",
    "    ```\t"
   ]
  },
  {
   "cell_type": "code",
   "execution_count": 261,
   "metadata": {},
   "outputs": [
    {
     "data": {
      "text/plain": [
       "red          int64\n",
       "green        int64\n",
       "blue         int64\n",
       "gold         int64\n",
       "white        int64\n",
       "black        int64\n",
       "orange       int64\n",
       "mainhue     object\n",
       "bars         int64\n",
       "stripes      int64\n",
       "circles      int64\n",
       "crosses      int64\n",
       "saltires     int64\n",
       "quarters     int64\n",
       "sunstars     int64\n",
       "triangle     int64\n",
       "animate      int64\n",
       "dtype: object"
      ]
     },
     "execution_count": 261,
     "metadata": {},
     "output_type": "execute_result"
    }
   ],
   "source": [
    "labels = (df[\"landmass\"].isin([3,6]))*1\n",
    "df_eur_oce[var].dtypes"
   ]
  },
  {
   "cell_type": "markdown",
   "metadata": {},
   "source": [
    "##  5."
   ]
  },
  {
   "cell_type": "markdown",
   "metadata": {},
   "source": [
    "- Note that all the predictor variables are numeric except for `mainhue`. \n",
    "- Transform the dataset of predictor variables to dummy variables and save this in a new dataframe called `data`."
   ]
  },
  {
   "cell_type": "code",
   "execution_count": 262,
   "metadata": {},
   "outputs": [
    {
     "data": {
      "application/vnd.microsoft.datawrangler.viewer.v0+json": {
       "columns": [
        {
         "name": "index",
         "rawType": "int64",
         "type": "integer"
        },
        {
         "name": "red",
         "rawType": "int64",
         "type": "integer"
        },
        {
         "name": "green",
         "rawType": "int64",
         "type": "integer"
        },
        {
         "name": "blue",
         "rawType": "int64",
         "type": "integer"
        },
        {
         "name": "gold",
         "rawType": "int64",
         "type": "integer"
        },
        {
         "name": "white",
         "rawType": "int64",
         "type": "integer"
        },
        {
         "name": "black",
         "rawType": "int64",
         "type": "integer"
        },
        {
         "name": "orange",
         "rawType": "int64",
         "type": "integer"
        },
        {
         "name": "bars",
         "rawType": "int64",
         "type": "integer"
        },
        {
         "name": "stripes",
         "rawType": "int64",
         "type": "integer"
        },
        {
         "name": "circles",
         "rawType": "int64",
         "type": "integer"
        },
        {
         "name": "crosses",
         "rawType": "int64",
         "type": "integer"
        },
        {
         "name": "saltires",
         "rawType": "int64",
         "type": "integer"
        },
        {
         "name": "quarters",
         "rawType": "int64",
         "type": "integer"
        },
        {
         "name": "sunstars",
         "rawType": "int64",
         "type": "integer"
        },
        {
         "name": "triangle",
         "rawType": "int64",
         "type": "integer"
        },
        {
         "name": "animate",
         "rawType": "int64",
         "type": "integer"
        },
        {
         "name": "mainhue_black",
         "rawType": "bool",
         "type": "boolean"
        },
        {
         "name": "mainhue_blue",
         "rawType": "bool",
         "type": "boolean"
        },
        {
         "name": "mainhue_brown",
         "rawType": "bool",
         "type": "boolean"
        },
        {
         "name": "mainhue_gold",
         "rawType": "bool",
         "type": "boolean"
        },
        {
         "name": "mainhue_green",
         "rawType": "bool",
         "type": "boolean"
        },
        {
         "name": "mainhue_orange",
         "rawType": "bool",
         "type": "boolean"
        },
        {
         "name": "mainhue_red",
         "rawType": "bool",
         "type": "boolean"
        },
        {
         "name": "mainhue_white",
         "rawType": "bool",
         "type": "boolean"
        }
       ],
       "conversionMethod": "pd.DataFrame",
       "ref": "795e754b-f326-4def-9a7b-9eda96cc0df0",
       "rows": [
        [
         "0",
         "1",
         "1",
         "0",
         "1",
         "1",
         "1",
         "0",
         "0",
         "3",
         "0",
         "0",
         "0",
         "0",
         "1",
         "0",
         "0",
         "False",
         "False",
         "False",
         "False",
         "True",
         "False",
         "False",
         "False"
        ],
        [
         "1",
         "1",
         "0",
         "0",
         "1",
         "0",
         "1",
         "0",
         "0",
         "0",
         "0",
         "0",
         "0",
         "0",
         "1",
         "0",
         "1",
         "False",
         "False",
         "False",
         "False",
         "False",
         "False",
         "True",
         "False"
        ],
        [
         "2",
         "1",
         "1",
         "0",
         "0",
         "1",
         "0",
         "0",
         "2",
         "0",
         "0",
         "0",
         "0",
         "0",
         "1",
         "0",
         "0",
         "False",
         "False",
         "False",
         "False",
         "True",
         "False",
         "False",
         "False"
        ],
        [
         "3",
         "1",
         "0",
         "1",
         "1",
         "1",
         "0",
         "1",
         "0",
         "0",
         "0",
         "0",
         "0",
         "0",
         "0",
         "1",
         "1",
         "False",
         "True",
         "False",
         "False",
         "False",
         "False",
         "False",
         "False"
        ],
        [
         "4",
         "1",
         "0",
         "1",
         "1",
         "0",
         "0",
         "0",
         "3",
         "0",
         "0",
         "0",
         "0",
         "0",
         "0",
         "0",
         "0",
         "False",
         "False",
         "False",
         "True",
         "False",
         "False",
         "False",
         "False"
        ]
       ],
       "shape": {
        "columns": 24,
        "rows": 5
       }
      },
      "text/html": [
       "<div>\n",
       "<style scoped>\n",
       "    .dataframe tbody tr th:only-of-type {\n",
       "        vertical-align: middle;\n",
       "    }\n",
       "\n",
       "    .dataframe tbody tr th {\n",
       "        vertical-align: top;\n",
       "    }\n",
       "\n",
       "    .dataframe thead th {\n",
       "        text-align: right;\n",
       "    }\n",
       "</style>\n",
       "<table border=\"1\" class=\"dataframe\">\n",
       "  <thead>\n",
       "    <tr style=\"text-align: right;\">\n",
       "      <th></th>\n",
       "      <th>red</th>\n",
       "      <th>green</th>\n",
       "      <th>blue</th>\n",
       "      <th>gold</th>\n",
       "      <th>white</th>\n",
       "      <th>black</th>\n",
       "      <th>orange</th>\n",
       "      <th>bars</th>\n",
       "      <th>stripes</th>\n",
       "      <th>circles</th>\n",
       "      <th>...</th>\n",
       "      <th>triangle</th>\n",
       "      <th>animate</th>\n",
       "      <th>mainhue_black</th>\n",
       "      <th>mainhue_blue</th>\n",
       "      <th>mainhue_brown</th>\n",
       "      <th>mainhue_gold</th>\n",
       "      <th>mainhue_green</th>\n",
       "      <th>mainhue_orange</th>\n",
       "      <th>mainhue_red</th>\n",
       "      <th>mainhue_white</th>\n",
       "    </tr>\n",
       "  </thead>\n",
       "  <tbody>\n",
       "    <tr>\n",
       "      <th>0</th>\n",
       "      <td>1</td>\n",
       "      <td>1</td>\n",
       "      <td>0</td>\n",
       "      <td>1</td>\n",
       "      <td>1</td>\n",
       "      <td>1</td>\n",
       "      <td>0</td>\n",
       "      <td>0</td>\n",
       "      <td>3</td>\n",
       "      <td>0</td>\n",
       "      <td>...</td>\n",
       "      <td>0</td>\n",
       "      <td>0</td>\n",
       "      <td>False</td>\n",
       "      <td>False</td>\n",
       "      <td>False</td>\n",
       "      <td>False</td>\n",
       "      <td>True</td>\n",
       "      <td>False</td>\n",
       "      <td>False</td>\n",
       "      <td>False</td>\n",
       "    </tr>\n",
       "    <tr>\n",
       "      <th>1</th>\n",
       "      <td>1</td>\n",
       "      <td>0</td>\n",
       "      <td>0</td>\n",
       "      <td>1</td>\n",
       "      <td>0</td>\n",
       "      <td>1</td>\n",
       "      <td>0</td>\n",
       "      <td>0</td>\n",
       "      <td>0</td>\n",
       "      <td>0</td>\n",
       "      <td>...</td>\n",
       "      <td>0</td>\n",
       "      <td>1</td>\n",
       "      <td>False</td>\n",
       "      <td>False</td>\n",
       "      <td>False</td>\n",
       "      <td>False</td>\n",
       "      <td>False</td>\n",
       "      <td>False</td>\n",
       "      <td>True</td>\n",
       "      <td>False</td>\n",
       "    </tr>\n",
       "    <tr>\n",
       "      <th>2</th>\n",
       "      <td>1</td>\n",
       "      <td>1</td>\n",
       "      <td>0</td>\n",
       "      <td>0</td>\n",
       "      <td>1</td>\n",
       "      <td>0</td>\n",
       "      <td>0</td>\n",
       "      <td>2</td>\n",
       "      <td>0</td>\n",
       "      <td>0</td>\n",
       "      <td>...</td>\n",
       "      <td>0</td>\n",
       "      <td>0</td>\n",
       "      <td>False</td>\n",
       "      <td>False</td>\n",
       "      <td>False</td>\n",
       "      <td>False</td>\n",
       "      <td>True</td>\n",
       "      <td>False</td>\n",
       "      <td>False</td>\n",
       "      <td>False</td>\n",
       "    </tr>\n",
       "    <tr>\n",
       "      <th>3</th>\n",
       "      <td>1</td>\n",
       "      <td>0</td>\n",
       "      <td>1</td>\n",
       "      <td>1</td>\n",
       "      <td>1</td>\n",
       "      <td>0</td>\n",
       "      <td>1</td>\n",
       "      <td>0</td>\n",
       "      <td>0</td>\n",
       "      <td>0</td>\n",
       "      <td>...</td>\n",
       "      <td>1</td>\n",
       "      <td>1</td>\n",
       "      <td>False</td>\n",
       "      <td>True</td>\n",
       "      <td>False</td>\n",
       "      <td>False</td>\n",
       "      <td>False</td>\n",
       "      <td>False</td>\n",
       "      <td>False</td>\n",
       "      <td>False</td>\n",
       "    </tr>\n",
       "    <tr>\n",
       "      <th>4</th>\n",
       "      <td>1</td>\n",
       "      <td>0</td>\n",
       "      <td>1</td>\n",
       "      <td>1</td>\n",
       "      <td>0</td>\n",
       "      <td>0</td>\n",
       "      <td>0</td>\n",
       "      <td>3</td>\n",
       "      <td>0</td>\n",
       "      <td>0</td>\n",
       "      <td>...</td>\n",
       "      <td>0</td>\n",
       "      <td>0</td>\n",
       "      <td>False</td>\n",
       "      <td>False</td>\n",
       "      <td>False</td>\n",
       "      <td>True</td>\n",
       "      <td>False</td>\n",
       "      <td>False</td>\n",
       "      <td>False</td>\n",
       "      <td>False</td>\n",
       "    </tr>\n",
       "  </tbody>\n",
       "</table>\n",
       "<p>5 rows × 24 columns</p>\n",
       "</div>"
      ],
      "text/plain": [
       "   red  green  blue  gold  white  black  orange  bars  stripes  circles  ...  \\\n",
       "0    1      1     0     1      1      1       0     0        3        0  ...   \n",
       "1    1      0     0     1      0      1       0     0        0        0  ...   \n",
       "2    1      1     0     0      1      0       0     2        0        0  ...   \n",
       "3    1      0     1     1      1      0       1     0        0        0  ...   \n",
       "4    1      0     1     1      0      0       0     3        0        0  ...   \n",
       "\n",
       "   triangle  animate  mainhue_black  mainhue_blue  mainhue_brown  \\\n",
       "0         0        0          False         False          False   \n",
       "1         0        1          False         False          False   \n",
       "2         0        0          False         False          False   \n",
       "3         1        1          False          True          False   \n",
       "4         0        0          False         False          False   \n",
       "\n",
       "   mainhue_gold  mainhue_green  mainhue_orange  mainhue_red  mainhue_white  \n",
       "0         False           True           False        False          False  \n",
       "1         False          False           False         True          False  \n",
       "2         False           True           False        False          False  \n",
       "3         False          False           False        False          False  \n",
       "4          True          False           False        False          False  \n",
       "\n",
       "[5 rows x 24 columns]"
      ]
     },
     "execution_count": 262,
     "metadata": {},
     "output_type": "execute_result"
    }
   ],
   "source": [
    "data = pd.get_dummies(df[var], columns=['mainhue']).reset_index(drop=True)\n",
    "data.head()"
   ]
  },
  {
   "cell_type": "markdown",
   "metadata": {},
   "source": [
    "##  6."
   ]
  },
  {
   "cell_type": "markdown",
   "metadata": {},
   "source": [
    "- Split the data into a train and test set."
   ]
  },
  {
   "cell_type": "code",
   "execution_count": 263,
   "metadata": {},
   "outputs": [],
   "source": [
    "X_train, X_test, y_train, y_test = train_test_split(data, labels, test_size=0.4, random_state=42)"
   ]
  },
  {
   "cell_type": "markdown",
   "metadata": {},
   "source": [
    "##  7."
   ]
  },
  {
   "cell_type": "markdown",
   "metadata": {},
   "source": [
    "- We will explore tuning the decision tree model by testing the performance over a range of `max_depth` values. \n",
    "- Fit a decision tree classifier for `max_depth` values from 1-20. \n",
    "- Save the accuracy score in for each depth in the list `acc_depth`."
   ]
  },
  {
   "cell_type": "code",
   "execution_count": 264,
   "metadata": {},
   "outputs": [],
   "source": [
    "acc_depth = []\n",
    "depths = range(1, 21)\n",
    "for i in depths:\n",
    "    clf = DecisionTreeClassifier(max_depth=i)\n",
    "    clf.fit(X_train, y_train)\n",
    "    acc_depth.append(clf.score(X_test, y_test))"
   ]
  },
  {
   "cell_type": "markdown",
   "metadata": {},
   "source": [
    "##  8."
   ]
  },
  {
   "cell_type": "markdown",
   "metadata": {},
   "source": [
    "- Plot the accuracy of the decision tree models versus the `max_depth`."
   ]
  },
  {
   "cell_type": "code",
   "execution_count": 265,
   "metadata": {},
   "outputs": [
    {
     "data": {
      "image/png": "[encoded data removed]",
      "text/plain": [
       "<Figure size 640x480 with 1 Axes>"
      ]
     },
     "metadata": {},
     "output_type": "display_data"
    }
   ],
   "source": [
    "plt.plot(depths, acc_depth, marker='o')\n",
    "plt.xlabel('max_depth')\n",
    "plt.ylabel('accuracy')\n",
    "plt.title('Accuracy by max_depth')\n",
    "ax = plt.gca()\n",
    "ax.set_xticks(depths)\n",
    "plt.show()"
   ]
  },
  {
   "cell_type": "markdown",
   "metadata": {},
   "source": [
    "##  9."
   ]
  },
  {
   "cell_type": "markdown",
   "metadata": {},
   "source": [
    "- Find the largest accuracy and the depth this occurs."
   ]
  },
  {
   "cell_type": "code",
   "execution_count": 266,
   "metadata": {},
   "outputs": [
    {
     "data": {
      "text/plain": [
       "(0.782051282051282, 3)"
      ]
     },
     "execution_count": 266,
     "metadata": {},
     "output_type": "execute_result"
    }
   ],
   "source": [
    "max_acc = max(acc_depth)\n",
    "max_depth = acc_depth.index(max_acc) + 1\n",
    "\n",
    "max_acc, max_depth"
   ]
  },
  {
   "cell_type": "markdown",
   "metadata": {},
   "source": [
    "##  10."
   ]
  },
  {
   "cell_type": "markdown",
   "metadata": {},
   "source": [
    "- Refit the decision tree model using the `max_depth` from above; plot the decision tree."
   ]
  },
  {
   "cell_type": "code",
   "execution_count": 267,
   "metadata": {},
   "outputs": [
    {
     "data": {
      "image/png": "[encoded data removed]",
      "text/plain": [
       "<Figure size 640x480 with 1 Axes>"
      ]
     },
     "metadata": {},
     "output_type": "display_data"
    }
   ],
   "source": [
    "dtree = DecisionTreeClassifier(max_depth=max_depth)\n",
    "dtree.fit(X_train, y_train)\n",
    "\n",
    "tree.plot_tree(dtree, feature_names=data.columns, class_names=['Europe', 'Oceania'], filled=True)\n",
    "plt.show()"
   ]
  },
  {
   "cell_type": "markdown",
   "metadata": {},
   "source": [
    "##  11."
   ]
  },
  {
   "cell_type": "markdown",
   "metadata": {},
   "source": [
    "- Like we did with `max_depth`, we will now tune the tree by using the hyperparameter `ccp_alpha`, which is a pruning parameter. \n",
    "- Fit a decision tree classifier for each value in `ccp`. \n",
    "- Save the accuracy score in the list `acc_pruned`."
   ]
  },
  {
   "cell_type": "code",
   "execution_count": 268,
   "metadata": {},
   "outputs": [],
   "source": [
    "ccps = np.arange(0, 0.05, 0.005)\n",
    "acc_ccp = []\n",
    "for ccp in ccps:\n",
    "    clf = DecisionTreeClassifier(max_depth=max_depth, ccp_alpha=ccp)\n",
    "    clf.fit(X_train, y_train)\n",
    "    acc_ccp.append(clf.score(X_test, y_test))"
   ]
  },
  {
   "cell_type": "markdown",
   "metadata": {},
   "source": [
    "##  12."
   ]
  },
  {
   "cell_type": "markdown",
   "metadata": {},
   "source": [
    "- Plot the accuracy of the decision tree models versus the `ccp_alpha`."
   ]
  },
  {
   "cell_type": "code",
   "execution_count": 269,
   "metadata": {},
   "outputs": [
    {
     "data": {
      "image/png": "[encoded data removed]",
      "text/plain": [
       "<Figure size 640x480 with 1 Axes>"
      ]
     },
     "metadata": {},
     "output_type": "display_data"
    }
   ],
   "source": [
    "plt.plot(ccps, acc_ccp, marker='o')\n",
    "plt.xlabel('ccp_alpha')\n",
    "plt.ylabel('accuracy')\n",
    "plt.title('Accuracy by ccp_alpha')\n",
    "ax = plt.gca()\n",
    "ax.set_xticks(ccps)\n",
    "plt.show()"
   ]
  },
  {
   "cell_type": "markdown",
   "metadata": {},
   "source": [
    "##  13."
   ]
  },
  {
   "cell_type": "markdown",
   "metadata": {},
   "source": [
    "- Find the largest accuracy and the `ccp_alpha` value this occurs."
   ]
  },
  {
   "cell_type": "code",
   "execution_count": 270,
   "metadata": {},
   "outputs": [
    {
     "data": {
      "text/plain": [
       "(0.782051282051282, 1, np.float64(0.005))"
      ]
     },
     "execution_count": 270,
     "metadata": {},
     "output_type": "execute_result"
    }
   ],
   "source": [
    "max_acc_ccp = max(acc_ccp)\n",
    "max_ccp = acc_ccp.index(max_acc_ccp) + 1\n",
    "\n",
    "max_acc_ccp, max_ccp, ccps[max_ccp]"
   ]
  },
  {
   "cell_type": "markdown",
   "metadata": {},
   "source": [
    "##  14."
   ]
  },
  {
   "cell_type": "markdown",
   "metadata": {},
   "source": [
    "- Fit a decision tree model with the values for `max_depth` and `ccp_alpha` found above. \n",
    "- Plot the final decision tree."
   ]
  },
  {
   "cell_type": "code",
   "execution_count": 271,
   "metadata": {},
   "outputs": [
    {
     "data": {
      "image/png": "[encoded data removed]",
      "text/plain": [
       "<Figure size 640x480 with 1 Axes>"
      ]
     },
     "metadata": {},
     "output_type": "display_data"
    }
   ],
   "source": [
    "dtree = DecisionTreeClassifier(max_depth=max_depth, ccp_alpha=ccps[max_ccp])\n",
    "dtree.fit(X_train, y_train)\n",
    "\n",
    "tree.plot_tree(dtree, feature_names=data.columns, class_names=['Europe', 'Oceania'], filled=True)\n",
    "plt.show()"
   ]
  },
  {
   "cell_type": "markdown",
   "metadata": {},
   "source": [
    "##  15."
   ]
  },
  {
   "cell_type": "markdown",
   "metadata": {},
   "source": [
    "- Note that the accuracy of our final model increased and the structure of the tree was simpler – many unnecessary branches were removed in the pruning process making for a much easier interpretation.\n",
    "- There are a few different ways to extend this project:\n",
    "    - Try to classify something else! Rather than predicting the `\"Landmass\"` feature, could predict something like the `\"Language\"`?\n",
    "    - Find a subset of features that work better than what we’re currently using. An important note is that a feature that has categorical data won’t work very well as a feature. For example, we don’t want a decision node to split nodes based on whether the value for `\"Language\"` is above or below `5`.\n",
    "    - Tune more parameters of the model. You can find a description of all the parameters you can tune in the [Decision Tree Classifier documentation](https://scikit-learn.org/stable/modules/generated/sklearn.tree.DecisionTreeClassifier.html#sklearn.tree.DecisionTreeClassifier). For example, see what happens if you tune max_leaf_nodes. Think about whether you would be overfitting or underfitting the data based on how many leaf nodes you allow."
   ]
  }
 ],
 "metadata": {
  "kernelspec": {
   "display_name": "Codecademy-XphA9WxU",
   "language": "python",
   "name": "python3"
  },
  "language_info": {
   "codemirror_mode": {
    "name": "ipython",
    "version": 3
   },
   "file_extension": ".py",
   "mimetype": "text/x-python",
   "name": "python",
   "nbconvert_exporter": "python",
   "pygments_lexer": "ipython3",
   "version": "3.11.1"
  }
 },
 "nbformat": 4,
 "nbformat_minor": 2
}
