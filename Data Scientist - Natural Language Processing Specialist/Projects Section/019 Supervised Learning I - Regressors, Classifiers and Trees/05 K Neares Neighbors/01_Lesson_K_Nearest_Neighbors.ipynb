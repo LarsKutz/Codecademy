{
 "cells": [
  {
   "cell_type": "markdown",
   "metadata": {},
   "source": [
    "# K-Nearest Neighbors"
   ]
  },
  {
   "cell_type": "code",
   "execution_count": 52,
   "metadata": {},
   "outputs": [],
   "source": [
    "from sklearn.neighbors import KNeighborsClassifier\n",
    "import json"
   ]
  },
  {
   "cell_type": "markdown",
   "metadata": {},
   "source": [
    "## 3. Distance Between Points - 2D"
   ]
  },
  {
   "cell_type": "markdown",
   "metadata": {},
   "source": [
    "**Task 1**  \n",
    "- Write a function named `distance` that takes two lists named `movie1` and `movie2` as parameters.\n",
    "- You can assume that each of these lists contains two numbers — the first number being the movie’s runtime and the second number being the year the movie was released. \n",
    "- The function should return the distance between the two lists.\n",
    "- Remember, in python, `x ** 0.5` will give you the square root of `x`.\n",
    "- Similarly, `x ** 2` will give you the square of `x`.\n",
    "\n",
    "<br>\n",
    "\n",
    "**Task 2**  \n",
    "- Call the function on some of the movies we’ve given you.\n",
    "- Print the distance between *Star Wars* and *Raiders of the Lost Ark*.\n",
    "- Print the distance between *Star Wars* and *Mean Girls*.\n",
    "- Which movie is *Star Wars* more similar to?"
   ]
  },
  {
   "cell_type": "code",
   "execution_count": 3,
   "metadata": {},
   "outputs": [],
   "source": [
    "star_wars = [125, 1977]\n",
    "raiders = [115, 1981]\n",
    "mean_girls = [97, 2004]"
   ]
  },
  {
   "cell_type": "code",
   "execution_count": null,
   "metadata": {},
   "outputs": [
    {
     "name": "stdout",
     "output_type": "stream",
     "text": [
      "10.770329614269007\n",
      "38.897300677553446\n"
     ]
    }
   ],
   "source": [
    "# Task 1\n",
    "def distance(movie1, movie2):\n",
    "    dist = 0\n",
    "    if len(movie1) != len(movie2):\n",
    "        raise ValueError(\"Movies must have the same number of features\")\n",
    "    for i in range(len(movie1)):\n",
    "        dist += (movie1[i] - movie2[i])**2\n",
    "    return dist**0.5\n",
    "\n",
    "# Task 2\n",
    "print(distance(star_wars, raiders)) # smaller distance\n",
    "print(distance(star_wars, mean_girls))"
   ]
  },
  {
   "cell_type": "markdown",
   "metadata": {},
   "source": [
    "## 4. Distance Between Points - 3D"
   ]
  },
  {
   "cell_type": "markdown",
   "metadata": {},
   "source": [
    "**Task 1**  \n",
    "- Modify your `distance` function to work with any number of dimensions. \n",
    "- Use a `for` loop to iterate through the dimensions of each movie.\n",
    "- Return the total distance between the two movies.\n",
    "\n",
    "<br>\n",
    "\n",
    "**Task 2**  \n",
    "- We’ve added a third dimension to each of our movies.\n",
    "- Print the new distance between `Star Wars` and `Raiders of the Lost Ark`.\n",
    "- Print the new distance between `Star Wars` and `Mean Girls`.\n",
    "- Which movie is Star Wars closer to now?\n"
   ]
  },
  {
   "cell_type": "code",
   "execution_count": 5,
   "metadata": {},
   "outputs": [],
   "source": [
    "star_wars = [125, 1977, 11000000]\n",
    "raiders = [115, 1981, 18000000]\n",
    "mean_girls = [97, 2004, 17000000]"
   ]
  },
  {
   "cell_type": "code",
   "execution_count": null,
   "metadata": {},
   "outputs": [
    {
     "name": "stdout",
     "output_type": "stream",
     "text": [
      "7000000.000008286\n",
      "6000000.000126083\n"
     ]
    }
   ],
   "source": [
    "def distance(movie1, movie2):\n",
    "    dist = 0\n",
    "    if len(movie1) != len(movie2):\n",
    "        raise ValueError(\"Movies must have the same number of features\")\n",
    "    for i in range(len(movie1)):\n",
    "        dist += (movie1[i] - movie2[i])**2\n",
    "    return dist**0.5\n",
    "\n",
    "print(distance(star_wars, raiders)) \n",
    "print(distance(star_wars, mean_girls)) # smaller distance"
   ]
  },
  {
   "cell_type": "markdown",
   "metadata": {},
   "source": [
    "## 5. Data with Different Scales: Normalization"
   ]
  },
  {
   "cell_type": "markdown",
   "metadata": {},
   "source": [
    "**Task 1**  \n",
    "- Write a function named `min_max_normalize` that takes a list of numbers named `lst` as a parameter (`lst` short for list).\n",
    "- Begin by storing the minimum and maximum values of the list in variables named `minimum` and `maximum`\n",
    "\n",
    "<br>\n",
    "\n",
    "**Task 2**  \n",
    "- Create an empty list named `normalized`. \n",
    "- Loop through each value in the original list.\n",
    "- Using min-max normalization, normalize the value and add the normalized value to the new list.\n",
    "- After adding every normalized value to `normalized`, return `normalized`.\n",
    "\n",
    "<br>\n",
    "\n",
    "**Task 3**  \n",
    "- Call `min_max_normalize` using the given list release_dates. \n",
    "- Print the resulting list.\n",
    "- What does the date `1897` get normalized to? Why is it closer to `0` than `1`?"
   ]
  },
  {
   "cell_type": "code",
   "execution_count": 7,
   "metadata": {},
   "outputs": [],
   "source": [
    "release_dates = [1897, 1998, 2000, 1948, 1962, 1950, 1975, 1960, 2017, 1937, 1968, 1996, 1944, 1891, 1995, 1948, 2011, 1965, 1891, 1978]"
   ]
  },
  {
   "cell_type": "code",
   "execution_count": 8,
   "metadata": {},
   "outputs": [
    {
     "name": "stdout",
     "output_type": "stream",
     "text": [
      "[0.047619047619047616, 0.8492063492063492, 0.8650793650793651, 0.4523809523809524, 0.5634920634920635, 0.46825396825396826, 0.6666666666666666, 0.5476190476190477, 1.0, 0.36507936507936506, 0.6111111111111112, 0.8333333333333334, 0.42063492063492064, 0.0, 0.8253968253968254, 0.4523809523809524, 0.9523809523809523, 0.5873015873015873, 0.0, 0.6904761904761905]\n"
     ]
    }
   ],
   "source": [
    "def min_max_normalize(lst):\n",
    "    minimum = min(lst)\n",
    "    maximum = max(lst)\n",
    "    normalized = []\n",
    "    for i in lst:\n",
    "        normalized.append((i - minimum) / (maximum - minimum))\n",
    "    return normalized\n",
    "\n",
    "print(min_max_normalize(release_dates))"
   ]
  },
  {
   "cell_type": "markdown",
   "metadata": {},
   "source": [
    "1879 is closer to 0 because it is one of smallest values in the list."
   ]
  },
  {
   "cell_type": "markdown",
   "metadata": {},
   "source": [
    "## 6. Finding the Nearest Neighbors"
   ]
  },
  {
   "cell_type": "markdown",
   "metadata": {},
   "source": [
    "**Task 1**  \n",
    "- We’ve imported and normalized a movie dataset for you and printed the data for the movie `Bruce Almighty`. \n",
    "- Each movie in the dataset has three features:\n",
    "    - the normalized budget (dollars)\n",
    "    - the normalized duration (minutes)\n",
    "    - the normalized release year.\n",
    "- We’ve also imported the labels associated with every movie in the dataset. \n",
    "- The label associated with `Bruce Almighty` is a `0`, indicating that it is a bad movie. \n",
    "- Remember, a bad movie had a rating less than 7.0 on IMDb.\n",
    "- Comment out the two print lines after you have run the program.\n",
    "\n",
    "<br>\n",
    "\n",
    "**Task 2**  \n",
    "- Create a function called ` that has three parameters: the data point you want to classify named `, the dataset you are using to classify it named `, and `, the number of neighbors you are interested in.\n",
    "- For now put pass inside your function.\n",
    "\n",
    "<br>\n",
    "\n",
    "**Task 3**  \n",
    "- Inside the `classify` function remove `pass`. Create an empty list called `distances`.\n",
    "- Loop through every `title` in the `dataset`.\n",
    "- Access the data associated with every title by using `dataset[title]`.\n",
    "- Find the distance between `dataset[title]` and `unknown` and store this value in a var\n",
    "- Add the list `[distance_to_point, title]` to `distances`.\n",
    "- Outside of the loop, return `distances`.\n",
    "\n",
    "<br>\n",
    "\n",
    "**Task 4**  \n",
    "- We now have a list of distances and points. \n",
    "- We want to sort this list by the distance (from smallest to largest). \n",
    "- Before returning `distances`, use Python’s built-in `sort()` function to sort `distances`.\n",
    "\n",
    "<br>\n",
    "\n",
    "**Task 5**  \n",
    "- The `k` nearest neighbors are now the first `k` items in `distances`. \n",
    "- Create a new variable named `neighbors` and set it equal to the first `k` items of `distances`. \n",
    "- You can use Python’s built-in slice function.\n",
    "- For example, `lst[2:5]` will give you a list of the items at indices 2, 3, and 4 of `lst`.\n",
    "- Return `neighbors`.\n",
    "\n",
    "<br>\n",
    "\n",
    "**Task 6**  \n",
    "- Test the `classify` function and print the results. \n",
    "- The three parameters you should use are:\n",
    "    - `[.4, .2, .9]`\n",
    "    - `movie_dataset`\n",
    "    - `5`\n",
    "- Take a look at the `5` nearest neighbors. \n",
    "- In the next exercise, we’ll check to see how many of those neighbors are good and how many are bad."
   ]
  },
  {
   "cell_type": "code",
   "execution_count": null,
   "metadata": {},
   "outputs": [
    {
     "name": "stdout",
     "output_type": "stream",
     "text": [
      "[0.006630902005283176, 0.21843003412969283, 0.8539325842696629]\n",
      "0\n"
     ]
    }
   ],
   "source": [
    "movie_dataset = json.loads(open(\"movie_dataset.json\").read())\n",
    "movie_labels = json.loads(open(\"movie_labels.json\").read())\n",
    "\n",
    "\n",
    "print(movie_dataset['Bruce Almighty'])\n",
    "print(movie_labels['Bruce Almighty'])\n",
    "\n",
    "def distance(movie1, movie2):\n",
    "    squared_difference = 0\n",
    "    for i in range(len(movie1)):\n",
    "        squared_difference += (movie1[i] - movie2[i]) ** 2\n",
    "    final_distance = squared_difference ** 0.5\n",
    "    return final_distance"
   ]
  },
  {
   "cell_type": "code",
   "execution_count": 17,
   "metadata": {},
   "outputs": [
    {
     "name": "stdout",
     "output_type": "stream",
     "text": [
      "[0.08273614694606074, 'Lady Vengeance']\n",
      "[0.22989623153818367, 'Steamboy']\n",
      "[0.23641372358159884, 'Fateless']\n",
      "[0.26735445689589943, 'Princess Mononoke']\n",
      "[0.3311022951533416, 'Godzilla 2000']\n"
     ]
    }
   ],
   "source": [
    "def classify(unknown, dataset, k):\n",
    "    distances = []\n",
    "    for title in dataset:\n",
    "        distance_to_point = distance(dataset[title], unknown)\n",
    "        distances.append([distance_to_point, title])\n",
    "    distances.sort()\n",
    "    neighbors = distances[:k]\n",
    "    return neighbors\n",
    "\n",
    "for data in classify([.4, .2, .9], movie_dataset, 5):\n",
    "    print(data)"
   ]
  },
  {
   "cell_type": "markdown",
   "metadata": {},
   "source": [
    "## 7. Count Neighbors"
   ]
  },
  {
   "cell_type": "markdown",
   "metadata": {},
   "source": [
    "**Task 1**  \n",
    "- Our classify function now needs to have knowledge of the labels. \n",
    "- Add a parameter named `labels` to `classify`. It should be the third parameter.\n",
    "\n",
    "<br>\n",
    "\n",
    "**Task 2**  \n",
    "- Continue writing your classify function.\n",
    "- Create two variables named `num_good` and `num_bad` and set them each at `0`. \n",
    "- Use a for loop to loop through every `movie` in `neighbors`. \n",
    "- Store their title in a variable called `title`.\n",
    "- Remember, every neighbor is a list of `[distance, title]` so the title can be found at index `1`.\n",
    "- For now, return `title` at the end of your function (outside of the loop).\n",
    "\n",
    "<br>\n",
    "\n",
    "**Task 3**  \n",
    "- Use `labels` and `title` to find the label of each movie:\n",
    "    - If that label is a `0`, add one to `num_bad`.\n",
    "    - If that label is a `1`, add one to `num_good`.\n",
    "- For now, return `num_good` at the end of your function.\n",
    "\n",
    "<br>\n",
    "\n",
    "**Task 4**  \n",
    "- We can finally classify our unknown movie:\n",
    "    - If `num_good` is greater than `num_bad`, return a `1`.\n",
    "    - Otherwise, return a `0`.\n",
    "\n",
    "<br>\n",
    "\n",
    "**Task 5**  \n",
    "- Call `classify` using the following parameters and print the result.\n",
    "    - `[.4, .2, .9]` as the movie you’re looking to classify.\n",
    "    - `movie_dataset` the training dataset.\n",
    "    - `movie_labels` as the training labels.\n",
    "    - `k = 5`\n",
    "- Does the system predict this movie will be good or bad?"
   ]
  },
  {
   "cell_type": "code",
   "execution_count": null,
   "metadata": {},
   "outputs": [
    {
     "name": "stdout",
     "output_type": "stream",
     "text": [
      "1\n"
     ]
    }
   ],
   "source": [
    "movie_dataset = json.loads(open(\"movie_dataset.json\").read())\n",
    "movie_labels = json.loads(open(\"movie_labels.json\").read())\n",
    "\n",
    "\n",
    "def distance(movie1, movie2):\n",
    "    squared_difference = 0\n",
    "    for i in range(len(movie1)):\n",
    "        squared_difference += (movie1[i] - movie2[i]) ** 2\n",
    "    final_distance = squared_difference ** 0.5\n",
    "    return final_distance\n",
    "\n",
    "def classify(unknown, dataset, labels, k):\n",
    "    distances = []\n",
    "    #Looping through all points in the dataset\n",
    "    for title in dataset:\n",
    "        movie = dataset[title]\n",
    "        distance_to_point = distance(movie, unknown)\n",
    "        #Adding the distance and point associated with that distance\n",
    "        distances.append([distance_to_point, title])\n",
    "    distances.sort()\n",
    "    #Taking only the k closest points\n",
    "    neighbors = distances[:k]\n",
    "    num_good = 0\n",
    "    num_bad = 0\n",
    "    for movie in neighbors:\n",
    "        title = movie[1]\n",
    "        if labels[title] == 0:\n",
    "            num_bad += 1\n",
    "        else:\n",
    "            num_good += 1\n",
    "    return 1 if num_good > num_bad else 0\n",
    "\n",
    "print(classify([.4, .2, .9], movie_dataset, movie_labels, 5))"
   ]
  },
  {
   "cell_type": "markdown",
   "metadata": {},
   "source": [
    "## 8. Classify Your Favorite Movie"
   ]
  },
  {
   "cell_type": "markdown",
   "metadata": {},
   "source": [
    "Nice work! Your classifier is now able to predict whether a movie will be good or bad. So far, we’ve only tested this on a completely random point `[.4, .2, .9]`. In this exercise we’re going to pick a real movie, normalize it, and run it through our classifier to see what it predicts!\n",
    "\n",
    "In the instructions below, we are going to be testing our classifier using the 2017 movie *Call Me By Your Name*. Feel free to pick your favorite movie instead!"
   ]
  },
  {
   "cell_type": "markdown",
   "metadata": {},
   "source": [
    "**Task 1**  \n",
    "- To begin, we want to make sure the movie that we want to classify isn’t already in our database. \n",
    "- This is important because we don’t want one of the nearest neighbors to be itself!\n",
    "- You can do this by using the `in` keyword.\n",
    "- Begin by printing if the title of your movie is in `movie_dataset`. This should print False.\n",
    "\n",
    "<br>\n",
    "\n",
    "**Task 2**  \n",
    "- Once you confirm your movie is not in your database, we need to make a datapoint for your movie. \n",
    "- Create a variable named `my_movie` and set it equal to a list of three numbers. They should be:\n",
    "    - The movie’s budget (dollars)\n",
    "    - The movie’s runtime (minutes)\n",
    "    - The year the movie was released\n",
    "- Make sure to put the information in that order.\n",
    "\n",
    "<br>\n",
    "\n",
    "**Task 3**  \n",
    "- Next, we want to normalize this datapoint. \n",
    "- We’ve included the function `normalize_point` which takes a datapoint as a parameter and returns the point normalized. \n",
    "- Create a variable called `normalized_my_movie` and set it equal to the normalized value of `my_movie`. \n",
    "- Print the result!\n",
    "\n",
    "<br>\n",
    "\n",
    "**Task 4**  \n",
    "- Finally, call classify with the following parameters:\n",
    "    - `normalized_my_movie`\n",
    "    - `movie_dataset`\n",
    "    - `movie_labels`\n",
    "    - `5`\n",
    "- Print the result? \n",
    "- Did your classifier think your movie was good or bad?"
   ]
  },
  {
   "cell_type": "code",
   "execution_count": null,
   "metadata": {},
   "outputs": [],
   "source": [
    "movie_dataset = json.loads(open(\"movie_dataset.json\").read())\n",
    "movie_labels = json.loads(open(\"movie_labels.json\").read())\n",
    "\n",
    "\n",
    "def distance(movie1, movie2):\n",
    "    squared_difference = 0\n",
    "    for i in range(len(movie1)):\n",
    "        squared_difference += (movie1[i] - movie2[i]) ** 2\n",
    "    final_distance = squared_difference ** 0.5\n",
    "    return final_distance\n",
    "\n",
    "def classify(unknown, dataset, labels, k):\n",
    "    distances = []\n",
    "    #Looping through all points in the dataset\n",
    "    for title in dataset:\n",
    "        movie = dataset[title]\n",
    "        distance_to_point = distance(movie, unknown)\n",
    "        #Adding the distance and point associated with that distance\n",
    "        distances.append([distance_to_point, title])\n",
    "    distances.sort()\n",
    "    #Taking only the k closest points\n",
    "    neighbors = distances[0:k]\n",
    "    num_good = 0\n",
    "    num_bad = 0\n",
    "    for neighbor in neighbors:\n",
    "        title = neighbor[1]\n",
    "        if labels[title] == 0:\n",
    "            num_bad += 1\n",
    "        elif labels[title] == 1:\n",
    "            num_good += 1\n",
    "    if num_good > num_bad:\n",
    "        return 1\n",
    "    else:\n",
    "        return 0\n"
   ]
  },
  {
   "cell_type": "code",
   "execution_count": 32,
   "metadata": {},
   "outputs": [
    {
     "name": "stdout",
     "output_type": "stream",
     "text": [
      "False\n",
      "[0.014735359601515157, 0.4948805460750853, 0.9550561797752809]\n",
      "1\n"
     ]
    }
   ],
   "source": [
    "# Task 1\n",
    "print(\"The Hobbit: An Unexpected Journey\" in movie_labels)\n",
    "\n",
    "# Task 2\n",
    "my_movie = [180000000, 182, 2012]\n",
    "\n",
    "# Task 3\n",
    "# normalized_my_movie = normalize_point(my_movie)\n",
    "normalized_my_movie = [0.014735359601515157, 0.4948805460750853, 0.9550561797752809]\n",
    "print(normalized_my_movie)\n",
    "\n",
    "# Task 4\n",
    "print(classify(normalized_my_movie, movie_dataset, movie_labels, 5))"
   ]
  },
  {
   "cell_type": "markdown",
   "metadata": {},
   "source": [
    "## 9. Training and Validation Sets"
   ]
  },
  {
   "cell_type": "markdown",
   "metadata": {},
   "source": [
    "**Task 1**  \n",
    "- We’ve `training_set`, `training_labels`, `validation_set`, and `validation_labels`. \n",
    "- Let’s take a look at one of the movies in `validation_set`.\n",
    "- The movie `\"Seven Samurai\"` is in `validation_set`. \n",
    "- Print out the data associated with *Bee Movie*. \n",
    "- Print *Seven Samurai* ‘s label as well (which can be found in `validation_labels`).\n",
    "- Is *Seven Samurai* a good or bad movie?\n",
    "\n",
    "<br>\n",
    "\n",
    "**Task 2**  \n",
    "- Let’s have our classifier predict whether *Seven Samurai* is good or bad using k = 5. Call the classify function using the following parameters:\n",
    "    - *Seven Samurai*‘s data\n",
    "    - `training_set`\n",
    "    - `training_labels`\n",
    "    - `5`\n",
    "- Store the results in a variable named `guess` and print `guess`.\n",
    "\n",
    "<br>\n",
    "\n",
    "**Task 3**  \n",
    "- Let’s check to see if our classification got it right. \n",
    "- If `guess` is equal to *Seven Samurai*‘s real class (found in `validation_labels`), print `\"Correct!\"`. Otherwise, print `\"Wrong!\"`."
   ]
  },
  {
   "cell_type": "code",
   "execution_count": null,
   "metadata": {},
   "outputs": [
    {
     "name": "stdout",
     "output_type": "stream",
     "text": [
      "3655\n",
      "3289\n",
      "366\n"
     ]
    }
   ],
   "source": [
    "movie_dataset = json.loads(open(\"movie_dataset.json\").read())\n",
    "movie_labels = json.loads(open(\"movie_labels.json\").read())\n",
    "print(len(movie_dataset)) # 5364 movies in dataset\n",
    "\n",
    "# 3289 movies in training set\n",
    "training_set = {title: movie_dataset[title] for title in list(movie_dataset.keys())[:3289]}\n",
    "training_labels = {title: movie_labels[title] for title in list(movie_labels.keys())[:3289]}\n",
    "# Last 366 movies in validation set\n",
    "validation_set = {title: movie_dataset[title] for title in list(movie_dataset.keys())[3289:]}\n",
    "validation_labels = {title: movie_labels[title] for title in list(movie_labels.keys())[3289:]}\n",
    "\n",
    "print(len(training_set)) # 3289\n",
    "print(len(validation_set)) # 366\n",
    "\n",
    "\n",
    "def distance(movie1, movie2):\n",
    "    squared_difference = 0\n",
    "    for i in range(len(movie1)):\n",
    "        squared_difference += (movie1[i] - movie2[i]) ** 2\n",
    "    final_distance = squared_difference ** 0.5\n",
    "    return final_distance\n",
    "\n",
    "def classify(unknown, dataset, labels, k):\n",
    "    distances = []\n",
    "    #Looping through all points in the dataset\n",
    "    for title in dataset:\n",
    "        movie = dataset[title]\n",
    "        distance_to_point = distance(movie, unknown)\n",
    "        #Adding the distance and point associated with that distance\n",
    "        distances.append([distance_to_point, title])\n",
    "    distances.sort()\n",
    "    #Taking only the k closest points\n",
    "    neighbors = distances[0:k]\n",
    "    num_good = 0\n",
    "    num_bad = 0\n",
    "    for neighbor in neighbors:\n",
    "        title = neighbor[1]\n",
    "        if labels[title] == 0:\n",
    "            num_bad += 1\n",
    "        elif labels[title] == 1:\n",
    "            num_good += 1\n",
    "    if num_good > num_bad:\n",
    "        return 1\n",
    "    else:\n",
    "        return 0\n"
   ]
  },
  {
   "cell_type": "code",
   "execution_count": 42,
   "metadata": {},
   "outputs": [
    {
     "name": "stdout",
     "output_type": "stream",
     "text": [
      "[0.00016370856990614123, 0.5631399317406144, 0.30337078651685395]\n",
      "Correct!\n"
     ]
    }
   ],
   "source": [
    "# Task 1\n",
    "print(validation_set[\"Seven Samurai\"])\n",
    "\n",
    "# Task 2\n",
    "guess = classify(validation_set[\"Seven Samurai\"], training_set, training_labels, 5)\n",
    "\n",
    "# Task 3\n",
    "if guess == validation_labels[\"Seven Samurai\"]:\n",
    "    print(\"Correct!\")\n",
    "else:\n",
    "    print(\"Wrong!\")"
   ]
  },
  {
   "cell_type": "markdown",
   "metadata": {},
   "source": [
    "## 10. Choosing K"
   ]
  },
  {
   "cell_type": "markdown",
   "metadata": {},
   "source": [
    "**Task 1**  \n",
    "- Begin by creating a function called `find_validation_accuracy` that takes five parameters. \n",
    "- The parameters should be `training_set`, `training_labels`, `validation_set`, `validation_labels`, and `k`.\n",
    "\n",
    "<br>\n",
    "\n",
    "**Task 2**  \n",
    "- Create a variable called `num_correct` and have it begin at `0.0`. \n",
    "- Loop through the movies of `validation_set`, and call `classify` using each movie’s data, the `training_set`, the `training_labels`, and `k`. \n",
    "- Store the result in a variable called `guess`. \n",
    "- For now, return `guess` outside of your loop.\n",
    "- Remember, the movie’s data can be found by using `validation_set[title]`.\n",
    "\n",
    "<br>\n",
    "\n",
    "**Task 3**  \n",
    "- Inside the for loop, compare `guess` to the corresponding label in `validation_labels`. \n",
    "- If they were equal, add `1` to `num_correct`. \n",
    "- For now, outside of the for loop, return `num_correct`\n",
    "\n",
    "<br>\n",
    "\n",
    "**Task 4**  \n",
    "- Outside the for loop return the validation error. \n",
    "- This should be `num_correct` divided by the total number of points in the validation set.\n",
    "\n",
    "<br>\n",
    "\n",
    "**Task 5**  \n",
    "- Call `find_validation_accuracy` with `k = 3`. \n",
    "- Print the results The code should take a couple of seconds to run."
   ]
  },
  {
   "cell_type": "code",
   "execution_count": null,
   "metadata": {},
   "outputs": [],
   "source": [
    "movie_dataset = json.loads(open(\"movie_dataset.json\").read())\n",
    "movie_labels = json.loads(open(\"movie_labels.json\").read())\n",
    "\n",
    "# 3289 movies in training set\n",
    "training_set = {title: movie_dataset[title] for title in list(movie_dataset.keys())[:3289]}\n",
    "training_labels = {title: movie_labels[title] for title in list(movie_labels.keys())[:3289]}\n",
    "# Last 366 movies in validation set\n",
    "validation_set = {title: movie_dataset[title] for title in list(movie_dataset.keys())[3289:]}\n",
    "validation_labels = {title: movie_labels[title] for title in list(movie_labels.keys())[3289:]}\n",
    "\n",
    "def distance(movie1, movie2):\n",
    "    squared_difference = 0\n",
    "    for i in range(len(movie1)):\n",
    "        squared_difference += (movie1[i] - movie2[i]) ** 2\n",
    "    final_distance = squared_difference ** 0.5\n",
    "    return final_distance\n",
    "\n",
    "def classify(unknown, dataset, labels, k):\n",
    "    distances = []\n",
    "    #Looping through all points in the dataset\n",
    "    for title in dataset:\n",
    "        movie = dataset[title]\n",
    "        distance_to_point = distance(movie, unknown)\n",
    "        #Adding the distance and point associated with that distance\n",
    "        distances.append([distance_to_point, title])\n",
    "    distances.sort()\n",
    "    #Taking only the k closest points\n",
    "    neighbors = distances[0:k]\n",
    "    num_good = 0\n",
    "    num_bad = 0\n",
    "    for neighbor in neighbors:\n",
    "        title = neighbor[1]\n",
    "        if labels[title] == 0:\n",
    "            num_bad += 1\n",
    "        elif labels[title] == 1:\n",
    "            num_good += 1\n",
    "    if num_good > num_bad:\n",
    "        return 1\n",
    "    else:\n",
    "        return 0\n",
    "\n",
    "def find_validation_accuracy(training_set, training_labels, validation_set, validation_labels, k):\n",
    "    num_correct = 0.0\n",
    "    for movie in validation_set:\n",
    "        guess = classify(validation_set[movie], training_set, training_labels, k)\n",
    "        if guess == validation_labels[movie]:\n",
    "            num_correct += 1\n",
    "    return num_correct / len(validation_set)"
   ]
  },
  {
   "cell_type": "code",
   "execution_count": 51,
   "metadata": {},
   "outputs": [
    {
     "name": "stdout",
     "output_type": "stream",
     "text": [
      "0.6120218579234973\n"
     ]
    }
   ],
   "source": [
    "print(find_validation_accuracy(training_set, training_labels, validation_set, validation_labels, 3))"
   ]
  },
  {
   "cell_type": "markdown",
   "metadata": {},
   "source": [
    "## 12. Using sklearn"
   ]
  },
  {
   "cell_type": "markdown",
   "metadata": {},
   "source": [
    "**Task 1**  \n",
    "- Create a `KNeighborsClassifier` named classifier that uses `k=5`.\n",
    "\n",
    "<br>\n",
    "\n",
    "**Task 2**  \n",
    "- Train your classifier using `movie_dataset` as the training points and `labels` as the training labels.\n",
    "\n",
    "<br>\n",
    "\n",
    "**Task 3**  \n",
    "- Let’s classify some movies. \n",
    "- Classify the following movies: `[.45, .2, .5]`, `[.25, .8, .9]`, `[.1, .1, .9]`. \n",
    "- Print the classifications!\n",
    "- Which movies were classified as good movies and which were classified as bad movies?\n",
    "- Remember, those three numbers associated with a movie are the normalized budget, run time, and year of release."
   ]
  },
  {
   "cell_type": "code",
   "execution_count": null,
   "metadata": {},
   "outputs": [],
   "source": [
    "from movies import movie_dataset, labels\n",
    "assert len(movie_dataset) == len(labels)"
   ]
  },
  {
   "cell_type": "code",
   "execution_count": 58,
   "metadata": {},
   "outputs": [
    {
     "data": {
      "text/plain": [
       "array([1, 1, 0])"
      ]
     },
     "execution_count": 58,
     "metadata": {},
     "output_type": "execute_result"
    }
   ],
   "source": [
    "# Task 1\n",
    "classifier = KNeighborsClassifier(n_neighbors = 5)\n",
    "\n",
    "# Task 2\n",
    "classifier.fit(movie_dataset, labels)\n",
    "\n",
    "# Task 3\n",
    "classifier.predict([[.45, .2, .5], [.25, .8, .9], [.1, .1, .9]])"
   ]
  }
 ],
 "metadata": {
  "kernelspec": {
   "display_name": "Codecademy-XphA9WxU",
   "language": "python",
   "name": "python3"
  },
  "language_info": {
   "codemirror_mode": {
    "name": "ipython",
    "version": 3
   },
   "file_extension": ".py",
   "mimetype": "text/x-python",
   "name": "python",
   "nbconvert_exporter": "python",
   "pygments_lexer": "ipython3",
   "version": "3.11.1"
  }
 },
 "nbformat": 4,
 "nbformat_minor": 2
}
