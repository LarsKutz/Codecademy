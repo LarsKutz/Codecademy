{
 "cells": [
  {
   "cell_type": "markdown",
   "metadata": {},
   "source": [
    "# K-Nearest Neighbor Regressor"
   ]
  },
  {
   "cell_type": "code",
   "execution_count": 12,
   "metadata": {},
   "outputs": [],
   "source": [
    "import json\n",
    "from sklearn.neighbors import KNeighborsRegressor"
   ]
  },
  {
   "cell_type": "markdown",
   "metadata": {},
   "source": [
    "## 1. Regression"
   ]
  },
  {
   "cell_type": "markdown",
   "metadata": {},
   "source": [
    "**Task 1**  \n",
    "- We’ve imported most of the K-Nearest Neighbor algorithm. \n",
    "- Before we dive into finishing the regressor, let’s refresh ourselves with the data.\n",
    "- At the bottom of your code, print `movie_dataset[\"Life of Pi\"]`. \n",
    "- You should see a list of three values. \n",
    "- These values are the normalized values for the movie’s budget, runtime, and release year.\n",
    "\n",
    "<br>\n",
    "\n",
    "**Task 2**  \n",
    "- Print the rating for `\"Life of Pi\"`. \n",
    "- This can be found in `movie_ratings`.\n",
    "\n",
    "<br>\n",
    "\n",
    "**Task 3**  \n",
    "- We’ve included the majority of the K-Nearest Neighbor algorithm in the `predict()` function. \n",
    "- Right now, the variable neighbors stores a list of `[distance, title]` pairs.\n",
    "- Loop through every neighbor and find its rating in `movie_ratings`. \n",
    "- Add those ratings together and return that sum divided by the total number of neighbors.\n",
    "\n",
    "<br>\n",
    "\n",
    "**Task 4**  \n",
    "- Call `predict` with the following parameters:\n",
    "    - `[0.016, 0.300, 1.022]`\n",
    "    - `movie_dataset`\n",
    "    - `movie_ratings`\n",
    "    - `5`\n",
    "- Print the result.\n",
    "- Note that the list `[0.016, 0.300, 1.022]` is the normalized budget, runtime, and year of the movie *Incredibles 2*! \n",
    "- The normalized year is larger than 1 because our training set only had movies that were released between 1927 and 2016 — *Incredibles 2* was released in 2018."
   ]
  },
  {
   "cell_type": "code",
   "execution_count": 9,
   "metadata": {},
   "outputs": [
    {
     "name": "stdout",
     "output_type": "stream",
     "text": [
      "[0.00982356711895032, 0.30716723549488056, 0.9550561797752809]\n",
      "8.0\n",
      "6.859999999999999\n"
     ]
    }
   ],
   "source": [
    "movie_dataset = json.loads(open(\"movie_dataset.json\").read())\n",
    "movie_ratings = json.loads(open(\"movie_ratings.json\").read())\n",
    "\n",
    "\n",
    "def distance(movie1, movie2):\n",
    "    squared_difference = 0\n",
    "    for i in range(len(movie1)):\n",
    "        squared_difference += (movie1[i] - movie2[i]) ** 2\n",
    "    final_distance = squared_difference ** 0.5\n",
    "    return final_distance\n",
    "\n",
    "def predict(unknown, dataset, movie_ratings, k):\n",
    "    distances = []\n",
    "    #Looping through all points in the dataset\n",
    "    for title in dataset:\n",
    "        movie = dataset[title]\n",
    "        distance_to_point = distance(movie, unknown)\n",
    "        #Adding the distance and point associated with that distance\n",
    "        distances.append([distance_to_point, title])\n",
    "    distances.sort()\n",
    "    #Taking only the k closest points\n",
    "    neighbors = distances[0:k]\n",
    "    rating_sum = 0\n",
    "    for neighbor in neighbors:\n",
    "        rating = movie_ratings[neighbor[1]]\n",
    "        rating_sum += rating\n",
    "    return rating_sum / k\n",
    "\n",
    "\n",
    "\n",
    "print(movie_dataset[\"Life of Pi\"])\n",
    "print(movie_ratings[\"Life of Pi\"])\n",
    "print(predict([0.016, 0.300, 1.022], movie_dataset, movie_ratings, 5))"
   ]
  },
  {
   "cell_type": "markdown",
   "metadata": {},
   "source": [
    "## 2. Weighted Regression"
   ]
  },
  {
   "cell_type": "markdown",
   "metadata": {},
   "source": [
    "**Task 1**  \n",
    "- Let’s redo our `predict()` function so it computes the weighted average.\n",
    "- Before you begin looping through the neighbors, create a variable named `numerator` and set it to `0`. \n",
    "- Loop through every neighbor and add the neighbor’s rating (found in `movie_ratings`) divided by the neighbor’s distance to `numerator`.\n",
    "- For now, return `numerator`.\n",
    "\n",
    "<br>\n",
    "\n",
    "**Task 2**  \n",
    "- Let’s now calculate the denominator of the weighted average. \n",
    "- Before your loop, create a variable named `denominator` and set it equal to `0`.\n",
    "- Inside your for loop, add `1` divided by the neighbor’s distance to `denominator`.\n",
    "- Outside the loop, return `numerator/denominator`.\n",
    "\n",
    "<br>\n",
    "\n",
    "**Task 3**  \n",
    "- Once again call your `predict` function using *Incredibles 2*‘s features. \n",
    "- Those features were `[0.016, 0.300, 1.022]`. \n",
    "- Set `k = 5`. \n",
    "- Print the results.\n",
    "- How did using a weighted average change the predicted rating? Remember, before calculating the weighted average the prediction was 6.86."
   ]
  },
  {
   "cell_type": "code",
   "execution_count": 11,
   "metadata": {},
   "outputs": [
    {
     "name": "stdout",
     "output_type": "stream",
     "text": [
      "6.849139678439045\n"
     ]
    }
   ],
   "source": [
    "movie_dataset = json.loads(open(\"movie_dataset.json\").read())\n",
    "movie_ratings = json.loads(open(\"movie_ratings.json\").read())\n",
    "\n",
    "\n",
    "def distance(movie1, movie2):\n",
    "    squared_difference = 0\n",
    "    for i in range(len(movie1)):\n",
    "        squared_difference += (movie1[i] - movie2[i]) ** 2\n",
    "    final_distance = squared_difference ** 0.5\n",
    "    return final_distance\n",
    "\n",
    "def predict(unknown, dataset, movie_ratings, k):\n",
    "    distances = []\n",
    "    #Looping through all points in the dataset\n",
    "    for title in dataset:\n",
    "        movie = dataset[title]\n",
    "        distance_to_point = distance(movie, unknown)\n",
    "        #Adding the distance and point associated with that distance\n",
    "        distances.append([distance_to_point, title])\n",
    "    distances.sort()\n",
    "    #Taking only the k closest points\n",
    "    neighbors = distances[0:k]\n",
    "    numerator = 0\n",
    "    denominator = 0\n",
    "    for neighbor in neighbors:\n",
    "        rating = movie_ratings[neighbor[1]]\n",
    "        numerator += rating / neighbor[0]\n",
    "        denominator += 1 / neighbor[0]\n",
    "    return numerator/denominator\n",
    "\n",
    "\n",
    "print(predict([0.016, 0.300, 1.022], movie_dataset, movie_ratings, 5))"
   ]
  },
  {
   "cell_type": "markdown",
   "metadata": {},
   "source": [
    "## 3. Scikit-learn"
   ]
  },
  {
   "cell_type": "markdown",
   "metadata": {},
   "source": [
    "**Task 1**  \n",
    "- Create a `KNeighborsRegressor` named `regressor` where `n_neighbors = 5` and `weights = \"distance\"`.\n",
    "\n",
    "<br>\n",
    "\n",
    "**Task 2**  \n",
    "- We’ve also imported some movie data. \n",
    "- Train your classifier using `movie_dataset` as the training points and `movie_ratings` as the training values.\n",
    "\n",
    "<br>\n",
    "\n",
    "**Task 3**  \n",
    "- Let’s predict some movie ratings. \n",
    "- Predict the ratings for the following movies:\n",
    "    - `[0.016, 0.300, 1.022]`,\n",
    "    - `[0.0004092981, 0.283, 1.0112]`,\n",
    "    - `[0.00687649, 0.235, 1.0112]` \n",
    "- These three lists are the features for *Incredibles 2*, *The Big Sick*, and *The Greatest Showman*. \n",
    "- Those three numbers associated with a movie are the normalized budget, runtime, and year of release.\n",
    "- Print the predictions!"
   ]
  },
  {
   "cell_type": "code",
   "execution_count": 13,
   "metadata": {},
   "outputs": [],
   "source": [
    "movie_dataset = json.loads(open(\"movie_dataset.json\").read())\n",
    "movie_ratings = json.loads(open(\"movie_ratings.json\").read())"
   ]
  },
  {
   "cell_type": "code",
   "execution_count": 16,
   "metadata": {},
   "outputs": [
    {
     "data": {
      "text/plain": [
       "array([6.84913968, 5.47572913, 6.91067999])"
      ]
     },
     "execution_count": 16,
     "metadata": {},
     "output_type": "execute_result"
    }
   ],
   "source": [
    "# Task 1\n",
    "regressor = KNeighborsRegressor(n_neighbors=5, weights=\"distance\")\n",
    "\n",
    "# Task 2\n",
    "regressor.fit(list(movie_dataset.values()), list(movie_ratings.values()))\n",
    "\n",
    "# Task 3\n",
    "regressor.predict([[0.016, 0.300, 1.022], [0.0004092981, 0.283, 1.0112], [0.00687649, 0.235, 1.0112]])"
   ]
  }
 ],
 "metadata": {
  "kernelspec": {
   "display_name": "Codecademy-XphA9WxU",
   "language": "python",
   "name": "python3"
  },
  "language_info": {
   "codemirror_mode": {
    "name": "ipython",
    "version": 3
   },
   "file_extension": ".py",
   "mimetype": "text/x-python",
   "name": "python",
   "nbconvert_exporter": "python",
   "pygments_lexer": "ipython3",
   "version": "3.11.1"
  }
 },
 "nbformat": 4,
 "nbformat_minor": 2
}
