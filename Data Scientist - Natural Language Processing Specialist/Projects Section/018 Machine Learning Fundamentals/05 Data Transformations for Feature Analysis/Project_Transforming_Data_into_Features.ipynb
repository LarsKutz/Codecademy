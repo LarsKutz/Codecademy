{
 "cells": [
  {
   "cell_type": "markdown",
   "metadata": {},
   "source": [
    "# Transforming Data into Features"
   ]
  },
  {
   "cell_type": "markdown",
   "metadata": {},
   "source": [
    "You are a data scientist at a clothing company and are working with a data set of customer reviews. This dataset is originally from [Kaggle](https://www.kaggle.com/datasets/nicapotato/womens-ecommerce-clothing-reviews) and has a lot of potential for various machine learning purposes. You are tasked with transforming some of these features to make the data more useful for analysis. To do this, you will have time to practice the following:\n",
    "    - Transforming categorical data\n",
    "    - Scaling your data\n",
    "    - Working with date-time features"
   ]
  },
  {
   "cell_type": "code",
   "execution_count": 108,
   "metadata": {},
   "outputs": [],
   "source": [
    "import pandas as pd\n",
    "import numpy as np\n",
    "from sklearn.preprocessing import StandardScaler"
   ]
  },
  {
   "cell_type": "markdown",
   "metadata": {},
   "source": [
    "##  1."
   ]
  },
  {
   "cell_type": "markdown",
   "metadata": {},
   "source": [
    "- Let’s start with some basic exploring by performing the following:\n",
    "- First, import your dataset. It is stored under a file named `reviews.csv`. "
   ]
  },
  {
   "cell_type": "code",
   "execution_count": 109,
   "metadata": {},
   "outputs": [
    {
     "data": {
      "application/vnd.microsoft.datawrangler.viewer.v0+json": {
       "columns": [
        {
         "name": "index",
         "rawType": "int64",
         "type": "integer"
        },
        {
         "name": "clothing_id",
         "rawType": "int64",
         "type": "integer"
        },
        {
         "name": "age",
         "rawType": "int64",
         "type": "integer"
        },
        {
         "name": "review_title",
         "rawType": "object",
         "type": "string"
        },
        {
         "name": "review_text",
         "rawType": "object",
         "type": "string"
        },
        {
         "name": "recommended",
         "rawType": "bool",
         "type": "boolean"
        },
        {
         "name": "division_name",
         "rawType": "object",
         "type": "string"
        },
        {
         "name": "department_name",
         "rawType": "object",
         "type": "string"
        },
        {
         "name": "review_date",
         "rawType": "object",
         "type": "string"
        },
        {
         "name": "rating",
         "rawType": "object",
         "type": "string"
        }
       ],
       "conversionMethod": "pd.DataFrame",
       "ref": "95100a9e-e83d-4ac3-9341-bc958912239a",
       "rows": [
        [
         "0",
         "1095",
         "39",
         "Cute,looks like a dress on",
         "If you are afraid of the jumpsuit trend but like dresses, this will be for you. \r\n the cut is flattering, and may not need a bra (i am droppy, but it was fine). the legs are wide enough that one time, i had both legs in one hole, so-to-speak, and it is very flowy. the patterns are both nice, i like the geometric one, but the polka dot is always a classic. the petite size fit me just right (xsp) at 115 lbs, 30dd. i like the tie it goes from around the cups to tie on the back, so you can almost ti",
         "True",
         "General",
         "Dresses",
         "2019-07-08",
         "Liked it"
        ],
        [
         "1",
         "1095",
         "28",
         "So cute, great print!",
         "I love fitted top dresses like this but i find them hard to fit well on my body. this one fit perfectly, straps can be let out or taken in easily, and i get tons of comments on the print!",
         "True",
         "General",
         "Dresses",
         "2019-05-17",
         "Loved it"
        ],
        [
         "2",
         "699",
         "37",
         "So flattering!",
         "I love these cozy, fashionable leggings. they are super flattering and thick enough to wear to yoga or out and about in the real world. i will definitely be getting another pair! they seem true to size. i am tall (5'11) and usually wear a lg.",
         "True",
         "Initmates",
         "Intimate",
         "2019-06-24",
         "Loved it"
        ],
        [
         "3",
         "1072",
         "36",
         "Effortless",
         "Another reviewer said it best, \"i love the way this dress makes me feel.\" i couldn't agree more. the lines are perfect and effortless. \r\nwith all the different reviews on size, i went into the store to try it on. i am usually always a s or m at retailer and a s fit perfectly. i think sizing down any more takes away from the casual look of the dress. i am 5' 5\", 130, and have a small bust.",
         "True",
         "General Petite",
         "Dresses",
         "2019-12-06",
         "Loved it"
        ],
        [
         "4",
         "1094",
         "32",
         "You need this!",
         "Rompers are my fav so i'm biased writing this review. although they are a little tricky with the fit i definitely can say that this beauty makes my body look amazing! the cut of the fabric makes for a great shape. yes, the first couple of buttons  are tough to get on but i'm guessing that after a couple of wears it will get easier. i got my usual size 4 and it fit like it was made specifically for me. i'm very happy with this purchase.",
         "True",
         "General",
         "Dresses",
         "2019-10-04",
         "Loved it"
        ]
       ],
       "shape": {
        "columns": 9,
        "rows": 5
       }
      },
      "text/html": [
       "<div>\n",
       "<style scoped>\n",
       "    .dataframe tbody tr th:only-of-type {\n",
       "        vertical-align: middle;\n",
       "    }\n",
       "\n",
       "    .dataframe tbody tr th {\n",
       "        vertical-align: top;\n",
       "    }\n",
       "\n",
       "    .dataframe thead th {\n",
       "        text-align: right;\n",
       "    }\n",
       "</style>\n",
       "<table border=\"1\" class=\"dataframe\">\n",
       "  <thead>\n",
       "    <tr style=\"text-align: right;\">\n",
       "      <th></th>\n",
       "      <th>clothing_id</th>\n",
       "      <th>age</th>\n",
       "      <th>review_title</th>\n",
       "      <th>review_text</th>\n",
       "      <th>recommended</th>\n",
       "      <th>division_name</th>\n",
       "      <th>department_name</th>\n",
       "      <th>review_date</th>\n",
       "      <th>rating</th>\n",
       "    </tr>\n",
       "  </thead>\n",
       "  <tbody>\n",
       "    <tr>\n",
       "      <th>0</th>\n",
       "      <td>1095</td>\n",
       "      <td>39</td>\n",
       "      <td>Cute,looks like a dress on</td>\n",
       "      <td>If you are afraid of the jumpsuit trend but li...</td>\n",
       "      <td>True</td>\n",
       "      <td>General</td>\n",
       "      <td>Dresses</td>\n",
       "      <td>2019-07-08</td>\n",
       "      <td>Liked it</td>\n",
       "    </tr>\n",
       "    <tr>\n",
       "      <th>1</th>\n",
       "      <td>1095</td>\n",
       "      <td>28</td>\n",
       "      <td>So cute, great print!</td>\n",
       "      <td>I love fitted top dresses like this but i find...</td>\n",
       "      <td>True</td>\n",
       "      <td>General</td>\n",
       "      <td>Dresses</td>\n",
       "      <td>2019-05-17</td>\n",
       "      <td>Loved it</td>\n",
       "    </tr>\n",
       "    <tr>\n",
       "      <th>2</th>\n",
       "      <td>699</td>\n",
       "      <td>37</td>\n",
       "      <td>So flattering!</td>\n",
       "      <td>I love these cozy, fashionable leggings. they ...</td>\n",
       "      <td>True</td>\n",
       "      <td>Initmates</td>\n",
       "      <td>Intimate</td>\n",
       "      <td>2019-06-24</td>\n",
       "      <td>Loved it</td>\n",
       "    </tr>\n",
       "    <tr>\n",
       "      <th>3</th>\n",
       "      <td>1072</td>\n",
       "      <td>36</td>\n",
       "      <td>Effortless</td>\n",
       "      <td>Another reviewer said it best, \"i love the way...</td>\n",
       "      <td>True</td>\n",
       "      <td>General Petite</td>\n",
       "      <td>Dresses</td>\n",
       "      <td>2019-12-06</td>\n",
       "      <td>Loved it</td>\n",
       "    </tr>\n",
       "    <tr>\n",
       "      <th>4</th>\n",
       "      <td>1094</td>\n",
       "      <td>32</td>\n",
       "      <td>You need this!</td>\n",
       "      <td>Rompers are my fav so i'm biased writing this ...</td>\n",
       "      <td>True</td>\n",
       "      <td>General</td>\n",
       "      <td>Dresses</td>\n",
       "      <td>2019-10-04</td>\n",
       "      <td>Loved it</td>\n",
       "    </tr>\n",
       "  </tbody>\n",
       "</table>\n",
       "</div>"
      ],
      "text/plain": [
       "   clothing_id  age                review_title  \\\n",
       "0         1095   39  Cute,looks like a dress on   \n",
       "1         1095   28       So cute, great print!   \n",
       "2          699   37              So flattering!   \n",
       "3         1072   36                  Effortless   \n",
       "4         1094   32              You need this!   \n",
       "\n",
       "                                         review_text  recommended  \\\n",
       "0  If you are afraid of the jumpsuit trend but li...         True   \n",
       "1  I love fitted top dresses like this but i find...         True   \n",
       "2  I love these cozy, fashionable leggings. they ...         True   \n",
       "3  Another reviewer said it best, \"i love the way...         True   \n",
       "4  Rompers are my fav so i'm biased writing this ...         True   \n",
       "\n",
       "    division_name department_name review_date    rating  \n",
       "0         General         Dresses  2019-07-08  Liked it  \n",
       "1         General         Dresses  2019-05-17  Loved it  \n",
       "2       Initmates        Intimate  2019-06-24  Loved it  \n",
       "3  General Petite         Dresses  2019-12-06  Loved it  \n",
       "4         General         Dresses  2019-10-04  Loved it  "
      ]
     },
     "execution_count": 109,
     "metadata": {},
     "output_type": "execute_result"
    }
   ],
   "source": [
    "df = pd.read_csv('reviews.csv')\n",
    "df.head()"
   ]
  },
  {
   "cell_type": "markdown",
   "metadata": {},
   "source": [
    "##  2."
   ]
  },
  {
   "cell_type": "markdown",
   "metadata": {},
   "source": [
    "- Next, we want to look at the column names of our dataset along with their data types. \n",
    "- Do the following two steps:\n",
    "    - Print the column names of your dataset.\n",
    "    - Check your features’ data types by printing `.info()`."
   ]
  },
  {
   "cell_type": "code",
   "execution_count": 110,
   "metadata": {},
   "outputs": [
    {
     "data": {
      "text/plain": [
       "Index(['clothing_id', 'age', 'review_title', 'review_text', 'recommended',\n",
       "       'division_name', 'department_name', 'review_date', 'rating'],\n",
       "      dtype='object')"
      ]
     },
     "execution_count": 110,
     "metadata": {},
     "output_type": "execute_result"
    }
   ],
   "source": [
    "df.columns"
   ]
  },
  {
   "cell_type": "code",
   "execution_count": 111,
   "metadata": {},
   "outputs": [
    {
     "name": "stdout",
     "output_type": "stream",
     "text": [
      "<class 'pandas.core.frame.DataFrame'>\n",
      "RangeIndex: 5000 entries, 0 to 4999\n",
      "Data columns (total 9 columns):\n",
      " #   Column           Non-Null Count  Dtype \n",
      "---  ------           --------------  ----- \n",
      " 0   clothing_id      5000 non-null   int64 \n",
      " 1   age              5000 non-null   int64 \n",
      " 2   review_title     4174 non-null   object\n",
      " 3   review_text      4804 non-null   object\n",
      " 4   recommended      5000 non-null   bool  \n",
      " 5   division_name    4996 non-null   object\n",
      " 6   department_name  4996 non-null   object\n",
      " 7   review_date      5000 non-null   object\n",
      " 8   rating           5000 non-null   object\n",
      "dtypes: bool(1), int64(2), object(6)\n",
      "memory usage: 317.5+ KB\n"
     ]
    }
   ],
   "source": [
    "df.info()"
   ]
  },
  {
   "cell_type": "markdown",
   "metadata": {},
   "source": [
    "##  3."
   ]
  },
  {
   "cell_type": "markdown",
   "metadata": {},
   "source": [
    "- Transform the `recommended` feature. \n",
    "- Start by printing the feature’s `.value_counts()`."
   ]
  },
  {
   "cell_type": "code",
   "execution_count": 112,
   "metadata": {},
   "outputs": [
    {
     "data": {
      "text/plain": [
       "recommended\n",
       "True     4166\n",
       "False     834\n",
       "Name: count, dtype: int64"
      ]
     },
     "execution_count": 112,
     "metadata": {},
     "output_type": "execute_result"
    }
   ],
   "source": [
    "df.recommended.value_counts()"
   ]
  },
  {
   "cell_type": "markdown",
   "metadata": {},
   "source": [
    "##  4."
   ]
  },
  {
   "cell_type": "markdown",
   "metadata": {},
   "source": [
    "- Since this is a True/False feature, we want to transform it to 1 for True and 0 for False.\n",
    "- To do this, create a dictionary called `binary_dict` where:\n",
    "    - The keys are what is currently in the `recommended` feature.\n",
    "    - The values are what we want in the new column (0s and 1s)."
   ]
  },
  {
   "cell_type": "code",
   "execution_count": 113,
   "metadata": {},
   "outputs": [],
   "source": [
    "binary_dict = {True: 1, False: 0}"
   ]
  },
  {
   "cell_type": "markdown",
   "metadata": {},
   "source": [
    "##  5."
   ]
  },
  {
   "cell_type": "markdown",
   "metadata": {},
   "source": [
    "- Using `binary_dict`, transform the `recommended` column so that it will now be binary. \n",
    "- Print the results using .`value_counts()` to confirm the transformation."
   ]
  },
  {
   "cell_type": "code",
   "execution_count": 114,
   "metadata": {},
   "outputs": [
    {
     "data": {
      "text/plain": [
       "recommended\n",
       "1    4166\n",
       "0     834\n",
       "Name: count, dtype: int64"
      ]
     },
     "execution_count": 114,
     "metadata": {},
     "output_type": "execute_result"
    }
   ],
   "source": [
    "df.recommended = df.recommended.map(binary_dict)\n",
    "df.recommended.value_counts()"
   ]
  },
  {
   "cell_type": "markdown",
   "metadata": {},
   "source": [
    "##  6."
   ]
  },
  {
   "cell_type": "markdown",
   "metadata": {},
   "source": [
    "- Let’s run through a similar process to transform the `rating` feature. \n",
    "- This is ordinal data so our transformation should make that more clear. \n",
    "- Again, start by printing the `.value_counts()`."
   ]
  },
  {
   "cell_type": "code",
   "execution_count": 115,
   "metadata": {},
   "outputs": [
    {
     "data": {
      "text/plain": [
       "rating\n",
       "Loved it     2798\n",
       "Liked it     1141\n",
       "Was okay      564\n",
       "Not great     304\n",
       "Hated it      193\n",
       "Name: count, dtype: int64"
      ]
     },
     "execution_count": 115,
     "metadata": {},
     "output_type": "execute_result"
    }
   ],
   "source": [
    "df.rating.value_counts()"
   ]
  },
  {
   "cell_type": "markdown",
   "metadata": {},
   "source": [
    "##  7."
   ]
  },
  {
   "cell_type": "markdown",
   "metadata": {},
   "source": [
    "- We want to make the following changes to the values:\n",
    "    - ‘Loved it’ → 5\n",
    "    - ‘Liked it’ → 4\n",
    "    - ‘Was okay’ → 3\n",
    "    - ‘Not great’ → 2\n",
    "    - ‘Hated it’ → 1\n",
    "- Create a dictionary called `rating_dict` where the keys are what is currently in the feature and the values are what we want in the new column. \n",
    "- You can use the hierarchy listed above to make your dictionary."
   ]
  },
  {
   "cell_type": "code",
   "execution_count": 116,
   "metadata": {},
   "outputs": [],
   "source": [
    "rating_dict = {\"Loved it\": 5, \"Liked it\": 4, \"Was okay\": 3, \"Not great\": 2, \"Hated it\": 1}"
   ]
  },
  {
   "cell_type": "markdown",
   "metadata": {},
   "source": [
    "##  8."
   ]
  },
  {
   "cell_type": "markdown",
   "metadata": {},
   "source": [
    "- Using `rating_dict`, transform the rating column so it contains numerical values. \n",
    "- Print the results using `.value_counts()` to confirm the transformation."
   ]
  },
  {
   "cell_type": "code",
   "execution_count": 117,
   "metadata": {},
   "outputs": [
    {
     "data": {
      "text/plain": [
       "rating\n",
       "5    2798\n",
       "4    1141\n",
       "3     564\n",
       "2     304\n",
       "1     193\n",
       "Name: count, dtype: int64"
      ]
     },
     "execution_count": 117,
     "metadata": {},
     "output_type": "execute_result"
    }
   ],
   "source": [
    "df.rating = df.rating.map(rating_dict)\n",
    "df.rating.value_counts()"
   ]
  },
  {
   "cell_type": "markdown",
   "metadata": {},
   "source": [
    "##  9."
   ]
  },
  {
   "cell_type": "markdown",
   "metadata": {},
   "source": [
    "- Let’s now transform the `department_name` feature. \n",
    "- This process will be slightly different, but start by printing the `.value_counts()` of the feature.\n",
    "    1. Use Panda’s `get_dummies` to one-hot encode our feature.\n",
    "    2. Attach the results back to our original data frame.\n",
    "    3. Print the column names to see!"
   ]
  },
  {
   "cell_type": "code",
   "execution_count": 118,
   "metadata": {},
   "outputs": [
    {
     "data": {
      "text/plain": [
       "department_name\n",
       "Tops        2196\n",
       "Dresses     1322\n",
       "Bottoms      848\n",
       "Intimate     378\n",
       "Jackets      224\n",
       "Trend         28\n",
       "Name: count, dtype: int64"
      ]
     },
     "execution_count": 118,
     "metadata": {},
     "output_type": "execute_result"
    }
   ],
   "source": [
    "df.department_name.value_counts()"
   ]
  },
  {
   "cell_type": "markdown",
   "metadata": {},
   "source": [
    "##  10."
   ]
  },
  {
   "cell_type": "markdown",
   "metadata": {},
   "source": [
    "- Use panda’s `get_dummies()` method to one-hot encode our feature. Assign this to a variable called `one_hot`."
   ]
  },
  {
   "cell_type": "code",
   "execution_count": 119,
   "metadata": {},
   "outputs": [],
   "source": [
    "one_hot = pd.get_dummies(df.department_name)"
   ]
  },
  {
   "cell_type": "markdown",
   "metadata": {},
   "source": [
    "##  11."
   ]
  },
  {
   "cell_type": "markdown",
   "metadata": {},
   "source": [
    "- Join the results from `one_hot` back to our original data frame. \n",
    "- Then print out the column names. \n",
    "- What has been added?"
   ]
  },
  {
   "cell_type": "code",
   "execution_count": 120,
   "metadata": {},
   "outputs": [
    {
     "data": {
      "application/vnd.microsoft.datawrangler.viewer.v0+json": {
       "columns": [
        {
         "name": "index",
         "rawType": "int64",
         "type": "integer"
        },
        {
         "name": "clothing_id",
         "rawType": "int64",
         "type": "integer"
        },
        {
         "name": "age",
         "rawType": "int64",
         "type": "integer"
        },
        {
         "name": "review_title",
         "rawType": "object",
         "type": "string"
        },
        {
         "name": "review_text",
         "rawType": "object",
         "type": "string"
        },
        {
         "name": "recommended",
         "rawType": "int64",
         "type": "integer"
        },
        {
         "name": "division_name",
         "rawType": "object",
         "type": "string"
        },
        {
         "name": "department_name",
         "rawType": "object",
         "type": "string"
        },
        {
         "name": "review_date",
         "rawType": "object",
         "type": "string"
        },
        {
         "name": "rating",
         "rawType": "int64",
         "type": "integer"
        },
        {
         "name": "Bottoms",
         "rawType": "bool",
         "type": "boolean"
        },
        {
         "name": "Dresses",
         "rawType": "bool",
         "type": "boolean"
        },
        {
         "name": "Intimate",
         "rawType": "bool",
         "type": "boolean"
        },
        {
         "name": "Jackets",
         "rawType": "bool",
         "type": "boolean"
        },
        {
         "name": "Tops",
         "rawType": "bool",
         "type": "boolean"
        },
        {
         "name": "Trend",
         "rawType": "bool",
         "type": "boolean"
        }
       ],
       "conversionMethod": "pd.DataFrame",
       "ref": "f309b7c9-20cd-4973-9076-dbf075671932",
       "rows": [
        [
         "0",
         "1095",
         "39",
         "Cute,looks like a dress on",
         "If you are afraid of the jumpsuit trend but like dresses, this will be for you. \r\n the cut is flattering, and may not need a bra (i am droppy, but it was fine). the legs are wide enough that one time, i had both legs in one hole, so-to-speak, and it is very flowy. the patterns are both nice, i like the geometric one, but the polka dot is always a classic. the petite size fit me just right (xsp) at 115 lbs, 30dd. i like the tie it goes from around the cups to tie on the back, so you can almost ti",
         "1",
         "General",
         "Dresses",
         "2019-07-08",
         "4",
         "False",
         "True",
         "False",
         "False",
         "False",
         "False"
        ],
        [
         "1",
         "1095",
         "28",
         "So cute, great print!",
         "I love fitted top dresses like this but i find them hard to fit well on my body. this one fit perfectly, straps can be let out or taken in easily, and i get tons of comments on the print!",
         "1",
         "General",
         "Dresses",
         "2019-05-17",
         "5",
         "False",
         "True",
         "False",
         "False",
         "False",
         "False"
        ],
        [
         "2",
         "699",
         "37",
         "So flattering!",
         "I love these cozy, fashionable leggings. they are super flattering and thick enough to wear to yoga or out and about in the real world. i will definitely be getting another pair! they seem true to size. i am tall (5'11) and usually wear a lg.",
         "1",
         "Initmates",
         "Intimate",
         "2019-06-24",
         "5",
         "False",
         "False",
         "True",
         "False",
         "False",
         "False"
        ],
        [
         "3",
         "1072",
         "36",
         "Effortless",
         "Another reviewer said it best, \"i love the way this dress makes me feel.\" i couldn't agree more. the lines are perfect and effortless. \r\nwith all the different reviews on size, i went into the store to try it on. i am usually always a s or m at retailer and a s fit perfectly. i think sizing down any more takes away from the casual look of the dress. i am 5' 5\", 130, and have a small bust.",
         "1",
         "General Petite",
         "Dresses",
         "2019-12-06",
         "5",
         "False",
         "True",
         "False",
         "False",
         "False",
         "False"
        ],
        [
         "4",
         "1094",
         "32",
         "You need this!",
         "Rompers are my fav so i'm biased writing this review. although they are a little tricky with the fit i definitely can say that this beauty makes my body look amazing! the cut of the fabric makes for a great shape. yes, the first couple of buttons  are tough to get on but i'm guessing that after a couple of wears it will get easier. i got my usual size 4 and it fit like it was made specifically for me. i'm very happy with this purchase.",
         "1",
         "General",
         "Dresses",
         "2019-10-04",
         "5",
         "False",
         "True",
         "False",
         "False",
         "False",
         "False"
        ]
       ],
       "shape": {
        "columns": 15,
        "rows": 5
       }
      },
      "text/html": [
       "<div>\n",
       "<style scoped>\n",
       "    .dataframe tbody tr th:only-of-type {\n",
       "        vertical-align: middle;\n",
       "    }\n",
       "\n",
       "    .dataframe tbody tr th {\n",
       "        vertical-align: top;\n",
       "    }\n",
       "\n",
       "    .dataframe thead th {\n",
       "        text-align: right;\n",
       "    }\n",
       "</style>\n",
       "<table border=\"1\" class=\"dataframe\">\n",
       "  <thead>\n",
       "    <tr style=\"text-align: right;\">\n",
       "      <th></th>\n",
       "      <th>clothing_id</th>\n",
       "      <th>age</th>\n",
       "      <th>review_title</th>\n",
       "      <th>review_text</th>\n",
       "      <th>recommended</th>\n",
       "      <th>division_name</th>\n",
       "      <th>department_name</th>\n",
       "      <th>review_date</th>\n",
       "      <th>rating</th>\n",
       "      <th>Bottoms</th>\n",
       "      <th>Dresses</th>\n",
       "      <th>Intimate</th>\n",
       "      <th>Jackets</th>\n",
       "      <th>Tops</th>\n",
       "      <th>Trend</th>\n",
       "    </tr>\n",
       "  </thead>\n",
       "  <tbody>\n",
       "    <tr>\n",
       "      <th>0</th>\n",
       "      <td>1095</td>\n",
       "      <td>39</td>\n",
       "      <td>Cute,looks like a dress on</td>\n",
       "      <td>If you are afraid of the jumpsuit trend but li...</td>\n",
       "      <td>1</td>\n",
       "      <td>General</td>\n",
       "      <td>Dresses</td>\n",
       "      <td>2019-07-08</td>\n",
       "      <td>4</td>\n",
       "      <td>False</td>\n",
       "      <td>True</td>\n",
       "      <td>False</td>\n",
       "      <td>False</td>\n",
       "      <td>False</td>\n",
       "      <td>False</td>\n",
       "    </tr>\n",
       "    <tr>\n",
       "      <th>1</th>\n",
       "      <td>1095</td>\n",
       "      <td>28</td>\n",
       "      <td>So cute, great print!</td>\n",
       "      <td>I love fitted top dresses like this but i find...</td>\n",
       "      <td>1</td>\n",
       "      <td>General</td>\n",
       "      <td>Dresses</td>\n",
       "      <td>2019-05-17</td>\n",
       "      <td>5</td>\n",
       "      <td>False</td>\n",
       "      <td>True</td>\n",
       "      <td>False</td>\n",
       "      <td>False</td>\n",
       "      <td>False</td>\n",
       "      <td>False</td>\n",
       "    </tr>\n",
       "    <tr>\n",
       "      <th>2</th>\n",
       "      <td>699</td>\n",
       "      <td>37</td>\n",
       "      <td>So flattering!</td>\n",
       "      <td>I love these cozy, fashionable leggings. they ...</td>\n",
       "      <td>1</td>\n",
       "      <td>Initmates</td>\n",
       "      <td>Intimate</td>\n",
       "      <td>2019-06-24</td>\n",
       "      <td>5</td>\n",
       "      <td>False</td>\n",
       "      <td>False</td>\n",
       "      <td>True</td>\n",
       "      <td>False</td>\n",
       "      <td>False</td>\n",
       "      <td>False</td>\n",
       "    </tr>\n",
       "    <tr>\n",
       "      <th>3</th>\n",
       "      <td>1072</td>\n",
       "      <td>36</td>\n",
       "      <td>Effortless</td>\n",
       "      <td>Another reviewer said it best, \"i love the way...</td>\n",
       "      <td>1</td>\n",
       "      <td>General Petite</td>\n",
       "      <td>Dresses</td>\n",
       "      <td>2019-12-06</td>\n",
       "      <td>5</td>\n",
       "      <td>False</td>\n",
       "      <td>True</td>\n",
       "      <td>False</td>\n",
       "      <td>False</td>\n",
       "      <td>False</td>\n",
       "      <td>False</td>\n",
       "    </tr>\n",
       "    <tr>\n",
       "      <th>4</th>\n",
       "      <td>1094</td>\n",
       "      <td>32</td>\n",
       "      <td>You need this!</td>\n",
       "      <td>Rompers are my fav so i'm biased writing this ...</td>\n",
       "      <td>1</td>\n",
       "      <td>General</td>\n",
       "      <td>Dresses</td>\n",
       "      <td>2019-10-04</td>\n",
       "      <td>5</td>\n",
       "      <td>False</td>\n",
       "      <td>True</td>\n",
       "      <td>False</td>\n",
       "      <td>False</td>\n",
       "      <td>False</td>\n",
       "      <td>False</td>\n",
       "    </tr>\n",
       "  </tbody>\n",
       "</table>\n",
       "</div>"
      ],
      "text/plain": [
       "   clothing_id  age                review_title  \\\n",
       "0         1095   39  Cute,looks like a dress on   \n",
       "1         1095   28       So cute, great print!   \n",
       "2          699   37              So flattering!   \n",
       "3         1072   36                  Effortless   \n",
       "4         1094   32              You need this!   \n",
       "\n",
       "                                         review_text  recommended  \\\n",
       "0  If you are afraid of the jumpsuit trend but li...            1   \n",
       "1  I love fitted top dresses like this but i find...            1   \n",
       "2  I love these cozy, fashionable leggings. they ...            1   \n",
       "3  Another reviewer said it best, \"i love the way...            1   \n",
       "4  Rompers are my fav so i'm biased writing this ...            1   \n",
       "\n",
       "    division_name department_name review_date  rating  Bottoms  Dresses  \\\n",
       "0         General         Dresses  2019-07-08       4    False     True   \n",
       "1         General         Dresses  2019-05-17       5    False     True   \n",
       "2       Initmates        Intimate  2019-06-24       5    False    False   \n",
       "3  General Petite         Dresses  2019-12-06       5    False     True   \n",
       "4         General         Dresses  2019-10-04       5    False     True   \n",
       "\n",
       "   Intimate  Jackets   Tops  Trend  \n",
       "0     False    False  False  False  \n",
       "1     False    False  False  False  \n",
       "2      True    False  False  False  \n",
       "3     False    False  False  False  \n",
       "4     False    False  False  False  "
      ]
     },
     "execution_count": 120,
     "metadata": {},
     "output_type": "execute_result"
    }
   ],
   "source": [
    "df = df.join(one_hot)\n",
    "df.head()"
   ]
  },
  {
   "cell_type": "markdown",
   "metadata": {},
   "source": [
    "##  12."
   ]
  },
  {
   "cell_type": "markdown",
   "metadata": {},
   "source": [
    "- Transform the `review_date` feature.\n",
    "- This feature is listed as an object type, but we want this to be transformed into a date-time feature.\n",
    "    - Transform `review_date` into a date-time feature.\n",
    "    - Print the feature type to confirm the transformation."
   ]
  },
  {
   "cell_type": "code",
   "execution_count": 121,
   "metadata": {},
   "outputs": [
    {
     "data": {
      "text/plain": [
       "datetime64[ns, UTC]"
      ]
     },
     "execution_count": 121,
     "metadata": {},
     "output_type": "execute_result"
    }
   ],
   "source": [
    "df.review_date = pd.to_datetime(df.review_date, utc=True)\n",
    "df.review_date.dtype"
   ]
  },
  {
   "cell_type": "markdown",
   "metadata": {},
   "source": [
    "##  13."
   ]
  },
  {
   "cell_type": "markdown",
   "metadata": {},
   "source": [
    "- The final step we will take in our transformation project is scaling our data. \n",
    "- We notice that we have a wide range of numbers thus far, so it is best to put everything on the same scale.\n",
    "- Let’s get our data frame to only have the numerical features we created. "
   ]
  },
  {
   "cell_type": "code",
   "execution_count": 122,
   "metadata": {},
   "outputs": [],
   "source": [
    "df = df[['clothing_id', 'age', 'recommended', 'rating', 'Bottoms', 'Dresses', 'Intimate', 'Jackets', 'Tops', 'Trend']].copy()"
   ]
  },
  {
   "cell_type": "markdown",
   "metadata": {},
   "source": [
    "##  14."
   ]
  },
  {
   "cell_type": "markdown",
   "metadata": {},
   "source": [
    "- Reset the index to be our `clothing_id` feature."
   ]
  },
  {
   "cell_type": "code",
   "execution_count": 123,
   "metadata": {},
   "outputs": [],
   "source": [
    "df = df.set_index('clothing_id')"
   ]
  },
  {
   "cell_type": "markdown",
   "metadata": {},
   "source": [
    "##  15."
   ]
  },
  {
   "cell_type": "markdown",
   "metadata": {},
   "source": [
    "- Perform a `.fit_transform()` on our data set, and print the results to see how the features have changed."
   ]
  },
  {
   "cell_type": "code",
   "execution_count": 124,
   "metadata": {},
   "outputs": [
    {
     "data": {
      "application/vnd.microsoft.datawrangler.viewer.v0+json": {
       "columns": [
        {
         "name": "clothing_id",
         "rawType": "int64",
         "type": "integer"
        },
        {
         "name": "age",
         "rawType": "float64",
         "type": "float"
        },
        {
         "name": "recommended",
         "rawType": "float64",
         "type": "float"
        },
        {
         "name": "rating",
         "rawType": "float64",
         "type": "float"
        },
        {
         "name": "Bottoms",
         "rawType": "float64",
         "type": "float"
        },
        {
         "name": "Dresses",
         "rawType": "float64",
         "type": "float"
        },
        {
         "name": "Intimate",
         "rawType": "float64",
         "type": "float"
        },
        {
         "name": "Jackets",
         "rawType": "float64",
         "type": "float"
        },
        {
         "name": "Tops",
         "rawType": "float64",
         "type": "float"
        },
        {
         "name": "Trend",
         "rawType": "float64",
         "type": "float"
        }
       ],
       "conversionMethod": "pd.DataFrame",
       "ref": "108cf5a1-0796-42d7-b0b5-59dcc1121557",
       "rows": [
        [
         "1095",
         "-0.34814459325770986",
         "0.4474282408665281",
         "-0.18964780204451168",
         "-0.45192800422404317",
         "1.6679772960720418",
         "-0.2859768837129567",
         "-0.2165667853788139",
         "-0.8849671770310207",
         "-0.07504356471402417"
        ],
        [
         "1095",
         "-1.244752227139244",
         "0.4474282408665281",
         "0.7160246050448487",
         "-0.45192800422404317",
         "1.6679772960720418",
         "-0.2859768837129567",
         "-0.2165667853788139",
         "-0.8849671770310207",
         "-0.07504356471402417"
        ],
        [
         "699",
         "-0.5111641630543524",
         "0.4474282408665281",
         "0.7160246050448487",
         "-0.45192800422404317",
         "-0.5995285441564001",
         "3.49678612836319",
         "-0.2165667853788139",
         "-0.8849671770310207",
         "-0.07504356471402417"
        ],
        [
         "1072",
         "-0.5926739479526737",
         "0.4474282408665281",
         "0.7160246050448487",
         "-0.45192800422404317",
         "1.6679772960720418",
         "-0.2859768837129567",
         "-0.2165667853788139",
         "-0.8849671770310207",
         "-0.07504356471402417"
        ],
        [
         "1094",
         "-0.9187130875459588",
         "0.4474282408665281",
         "0.7160246050448487",
         "-0.45192800422404317",
         "1.6679772960720418",
         "-0.2859768837129567",
         "-0.2165667853788139",
         "-0.8849671770310207",
         "-0.07504356471402417"
        ]
       ],
       "shape": {
        "columns": 9,
        "rows": 5
       }
      },
      "text/html": [
       "<div>\n",
       "<style scoped>\n",
       "    .dataframe tbody tr th:only-of-type {\n",
       "        vertical-align: middle;\n",
       "    }\n",
       "\n",
       "    .dataframe tbody tr th {\n",
       "        vertical-align: top;\n",
       "    }\n",
       "\n",
       "    .dataframe thead th {\n",
       "        text-align: right;\n",
       "    }\n",
       "</style>\n",
       "<table border=\"1\" class=\"dataframe\">\n",
       "  <thead>\n",
       "    <tr style=\"text-align: right;\">\n",
       "      <th></th>\n",
       "      <th>age</th>\n",
       "      <th>recommended</th>\n",
       "      <th>rating</th>\n",
       "      <th>Bottoms</th>\n",
       "      <th>Dresses</th>\n",
       "      <th>Intimate</th>\n",
       "      <th>Jackets</th>\n",
       "      <th>Tops</th>\n",
       "      <th>Trend</th>\n",
       "    </tr>\n",
       "    <tr>\n",
       "      <th>clothing_id</th>\n",
       "      <th></th>\n",
       "      <th></th>\n",
       "      <th></th>\n",
       "      <th></th>\n",
       "      <th></th>\n",
       "      <th></th>\n",
       "      <th></th>\n",
       "      <th></th>\n",
       "      <th></th>\n",
       "    </tr>\n",
       "  </thead>\n",
       "  <tbody>\n",
       "    <tr>\n",
       "      <th>1095</th>\n",
       "      <td>-0.348145</td>\n",
       "      <td>0.447428</td>\n",
       "      <td>-0.189648</td>\n",
       "      <td>-0.451928</td>\n",
       "      <td>1.667977</td>\n",
       "      <td>-0.285977</td>\n",
       "      <td>-0.216567</td>\n",
       "      <td>-0.884967</td>\n",
       "      <td>-0.075044</td>\n",
       "    </tr>\n",
       "    <tr>\n",
       "      <th>1095</th>\n",
       "      <td>-1.244752</td>\n",
       "      <td>0.447428</td>\n",
       "      <td>0.716025</td>\n",
       "      <td>-0.451928</td>\n",
       "      <td>1.667977</td>\n",
       "      <td>-0.285977</td>\n",
       "      <td>-0.216567</td>\n",
       "      <td>-0.884967</td>\n",
       "      <td>-0.075044</td>\n",
       "    </tr>\n",
       "    <tr>\n",
       "      <th>699</th>\n",
       "      <td>-0.511164</td>\n",
       "      <td>0.447428</td>\n",
       "      <td>0.716025</td>\n",
       "      <td>-0.451928</td>\n",
       "      <td>-0.599529</td>\n",
       "      <td>3.496786</td>\n",
       "      <td>-0.216567</td>\n",
       "      <td>-0.884967</td>\n",
       "      <td>-0.075044</td>\n",
       "    </tr>\n",
       "    <tr>\n",
       "      <th>1072</th>\n",
       "      <td>-0.592674</td>\n",
       "      <td>0.447428</td>\n",
       "      <td>0.716025</td>\n",
       "      <td>-0.451928</td>\n",
       "      <td>1.667977</td>\n",
       "      <td>-0.285977</td>\n",
       "      <td>-0.216567</td>\n",
       "      <td>-0.884967</td>\n",
       "      <td>-0.075044</td>\n",
       "    </tr>\n",
       "    <tr>\n",
       "      <th>1094</th>\n",
       "      <td>-0.918713</td>\n",
       "      <td>0.447428</td>\n",
       "      <td>0.716025</td>\n",
       "      <td>-0.451928</td>\n",
       "      <td>1.667977</td>\n",
       "      <td>-0.285977</td>\n",
       "      <td>-0.216567</td>\n",
       "      <td>-0.884967</td>\n",
       "      <td>-0.075044</td>\n",
       "    </tr>\n",
       "  </tbody>\n",
       "</table>\n",
       "</div>"
      ],
      "text/plain": [
       "                  age  recommended    rating   Bottoms   Dresses  Intimate  \\\n",
       "clothing_id                                                                  \n",
       "1095        -0.348145     0.447428 -0.189648 -0.451928  1.667977 -0.285977   \n",
       "1095        -1.244752     0.447428  0.716025 -0.451928  1.667977 -0.285977   \n",
       "699         -0.511164     0.447428  0.716025 -0.451928 -0.599529  3.496786   \n",
       "1072        -0.592674     0.447428  0.716025 -0.451928  1.667977 -0.285977   \n",
       "1094        -0.918713     0.447428  0.716025 -0.451928  1.667977 -0.285977   \n",
       "\n",
       "              Jackets      Tops     Trend  \n",
       "clothing_id                                \n",
       "1095        -0.216567 -0.884967 -0.075044  \n",
       "1095        -0.216567 -0.884967 -0.075044  \n",
       "699         -0.216567 -0.884967 -0.075044  \n",
       "1072        -0.216567 -0.884967 -0.075044  \n",
       "1094        -0.216567 -0.884967 -0.075044  "
      ]
     },
     "execution_count": 124,
     "metadata": {},
     "output_type": "execute_result"
    }
   ],
   "source": [
    "scaler = StandardScaler()\n",
    "scaled_arr = scaler.fit_transform(df)\n",
    "\n",
    "scaled_df = pd.DataFrame(scaled_arr, columns=df.columns, index=df.index)\n",
    "scaled_df.head()"
   ]
  },
  {
   "cell_type": "code",
   "execution_count": 127,
   "metadata": {},
   "outputs": [
    {
     "name": "stdout",
     "output_type": "stream",
     "text": [
      "age mean: -0.0\n",
      "age std: 1.0\n",
      "recommended mean: -0.0\n",
      "recommended std: 1.0\n",
      "rating mean: 0.0\n",
      "rating std: 1.0\n",
      "Bottoms mean: 0.0\n",
      "Bottoms std: 1.0\n",
      "Dresses mean: -0.0\n",
      "Dresses std: 1.0\n",
      "Intimate mean: -0.0\n",
      "Intimate std: 1.0\n",
      "Jackets mean: 0.0\n",
      "Jackets std: 1.0\n",
      "Tops mean: 0.0\n",
      "Tops std: 1.0\n",
      "Trend mean: -0.0\n",
      "Trend std: 1.0\n"
     ]
    }
   ],
   "source": [
    "for col in df.columns:\n",
    "    print(f'{col} mean: {np.round(scaled_df[col].mean(), 2)}')\n",
    "    print(f'{col} std: {np.round(scaled_df[col].std(), 2)}')"
   ]
  }
 ],
 "metadata": {
  "kernelspec": {
   "display_name": "Codecademy-XphA9WxU",
   "language": "python",
   "name": "python3"
  },
  "language_info": {
   "codemirror_mode": {
    "name": "ipython",
    "version": 3
   },
   "file_extension": ".py",
   "mimetype": "text/x-python",
   "name": "python",
   "nbconvert_exporter": "python",
   "pygments_lexer": "ipython3",
   "version": "3.11.1"
  }
 },
 "nbformat": 4,
 "nbformat_minor": 2
}
