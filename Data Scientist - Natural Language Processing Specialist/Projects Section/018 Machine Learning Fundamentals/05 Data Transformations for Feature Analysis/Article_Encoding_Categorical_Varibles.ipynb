{
 "cells": [
  {
   "cell_type": "markdown",
   "metadata": {},
   "source": [
    "# Encoding Categorical Variables"
   ]
  },
  {
   "cell_type": "markdown",
   "metadata": {},
   "source": [
    "Encoding categorical variables with Python."
   ]
  },
  {
   "cell_type": "markdown",
   "metadata": {},
   "source": [
    "## Introduction"
   ]
  },
  {
   "cell_type": "markdown",
   "metadata": {},
   "source": [
    "- Categorical data is data that has more than one category.\n",
    "- When working with that type of data we have two types, **nominal** and **ordinal**. \n",
    "    - *Nominal* data is data that has no particular order or hierarchy to it, and \n",
    "    - *ordinal* data is categorical data where the categories have order, but the differences between the categories are not important or unclear.\n",
    "- We will be working with a dataset of used cars for this article to truly understand and demonstrate how to work with categorical data. \n",
    "- Let’s explore it and see what type of data we are working with."
   ]
  },
  {
   "cell_type": "code",
   "execution_count": 63,
   "metadata": {},
   "outputs": [
    {
     "data": {
      "text/plain": [
       "Unnamed: 0        int64\n",
       "year              int64\n",
       "make             object\n",
       "model            object\n",
       "trim             object\n",
       "body             object\n",
       "transmission     object\n",
       "vin              object\n",
       "state            object\n",
       "condition        object\n",
       "odometer        float64\n",
       "color            object\n",
       "interior         object\n",
       "seller           object\n",
       "mmr               int64\n",
       "sellingprice      int64\n",
       "saledate         object\n",
       "Unnamed: 16     float64\n",
       "dtype: object"
      ]
     },
     "execution_count": 63,
     "metadata": {},
     "output_type": "execute_result"
    }
   ],
   "source": [
    "import pandas as pd\n",
    "import random \n",
    "\n",
    "\n",
    "cars = pd.read_csv('cars.csv')\n",
    "# cars.condition = cars.condition.apply(lambda x: random.choice(['Excellent', 'New', 'New', 'New', 'Like New', 'Like New', 'Like New', 'Good', 'Good', 'Fair']))\n",
    "cars.condition = cars.condition.apply(lambda x: random.choices(['Excellent', 'New', 'Like New', 'Good', 'Fair'], weights=[0.03, 0.33, 0.33, 0.23, 0.08], k=1)[0])\n",
    "cars.dtypes"
   ]
  },
  {
   "cell_type": "code",
   "execution_count": 64,
   "metadata": {},
   "outputs": [
    {
     "data": {
      "application/vnd.microsoft.datawrangler.viewer.v0+json": {
       "columns": [
        {
         "name": "index",
         "rawType": "int64",
         "type": "integer"
        },
        {
         "name": "Unnamed: 0",
         "rawType": "int64",
         "type": "integer"
        },
        {
         "name": "year",
         "rawType": "int64",
         "type": "integer"
        },
        {
         "name": "make",
         "rawType": "object",
         "type": "string"
        },
        {
         "name": "model",
         "rawType": "object",
         "type": "string"
        },
        {
         "name": "trim",
         "rawType": "object",
         "type": "string"
        },
        {
         "name": "body",
         "rawType": "object",
         "type": "string"
        },
        {
         "name": "transmission",
         "rawType": "object",
         "type": "string"
        },
        {
         "name": "vin",
         "rawType": "object",
         "type": "string"
        },
        {
         "name": "state",
         "rawType": "object",
         "type": "string"
        },
        {
         "name": "condition",
         "rawType": "object",
         "type": "string"
        },
        {
         "name": "odometer",
         "rawType": "float64",
         "type": "float"
        },
        {
         "name": "color",
         "rawType": "object",
         "type": "string"
        },
        {
         "name": "interior",
         "rawType": "object",
         "type": "string"
        },
        {
         "name": "seller",
         "rawType": "object",
         "type": "string"
        },
        {
         "name": "mmr",
         "rawType": "int64",
         "type": "integer"
        },
        {
         "name": "sellingprice",
         "rawType": "int64",
         "type": "integer"
        },
        {
         "name": "saledate",
         "rawType": "object",
         "type": "string"
        },
        {
         "name": "Unnamed: 16",
         "rawType": "float64",
         "type": "float"
        }
       ],
       "conversionMethod": "pd.DataFrame",
       "ref": "56f61563-5142-4369-86f8-f18e8e87dfd8",
       "rows": [
        [
         "0",
         "449069",
         "2006",
         "Chrysler",
         "300",
         "Base",
         "Sedan",
         "automatic",
         "2c3ka43r76h366165",
         "il",
         "New",
         "119618.0",
         "blue",
         "gray",
         "go financial",
         "4775",
         "2500",
         "Thu May 28 2015 03:00:00 GMT-0700 (PDT)",
         null
        ],
        [
         "1",
         "197199",
         "2014",
         "Volkswagen",
         "Jetta",
         "S",
         "Sedan",
         "manual",
         "3vw1k7aj9em275429",
         "ca",
         "New",
         "7740.0",
         "—",
         "black",
         "volkswagen credit inc/sc",
         "12050",
         "12750",
         "Wed Jul 01 2015 09:30:00 GMT-0700 (PDT)",
         null
        ],
        [
         "2",
         "288171",
         "2007",
         "Dodge",
         "Durango",
         "SLT",
         "SUV",
         "automatic",
         "1d8hd48p97f510727",
         "fl",
         "New",
         "166628.0",
         "gold",
         "tan",
         "mid atlantic finance/clearwater",
         "2850",
         "2700",
         "Wed Feb 11 2015 08:00:00 GMT-0800 (PST)",
         null
        ],
        [
         "3",
         "277025",
         "2013",
         "Mercedes-Benz",
         "E-Class",
         "E350 Sport",
         "Sedan",
         "automatic",
         "wddhf5kb3da735753",
         "tx",
         "New",
         "23923.0",
         "white",
         "off-white",
         "mercedes-benz financial services",
         "32200",
         "32000",
         "Thu Feb 12 2015 03:00:00 GMT-0800 (PST)",
         null
        ],
        [
         "4",
         "322760",
         "2013",
         "Ford",
         "Explorer",
         "XLT",
         "SUV",
         "automatic",
         "1fm5k8d84dgc59887",
         "mi",
         "New",
         "18494.0",
         "red",
         "black",
         "ford motor credit company,llc",
         "29100",
         "28100",
         "Thu Jun 11 2015 02:30:00 GMT-0700 (PDT)",
         null
        ]
       ],
       "shape": {
        "columns": 18,
        "rows": 5
       }
      },
      "text/html": [
       "<div>\n",
       "<style scoped>\n",
       "    .dataframe tbody tr th:only-of-type {\n",
       "        vertical-align: middle;\n",
       "    }\n",
       "\n",
       "    .dataframe tbody tr th {\n",
       "        vertical-align: top;\n",
       "    }\n",
       "\n",
       "    .dataframe thead th {\n",
       "        text-align: right;\n",
       "    }\n",
       "</style>\n",
       "<table border=\"1\" class=\"dataframe\">\n",
       "  <thead>\n",
       "    <tr style=\"text-align: right;\">\n",
       "      <th></th>\n",
       "      <th>Unnamed: 0</th>\n",
       "      <th>year</th>\n",
       "      <th>make</th>\n",
       "      <th>model</th>\n",
       "      <th>trim</th>\n",
       "      <th>body</th>\n",
       "      <th>transmission</th>\n",
       "      <th>vin</th>\n",
       "      <th>state</th>\n",
       "      <th>condition</th>\n",
       "      <th>odometer</th>\n",
       "      <th>color</th>\n",
       "      <th>interior</th>\n",
       "      <th>seller</th>\n",
       "      <th>mmr</th>\n",
       "      <th>sellingprice</th>\n",
       "      <th>saledate</th>\n",
       "      <th>Unnamed: 16</th>\n",
       "    </tr>\n",
       "  </thead>\n",
       "  <tbody>\n",
       "    <tr>\n",
       "      <th>0</th>\n",
       "      <td>449069</td>\n",
       "      <td>2006</td>\n",
       "      <td>Chrysler</td>\n",
       "      <td>300</td>\n",
       "      <td>Base</td>\n",
       "      <td>Sedan</td>\n",
       "      <td>automatic</td>\n",
       "      <td>2c3ka43r76h366165</td>\n",
       "      <td>il</td>\n",
       "      <td>New</td>\n",
       "      <td>119618.0</td>\n",
       "      <td>blue</td>\n",
       "      <td>gray</td>\n",
       "      <td>go financial</td>\n",
       "      <td>4775</td>\n",
       "      <td>2500</td>\n",
       "      <td>Thu May 28 2015 03:00:00 GMT-0700 (PDT)</td>\n",
       "      <td>NaN</td>\n",
       "    </tr>\n",
       "    <tr>\n",
       "      <th>1</th>\n",
       "      <td>197199</td>\n",
       "      <td>2014</td>\n",
       "      <td>Volkswagen</td>\n",
       "      <td>Jetta</td>\n",
       "      <td>S</td>\n",
       "      <td>Sedan</td>\n",
       "      <td>manual</td>\n",
       "      <td>3vw1k7aj9em275429</td>\n",
       "      <td>ca</td>\n",
       "      <td>New</td>\n",
       "      <td>7740.0</td>\n",
       "      <td>—</td>\n",
       "      <td>black</td>\n",
       "      <td>volkswagen credit inc/sc</td>\n",
       "      <td>12050</td>\n",
       "      <td>12750</td>\n",
       "      <td>Wed Jul 01 2015 09:30:00 GMT-0700 (PDT)</td>\n",
       "      <td>NaN</td>\n",
       "    </tr>\n",
       "    <tr>\n",
       "      <th>2</th>\n",
       "      <td>288171</td>\n",
       "      <td>2007</td>\n",
       "      <td>Dodge</td>\n",
       "      <td>Durango</td>\n",
       "      <td>SLT</td>\n",
       "      <td>SUV</td>\n",
       "      <td>automatic</td>\n",
       "      <td>1d8hd48p97f510727</td>\n",
       "      <td>fl</td>\n",
       "      <td>New</td>\n",
       "      <td>166628.0</td>\n",
       "      <td>gold</td>\n",
       "      <td>tan</td>\n",
       "      <td>mid atlantic finance/clearwater</td>\n",
       "      <td>2850</td>\n",
       "      <td>2700</td>\n",
       "      <td>Wed Feb 11 2015 08:00:00 GMT-0800 (PST)</td>\n",
       "      <td>NaN</td>\n",
       "    </tr>\n",
       "    <tr>\n",
       "      <th>3</th>\n",
       "      <td>277025</td>\n",
       "      <td>2013</td>\n",
       "      <td>Mercedes-Benz</td>\n",
       "      <td>E-Class</td>\n",
       "      <td>E350 Sport</td>\n",
       "      <td>Sedan</td>\n",
       "      <td>automatic</td>\n",
       "      <td>wddhf5kb3da735753</td>\n",
       "      <td>tx</td>\n",
       "      <td>New</td>\n",
       "      <td>23923.0</td>\n",
       "      <td>white</td>\n",
       "      <td>off-white</td>\n",
       "      <td>mercedes-benz financial services</td>\n",
       "      <td>32200</td>\n",
       "      <td>32000</td>\n",
       "      <td>Thu Feb 12 2015 03:00:00 GMT-0800 (PST)</td>\n",
       "      <td>NaN</td>\n",
       "    </tr>\n",
       "    <tr>\n",
       "      <th>4</th>\n",
       "      <td>322760</td>\n",
       "      <td>2013</td>\n",
       "      <td>Ford</td>\n",
       "      <td>Explorer</td>\n",
       "      <td>XLT</td>\n",
       "      <td>SUV</td>\n",
       "      <td>automatic</td>\n",
       "      <td>1fm5k8d84dgc59887</td>\n",
       "      <td>mi</td>\n",
       "      <td>New</td>\n",
       "      <td>18494.0</td>\n",
       "      <td>red</td>\n",
       "      <td>black</td>\n",
       "      <td>ford motor credit company,llc</td>\n",
       "      <td>29100</td>\n",
       "      <td>28100</td>\n",
       "      <td>Thu Jun 11 2015 02:30:00 GMT-0700 (PDT)</td>\n",
       "      <td>NaN</td>\n",
       "    </tr>\n",
       "  </tbody>\n",
       "</table>\n",
       "</div>"
      ],
      "text/plain": [
       "   Unnamed: 0  year           make     model        trim   body transmission  \\\n",
       "0      449069  2006       Chrysler       300        Base  Sedan    automatic   \n",
       "1      197199  2014     Volkswagen     Jetta           S  Sedan       manual   \n",
       "2      288171  2007          Dodge   Durango         SLT    SUV    automatic   \n",
       "3      277025  2013  Mercedes-Benz   E-Class  E350 Sport  Sedan    automatic   \n",
       "4      322760  2013           Ford  Explorer         XLT    SUV    automatic   \n",
       "\n",
       "                 vin state condition  odometer  color   interior  \\\n",
       "0  2c3ka43r76h366165    il       New  119618.0   blue       gray   \n",
       "1  3vw1k7aj9em275429    ca       New    7740.0      —      black   \n",
       "2  1d8hd48p97f510727    fl       New  166628.0   gold        tan   \n",
       "3  wddhf5kb3da735753    tx       New   23923.0  white  off-white   \n",
       "4  1fm5k8d84dgc59887    mi       New   18494.0    red      black   \n",
       "\n",
       "                             seller    mmr  sellingprice  \\\n",
       "0                      go financial   4775          2500   \n",
       "1          volkswagen credit inc/sc  12050         12750   \n",
       "2   mid atlantic finance/clearwater   2850          2700   \n",
       "3  mercedes-benz financial services  32200         32000   \n",
       "4     ford motor credit company,llc  29100         28100   \n",
       "\n",
       "                                  saledate  Unnamed: 16  \n",
       "0  Thu May 28 2015 03:00:00 GMT-0700 (PDT)          NaN  \n",
       "1  Wed Jul 01 2015 09:30:00 GMT-0700 (PDT)          NaN  \n",
       "2  Wed Feb 11 2015 08:00:00 GMT-0800 (PST)          NaN  \n",
       "3  Thu Feb 12 2015 03:00:00 GMT-0800 (PST)          NaN  \n",
       "4  Thu Jun 11 2015 02:30:00 GMT-0700 (PDT)          NaN  "
      ]
     },
     "execution_count": 64,
     "metadata": {},
     "output_type": "execute_result"
    }
   ],
   "source": [
    "cars.head()"
   ]
  },
  {
   "cell_type": "markdown",
   "metadata": {},
   "source": [
    "- We can see from the output that we have a lot of features that are `dtype = object` and that tells us those features could be text or a mix of text and numerical values. \n",
    "- For our encoding examples, we will explore a few of those object features and transform those values so we can have a data frame ready for machine learning.\n",
    "\n",
    "<br>\n",
    "\n",
    "- The reason we put our time into this level of encoding is that there are many machine learning models that cannot handle text and will only work with numbers. \n",
    "- Our data must be encoded into numbers before we even begin to train, test, or evaluate a model."
   ]
  },
  {
   "cell_type": "markdown",
   "metadata": {},
   "source": [
    "## Ordinal Encoding"
   ]
  },
  {
   "cell_type": "markdown",
   "metadata": {},
   "source": [
    "- We mentioned already that ordinal data is data that does have order and a hierarchy between its values. \n",
    "- Let us take a look at the `condition` feature from our data frame and perform a `value_counts` to see how many times each label is listed in our feature."
   ]
  },
  {
   "cell_type": "code",
   "execution_count": 65,
   "metadata": {},
   "outputs": [
    {
     "data": {
      "text/plain": [
       "condition\n",
       "New          3302\n",
       "Like New     3301\n",
       "Good         2296\n",
       "Fair          805\n",
       "Excellent     296\n",
       "Name: count, dtype: int64"
      ]
     },
     "execution_count": 65,
     "metadata": {},
     "output_type": "execute_result"
    }
   ],
   "source": [
    "cars.condition.value_counts()"
   ]
  },
  {
   "cell_type": "markdown",
   "metadata": {},
   "source": [
    "- This is definitely an example of ordinal data: the condition of the used cars can easily be put in order of those in the “best” condition to the cars in the “worst” condition. \n",
    "- The output printed the labels with the highest counts, but we can assume the following hierarchy:\n",
    "    - Excellent\n",
    "    -New\n",
    "    -Like New\n",
    "    -Good\n",
    "    -Fair\n",
    "- We need to convert these labels into numbers, and we can do this with two different approaches. \n",
    "- First, we can do this by creating a dictionary where every label is the key and the new numeric number is the value. \n",
    "- ‘Excellent’ will get the highest score and ‘Fair’ will be our lowest score. \n",
    "- Then we will map each label from the `condition` column to the numeric value and create a new column called `condition_rating`."
   ]
  },
  {
   "cell_type": "code",
   "execution_count": 66,
   "metadata": {},
   "outputs": [],
   "source": [
    "# create dictionary of label:values in order\n",
    "rating_dict = {'Excellent':5, 'New':4, 'Like New':3, 'Good':2, 'Fair':1}\n",
    "\n",
    "#create a new column \n",
    "cars['condition_rating'] = cars['condition'].map(rating_dict)"
   ]
  },
  {
   "cell_type": "markdown",
   "metadata": {},
   "source": [
    "- The second approach we will show is how to utilize the `sklearn.preprocessing` library `OrdinalEncoder`. \n",
    "- We follow a similar approach: we set our categories as a list, and then we will `.fit_transform` the values in our feature `condition`. \n",
    "- We need to make sure we adhere to the shape requirements of a 2-D array, so you’ll notice the method `.reshape(-1,1)`."
   ]
  },
  {
   "cell_type": "code",
   "execution_count": 67,
   "metadata": {},
   "outputs": [],
   "source": [
    "# using scikit-learn\n",
    "from sklearn.preprocessing import OrdinalEncoder\n",
    "\n",
    "# create encoder and set category order\n",
    "encoder = OrdinalEncoder(categories=[['Excellent', 'New', 'Like New', 'Good', 'Fair']])\n",
    "\n",
    "# reshape our feature\n",
    "condition_reshaped = cars['condition'].values.reshape(-1,1)\n",
    "\n",
    "# create new variable with assigned numbers\n",
    "cars['condition_rating'] = encoder.fit_transform(condition_reshaped)"
   ]
  },
  {
   "cell_type": "code",
   "execution_count": 68,
   "metadata": {},
   "outputs": [
    {
     "data": {
      "application/vnd.microsoft.datawrangler.viewer.v0+json": {
       "columns": [
        {
         "name": "index",
         "rawType": "int64",
         "type": "integer"
        },
        {
         "name": "Unnamed: 0",
         "rawType": "int64",
         "type": "integer"
        },
        {
         "name": "year",
         "rawType": "int64",
         "type": "integer"
        },
        {
         "name": "make",
         "rawType": "object",
         "type": "string"
        },
        {
         "name": "model",
         "rawType": "object",
         "type": "string"
        },
        {
         "name": "trim",
         "rawType": "object",
         "type": "string"
        },
        {
         "name": "body",
         "rawType": "object",
         "type": "string"
        },
        {
         "name": "transmission",
         "rawType": "object",
         "type": "string"
        },
        {
         "name": "vin",
         "rawType": "object",
         "type": "string"
        },
        {
         "name": "state",
         "rawType": "object",
         "type": "string"
        },
        {
         "name": "condition",
         "rawType": "object",
         "type": "string"
        },
        {
         "name": "odometer",
         "rawType": "float64",
         "type": "float"
        },
        {
         "name": "color",
         "rawType": "object",
         "type": "string"
        },
        {
         "name": "interior",
         "rawType": "object",
         "type": "string"
        },
        {
         "name": "seller",
         "rawType": "object",
         "type": "string"
        },
        {
         "name": "mmr",
         "rawType": "int64",
         "type": "integer"
        },
        {
         "name": "sellingprice",
         "rawType": "int64",
         "type": "integer"
        },
        {
         "name": "saledate",
         "rawType": "object",
         "type": "string"
        },
        {
         "name": "Unnamed: 16",
         "rawType": "float64",
         "type": "float"
        },
        {
         "name": "condition_rating",
         "rawType": "float64",
         "type": "float"
        }
       ],
       "conversionMethod": "pd.DataFrame",
       "ref": "3307a2fb-9ae3-4774-a8e0-a18cee3caf44",
       "rows": [
        [
         "0",
         "449069",
         "2006",
         "Chrysler",
         "300",
         "Base",
         "Sedan",
         "automatic",
         "2c3ka43r76h366165",
         "il",
         "New",
         "119618.0",
         "blue",
         "gray",
         "go financial",
         "4775",
         "2500",
         "Thu May 28 2015 03:00:00 GMT-0700 (PDT)",
         null,
         "1.0"
        ],
        [
         "1",
         "197199",
         "2014",
         "Volkswagen",
         "Jetta",
         "S",
         "Sedan",
         "manual",
         "3vw1k7aj9em275429",
         "ca",
         "New",
         "7740.0",
         "—",
         "black",
         "volkswagen credit inc/sc",
         "12050",
         "12750",
         "Wed Jul 01 2015 09:30:00 GMT-0700 (PDT)",
         null,
         "1.0"
        ],
        [
         "2",
         "288171",
         "2007",
         "Dodge",
         "Durango",
         "SLT",
         "SUV",
         "automatic",
         "1d8hd48p97f510727",
         "fl",
         "New",
         "166628.0",
         "gold",
         "tan",
         "mid atlantic finance/clearwater",
         "2850",
         "2700",
         "Wed Feb 11 2015 08:00:00 GMT-0800 (PST)",
         null,
         "1.0"
        ],
        [
         "3",
         "277025",
         "2013",
         "Mercedes-Benz",
         "E-Class",
         "E350 Sport",
         "Sedan",
         "automatic",
         "wddhf5kb3da735753",
         "tx",
         "New",
         "23923.0",
         "white",
         "off-white",
         "mercedes-benz financial services",
         "32200",
         "32000",
         "Thu Feb 12 2015 03:00:00 GMT-0800 (PST)",
         null,
         "1.0"
        ],
        [
         "4",
         "322760",
         "2013",
         "Ford",
         "Explorer",
         "XLT",
         "SUV",
         "automatic",
         "1fm5k8d84dgc59887",
         "mi",
         "New",
         "18494.0",
         "red",
         "black",
         "ford motor credit company,llc",
         "29100",
         "28100",
         "Thu Jun 11 2015 02:30:00 GMT-0700 (PDT)",
         null,
         "1.0"
        ]
       ],
       "shape": {
        "columns": 19,
        "rows": 5
       }
      },
      "text/html": [
       "<div>\n",
       "<style scoped>\n",
       "    .dataframe tbody tr th:only-of-type {\n",
       "        vertical-align: middle;\n",
       "    }\n",
       "\n",
       "    .dataframe tbody tr th {\n",
       "        vertical-align: top;\n",
       "    }\n",
       "\n",
       "    .dataframe thead th {\n",
       "        text-align: right;\n",
       "    }\n",
       "</style>\n",
       "<table border=\"1\" class=\"dataframe\">\n",
       "  <thead>\n",
       "    <tr style=\"text-align: right;\">\n",
       "      <th></th>\n",
       "      <th>Unnamed: 0</th>\n",
       "      <th>year</th>\n",
       "      <th>make</th>\n",
       "      <th>model</th>\n",
       "      <th>trim</th>\n",
       "      <th>body</th>\n",
       "      <th>transmission</th>\n",
       "      <th>vin</th>\n",
       "      <th>state</th>\n",
       "      <th>condition</th>\n",
       "      <th>odometer</th>\n",
       "      <th>color</th>\n",
       "      <th>interior</th>\n",
       "      <th>seller</th>\n",
       "      <th>mmr</th>\n",
       "      <th>sellingprice</th>\n",
       "      <th>saledate</th>\n",
       "      <th>Unnamed: 16</th>\n",
       "      <th>condition_rating</th>\n",
       "    </tr>\n",
       "  </thead>\n",
       "  <tbody>\n",
       "    <tr>\n",
       "      <th>0</th>\n",
       "      <td>449069</td>\n",
       "      <td>2006</td>\n",
       "      <td>Chrysler</td>\n",
       "      <td>300</td>\n",
       "      <td>Base</td>\n",
       "      <td>Sedan</td>\n",
       "      <td>automatic</td>\n",
       "      <td>2c3ka43r76h366165</td>\n",
       "      <td>il</td>\n",
       "      <td>New</td>\n",
       "      <td>119618.0</td>\n",
       "      <td>blue</td>\n",
       "      <td>gray</td>\n",
       "      <td>go financial</td>\n",
       "      <td>4775</td>\n",
       "      <td>2500</td>\n",
       "      <td>Thu May 28 2015 03:00:00 GMT-0700 (PDT)</td>\n",
       "      <td>NaN</td>\n",
       "      <td>1.0</td>\n",
       "    </tr>\n",
       "    <tr>\n",
       "      <th>1</th>\n",
       "      <td>197199</td>\n",
       "      <td>2014</td>\n",
       "      <td>Volkswagen</td>\n",
       "      <td>Jetta</td>\n",
       "      <td>S</td>\n",
       "      <td>Sedan</td>\n",
       "      <td>manual</td>\n",
       "      <td>3vw1k7aj9em275429</td>\n",
       "      <td>ca</td>\n",
       "      <td>New</td>\n",
       "      <td>7740.0</td>\n",
       "      <td>—</td>\n",
       "      <td>black</td>\n",
       "      <td>volkswagen credit inc/sc</td>\n",
       "      <td>12050</td>\n",
       "      <td>12750</td>\n",
       "      <td>Wed Jul 01 2015 09:30:00 GMT-0700 (PDT)</td>\n",
       "      <td>NaN</td>\n",
       "      <td>1.0</td>\n",
       "    </tr>\n",
       "    <tr>\n",
       "      <th>2</th>\n",
       "      <td>288171</td>\n",
       "      <td>2007</td>\n",
       "      <td>Dodge</td>\n",
       "      <td>Durango</td>\n",
       "      <td>SLT</td>\n",
       "      <td>SUV</td>\n",
       "      <td>automatic</td>\n",
       "      <td>1d8hd48p97f510727</td>\n",
       "      <td>fl</td>\n",
       "      <td>New</td>\n",
       "      <td>166628.0</td>\n",
       "      <td>gold</td>\n",
       "      <td>tan</td>\n",
       "      <td>mid atlantic finance/clearwater</td>\n",
       "      <td>2850</td>\n",
       "      <td>2700</td>\n",
       "      <td>Wed Feb 11 2015 08:00:00 GMT-0800 (PST)</td>\n",
       "      <td>NaN</td>\n",
       "      <td>1.0</td>\n",
       "    </tr>\n",
       "    <tr>\n",
       "      <th>3</th>\n",
       "      <td>277025</td>\n",
       "      <td>2013</td>\n",
       "      <td>Mercedes-Benz</td>\n",
       "      <td>E-Class</td>\n",
       "      <td>E350 Sport</td>\n",
       "      <td>Sedan</td>\n",
       "      <td>automatic</td>\n",
       "      <td>wddhf5kb3da735753</td>\n",
       "      <td>tx</td>\n",
       "      <td>New</td>\n",
       "      <td>23923.0</td>\n",
       "      <td>white</td>\n",
       "      <td>off-white</td>\n",
       "      <td>mercedes-benz financial services</td>\n",
       "      <td>32200</td>\n",
       "      <td>32000</td>\n",
       "      <td>Thu Feb 12 2015 03:00:00 GMT-0800 (PST)</td>\n",
       "      <td>NaN</td>\n",
       "      <td>1.0</td>\n",
       "    </tr>\n",
       "    <tr>\n",
       "      <th>4</th>\n",
       "      <td>322760</td>\n",
       "      <td>2013</td>\n",
       "      <td>Ford</td>\n",
       "      <td>Explorer</td>\n",
       "      <td>XLT</td>\n",
       "      <td>SUV</td>\n",
       "      <td>automatic</td>\n",
       "      <td>1fm5k8d84dgc59887</td>\n",
       "      <td>mi</td>\n",
       "      <td>New</td>\n",
       "      <td>18494.0</td>\n",
       "      <td>red</td>\n",
       "      <td>black</td>\n",
       "      <td>ford motor credit company,llc</td>\n",
       "      <td>29100</td>\n",
       "      <td>28100</td>\n",
       "      <td>Thu Jun 11 2015 02:30:00 GMT-0700 (PDT)</td>\n",
       "      <td>NaN</td>\n",
       "      <td>1.0</td>\n",
       "    </tr>\n",
       "  </tbody>\n",
       "</table>\n",
       "</div>"
      ],
      "text/plain": [
       "   Unnamed: 0  year           make     model        trim   body transmission  \\\n",
       "0      449069  2006       Chrysler       300        Base  Sedan    automatic   \n",
       "1      197199  2014     Volkswagen     Jetta           S  Sedan       manual   \n",
       "2      288171  2007          Dodge   Durango         SLT    SUV    automatic   \n",
       "3      277025  2013  Mercedes-Benz   E-Class  E350 Sport  Sedan    automatic   \n",
       "4      322760  2013           Ford  Explorer         XLT    SUV    automatic   \n",
       "\n",
       "                 vin state condition  odometer  color   interior  \\\n",
       "0  2c3ka43r76h366165    il       New  119618.0   blue       gray   \n",
       "1  3vw1k7aj9em275429    ca       New    7740.0      —      black   \n",
       "2  1d8hd48p97f510727    fl       New  166628.0   gold        tan   \n",
       "3  wddhf5kb3da735753    tx       New   23923.0  white  off-white   \n",
       "4  1fm5k8d84dgc59887    mi       New   18494.0    red      black   \n",
       "\n",
       "                             seller    mmr  sellingprice  \\\n",
       "0                      go financial   4775          2500   \n",
       "1          volkswagen credit inc/sc  12050         12750   \n",
       "2   mid atlantic finance/clearwater   2850          2700   \n",
       "3  mercedes-benz financial services  32200         32000   \n",
       "4     ford motor credit company,llc  29100         28100   \n",
       "\n",
       "                                  saledate  Unnamed: 16  condition_rating  \n",
       "0  Thu May 28 2015 03:00:00 GMT-0700 (PDT)          NaN               1.0  \n",
       "1  Wed Jul 01 2015 09:30:00 GMT-0700 (PDT)          NaN               1.0  \n",
       "2  Wed Feb 11 2015 08:00:00 GMT-0800 (PST)          NaN               1.0  \n",
       "3  Thu Feb 12 2015 03:00:00 GMT-0800 (PST)          NaN               1.0  \n",
       "4  Thu Jun 11 2015 02:30:00 GMT-0700 (PDT)          NaN               1.0  "
      ]
     },
     "execution_count": 68,
     "metadata": {},
     "output_type": "execute_result"
    }
   ],
   "source": [
    "cars.head()"
   ]
  },
  {
   "cell_type": "markdown",
   "metadata": {},
   "source": [
    "## Label Encoding"
   ]
  },
  {
   "cell_type": "markdown",
   "metadata": {},
   "source": [
    "- Now, we can talk about *nominal data*, and we have to approach this type of data differently than what we did with *ordinal data*. \n",
    "- Our `color` feature has a lot of different labels, but here are the top five colors that appear in our data frame."
   ]
  },
  {
   "cell_type": "code",
   "execution_count": 69,
   "metadata": {},
   "outputs": [
    {
     "data": {
      "text/plain": [
       "19"
      ]
     },
     "execution_count": 69,
     "metadata": {},
     "output_type": "execute_result"
    }
   ],
   "source": [
    "cars.color.nunique()"
   ]
  },
  {
   "cell_type": "code",
   "execution_count": 70,
   "metadata": {},
   "outputs": [
    {
     "data": {
      "text/plain": [
       "color\n",
       "black     2015\n",
       "white     1931\n",
       "gray      1506\n",
       "silver    1503\n",
       "blue       869\n",
       "Name: count, dtype: int64"
      ]
     },
     "execution_count": 70,
     "metadata": {},
     "output_type": "execute_result"
    }
   ],
   "source": [
    "cars.color.value_counts()[:5]"
   ]
  },
  {
   "cell_type": "markdown",
   "metadata": {},
   "source": [
    "- To prepare this feature, we still need to convert our text to numbers, so let’s do just that.\n",
    "- We will demonstrate two different approaches, with the first one showing how to convert the feature from an `object` type to a `categories` type."
   ]
  },
  {
   "cell_type": "markdown",
   "metadata": {},
   "source": [
    "```python\n",
    "# convert feature to category type\n",
    "cars['color'] = cars['color'].astype('category')\n",
    "\n",
    "# save new version of category codes\n",
    "cars['color'] = cars['color'].cat.codes\n",
    "\n",
    "# print to see transformation\n",
    "cars['color'].value_counts()[:5]\n",
    "\n",
    "# Output:\n",
    "# 1     2015\n",
    "# 16    1931\n",
    "# 8     1506\n",
    "# 15    1503\n",
    "# 2      869\n",
    "```"
   ]
  },
  {
   "cell_type": "markdown",
   "metadata": {},
   "source": [
    "- Comparing our newly transformed data to the original top 5 list, we can see Black was transformed to number 1, White was transformed to 16, and so on.\n",
    "\n",
    "<br>\n",
    "\n",
    "- However, we have created a problem for ourselves and potentially our model. \n",
    "- We can see that ‘Blue’ cars now have a value of 2, and our model will assume that ‘Blue’ has lower precedence over the ‘Black’ car, whose color has a value of 1. \n",
    "- Since ‘Blue’ cars = 2 and ‘White’ cars = 16, our model could actually give ‘White’ cars 8 times more weight than a ‘Blue’ car simply because of the way we encoded this feature. \n",
    "- To combat this ordinal assumption our model will make, we should *one-hot encode* our nominal data, which we will cover in the next section.\n",
    "\n",
    "<br>\n",
    "\n",
    "- One more way we can transform this feature is by using `sklearn.preprocessing` and the `LabelEncoder` library. \n",
    "- This method will not work if your feature has `NaN` values. \n",
    "- Those need to be addressed prior to running `.fit_transform`.\n",
    "\n",
    "```python\n",
    "from sklearn.preprocessing import LabelEncoder\n",
    "\n",
    "# create encoder\n",
    "encoder = LabelEncoder()\n",
    "\n",
    "# create new variable with assigned numbers\n",
    "cars['color'] = encoder.fit_transform(cars['color'])\n",
    "\n",
    "cars.color.value_counts()[:5]\n",
    "\n",
    "# Output \n",
    "# color\n",
    "# 1     2015\n",
    "# 16    1931\n",
    "# 7     1506\n",
    "# 14    1503\n",
    "# 2      869\n",
    "```"
   ]
  },
  {
   "cell_type": "markdown",
   "metadata": {},
   "source": [
    "## One-Hot Encoding"
   ]
  },
  {
   "cell_type": "markdown",
   "metadata": {},
   "source": [
    "- One-hot encoding is when we create a dummy variable for each value of our categorical feature, and a *dummy variable* is defined as a numeric variable with two values: 1 and 0. \n",
    "- We will continue to talk about our `color` feature from our used car dataset.\n",
    "\n",
    "<br>\n",
    "\n",
    "- Looking at this visual below, we can see we have ten cars in four different colors. \n",
    "- In place of the single `color` column, we create four dummy variables - one new column for each color. \n",
    "- Then the values that go into that column are binary, indicating if the car in that row is the color of the column name (`1`) or not (`0`).  \n",
    "    <img src=\"Images/One hot encoding (1).webp\" width=\"1000\" style=\"display: block; margin: 0 auto\" />\n",
    "- This approach is great for our color feature and will allow the model to see each category as its own feature and not try to create order between a “Black car” and a “Red car”. \n",
    "- Here is how we can implement this in Python:"
   ]
  },
  {
   "cell_type": "markdown",
   "metadata": {},
   "source": [
    "```python\t\n",
    "# use pandas .get_dummies method to create one new column for each color\n",
    "ohe = pd.get_dummies(cars['color'])\n",
    "\n",
    "# join the new columns back onto our cars dataframe\n",
    "cars = cars.join(ohe)\n",
    "```\t"
   ]
  },
  {
   "cell_type": "markdown",
   "metadata": {},
   "source": [
    "- A downside to this approach is that it can create a lot of features which can then create a very sparse matrix."
   ]
  },
  {
   "cell_type": "markdown",
   "metadata": {},
   "source": [
    "## Binary Encoding"
   ]
  },
  {
   "cell_type": "markdown",
   "metadata": {},
   "source": [
    "- If we find the need to one-hot encode a lot of categorical features which would, in turn, create a sparse matrix and may cause problems for our model, a strong alternative to this issue is performing a *binary encoder*. \n",
    "- A binary encoder will find the number of unique categories and then convert each category to its binary representation. \n",
    "- Let us take a quick review of binary numbers and keep using our color feature. \n",
    "- We know that we have 19 unique colors, so the way to represent the numbers from 1 to 19 in binary format is as follows:\n",
    "    | Number | Binary |\n",
    "    |--------|--------|\n",
    "    | 1      | 1      |\n",
    "    | 2      | 10     |\n",
    "    | 3      | 11     |\n",
    "    | 4      | 100    |\n",
    "    | 5      | 101    |\n",
    "    | 6      | 110    |\n",
    "    | 7      | 111    |\n",
    "    | 8      | 1000   |\n",
    "    | 9      | 1001   |\n",
    "    | 10     | 1010   |\n",
    "    | 11     | 1011   |\n",
    "    | 12     | 1100   |\n",
    "    | 13     | 1101   |\n",
    "    | 14     | 1110   |\n",
    "    | 15     | 1111   |\n",
    "    | 16     | 10000  |\n",
    "    | 17     | 10001  |\n",
    "    | 18     | 10010  |\n",
    "    | 19     | 10011  |\n",
    "- We can easily see that our highest number 19 is 5 digits long, so our binary encoder will need 5 columns to be able to represent all digits. \n",
    "- Here is a sample of how our color column will transform each color if we were to perform a binary encoder.\n",
    "    | color_1 | color_2 | color_3 | color_4 | color_5 | color_text |\n",
    "    |---------|---------|---------|---------|---------|------------|\n",
    "    | 0       | 0       | 0       | 0       | 1       | blue       |\n",
    "    | 0       | 0       | 0       | 1       | 0       | -          |\n",
    "    | 0       | 0       | 0       | 1       | 1       | gold       |\n",
    "    | 0       | 0       | 1       | 0       | 0       | white      |\n",
    "    | 0       | 0       | 1       | 0       | 1       | red        |\n",
    "    | 0       | 0       | 1       | 1       | 0       | silver     |\n",
    "    | 0       | 0       | 1       | 1       | 1       | black      |\n",
    "    | 0       | 1       | 0       | 0       | 0       | gray       |\n",
    "    | 0       | 1       | 0       | 0       | 1       | burgundy   |\n",
    "    | 0       | 1       | 0       | 1       | 0       | brown      |\n",
    "    | 0       | 1       | 0       | 1       | 1       | turqoise   |\n",
    "    | 0       | 1       | 1       | 0       | 0       | orange     |\n",
    "    | 0       | 1       | 1       | 0       | 1       | green      |\n",
    "    | 0       | 1       | 1       | 1       | 0       | beige      |\n",
    "    | 0       | 1       | 1       | 1       | 1       | yellow     |\n",
    "    | 1       | 0       | 0       | 0       | 0       | puple      |\n",
    "    | 1       | 0       | 0       | 0       | 1       | off-white  |\n",
    "    | 1       | 0       | 0       | 1       | 0       | charcoal   |\n",
    "    | 1       | 0       | 0       | 1       | 1       | pink       |\n",
    "- Our 19th color, pink, has transformed to be represented in the binary form `10011`. \n",
    "- If we were to utilize this process instead of the traditional one-hot encoder we would have 5 numerical features instead of 19, reducing our features by about 75%!\n",
    "\n",
    "<br>\n",
    "\n",
    "- To make this happen with Python we’ll use a library called `category_encoders` and import `BinaryEncoder`. \n",
    "- We will determine which column to transform and set `drop_invariant` to `True` so it will keep the five binary columns. \n",
    "- If it is set to the default 0, then we would have an additional column full of zeros."
   ]
  },
  {
   "cell_type": "code",
   "execution_count": 71,
   "metadata": {},
   "outputs": [],
   "source": [
    "from category_encoders import BinaryEncoder\n",
    "\n",
    "#this will create a new data frame with the color column removed and replaced with our 5 new binary feature columns\n",
    "colors = BinaryEncoder(cols = ['color'], drop_invariant = True).fit_transform(cars)"
   ]
  },
  {
   "cell_type": "code",
   "execution_count": 72,
   "metadata": {},
   "outputs": [
    {
     "data": {
      "text/plain": [
       "Index(['Unnamed: 0', 'year', 'make', 'model', 'trim', 'body', 'transmission',\n",
       "       'vin', 'state', 'condition', 'odometer', 'color_0', 'color_1',\n",
       "       'color_2', 'color_3', 'color_4', 'interior', 'seller', 'mmr',\n",
       "       'sellingprice', 'saledate', 'Unnamed: 16', 'condition_rating'],\n",
       "      dtype='object')"
      ]
     },
     "execution_count": 72,
     "metadata": {},
     "output_type": "execute_result"
    }
   ],
   "source": [
    "colors.columns"
   ]
  },
  {
   "cell_type": "markdown",
   "metadata": {},
   "source": [
    "## Hashing"
   ]
  },
  {
   "cell_type": "markdown",
   "metadata": {},
   "source": [
    "- Another option we have available to us is an encoding technique called *hashing*.\n",
    "- This process is similar to one-hot encoding where it will create new binary columns, but within the parameters, you can decide how many features to output. \n",
    "- A huge advantage is reduced dimensionality, but a large disadvantage is that some categories will be mapped to the same values. \n",
    "- That is called *collision*.\n",
    "\n",
    "<br>\n",
    "\n",
    "- For example, we have 19 different colored cars. \n",
    "- If I were to use the hash encoder and set the number of features to be 5, I will definitely have a few colors with the same hash values.\n",
    "    | color_text | col_0 | col_1 | col_2 | col_3 |\n",
    "    |------------|-------|-------|-------|-------|\n",
    "    | beige      | 0     | 1     | 0     | 0     |\n",
    "    | black      | 0     | 0     | 0     | 1     |\n",
    "    | blue       | 1     | 0     | 0     | 0     |\n",
    "    | brown      | 0     | 0     | 1     | 0     |\n",
    "    | burgundy   | 0     | 1     | 0     | 0     |\n",
    "    | charcoal   | 0     | 0     | 1     | 0     |\n",
    "    | gold       | 1     | 0     | 0     | 0     |\n",
    "    | gray       | 0     | 1     | 0     | 0     |\n",
    "    | green      | 0     | 0     | 0     | 0     |\n",
    "    | off-white  | 0     | 0     | 1     | 0     |\n",
    "    | orange     | 1     | 0     | 0     | 0     |\n",
    "    | pink       | 1     | 0     | 0     | 0     |\n",
    "    | purple     | 0     | 0     | 0     | 1     |\n",
    "    | red        | 0     | 0     | 1     | 0     |\n",
    "    | silver     | 0     | 1     | 0     | 0     |\n",
    "    | turqoise   | 0     | 1     | 0     | 0     |\n",
    "    | white      | 0     | 0     | 1     | 0     |\n",
    "    | yellow     | 0     | 0     | 0     | 0     |\n",
    "    | -          | 0     | 1     | 0     | 0     |\n",
    "- We can easily see that brown and charcoal colors have the same hash values.\n",
    "- Meaning, we’ve lost some information and our model won’t be able to see the difference between those two colors.\n",
    "\n",
    "<br>\n",
    "\n",
    "- Here is how we can make this work with Python. \n",
    "- Our final result of `hash_results` will produce a data frame of just 5 columns, so we will want to concatenate this new data onto our original data frame.\n",
    "\n",
    "```python\n",
    "from category_encoders import HashingEncoder\n",
    "\n",
    "# instantiate our encoder\n",
    "encoder = HashingEncoder(cols='color', n_components=5)\n",
    "\n",
    "# do a fit transform on our color column and set to a new variable\n",
    "hash_results = encoder.fit_transform(cars['color'])\n",
    "```\n",
    "\n",
    "- Now you may be thinking, when would I use this if I’m going to lose information and my model will see brown and charcoal (or some other color combo with the same hash value) as the same thing? \n",
    "- Well, this could be a solution to your project and dataset if you are not as interested in assessing the impact of any particular categorical value.\n",
    "- For this example, maybe you aren’t interested in knowing which color car had an impact on your final prediction, but you want to be able to get the best performance from your model. \n",
    "- This encoding solution may be a good approach."
   ]
  },
  {
   "cell_type": "markdown",
   "metadata": {},
   "source": [
    "## Target Encoding"
   ]
  },
  {
   "cell_type": "markdown",
   "metadata": {},
   "source": [
    "- Target encoding is a Bayesian encoder used to transform categorical features into hashed numerical values and is sometimes called the *mean encoder*. \n",
    "- This encoder can be utilized for data sets that are being prepared for regression-based supervised learning, as it needs to take into consideration the mean of the target variable and its correlation between each individual category of our feature.\n",
    "- In fact, the numerical values of each category is replaced with a blend of the posterior probability of the target given a particular categorical value and the prior probability of the target over all the training data.\n",
    "\n",
    "<br>\n",
    "\n",
    "- Woah, now that was a lot of Bayesian buzzwords. \n",
    "- How would it work with our specific `color` feature? \n",
    "- It replaces each color with a blend of the mean price of that car color and the mean price of all the cars. \n",
    "- Had it been predicting something categorical, it would’ve used a Bayesian target statistic.\n",
    "\n",
    "<br>\n",
    "\n",
    "- Some drawbacks to this approach are overfitting and unevenly distributed values that could lead to extremes. \n",
    "- Let’s review how to implement this in Python and check out what type of numerical values it will return. \n",
    "- Again, we’ll continue with our color feature - hope you are not yet tired of it!\n",
    "\n",
    "<br>\n",
    "\n",
    "- Say we are preparing our dataset for a regression-based supervised learning algorithm that is trying to predict the selling price.\n",
    "\n",
    "```python\n",
    "from category_encoders import TargetEncoder\n",
    "\n",
    "# instantiate our encoder\n",
    "encoder = TargetEncoder(cols = 'color')\n",
    "\n",
    "# set the results of our fit_transform to a variable \n",
    "# the output will be its own pandas series\n",
    "encoder_results = encoder.fit_transform(cars['color'], cars['sellingprice'])\n",
    "\n",
    "print(encoder_results.head())\n",
    "#   color\n",
    "# 0 11761.881473\n",
    "# 1 18007.276995\n",
    "# 2 8458.251232\n",
    "# 3 14769.292595\n",
    "# 4 12691.099747\n",
    "```\n",
    "\n",
    "- We can examine all the different values our `encoder_results` holds, and if we look at the output from below we can see our min is about 3,054 and our max is about 18,048. \n",
    "- That is quite a big difference!\n",
    "\n",
    "```python\n",
    "# print all 19 unique values\n",
    "print(np.sort(encoder_results['color'].unique()))\n",
    "# OUTPUT \n",
    "# [ 3054.12209927  8088.87434555  8458.25123153  9276.78571429\n",
    "#   9867.50002121  9885.8093167  11043.90243902 11247.82608763\n",
    "#  11761.88147296 11805.06187625 12124.83443709 12376.19047882\n",
    "#  12691.09974747 13912.83399734 14769.29259451 15496.72704715\n",
    "#  17174.36440678 17176.25931731 18007.27699531 18048.52540833]\n",
    "```"
   ]
  },
  {
   "cell_type": "markdown",
   "metadata": {},
   "source": [
    "## Encoding date-time variables"
   ]
  },
  {
   "cell_type": "markdown",
   "metadata": {},
   "source": [
    "- Every data analyst or scientist will have to work with date-time objects at some point in their career. \n",
    "- There is so much information to be gained from date-time objects. \n",
    "- We will work with the saledate feature - yay, a new column to explore! \n",
    "- The very first thing we need to do is convert this to a date-time object."
   ]
  },
  {
   "cell_type": "code",
   "execution_count": 73,
   "metadata": {},
   "outputs": [
    {
     "data": {
      "application/vnd.microsoft.datawrangler.viewer.v0+json": {
       "columns": [
        {
         "name": "index",
         "rawType": "int64",
         "type": "integer"
        },
        {
         "name": "Unnamed: 0",
         "rawType": "int64",
         "type": "integer"
        },
        {
         "name": "year",
         "rawType": "int64",
         "type": "integer"
        },
        {
         "name": "make",
         "rawType": "object",
         "type": "string"
        },
        {
         "name": "model",
         "rawType": "object",
         "type": "string"
        },
        {
         "name": "trim",
         "rawType": "object",
         "type": "string"
        },
        {
         "name": "body",
         "rawType": "object",
         "type": "string"
        },
        {
         "name": "transmission",
         "rawType": "object",
         "type": "string"
        },
        {
         "name": "vin",
         "rawType": "object",
         "type": "string"
        },
        {
         "name": "state",
         "rawType": "object",
         "type": "string"
        },
        {
         "name": "condition",
         "rawType": "object",
         "type": "string"
        },
        {
         "name": "odometer",
         "rawType": "float64",
         "type": "float"
        },
        {
         "name": "color",
         "rawType": "object",
         "type": "string"
        },
        {
         "name": "interior",
         "rawType": "object",
         "type": "string"
        },
        {
         "name": "seller",
         "rawType": "object",
         "type": "string"
        },
        {
         "name": "mmr",
         "rawType": "int64",
         "type": "integer"
        },
        {
         "name": "sellingprice",
         "rawType": "int64",
         "type": "integer"
        },
        {
         "name": "saledate",
         "rawType": "object",
         "type": "string"
        },
        {
         "name": "Unnamed: 16",
         "rawType": "float64",
         "type": "float"
        },
        {
         "name": "condition_rating",
         "rawType": "float64",
         "type": "float"
        }
       ],
       "conversionMethod": "pd.DataFrame",
       "ref": "b41a871b-efe1-4747-b62a-c446358db537",
       "rows": [
        [
         "0",
         "449069",
         "2006",
         "Chrysler",
         "300",
         "Base",
         "Sedan",
         "automatic",
         "2c3ka43r76h366165",
         "il",
         "New",
         "119618.0",
         "blue",
         "gray",
         "go financial",
         "4775",
         "2500",
         "Thu May 28 2015 03:00:00 GMT-0700 (PDT)",
         null,
         "1.0"
        ],
        [
         "1",
         "197199",
         "2014",
         "Volkswagen",
         "Jetta",
         "S",
         "Sedan",
         "manual",
         "3vw1k7aj9em275429",
         "ca",
         "New",
         "7740.0",
         "—",
         "black",
         "volkswagen credit inc/sc",
         "12050",
         "12750",
         "Wed Jul 01 2015 09:30:00 GMT-0700 (PDT)",
         null,
         "1.0"
        ],
        [
         "2",
         "288171",
         "2007",
         "Dodge",
         "Durango",
         "SLT",
         "SUV",
         "automatic",
         "1d8hd48p97f510727",
         "fl",
         "New",
         "166628.0",
         "gold",
         "tan",
         "mid atlantic finance/clearwater",
         "2850",
         "2700",
         "Wed Feb 11 2015 08:00:00 GMT-0800 (PST)",
         null,
         "1.0"
        ],
        [
         "3",
         "277025",
         "2013",
         "Mercedes-Benz",
         "E-Class",
         "E350 Sport",
         "Sedan",
         "automatic",
         "wddhf5kb3da735753",
         "tx",
         "New",
         "23923.0",
         "white",
         "off-white",
         "mercedes-benz financial services",
         "32200",
         "32000",
         "Thu Feb 12 2015 03:00:00 GMT-0800 (PST)",
         null,
         "1.0"
        ],
        [
         "4",
         "322760",
         "2013",
         "Ford",
         "Explorer",
         "XLT",
         "SUV",
         "automatic",
         "1fm5k8d84dgc59887",
         "mi",
         "New",
         "18494.0",
         "red",
         "black",
         "ford motor credit company,llc",
         "29100",
         "28100",
         "Thu Jun 11 2015 02:30:00 GMT-0700 (PDT)",
         null,
         "1.0"
        ]
       ],
       "shape": {
        "columns": 19,
        "rows": 5
       }
      },
      "text/html": [
       "<div>\n",
       "<style scoped>\n",
       "    .dataframe tbody tr th:only-of-type {\n",
       "        vertical-align: middle;\n",
       "    }\n",
       "\n",
       "    .dataframe tbody tr th {\n",
       "        vertical-align: top;\n",
       "    }\n",
       "\n",
       "    .dataframe thead th {\n",
       "        text-align: right;\n",
       "    }\n",
       "</style>\n",
       "<table border=\"1\" class=\"dataframe\">\n",
       "  <thead>\n",
       "    <tr style=\"text-align: right;\">\n",
       "      <th></th>\n",
       "      <th>Unnamed: 0</th>\n",
       "      <th>year</th>\n",
       "      <th>make</th>\n",
       "      <th>model</th>\n",
       "      <th>trim</th>\n",
       "      <th>body</th>\n",
       "      <th>transmission</th>\n",
       "      <th>vin</th>\n",
       "      <th>state</th>\n",
       "      <th>condition</th>\n",
       "      <th>odometer</th>\n",
       "      <th>color</th>\n",
       "      <th>interior</th>\n",
       "      <th>seller</th>\n",
       "      <th>mmr</th>\n",
       "      <th>sellingprice</th>\n",
       "      <th>saledate</th>\n",
       "      <th>Unnamed: 16</th>\n",
       "      <th>condition_rating</th>\n",
       "    </tr>\n",
       "  </thead>\n",
       "  <tbody>\n",
       "    <tr>\n",
       "      <th>0</th>\n",
       "      <td>449069</td>\n",
       "      <td>2006</td>\n",
       "      <td>Chrysler</td>\n",
       "      <td>300</td>\n",
       "      <td>Base</td>\n",
       "      <td>Sedan</td>\n",
       "      <td>automatic</td>\n",
       "      <td>2c3ka43r76h366165</td>\n",
       "      <td>il</td>\n",
       "      <td>New</td>\n",
       "      <td>119618.0</td>\n",
       "      <td>blue</td>\n",
       "      <td>gray</td>\n",
       "      <td>go financial</td>\n",
       "      <td>4775</td>\n",
       "      <td>2500</td>\n",
       "      <td>Thu May 28 2015 03:00:00 GMT-0700 (PDT)</td>\n",
       "      <td>NaN</td>\n",
       "      <td>1.0</td>\n",
       "    </tr>\n",
       "    <tr>\n",
       "      <th>1</th>\n",
       "      <td>197199</td>\n",
       "      <td>2014</td>\n",
       "      <td>Volkswagen</td>\n",
       "      <td>Jetta</td>\n",
       "      <td>S</td>\n",
       "      <td>Sedan</td>\n",
       "      <td>manual</td>\n",
       "      <td>3vw1k7aj9em275429</td>\n",
       "      <td>ca</td>\n",
       "      <td>New</td>\n",
       "      <td>7740.0</td>\n",
       "      <td>—</td>\n",
       "      <td>black</td>\n",
       "      <td>volkswagen credit inc/sc</td>\n",
       "      <td>12050</td>\n",
       "      <td>12750</td>\n",
       "      <td>Wed Jul 01 2015 09:30:00 GMT-0700 (PDT)</td>\n",
       "      <td>NaN</td>\n",
       "      <td>1.0</td>\n",
       "    </tr>\n",
       "    <tr>\n",
       "      <th>2</th>\n",
       "      <td>288171</td>\n",
       "      <td>2007</td>\n",
       "      <td>Dodge</td>\n",
       "      <td>Durango</td>\n",
       "      <td>SLT</td>\n",
       "      <td>SUV</td>\n",
       "      <td>automatic</td>\n",
       "      <td>1d8hd48p97f510727</td>\n",
       "      <td>fl</td>\n",
       "      <td>New</td>\n",
       "      <td>166628.0</td>\n",
       "      <td>gold</td>\n",
       "      <td>tan</td>\n",
       "      <td>mid atlantic finance/clearwater</td>\n",
       "      <td>2850</td>\n",
       "      <td>2700</td>\n",
       "      <td>Wed Feb 11 2015 08:00:00 GMT-0800 (PST)</td>\n",
       "      <td>NaN</td>\n",
       "      <td>1.0</td>\n",
       "    </tr>\n",
       "    <tr>\n",
       "      <th>3</th>\n",
       "      <td>277025</td>\n",
       "      <td>2013</td>\n",
       "      <td>Mercedes-Benz</td>\n",
       "      <td>E-Class</td>\n",
       "      <td>E350 Sport</td>\n",
       "      <td>Sedan</td>\n",
       "      <td>automatic</td>\n",
       "      <td>wddhf5kb3da735753</td>\n",
       "      <td>tx</td>\n",
       "      <td>New</td>\n",
       "      <td>23923.0</td>\n",
       "      <td>white</td>\n",
       "      <td>off-white</td>\n",
       "      <td>mercedes-benz financial services</td>\n",
       "      <td>32200</td>\n",
       "      <td>32000</td>\n",
       "      <td>Thu Feb 12 2015 03:00:00 GMT-0800 (PST)</td>\n",
       "      <td>NaN</td>\n",
       "      <td>1.0</td>\n",
       "    </tr>\n",
       "    <tr>\n",
       "      <th>4</th>\n",
       "      <td>322760</td>\n",
       "      <td>2013</td>\n",
       "      <td>Ford</td>\n",
       "      <td>Explorer</td>\n",
       "      <td>XLT</td>\n",
       "      <td>SUV</td>\n",
       "      <td>automatic</td>\n",
       "      <td>1fm5k8d84dgc59887</td>\n",
       "      <td>mi</td>\n",
       "      <td>New</td>\n",
       "      <td>18494.0</td>\n",
       "      <td>red</td>\n",
       "      <td>black</td>\n",
       "      <td>ford motor credit company,llc</td>\n",
       "      <td>29100</td>\n",
       "      <td>28100</td>\n",
       "      <td>Thu Jun 11 2015 02:30:00 GMT-0700 (PDT)</td>\n",
       "      <td>NaN</td>\n",
       "      <td>1.0</td>\n",
       "    </tr>\n",
       "  </tbody>\n",
       "</table>\n",
       "</div>"
      ],
      "text/plain": [
       "   Unnamed: 0  year           make     model        trim   body transmission  \\\n",
       "0      449069  2006       Chrysler       300        Base  Sedan    automatic   \n",
       "1      197199  2014     Volkswagen     Jetta           S  Sedan       manual   \n",
       "2      288171  2007          Dodge   Durango         SLT    SUV    automatic   \n",
       "3      277025  2013  Mercedes-Benz   E-Class  E350 Sport  Sedan    automatic   \n",
       "4      322760  2013           Ford  Explorer         XLT    SUV    automatic   \n",
       "\n",
       "                 vin state condition  odometer  color   interior  \\\n",
       "0  2c3ka43r76h366165    il       New  119618.0   blue       gray   \n",
       "1  3vw1k7aj9em275429    ca       New    7740.0      —      black   \n",
       "2  1d8hd48p97f510727    fl       New  166628.0   gold        tan   \n",
       "3  wddhf5kb3da735753    tx       New   23923.0  white  off-white   \n",
       "4  1fm5k8d84dgc59887    mi       New   18494.0    red      black   \n",
       "\n",
       "                             seller    mmr  sellingprice  \\\n",
       "0                      go financial   4775          2500   \n",
       "1          volkswagen credit inc/sc  12050         12750   \n",
       "2   mid atlantic finance/clearwater   2850          2700   \n",
       "3  mercedes-benz financial services  32200         32000   \n",
       "4     ford motor credit company,llc  29100         28100   \n",
       "\n",
       "                                  saledate  Unnamed: 16  condition_rating  \n",
       "0  Thu May 28 2015 03:00:00 GMT-0700 (PDT)          NaN               1.0  \n",
       "1  Wed Jul 01 2015 09:30:00 GMT-0700 (PDT)          NaN               1.0  \n",
       "2  Wed Feb 11 2015 08:00:00 GMT-0800 (PST)          NaN               1.0  \n",
       "3  Thu Feb 12 2015 03:00:00 GMT-0800 (PST)          NaN               1.0  \n",
       "4  Thu Jun 11 2015 02:30:00 GMT-0700 (PDT)          NaN               1.0  "
      ]
     },
     "execution_count": 73,
     "metadata": {},
     "output_type": "execute_result"
    }
   ],
   "source": [
    "cars.head()"
   ]
  },
  {
   "cell_type": "code",
   "execution_count": 74,
   "metadata": {},
   "outputs": [
    {
     "data": {
      "text/plain": [
       "dtype('O')"
      ]
     },
     "execution_count": 74,
     "metadata": {},
     "output_type": "execute_result"
    }
   ],
   "source": [
    "cars['saledate'].dtypes"
   ]
  },
  {
   "cell_type": "code",
   "execution_count": 75,
   "metadata": {},
   "outputs": [
    {
     "name": "stderr",
     "output_type": "stream",
     "text": [
      "C:\\Users\\larsk\\AppData\\Local\\Temp\\ipykernel_11784\\3865303348.py:1: UserWarning: Could not infer format, so each element will be parsed individually, falling back to `dateutil`. To ensure parsing is consistent and as-expected, please specify a format.\n",
      "  cars['saledate'] = pd.to_datetime(cars['saledate'], utc=True)\n"
     ]
    },
    {
     "data": {
      "text/plain": [
       "datetime64[ns, UTC]"
      ]
     },
     "execution_count": 75,
     "metadata": {},
     "output_type": "execute_result"
    }
   ],
   "source": [
    "cars['saledate'] = pd.to_datetime(cars['saledate'], utc=True)\n",
    "cars['saledate'].dtypes"
   ]
  },
  {
   "cell_type": "markdown",
   "metadata": {},
   "source": [
    "- Now that we have our feature set up as a datetime object, let’s demonstrate some methods we can utilize to get additional information."
   ]
  },
  {
   "cell_type": "code",
   "execution_count": 77,
   "metadata": {},
   "outputs": [],
   "source": [
    "# create new variable for month\n",
    "cars['month'] = cars['saledate'].dt.month\n",
    "\n",
    "# create new variable for day of the week\n",
    "cars['dayofweek'] = cars['saledate'].dt.day\n",
    "\n",
    "# create new variable for difference between cars model year and year sold\n",
    "cars['yearbuild_sold'] = cars['saledate'].dt.year - cars['year']"
   ]
  },
  {
   "cell_type": "code",
   "execution_count": 78,
   "metadata": {},
   "outputs": [
    {
     "data": {
      "application/vnd.microsoft.datawrangler.viewer.v0+json": {
       "columns": [
        {
         "name": "index",
         "rawType": "int64",
         "type": "integer"
        },
        {
         "name": "Unnamed: 0",
         "rawType": "int64",
         "type": "integer"
        },
        {
         "name": "year",
         "rawType": "int64",
         "type": "integer"
        },
        {
         "name": "make",
         "rawType": "object",
         "type": "string"
        },
        {
         "name": "model",
         "rawType": "object",
         "type": "string"
        },
        {
         "name": "trim",
         "rawType": "object",
         "type": "string"
        },
        {
         "name": "body",
         "rawType": "object",
         "type": "string"
        },
        {
         "name": "transmission",
         "rawType": "object",
         "type": "string"
        },
        {
         "name": "vin",
         "rawType": "object",
         "type": "string"
        },
        {
         "name": "state",
         "rawType": "object",
         "type": "string"
        },
        {
         "name": "condition",
         "rawType": "object",
         "type": "string"
        },
        {
         "name": "odometer",
         "rawType": "float64",
         "type": "float"
        },
        {
         "name": "color",
         "rawType": "object",
         "type": "string"
        },
        {
         "name": "interior",
         "rawType": "object",
         "type": "string"
        },
        {
         "name": "seller",
         "rawType": "object",
         "type": "string"
        },
        {
         "name": "mmr",
         "rawType": "int64",
         "type": "integer"
        },
        {
         "name": "sellingprice",
         "rawType": "int64",
         "type": "integer"
        },
        {
         "name": "saledate",
         "rawType": "datetime64[ns, UTC]",
         "type": "unknown"
        },
        {
         "name": "Unnamed: 16",
         "rawType": "float64",
         "type": "float"
        },
        {
         "name": "condition_rating",
         "rawType": "float64",
         "type": "float"
        },
        {
         "name": "month",
         "rawType": "int32",
         "type": "integer"
        },
        {
         "name": "dayofweek",
         "rawType": "int32",
         "type": "integer"
        },
        {
         "name": "yearbuild_sold",
         "rawType": "int64",
         "type": "integer"
        }
       ],
       "conversionMethod": "pd.DataFrame",
       "ref": "2586f7f2-36a8-46e9-a929-4bcecc04fe74",
       "rows": [
        [
         "0",
         "449069",
         "2006",
         "Chrysler",
         "300",
         "Base",
         "Sedan",
         "automatic",
         "2c3ka43r76h366165",
         "il",
         "New",
         "119618.0",
         "blue",
         "gray",
         "go financial",
         "4775",
         "2500",
         "2015-05-27 20:00:00+00:00",
         null,
         "1.0",
         "5",
         "27",
         "9"
        ],
        [
         "1",
         "197199",
         "2014",
         "Volkswagen",
         "Jetta",
         "S",
         "Sedan",
         "manual",
         "3vw1k7aj9em275429",
         "ca",
         "New",
         "7740.0",
         "—",
         "black",
         "volkswagen credit inc/sc",
         "12050",
         "12750",
         "2015-07-01 02:30:00+00:00",
         null,
         "1.0",
         "7",
         "1",
         "1"
        ],
        [
         "2",
         "288171",
         "2007",
         "Dodge",
         "Durango",
         "SLT",
         "SUV",
         "automatic",
         "1d8hd48p97f510727",
         "fl",
         "New",
         "166628.0",
         "gold",
         "tan",
         "mid atlantic finance/clearwater",
         "2850",
         "2700",
         "2015-02-11 00:00:00+00:00",
         null,
         "1.0",
         "2",
         "11",
         "8"
        ],
        [
         "3",
         "277025",
         "2013",
         "Mercedes-Benz",
         "E-Class",
         "E350 Sport",
         "Sedan",
         "automatic",
         "wddhf5kb3da735753",
         "tx",
         "New",
         "23923.0",
         "white",
         "off-white",
         "mercedes-benz financial services",
         "32200",
         "32000",
         "2015-02-11 19:00:00+00:00",
         null,
         "1.0",
         "2",
         "11",
         "2"
        ],
        [
         "4",
         "322760",
         "2013",
         "Ford",
         "Explorer",
         "XLT",
         "SUV",
         "automatic",
         "1fm5k8d84dgc59887",
         "mi",
         "New",
         "18494.0",
         "red",
         "black",
         "ford motor credit company,llc",
         "29100",
         "28100",
         "2015-06-10 19:30:00+00:00",
         null,
         "1.0",
         "6",
         "10",
         "2"
        ]
       ],
       "shape": {
        "columns": 22,
        "rows": 5
       }
      },
      "text/html": [
       "<div>\n",
       "<style scoped>\n",
       "    .dataframe tbody tr th:only-of-type {\n",
       "        vertical-align: middle;\n",
       "    }\n",
       "\n",
       "    .dataframe tbody tr th {\n",
       "        vertical-align: top;\n",
       "    }\n",
       "\n",
       "    .dataframe thead th {\n",
       "        text-align: right;\n",
       "    }\n",
       "</style>\n",
       "<table border=\"1\" class=\"dataframe\">\n",
       "  <thead>\n",
       "    <tr style=\"text-align: right;\">\n",
       "      <th></th>\n",
       "      <th>Unnamed: 0</th>\n",
       "      <th>year</th>\n",
       "      <th>make</th>\n",
       "      <th>model</th>\n",
       "      <th>trim</th>\n",
       "      <th>body</th>\n",
       "      <th>transmission</th>\n",
       "      <th>vin</th>\n",
       "      <th>state</th>\n",
       "      <th>condition</th>\n",
       "      <th>...</th>\n",
       "      <th>interior</th>\n",
       "      <th>seller</th>\n",
       "      <th>mmr</th>\n",
       "      <th>sellingprice</th>\n",
       "      <th>saledate</th>\n",
       "      <th>Unnamed: 16</th>\n",
       "      <th>condition_rating</th>\n",
       "      <th>month</th>\n",
       "      <th>dayofweek</th>\n",
       "      <th>yearbuild_sold</th>\n",
       "    </tr>\n",
       "  </thead>\n",
       "  <tbody>\n",
       "    <tr>\n",
       "      <th>0</th>\n",
       "      <td>449069</td>\n",
       "      <td>2006</td>\n",
       "      <td>Chrysler</td>\n",
       "      <td>300</td>\n",
       "      <td>Base</td>\n",
       "      <td>Sedan</td>\n",
       "      <td>automatic</td>\n",
       "      <td>2c3ka43r76h366165</td>\n",
       "      <td>il</td>\n",
       "      <td>New</td>\n",
       "      <td>...</td>\n",
       "      <td>gray</td>\n",
       "      <td>go financial</td>\n",
       "      <td>4775</td>\n",
       "      <td>2500</td>\n",
       "      <td>2015-05-27 20:00:00+00:00</td>\n",
       "      <td>NaN</td>\n",
       "      <td>1.0</td>\n",
       "      <td>5</td>\n",
       "      <td>27</td>\n",
       "      <td>9</td>\n",
       "    </tr>\n",
       "    <tr>\n",
       "      <th>1</th>\n",
       "      <td>197199</td>\n",
       "      <td>2014</td>\n",
       "      <td>Volkswagen</td>\n",
       "      <td>Jetta</td>\n",
       "      <td>S</td>\n",
       "      <td>Sedan</td>\n",
       "      <td>manual</td>\n",
       "      <td>3vw1k7aj9em275429</td>\n",
       "      <td>ca</td>\n",
       "      <td>New</td>\n",
       "      <td>...</td>\n",
       "      <td>black</td>\n",
       "      <td>volkswagen credit inc/sc</td>\n",
       "      <td>12050</td>\n",
       "      <td>12750</td>\n",
       "      <td>2015-07-01 02:30:00+00:00</td>\n",
       "      <td>NaN</td>\n",
       "      <td>1.0</td>\n",
       "      <td>7</td>\n",
       "      <td>1</td>\n",
       "      <td>1</td>\n",
       "    </tr>\n",
       "    <tr>\n",
       "      <th>2</th>\n",
       "      <td>288171</td>\n",
       "      <td>2007</td>\n",
       "      <td>Dodge</td>\n",
       "      <td>Durango</td>\n",
       "      <td>SLT</td>\n",
       "      <td>SUV</td>\n",
       "      <td>automatic</td>\n",
       "      <td>1d8hd48p97f510727</td>\n",
       "      <td>fl</td>\n",
       "      <td>New</td>\n",
       "      <td>...</td>\n",
       "      <td>tan</td>\n",
       "      <td>mid atlantic finance/clearwater</td>\n",
       "      <td>2850</td>\n",
       "      <td>2700</td>\n",
       "      <td>2015-02-11 00:00:00+00:00</td>\n",
       "      <td>NaN</td>\n",
       "      <td>1.0</td>\n",
       "      <td>2</td>\n",
       "      <td>11</td>\n",
       "      <td>8</td>\n",
       "    </tr>\n",
       "    <tr>\n",
       "      <th>3</th>\n",
       "      <td>277025</td>\n",
       "      <td>2013</td>\n",
       "      <td>Mercedes-Benz</td>\n",
       "      <td>E-Class</td>\n",
       "      <td>E350 Sport</td>\n",
       "      <td>Sedan</td>\n",
       "      <td>automatic</td>\n",
       "      <td>wddhf5kb3da735753</td>\n",
       "      <td>tx</td>\n",
       "      <td>New</td>\n",
       "      <td>...</td>\n",
       "      <td>off-white</td>\n",
       "      <td>mercedes-benz financial services</td>\n",
       "      <td>32200</td>\n",
       "      <td>32000</td>\n",
       "      <td>2015-02-11 19:00:00+00:00</td>\n",
       "      <td>NaN</td>\n",
       "      <td>1.0</td>\n",
       "      <td>2</td>\n",
       "      <td>11</td>\n",
       "      <td>2</td>\n",
       "    </tr>\n",
       "    <tr>\n",
       "      <th>4</th>\n",
       "      <td>322760</td>\n",
       "      <td>2013</td>\n",
       "      <td>Ford</td>\n",
       "      <td>Explorer</td>\n",
       "      <td>XLT</td>\n",
       "      <td>SUV</td>\n",
       "      <td>automatic</td>\n",
       "      <td>1fm5k8d84dgc59887</td>\n",
       "      <td>mi</td>\n",
       "      <td>New</td>\n",
       "      <td>...</td>\n",
       "      <td>black</td>\n",
       "      <td>ford motor credit company,llc</td>\n",
       "      <td>29100</td>\n",
       "      <td>28100</td>\n",
       "      <td>2015-06-10 19:30:00+00:00</td>\n",
       "      <td>NaN</td>\n",
       "      <td>1.0</td>\n",
       "      <td>6</td>\n",
       "      <td>10</td>\n",
       "      <td>2</td>\n",
       "    </tr>\n",
       "  </tbody>\n",
       "</table>\n",
       "<p>5 rows × 22 columns</p>\n",
       "</div>"
      ],
      "text/plain": [
       "   Unnamed: 0  year           make     model        trim   body transmission  \\\n",
       "0      449069  2006       Chrysler       300        Base  Sedan    automatic   \n",
       "1      197199  2014     Volkswagen     Jetta           S  Sedan       manual   \n",
       "2      288171  2007          Dodge   Durango         SLT    SUV    automatic   \n",
       "3      277025  2013  Mercedes-Benz   E-Class  E350 Sport  Sedan    automatic   \n",
       "4      322760  2013           Ford  Explorer         XLT    SUV    automatic   \n",
       "\n",
       "                 vin state condition  ...   interior  \\\n",
       "0  2c3ka43r76h366165    il       New  ...       gray   \n",
       "1  3vw1k7aj9em275429    ca       New  ...      black   \n",
       "2  1d8hd48p97f510727    fl       New  ...        tan   \n",
       "3  wddhf5kb3da735753    tx       New  ...  off-white   \n",
       "4  1fm5k8d84dgc59887    mi       New  ...      black   \n",
       "\n",
       "                             seller    mmr sellingprice  \\\n",
       "0                      go financial   4775         2500   \n",
       "1          volkswagen credit inc/sc  12050        12750   \n",
       "2   mid atlantic finance/clearwater   2850         2700   \n",
       "3  mercedes-benz financial services  32200        32000   \n",
       "4     ford motor credit company,llc  29100        28100   \n",
       "\n",
       "                   saledate  Unnamed: 16 condition_rating  month  dayofweek  \\\n",
       "0 2015-05-27 20:00:00+00:00          NaN              1.0      5         27   \n",
       "1 2015-07-01 02:30:00+00:00          NaN              1.0      7          1   \n",
       "2 2015-02-11 00:00:00+00:00          NaN              1.0      2         11   \n",
       "3 2015-02-11 19:00:00+00:00          NaN              1.0      2         11   \n",
       "4 2015-06-10 19:30:00+00:00          NaN              1.0      6         10   \n",
       "\n",
       "   yearbuild_sold  \n",
       "0               9  \n",
       "1               1  \n",
       "2               8  \n",
       "3               2  \n",
       "4               2  \n",
       "\n",
       "[5 rows x 22 columns]"
      ]
     },
     "execution_count": 78,
     "metadata": {},
     "output_type": "execute_result"
    }
   ],
   "source": [
    "cars.head()"
   ]
  },
  {
   "cell_type": "markdown",
   "metadata": {},
   "source": [
    "- Below are other options available through pandas .`dt`\n",
    "    | Syntax | Description & Output |\n",
    "    |--------|----------------------|\n",
    "    | `df['col'].dt.year `| Outputs the year | \n",
    "    | `df['col'].dt.month` | Outputs the month |\n",
    "    | `df['col'].dt.day` | Outputs the day |\n",
    "    | `df['col'].dt.hour` | Outputs the hour |\n",
    "    | `df['col'].dt.minute` | Outputs the minute |\n",
    "    | `df['col'].dt.second` | Outputs the second |\n",
    "    | `df['col'].dt.week` |Outputs the week ordinal of the year |\n",
    "    | `df['col'].dt.dayofweek` | Outputs the day of the week as a number with Monday = 0 & Sunday = 6 |\n",
    "- Additional methods can be found [here](https://pandas.pydata.org/pandas-docs/version/0.23/api.html#datetimelike-properties)."
   ]
  }
 ],
 "metadata": {
  "kernelspec": {
   "display_name": "Codecademy-XphA9WxU",
   "language": "python",
   "name": "python3"
  },
  "language_info": {
   "codemirror_mode": {
    "name": "ipython",
    "version": 3
   },
   "file_extension": ".py",
   "mimetype": "text/x-python",
   "name": "python",
   "nbconvert_exporter": "python",
   "pygments_lexer": "ipython3",
   "version": "3.11.1"
  }
 },
 "nbformat": 4,
 "nbformat_minor": 2
}
