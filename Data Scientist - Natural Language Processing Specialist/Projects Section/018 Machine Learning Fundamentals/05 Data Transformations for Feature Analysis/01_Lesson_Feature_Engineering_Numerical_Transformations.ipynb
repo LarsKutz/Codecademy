{
 "cells": [
  {
   "cell_type": "markdown",
   "metadata": {},
   "source": [
    "# Feature Engineering - Numerical Transformations"
   ]
  },
  {
   "cell_type": "code",
   "execution_count": 23,
   "metadata": {},
   "outputs": [],
   "source": [
    "import pandas as pd\n",
    "import numpy as np\n",
    "import matplotlib.pyplot as plt \n",
    "from sklearn.preprocessing import StandardScaler, MinMaxScaler"
   ]
  },
  {
   "cell_type": "markdown",
   "metadata": {},
   "source": [
    "## 1. Numerical Transformation Introduction"
   ]
  },
  {
   "cell_type": "markdown",
   "metadata": {},
   "source": [
    "**Task 1**  \n",
    "- We have provided you with a csv file under the name `starbucks_customers.csv`. \n",
    "- Import the file and set it to a variable called `coffee`.\n",
    "\n",
    "<br>\n",
    "\n",
    "**Task 2**  \n",
    "- Examine the features in your new data frame by printing the columns.\n",
    "\n",
    "<br>\n",
    "\n",
    "**Task 3**  \n",
    "- Look at each feature within your data frame by printing `.info()`"
   ]
  },
  {
   "cell_type": "code",
   "execution_count": null,
   "metadata": {},
   "outputs": [
    {
     "data": {
      "text/plain": [
       "Index(['spent', 'nearest_starbucks', 'age', 'rate_quality', 'rate_price',\n",
       "       'rate_promo', 'ambiance', 'wifi', 'service', 'meetings_hangout'],\n",
       "      dtype='object')"
      ]
     },
     "execution_count": 2,
     "metadata": {},
     "output_type": "execute_result"
    }
   ],
   "source": [
    "coffee = pd.read_csv(\"starbucks_customers.csv\")\n",
    "\n",
    "coffee.columns"
   ]
  },
  {
   "cell_type": "code",
   "execution_count": 3,
   "metadata": {},
   "outputs": [
    {
     "name": "stdout",
     "output_type": "stream",
     "text": [
      "<class 'pandas.core.frame.DataFrame'>\n",
      "RangeIndex: 122 entries, 0 to 121\n",
      "Data columns (total 10 columns):\n",
      " #   Column             Non-Null Count  Dtype\n",
      "---  ------             --------------  -----\n",
      " 0   spent              122 non-null    int64\n",
      " 1   nearest_starbucks  122 non-null    int64\n",
      " 2   age                122 non-null    int64\n",
      " 3   rate_quality       122 non-null    int64\n",
      " 4   rate_price         122 non-null    int64\n",
      " 5   rate_promo         122 non-null    int64\n",
      " 6   ambiance           122 non-null    int64\n",
      " 7   wifi               122 non-null    int64\n",
      " 8   service            122 non-null    int64\n",
      " 9   meetings_hangout   122 non-null    int64\n",
      "dtypes: int64(10)\n",
      "memory usage: 9.7 KB\n"
     ]
    }
   ],
   "source": [
    "coffee.info()"
   ]
  },
  {
   "cell_type": "markdown",
   "metadata": {},
   "source": [
    "## 2. Centering Your Data "
   ]
  },
  {
   "cell_type": "markdown",
   "metadata": {},
   "source": [
    "**Task 1**  \n",
    "- Start by setting your `age` feature to a variable called `ages`\n",
    "\n",
    "<br>\n",
    "\n",
    "**Task 2**  \n",
    "- It’s helpful to know both the minimum and maximum age in our feature. \n",
    "- First, create a variable called `min_age` and print the value\n",
    "\n",
    "<br>\n",
    "\n",
    "**Task 3**  \n",
    "- Now find the maximum age and set it to a variable called `max_age` and print the value.\n",
    "\n",
    "<br>\n",
    "\n",
    "**Task 4**  \n",
    "- We want to better understand the spread of our data, so print the difference between `min_age` and `max_age`\n",
    "\n",
    "<br>\n",
    "\n",
    "**Task 5**  \n",
    "- We will need the mean age of our feature to center our data around, so create a variable called `mean_age` and print that value.\n",
    "\n",
    "<br>\n",
    "\n",
    "**Task 6**  \n",
    "- Let’s center our data! \n",
    "- Set the result to a variable called `centered_ages` and print the results.\n",
    "\n",
    "<br>\n",
    "\n",
    "**Task 7**  \n",
    "- Plot your centered data as a histogram."
   ]
  },
  {
   "cell_type": "code",
   "execution_count": 8,
   "metadata": {},
   "outputs": [
    {
     "data": {
      "application/vnd.microsoft.datawrangler.viewer.v0+json": {
       "columns": [
        {
         "name": "index",
         "rawType": "int64",
         "type": "integer"
        },
        {
         "name": "spent",
         "rawType": "int64",
         "type": "integer"
        },
        {
         "name": "nearest_starbucks",
         "rawType": "int64",
         "type": "integer"
        },
        {
         "name": "age",
         "rawType": "int64",
         "type": "integer"
        },
        {
         "name": "rate_quality",
         "rawType": "int64",
         "type": "integer"
        },
        {
         "name": "rate_price",
         "rawType": "int64",
         "type": "integer"
        },
        {
         "name": "rate_promo",
         "rawType": "int64",
         "type": "integer"
        },
        {
         "name": "ambiance",
         "rawType": "int64",
         "type": "integer"
        },
        {
         "name": "wifi",
         "rawType": "int64",
         "type": "integer"
        },
        {
         "name": "service",
         "rawType": "int64",
         "type": "integer"
        },
        {
         "name": "meetings_hangout",
         "rawType": "int64",
         "type": "integer"
        }
       ],
       "conversionMethod": "pd.DataFrame",
       "ref": "35780f73-1a37-4679-be52-5e4cb8d73b0b",
       "rows": [
        [
         "0",
         "13",
         "8",
         "52",
         "4",
         "4",
         "4",
         "4",
         "4",
         "4",
         "4"
        ],
        [
         "1",
         "25",
         "8",
         "35",
         "4",
         "5",
         "5",
         "4",
         "4",
         "3",
         "3"
        ],
        [
         "2",
         "10",
         "8",
         "29",
         "2",
         "1",
         "5",
         "2",
         "2",
         "2",
         "2"
        ],
        [
         "3",
         "7",
         "8",
         "28",
         "4",
         "1",
         "4",
         "5",
         "3",
         "3",
         "4"
        ],
        [
         "4",
         "10",
         "8",
         "28",
         "4",
         "2",
         "4",
         "4",
         "3",
         "4",
         "3"
        ]
       ],
       "shape": {
        "columns": 10,
        "rows": 5
       }
      },
      "text/html": [
       "<div>\n",
       "<style scoped>\n",
       "    .dataframe tbody tr th:only-of-type {\n",
       "        vertical-align: middle;\n",
       "    }\n",
       "\n",
       "    .dataframe tbody tr th {\n",
       "        vertical-align: top;\n",
       "    }\n",
       "\n",
       "    .dataframe thead th {\n",
       "        text-align: right;\n",
       "    }\n",
       "</style>\n",
       "<table border=\"1\" class=\"dataframe\">\n",
       "  <thead>\n",
       "    <tr style=\"text-align: right;\">\n",
       "      <th></th>\n",
       "      <th>spent</th>\n",
       "      <th>nearest_starbucks</th>\n",
       "      <th>age</th>\n",
       "      <th>rate_quality</th>\n",
       "      <th>rate_price</th>\n",
       "      <th>rate_promo</th>\n",
       "      <th>ambiance</th>\n",
       "      <th>wifi</th>\n",
       "      <th>service</th>\n",
       "      <th>meetings_hangout</th>\n",
       "    </tr>\n",
       "  </thead>\n",
       "  <tbody>\n",
       "    <tr>\n",
       "      <th>0</th>\n",
       "      <td>13</td>\n",
       "      <td>8</td>\n",
       "      <td>52</td>\n",
       "      <td>4</td>\n",
       "      <td>4</td>\n",
       "      <td>4</td>\n",
       "      <td>4</td>\n",
       "      <td>4</td>\n",
       "      <td>4</td>\n",
       "      <td>4</td>\n",
       "    </tr>\n",
       "    <tr>\n",
       "      <th>1</th>\n",
       "      <td>25</td>\n",
       "      <td>8</td>\n",
       "      <td>35</td>\n",
       "      <td>4</td>\n",
       "      <td>5</td>\n",
       "      <td>5</td>\n",
       "      <td>4</td>\n",
       "      <td>4</td>\n",
       "      <td>3</td>\n",
       "      <td>3</td>\n",
       "    </tr>\n",
       "    <tr>\n",
       "      <th>2</th>\n",
       "      <td>10</td>\n",
       "      <td>8</td>\n",
       "      <td>29</td>\n",
       "      <td>2</td>\n",
       "      <td>1</td>\n",
       "      <td>5</td>\n",
       "      <td>2</td>\n",
       "      <td>2</td>\n",
       "      <td>2</td>\n",
       "      <td>2</td>\n",
       "    </tr>\n",
       "    <tr>\n",
       "      <th>3</th>\n",
       "      <td>7</td>\n",
       "      <td>8</td>\n",
       "      <td>28</td>\n",
       "      <td>4</td>\n",
       "      <td>1</td>\n",
       "      <td>4</td>\n",
       "      <td>5</td>\n",
       "      <td>3</td>\n",
       "      <td>3</td>\n",
       "      <td>4</td>\n",
       "    </tr>\n",
       "    <tr>\n",
       "      <th>4</th>\n",
       "      <td>10</td>\n",
       "      <td>8</td>\n",
       "      <td>28</td>\n",
       "      <td>4</td>\n",
       "      <td>2</td>\n",
       "      <td>4</td>\n",
       "      <td>4</td>\n",
       "      <td>3</td>\n",
       "      <td>4</td>\n",
       "      <td>3</td>\n",
       "    </tr>\n",
       "  </tbody>\n",
       "</table>\n",
       "</div>"
      ],
      "text/plain": [
       "   spent  nearest_starbucks  age  rate_quality  rate_price  rate_promo  \\\n",
       "0     13                  8   52             4           4           4   \n",
       "1     25                  8   35             4           5           5   \n",
       "2     10                  8   29             2           1           5   \n",
       "3      7                  8   28             4           1           4   \n",
       "4     10                  8   28             4           2           4   \n",
       "\n",
       "   ambiance  wifi  service  meetings_hangout  \n",
       "0         4     4        4                 4  \n",
       "1         4     4        3                 3  \n",
       "2         2     2        2                 2  \n",
       "3         5     3        3                 4  \n",
       "4         4     3        4                 3  "
      ]
     },
     "execution_count": 8,
     "metadata": {},
     "output_type": "execute_result"
    }
   ],
   "source": [
    "coffee = pd.read_csv('starbucks_customers.csv')\n",
    "coffee.head()"
   ]
  },
  {
   "cell_type": "code",
   "execution_count": 14,
   "metadata": {},
   "outputs": [
    {
     "name": "stdout",
     "output_type": "stream",
     "text": [
      "57\n",
      "0      24.663934\n",
      "1       7.663934\n",
      "2       1.663934\n",
      "3       0.663934\n",
      "4       0.663934\n",
      "         ...    \n",
      "117    -5.336066\n",
      "118    -5.336066\n",
      "119    -7.336066\n",
      "120    -7.336066\n",
      "121   -13.336066\n",
      "Name: age, Length: 122, dtype: float64\n"
     ]
    },
    {
     "data": {
      "image/png": "[encoded data removed]",
      "text/plain": [
       "<Figure size 640x480 with 1 Axes>"
      ]
     },
     "metadata": {},
     "output_type": "display_data"
    }
   ],
   "source": [
    "# Task 1\n",
    "ages = coffee['age']\n",
    "\n",
    "# Task 2 \n",
    "min_age = ages.min()\n",
    "\n",
    "# Task 3\n",
    "max_age = ages.max()\n",
    "\n",
    "# Task 4\n",
    "print(max_age - min_age)\n",
    "\n",
    "# Task 5\n",
    "mean_age = ages.mean()\n",
    "\n",
    "# Task 6\n",
    "centered_ages = ages - mean_age\n",
    "print(centered_ages)\n",
    "\n",
    "# Task 7\n",
    "plt.hist(centered_ages)\n",
    "plt.show()"
   ]
  },
  {
   "cell_type": "markdown",
   "metadata": {},
   "source": [
    "## 3. Standardizing our Data"
   ]
  },
  {
   "cell_type": "markdown",
   "metadata": {},
   "source": [
    "**Task 1**  \n",
    "- Find the average of your variable `ages` and set the result to a variable called `mean_age`\n",
    "\n",
    "<br>\n",
    "\n",
    "**Task 2**  \n",
    "- Find the standard deviation of your variable `ages` and set the result to a variable called `std_dev_age`\n",
    "\n",
    "<br>\n",
    "\n",
    "**Task 3**  \n",
    "- Standardize our age column. \n",
    "- Set the result to a variable called `ages_standardized`\n",
    "\n",
    "<br>\n",
    "\n",
    "**Task 4**  \n",
    "- Print the mean and standard deviation of `ages_standardized`."
   ]
  },
  {
   "cell_type": "code",
   "execution_count": 15,
   "metadata": {},
   "outputs": [],
   "source": [
    "coffee = pd.read_csv('starbucks_customers.csv')\n",
    "ages = coffee['age']"
   ]
  },
  {
   "cell_type": "code",
   "execution_count": 16,
   "metadata": {},
   "outputs": [
    {
     "name": "stdout",
     "output_type": "stream",
     "text": [
      "1.1466237795308994e-16\n",
      "1.0\n"
     ]
    }
   ],
   "source": [
    "# Task 1\n",
    "mean_age = ages.mean()\n",
    "\n",
    "# Task 2\n",
    "std_dev_age = ages.std()\n",
    "\n",
    "# Task 3\n",
    "ages_standardized = (ages - mean_age) / std_dev_age\n",
    "\n",
    "# Task 4\n",
    "print(ages_standardized.mean())\n",
    "print(ages_standardized.std())"
   ]
  },
  {
   "cell_type": "markdown",
   "metadata": {},
   "source": [
    "## 4. Standardizing our Data with Sklearn"
   ]
  },
  {
   "cell_type": "markdown",
   "metadata": {},
   "source": [
    "**Task 1**  \n",
    "- Instantiate StandardScaler by creating a variable named `scaler`\n",
    "\n",
    "<br>\n",
    "\n",
    "**Task 2**  \n",
    "- Reshape our `ages` feature and set the result to a variable named `ages_reshaped`\n",
    "\n",
    "<br>\n",
    "\n",
    "**Task 3**  \n",
    "- Now we are ready to perform a .`fit_transform` on our `ages_reshaped` feature and set the results to the variable named `ages_scaled`\n",
    "\n",
    "<br>\n",
    "\n",
    "**Task 4**  \n",
    "- rint the mean and standard deviation of your new variable `ages_scaled`"
   ]
  },
  {
   "cell_type": "code",
   "execution_count": null,
   "metadata": {},
   "outputs": [],
   "source": [
    "coffee = pd.read_csv('starbucks_customers.csv')\n",
    "ages = coffee['age']"
   ]
  },
  {
   "cell_type": "code",
   "execution_count": 18,
   "metadata": {},
   "outputs": [
    {
     "name": "stdout",
     "output_type": "stream",
     "text": [
      "1.7290358580227847e-16\n",
      "0.9999999999999999\n"
     ]
    }
   ],
   "source": [
    "# Task 1\n",
    "scaler = StandardScaler()\n",
    "\n",
    "# Task 2\n",
    "ages_reshaped = ages.values.reshape(-1, 1)\n",
    "\n",
    "# Task 3\n",
    "ages_scaled = scaler.fit_transform(ages_reshaped)\n",
    "\n",
    "# Task 4\n",
    "print(ages_scaled.mean())\n",
    "print(ages_scaled.std())"
   ]
  },
  {
   "cell_type": "markdown",
   "metadata": {},
   "source": [
    "## 5. Min-Max Normalization"
   ]
  },
  {
   "cell_type": "markdown",
   "metadata": {},
   "source": [
    "**Task 1**  \n",
    "- We will now work with the `spent` feature in our data frame. \n",
    "- Take just that column and set it equal to a new variable called `spent`.\n",
    "\n",
    "<br>\n",
    "\n",
    "**Task 2**  \n",
    "- Find the maximum amount someone spent and set that to a variable called `max_spent`\n",
    "\n",
    "<br>\n",
    "\n",
    "**Task 3**  \n",
    "- Find the minimum amount someone spent and set that to a variable called `min_spent`\n",
    "\n",
    "<br>\n",
    "\n",
    "**Task 4**  \n",
    "- Find the difference between max_spent and `min_spent` and set that to a variable called `spent_range`. \n",
    "- Print the results.\n",
    "\n",
    "<br>\n",
    "\n",
    "**Task 5**  \n",
    "- Normalize your spent column. \n",
    "- Set the results to a variable called `spent_normalized`.\n",
    "\n",
    "<br>\n",
    "\n",
    "**Task 6**  \n",
    "- Print your `spent_normalized` array to see how your numbers transformed."
   ]
  },
  {
   "cell_type": "code",
   "execution_count": 19,
   "metadata": {},
   "outputs": [],
   "source": [
    "coffee = pd.read_csv('starbucks_customers.csv')"
   ]
  },
  {
   "cell_type": "code",
   "execution_count": 21,
   "metadata": {},
   "outputs": [
    {
     "name": "stdout",
     "output_type": "stream",
     "text": [
      "0      0.464286\n",
      "1      0.892857\n",
      "2      0.357143\n",
      "3      0.250000\n",
      "4      0.357143\n",
      "         ...   \n",
      "117    0.178571\n",
      "118    0.571429\n",
      "119    0.071429\n",
      "120    0.678571\n",
      "121    0.107143\n",
      "Name: spent, Length: 122, dtype: float64\n"
     ]
    }
   ],
   "source": [
    "# Task 1\n",
    "spent = coffee['spent']\n",
    "\n",
    "# Task 2\n",
    "max_spent = spent.max()\n",
    "\n",
    "# Task 3\n",
    "min_spent = spent.min()\n",
    "\n",
    "# Task 4\n",
    "spent_range = max_spent - min_spent\n",
    "\n",
    "# Task 5\n",
    "spent_normalized = (spent - min_spent) / spent_range\n",
    "\n",
    "# Task 6\n",
    "print(spent_normalized)"
   ]
  },
  {
   "cell_type": "markdown",
   "metadata": {},
   "source": [
    "## 6. Min-Max Normalization with Sklearn"
   ]
  },
  {
   "cell_type": "markdown",
   "metadata": {},
   "source": [
    "**Task 1**  \n",
    "- Reshape the array, and set it to a variable called `spent_reshaped`\n",
    "\n",
    "<br>\n",
    "\n",
    "**Task 2**  \n",
    "- Instantiate MinMaxScaler and set the variable equal to `mmscaler`\n",
    "\n",
    "<br>\n",
    "\n",
    "**Task 3**  \n",
    "- Now let’s try using the MinMaxScaler from the imported sklearn library to perform a `.fit_transform` on our `spent_reshaped` feature and set the results to the variable `reshaped_scaled`\n",
    "\n",
    "<br>\n",
    "\n",
    "**Task 4**  \n",
    "- Print the minimum and maximum number from your new normalized array named `reshaped_scaled`. \n",
    "- Do they equal 0 and 1?"
   ]
  },
  {
   "cell_type": "code",
   "execution_count": 24,
   "metadata": {},
   "outputs": [],
   "source": [
    "coffee = pd.read_csv('starbucks_customers.csv')\n",
    "spent = coffee['spent']"
   ]
  },
  {
   "cell_type": "code",
   "execution_count": 25,
   "metadata": {},
   "outputs": [
    {
     "name": "stdout",
     "output_type": "stream",
     "text": [
      "0.0\n",
      "1.0\n"
     ]
    }
   ],
   "source": [
    "# Task 1\n",
    "spent_reshaped = spent.values.reshape(-1, 1)\n",
    "\n",
    "# Task 2\n",
    "mmscaler = MinMaxScaler()\n",
    "\n",
    "# Task 3\n",
    "reshaped_scaled = mmscaler.fit_transform(spent_reshaped)\n",
    "\n",
    "# Task 4\n",
    "print(reshaped_scaled.min())\n",
    "print(reshaped_scaled.max())"
   ]
  },
  {
   "cell_type": "markdown",
   "metadata": {},
   "source": [
    "## 7. Binning our Data"
   ]
  },
  {
   "cell_type": "markdown",
   "metadata": {},
   "source": [
    "**Task 1**  \n",
    "- Print the age features min and max values.\n",
    "\n",
    "<br>\n",
    "\n",
    "**Task 2**  \n",
    "- Based on our results from above, let’s set the bin boundaries. \n",
    "- Store it as a variable called `age_bins` and use the following limits [12, 20, 30, 40, 71]\n",
    "\n",
    "<br>\n",
    "\n",
    "**Task 3**  \n",
    "- Create new binned column with `pd.cut()`. \n",
    "- Name the new column `binned_ages`\n",
    "\n",
    "<br>\n",
    "\n",
    "**Task 4**  \n",
    "- Print the first 10 rows of the new column `binned_ages`\n",
    "\n",
    "<br>\n",
    "\n",
    "**Task 5**  \n",
    "- Plot a bar graph of new binned data."
   ]
  },
  {
   "cell_type": "code",
   "execution_count": 26,
   "metadata": {},
   "outputs": [],
   "source": [
    "coffee = pd.read_csv('starbucks_customers.csv')\n",
    "ages = coffee['age']"
   ]
  },
  {
   "cell_type": "code",
   "execution_count": 29,
   "metadata": {},
   "outputs": [
    {
     "name": "stdout",
     "output_type": "stream",
     "text": [
      "13\n",
      "70\n",
      "0    [40, 71)\n",
      "1    [30, 40)\n",
      "2    [20, 30)\n",
      "3    [20, 30)\n",
      "4    [20, 30)\n",
      "5    [20, 30)\n",
      "6    [20, 30)\n",
      "7    [20, 30)\n",
      "8    [20, 30)\n",
      "9    [20, 30)\n",
      "Name: binned_ages, dtype: category\n",
      "Categories (4, interval[int64, left]): [[12, 20) < [20, 30) < [30, 40) < [40, 71)]\n"
     ]
    },
    {
     "data": {
      "image/png": "[encoded data removed]",
      "text/plain": [
       "<Figure size 640x480 with 1 Axes>"
      ]
     },
     "metadata": {},
     "output_type": "display_data"
    }
   ],
   "source": [
    "# Task 1\n",
    "print(ages.min())\n",
    "print(ages.max())\n",
    "\n",
    "# Task 2\n",
    "age_bins = [12, 20, 30, 40, 71]\n",
    "\n",
    "# Task 3\n",
    "coffee[\"binned_ages\"] = pd.cut(ages, bins=age_bins, right=False)\n",
    "\n",
    "# Task 4\n",
    "print(coffee['binned_ages'].head(10))\n",
    "\n",
    "# Task 5\n",
    "coffee['binned_ages'].value_counts().plot(kind='bar')\n",
    "plt.show()"
   ]
  },
  {
   "cell_type": "markdown",
   "metadata": {},
   "source": [
    "## 8. Natural Log Transformation"
   ]
  },
  {
   "cell_type": "markdown",
   "metadata": {},
   "source": [
    "**Task 1**  \n",
    "- We’ve imported all the necessary libraries, now you need to bring in the `cars.csv` file set it to a variable named `cars`.\n",
    "\n",
    "<br>\n",
    "\n",
    "**Task 2**  \n",
    "- We will be working with the `sellingprice` feature in this data set, so set that column to a variable called `prices`.\n",
    "\n",
    "<br>\n",
    "\n",
    "**Task 3**  \n",
    "- Let’s look at a histogram of `prices` to check to see if it is right-skewed.\n",
    "- Set your histogram to show 150 bins so we can see more values in our graph.\n",
    "\n",
    "<br>\n",
    "\n",
    "**Task 4**  \n",
    "- Looks good! Now perform a log transformation on that variable `prices` and set the results to a variable called `log_prices`.\n",
    "\n",
    "<br>\n",
    "\n",
    "**Task 5**  \n",
    "- Plot your newly log-transformed feature. \n",
    "- Be sure to use `bins = 150`."
   ]
  },
  {
   "cell_type": "code",
   "execution_count": 31,
   "metadata": {},
   "outputs": [
    {
     "data": {
      "image/png": "[encoded data removed]",
      "text/plain": [
       "<Figure size 640x480 with 1 Axes>"
      ]
     },
     "metadata": {},
     "output_type": "display_data"
    }
   ],
   "source": [
    "# Task 1\n",
    "cars = pd.read_csv('cars.csv')\n",
    "\n",
    "# Task 2\n",
    "prices = cars[\"sellingprice\"]\n",
    "\n",
    "# Task 3\n",
    "plt.hist(prices, bins = 150)\n",
    "plt.xticks(rotation = 45)\n",
    "plt.title('Car Prices')\n",
    "plt.ylabel('Frequency')\n",
    "plt.xlabel('Price')\n",
    "plt.show()"
   ]
  },
  {
   "cell_type": "code",
   "execution_count": 32,
   "metadata": {},
   "outputs": [
    {
     "data": {
      "image/png": "[encoded data removed]",
      "text/plain": [
       "<Figure size 640x480 with 1 Axes>"
      ]
     },
     "metadata": {},
     "output_type": "display_data"
    }
   ],
   "source": [
    "# Task 4\n",
    "log_prices = np.log(prices)\n",
    "\n",
    "# Task 5\n",
    "plt.hist(log_prices, bins = 150)\n",
    "plt.xticks(rotation = 45)\n",
    "plt.title('Car Prices')\n",
    "plt.show()"
   ]
  }
 ],
 "metadata": {
  "kernelspec": {
   "display_name": "Codecademy-XphA9WxU",
   "language": "python",
   "name": "python3"
  },
  "language_info": {
   "codemirror_mode": {
    "name": "ipython",
    "version": 3
   },
   "file_extension": ".py",
   "mimetype": "text/x-python",
   "name": "python",
   "nbconvert_exporter": "python",
   "pygments_lexer": "ipython3",
   "version": "3.11.1"
  }
 },
 "nbformat": 4,
 "nbformat_minor": 2
}
