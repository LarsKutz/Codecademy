{
 "cells": [
  {
   "cell_type": "markdown",
   "metadata": {},
   "source": [
    "# Aggregates in Pandas"
   ]
  },
  {
   "cell_type": "code",
   "execution_count": 1,
   "metadata": {},
   "outputs": [],
   "source": [
    "import pandas as pd"
   ]
  },
  {
   "cell_type": "markdown",
   "metadata": {},
   "source": [
    "#### 1."
   ]
  },
  {
   "cell_type": "markdown",
   "metadata": {},
   "source": [
    "Examine the first few rows of `ad_clicks`."
   ]
  },
  {
   "cell_type": "code",
   "execution_count": 2,
   "metadata": {},
   "outputs": [
    {
     "data": {
      "text/html": [
       "<div>\n",
       "<style scoped>\n",
       "    .dataframe tbody tr th:only-of-type {\n",
       "        vertical-align: middle;\n",
       "    }\n",
       "\n",
       "    .dataframe tbody tr th {\n",
       "        vertical-align: top;\n",
       "    }\n",
       "\n",
       "    .dataframe thead th {\n",
       "        text-align: right;\n",
       "    }\n",
       "</style>\n",
       "<table border=\"1\" class=\"dataframe\">\n",
       "  <thead>\n",
       "    <tr style=\"text-align: right;\">\n",
       "      <th></th>\n",
       "      <th>user_id</th>\n",
       "      <th>utm_source</th>\n",
       "      <th>day</th>\n",
       "      <th>ad_click_timestamp</th>\n",
       "      <th>experimental_group</th>\n",
       "    </tr>\n",
       "  </thead>\n",
       "  <tbody>\n",
       "    <tr>\n",
       "      <th>0</th>\n",
       "      <td>008b7c6c-7272-471e-b90e-930d548bd8d7</td>\n",
       "      <td>google</td>\n",
       "      <td>6 - Saturday</td>\n",
       "      <td>7:18</td>\n",
       "      <td>A</td>\n",
       "    </tr>\n",
       "    <tr>\n",
       "      <th>1</th>\n",
       "      <td>009abb94-5e14-4b6c-bb1c-4f4df7aa7557</td>\n",
       "      <td>facebook</td>\n",
       "      <td>7 - Sunday</td>\n",
       "      <td>NaN</td>\n",
       "      <td>B</td>\n",
       "    </tr>\n",
       "    <tr>\n",
       "      <th>2</th>\n",
       "      <td>00f5d532-ed58-4570-b6d2-768df5f41aed</td>\n",
       "      <td>twitter</td>\n",
       "      <td>2 - Tuesday</td>\n",
       "      <td>NaN</td>\n",
       "      <td>A</td>\n",
       "    </tr>\n",
       "    <tr>\n",
       "      <th>3</th>\n",
       "      <td>011adc64-0f44-4fd9-a0bb-f1506d2ad439</td>\n",
       "      <td>google</td>\n",
       "      <td>2 - Tuesday</td>\n",
       "      <td>NaN</td>\n",
       "      <td>B</td>\n",
       "    </tr>\n",
       "    <tr>\n",
       "      <th>4</th>\n",
       "      <td>012137e6-7ae7-4649-af68-205b4702169c</td>\n",
       "      <td>facebook</td>\n",
       "      <td>7 - Sunday</td>\n",
       "      <td>NaN</td>\n",
       "      <td>B</td>\n",
       "    </tr>\n",
       "  </tbody>\n",
       "</table>\n",
       "</div>"
      ],
      "text/plain": [
       "                                user_id utm_source           day  \\\n",
       "0  008b7c6c-7272-471e-b90e-930d548bd8d7     google  6 - Saturday   \n",
       "1  009abb94-5e14-4b6c-bb1c-4f4df7aa7557   facebook    7 - Sunday   \n",
       "2  00f5d532-ed58-4570-b6d2-768df5f41aed    twitter   2 - Tuesday   \n",
       "3  011adc64-0f44-4fd9-a0bb-f1506d2ad439     google   2 - Tuesday   \n",
       "4  012137e6-7ae7-4649-af68-205b4702169c   facebook    7 - Sunday   \n",
       "\n",
       "  ad_click_timestamp experimental_group  \n",
       "0               7:18                  A  \n",
       "1                NaN                  B  \n",
       "2                NaN                  A  \n",
       "3                NaN                  B  \n",
       "4                NaN                  B  "
      ]
     },
     "execution_count": 2,
     "metadata": {},
     "output_type": "execute_result"
    }
   ],
   "source": [
    "df = pd.read_csv(\"ad_clicks.csv\")\n",
    "df.head()"
   ]
  },
  {
   "cell_type": "markdown",
   "metadata": {},
   "source": [
    "#### 2."
   ]
  },
  {
   "cell_type": "markdown",
   "metadata": {},
   "source": [
    "Your manager wants to know which ad platform is getting you the most views.\n",
    "\n",
    "How many views (i.e., rows of the table) came from each `utm_source`?"
   ]
  },
  {
   "cell_type": "code",
   "execution_count": 3,
   "metadata": {},
   "outputs": [
    {
     "data": {
      "text/html": [
       "<div>\n",
       "<style scoped>\n",
       "    .dataframe tbody tr th:only-of-type {\n",
       "        vertical-align: middle;\n",
       "    }\n",
       "\n",
       "    .dataframe tbody tr th {\n",
       "        vertical-align: top;\n",
       "    }\n",
       "\n",
       "    .dataframe thead th {\n",
       "        text-align: right;\n",
       "    }\n",
       "</style>\n",
       "<table border=\"1\" class=\"dataframe\">\n",
       "  <thead>\n",
       "    <tr style=\"text-align: right;\">\n",
       "      <th></th>\n",
       "      <th>utm_source</th>\n",
       "      <th>user_id</th>\n",
       "    </tr>\n",
       "  </thead>\n",
       "  <tbody>\n",
       "    <tr>\n",
       "      <th>0</th>\n",
       "      <td>email</td>\n",
       "      <td>255</td>\n",
       "    </tr>\n",
       "    <tr>\n",
       "      <th>1</th>\n",
       "      <td>facebook</td>\n",
       "      <td>504</td>\n",
       "    </tr>\n",
       "    <tr>\n",
       "      <th>2</th>\n",
       "      <td>google</td>\n",
       "      <td>680</td>\n",
       "    </tr>\n",
       "    <tr>\n",
       "      <th>3</th>\n",
       "      <td>twitter</td>\n",
       "      <td>215</td>\n",
       "    </tr>\n",
       "  </tbody>\n",
       "</table>\n",
       "</div>"
      ],
      "text/plain": [
       "  utm_source  user_id\n",
       "0      email      255\n",
       "1   facebook      504\n",
       "2     google      680\n",
       "3    twitter      215"
      ]
     },
     "execution_count": 3,
     "metadata": {},
     "output_type": "execute_result"
    }
   ],
   "source": [
    "df.groupby(\"utm_source\").user_id.count().reset_index()"
   ]
  },
  {
   "cell_type": "markdown",
   "metadata": {},
   "source": [
    "#### 3."
   ]
  },
  {
   "cell_type": "markdown",
   "metadata": {},
   "source": [
    "\n",
    "If the column `ad_click_timestamp` is not null, then someone actually clicked on the ad that was displayed.\n",
    "\n",
    "Create a new column called `is_click`, which is True if `ad_click_timestamp` is not null and `False` otherwise."
   ]
  },
  {
   "cell_type": "code",
   "execution_count": null,
   "metadata": {},
   "outputs": [
    {
     "data": {
      "text/html": [
       "<div>\n",
       "<style scoped>\n",
       "    .dataframe tbody tr th:only-of-type {\n",
       "        vertical-align: middle;\n",
       "    }\n",
       "\n",
       "    .dataframe tbody tr th {\n",
       "        vertical-align: top;\n",
       "    }\n",
       "\n",
       "    .dataframe thead th {\n",
       "        text-align: right;\n",
       "    }\n",
       "</style>\n",
       "<table border=\"1\" class=\"dataframe\">\n",
       "  <thead>\n",
       "    <tr style=\"text-align: right;\">\n",
       "      <th></th>\n",
       "      <th>user_id</th>\n",
       "      <th>utm_source</th>\n",
       "      <th>day</th>\n",
       "      <th>ad_click_timestamp</th>\n",
       "      <th>experimental_group</th>\n",
       "      <th>is_click</th>\n",
       "    </tr>\n",
       "  </thead>\n",
       "  <tbody>\n",
       "    <tr>\n",
       "      <th>0</th>\n",
       "      <td>008b7c6c-7272-471e-b90e-930d548bd8d7</td>\n",
       "      <td>google</td>\n",
       "      <td>6 - Saturday</td>\n",
       "      <td>7:18</td>\n",
       "      <td>A</td>\n",
       "      <td>True</td>\n",
       "    </tr>\n",
       "    <tr>\n",
       "      <th>1</th>\n",
       "      <td>009abb94-5e14-4b6c-bb1c-4f4df7aa7557</td>\n",
       "      <td>facebook</td>\n",
       "      <td>7 - Sunday</td>\n",
       "      <td>NaN</td>\n",
       "      <td>B</td>\n",
       "      <td>False</td>\n",
       "    </tr>\n",
       "    <tr>\n",
       "      <th>2</th>\n",
       "      <td>00f5d532-ed58-4570-b6d2-768df5f41aed</td>\n",
       "      <td>twitter</td>\n",
       "      <td>2 - Tuesday</td>\n",
       "      <td>NaN</td>\n",
       "      <td>A</td>\n",
       "      <td>False</td>\n",
       "    </tr>\n",
       "    <tr>\n",
       "      <th>3</th>\n",
       "      <td>011adc64-0f44-4fd9-a0bb-f1506d2ad439</td>\n",
       "      <td>google</td>\n",
       "      <td>2 - Tuesday</td>\n",
       "      <td>NaN</td>\n",
       "      <td>B</td>\n",
       "      <td>False</td>\n",
       "    </tr>\n",
       "    <tr>\n",
       "      <th>4</th>\n",
       "      <td>012137e6-7ae7-4649-af68-205b4702169c</td>\n",
       "      <td>facebook</td>\n",
       "      <td>7 - Sunday</td>\n",
       "      <td>NaN</td>\n",
       "      <td>B</td>\n",
       "      <td>False</td>\n",
       "    </tr>\n",
       "  </tbody>\n",
       "</table>\n",
       "</div>"
      ],
      "text/plain": [
       "                                user_id utm_source           day  \\\n",
       "0  008b7c6c-7272-471e-b90e-930d548bd8d7     google  6 - Saturday   \n",
       "1  009abb94-5e14-4b6c-bb1c-4f4df7aa7557   facebook    7 - Sunday   \n",
       "2  00f5d532-ed58-4570-b6d2-768df5f41aed    twitter   2 - Tuesday   \n",
       "3  011adc64-0f44-4fd9-a0bb-f1506d2ad439     google   2 - Tuesday   \n",
       "4  012137e6-7ae7-4649-af68-205b4702169c   facebook    7 - Sunday   \n",
       "\n",
       "  ad_click_timestamp experimental_group  is_click  \n",
       "0               7:18                  A      True  \n",
       "1                NaN                  B     False  \n",
       "2                NaN                  A     False  \n",
       "3                NaN                  B     False  \n",
       "4                NaN                  B     False  "
      ]
     },
     "execution_count": 8,
     "metadata": {},
     "output_type": "execute_result"
    }
   ],
   "source": [
    "df[\"is_click\"] = ~df.ad_click_timestamp.isnull()\n",
    "\n",
    "# '~' -> from True to False and otherwise \n",
    "\n",
    "df.head()"
   ]
  },
  {
   "cell_type": "markdown",
   "metadata": {},
   "source": [
    "#### 4."
   ]
  },
  {
   "cell_type": "markdown",
   "metadata": {},
   "source": [
    "We want to know the percent of people who clicked on ads from each `utm_source`.\n",
    "\n",
    "Start by grouping by `utm_source` and `is_click` and counting the number of `user_id`‘s in each of those groups. Save your answer to the variable `clicks_by_source`."
   ]
  },
  {
   "cell_type": "code",
   "execution_count": 10,
   "metadata": {},
   "outputs": [
    {
     "data": {
      "text/html": [
       "<div>\n",
       "<style scoped>\n",
       "    .dataframe tbody tr th:only-of-type {\n",
       "        vertical-align: middle;\n",
       "    }\n",
       "\n",
       "    .dataframe tbody tr th {\n",
       "        vertical-align: top;\n",
       "    }\n",
       "\n",
       "    .dataframe thead th {\n",
       "        text-align: right;\n",
       "    }\n",
       "</style>\n",
       "<table border=\"1\" class=\"dataframe\">\n",
       "  <thead>\n",
       "    <tr style=\"text-align: right;\">\n",
       "      <th></th>\n",
       "      <th>utm_source</th>\n",
       "      <th>is_click</th>\n",
       "      <th>user_id</th>\n",
       "    </tr>\n",
       "  </thead>\n",
       "  <tbody>\n",
       "    <tr>\n",
       "      <th>0</th>\n",
       "      <td>email</td>\n",
       "      <td>False</td>\n",
       "      <td>175</td>\n",
       "    </tr>\n",
       "    <tr>\n",
       "      <th>1</th>\n",
       "      <td>email</td>\n",
       "      <td>True</td>\n",
       "      <td>80</td>\n",
       "    </tr>\n",
       "    <tr>\n",
       "      <th>2</th>\n",
       "      <td>facebook</td>\n",
       "      <td>False</td>\n",
       "      <td>324</td>\n",
       "    </tr>\n",
       "    <tr>\n",
       "      <th>3</th>\n",
       "      <td>facebook</td>\n",
       "      <td>True</td>\n",
       "      <td>180</td>\n",
       "    </tr>\n",
       "    <tr>\n",
       "      <th>4</th>\n",
       "      <td>google</td>\n",
       "      <td>False</td>\n",
       "      <td>441</td>\n",
       "    </tr>\n",
       "    <tr>\n",
       "      <th>5</th>\n",
       "      <td>google</td>\n",
       "      <td>True</td>\n",
       "      <td>239</td>\n",
       "    </tr>\n",
       "    <tr>\n",
       "      <th>6</th>\n",
       "      <td>twitter</td>\n",
       "      <td>False</td>\n",
       "      <td>149</td>\n",
       "    </tr>\n",
       "    <tr>\n",
       "      <th>7</th>\n",
       "      <td>twitter</td>\n",
       "      <td>True</td>\n",
       "      <td>66</td>\n",
       "    </tr>\n",
       "  </tbody>\n",
       "</table>\n",
       "</div>"
      ],
      "text/plain": [
       "  utm_source  is_click  user_id\n",
       "0      email     False      175\n",
       "1      email      True       80\n",
       "2   facebook     False      324\n",
       "3   facebook      True      180\n",
       "4     google     False      441\n",
       "5     google      True      239\n",
       "6    twitter     False      149\n",
       "7    twitter      True       66"
      ]
     },
     "execution_count": 10,
     "metadata": {},
     "output_type": "execute_result"
    }
   ],
   "source": [
    "clicks_by_source = df.groupby([\"utm_source\", \"is_click\"]).user_id.count().reset_index()\n",
    "clicks_by_source"
   ]
  },
  {
   "cell_type": "markdown",
   "metadata": {},
   "source": [
    "#### 5."
   ]
  },
  {
   "cell_type": "markdown",
   "metadata": {},
   "source": [
    "Now let’s pivot the data so that the columns are `is_click` (either `True` or `False`), the index is `utm_source`, and the values are `user_id`.\n",
    "\n",
    "Save your results to the variable `clicks_pivot`."
   ]
  },
  {
   "cell_type": "code",
   "execution_count": 14,
   "metadata": {},
   "outputs": [
    {
     "data": {
      "text/html": [
       "<div>\n",
       "<style scoped>\n",
       "    .dataframe tbody tr th:only-of-type {\n",
       "        vertical-align: middle;\n",
       "    }\n",
       "\n",
       "    .dataframe tbody tr th {\n",
       "        vertical-align: top;\n",
       "    }\n",
       "\n",
       "    .dataframe thead th {\n",
       "        text-align: right;\n",
       "    }\n",
       "</style>\n",
       "<table border=\"1\" class=\"dataframe\">\n",
       "  <thead>\n",
       "    <tr style=\"text-align: right;\">\n",
       "      <th>is_click</th>\n",
       "      <th>False</th>\n",
       "      <th>True</th>\n",
       "    </tr>\n",
       "    <tr>\n",
       "      <th>utm_source</th>\n",
       "      <th></th>\n",
       "      <th></th>\n",
       "    </tr>\n",
       "  </thead>\n",
       "  <tbody>\n",
       "    <tr>\n",
       "      <th>email</th>\n",
       "      <td>175</td>\n",
       "      <td>80</td>\n",
       "    </tr>\n",
       "    <tr>\n",
       "      <th>facebook</th>\n",
       "      <td>324</td>\n",
       "      <td>180</td>\n",
       "    </tr>\n",
       "    <tr>\n",
       "      <th>google</th>\n",
       "      <td>441</td>\n",
       "      <td>239</td>\n",
       "    </tr>\n",
       "    <tr>\n",
       "      <th>twitter</th>\n",
       "      <td>149</td>\n",
       "      <td>66</td>\n",
       "    </tr>\n",
       "  </tbody>\n",
       "</table>\n",
       "</div>"
      ],
      "text/plain": [
       "is_click    False  True \n",
       "utm_source              \n",
       "email         175     80\n",
       "facebook      324    180\n",
       "google        441    239\n",
       "twitter       149     66"
      ]
     },
     "execution_count": 14,
     "metadata": {},
     "output_type": "execute_result"
    }
   ],
   "source": [
    "clicks_pivot = clicks_by_source.pivot(columns=\"is_click\", index=\"utm_source\", values=\"user_id\")\n",
    "clicks_pivot"
   ]
  },
  {
   "cell_type": "markdown",
   "metadata": {},
   "source": [
    "#### 6."
   ]
  },
  {
   "cell_type": "markdown",
   "metadata": {},
   "source": [
    "Create a new column in `clicks_pivot` called `percent_clicked` which is equal to the percent of users who clicked on the ad from each `utm_source`.\n",
    "\n",
    "Was there a difference in click rates for each source?"
   ]
  },
  {
   "cell_type": "code",
   "execution_count": 20,
   "metadata": {},
   "outputs": [
    {
     "data": {
      "text/html": [
       "<div>\n",
       "<style scoped>\n",
       "    .dataframe tbody tr th:only-of-type {\n",
       "        vertical-align: middle;\n",
       "    }\n",
       "\n",
       "    .dataframe tbody tr th {\n",
       "        vertical-align: top;\n",
       "    }\n",
       "\n",
       "    .dataframe thead th {\n",
       "        text-align: right;\n",
       "    }\n",
       "</style>\n",
       "<table border=\"1\" class=\"dataframe\">\n",
       "  <thead>\n",
       "    <tr style=\"text-align: right;\">\n",
       "      <th>is_click</th>\n",
       "      <th>False</th>\n",
       "      <th>True</th>\n",
       "      <th>percent_clicked</th>\n",
       "    </tr>\n",
       "    <tr>\n",
       "      <th>utm_source</th>\n",
       "      <th></th>\n",
       "      <th></th>\n",
       "      <th></th>\n",
       "    </tr>\n",
       "  </thead>\n",
       "  <tbody>\n",
       "    <tr>\n",
       "      <th>email</th>\n",
       "      <td>175</td>\n",
       "      <td>80</td>\n",
       "      <td>31.372549</td>\n",
       "    </tr>\n",
       "    <tr>\n",
       "      <th>facebook</th>\n",
       "      <td>324</td>\n",
       "      <td>180</td>\n",
       "      <td>35.714286</td>\n",
       "    </tr>\n",
       "    <tr>\n",
       "      <th>google</th>\n",
       "      <td>441</td>\n",
       "      <td>239</td>\n",
       "      <td>35.147059</td>\n",
       "    </tr>\n",
       "    <tr>\n",
       "      <th>twitter</th>\n",
       "      <td>149</td>\n",
       "      <td>66</td>\n",
       "      <td>30.697674</td>\n",
       "    </tr>\n",
       "  </tbody>\n",
       "</table>\n",
       "</div>"
      ],
      "text/plain": [
       "is_click    False  True  percent_clicked\n",
       "utm_source                              \n",
       "email         175    80        31.372549\n",
       "facebook      324   180        35.714286\n",
       "google        441   239        35.147059\n",
       "twitter       149    66        30.697674"
      ]
     },
     "execution_count": 20,
     "metadata": {},
     "output_type": "execute_result"
    }
   ],
   "source": [
    "clicks_pivot[\"percent_clicked\"] = clicks_pivot.apply(lambda x: (x[True]*100)/(x[True]+x[False]), axis=1)\n",
    "clicks_pivot"
   ]
  },
  {
   "cell_type": "markdown",
   "metadata": {},
   "source": [
    "#### 7."
   ]
  },
  {
   "cell_type": "markdown",
   "metadata": {},
   "source": [
    "The column `experimental_group` tells us whether the user was shown Ad A or Ad B.\n",
    "\n",
    "Were approximately the same number of people shown both ads?"
   ]
  },
  {
   "cell_type": "code",
   "execution_count": 22,
   "metadata": {},
   "outputs": [
    {
     "data": {
      "text/html": [
       "<div>\n",
       "<style scoped>\n",
       "    .dataframe tbody tr th:only-of-type {\n",
       "        vertical-align: middle;\n",
       "    }\n",
       "\n",
       "    .dataframe tbody tr th {\n",
       "        vertical-align: top;\n",
       "    }\n",
       "\n",
       "    .dataframe thead th {\n",
       "        text-align: right;\n",
       "    }\n",
       "</style>\n",
       "<table border=\"1\" class=\"dataframe\">\n",
       "  <thead>\n",
       "    <tr style=\"text-align: right;\">\n",
       "      <th></th>\n",
       "      <th>experimental_group</th>\n",
       "      <th>user_id</th>\n",
       "    </tr>\n",
       "  </thead>\n",
       "  <tbody>\n",
       "    <tr>\n",
       "      <th>0</th>\n",
       "      <td>A</td>\n",
       "      <td>827</td>\n",
       "    </tr>\n",
       "    <tr>\n",
       "      <th>1</th>\n",
       "      <td>B</td>\n",
       "      <td>827</td>\n",
       "    </tr>\n",
       "  </tbody>\n",
       "</table>\n",
       "</div>"
      ],
      "text/plain": [
       "  experimental_group  user_id\n",
       "0                  A      827\n",
       "1                  B      827"
      ]
     },
     "execution_count": 22,
     "metadata": {},
     "output_type": "execute_result"
    }
   ],
   "source": [
    "df.groupby(\"experimental_group\").user_id.count().reset_index()"
   ]
  },
  {
   "cell_type": "markdown",
   "metadata": {},
   "source": [
    "#### 8."
   ]
  },
  {
   "cell_type": "markdown",
   "metadata": {},
   "source": [
    "Using the column `is_click` that we defined earlier, check to see if a greater percentage of users clicked on Ad A or Ad B."
   ]
  },
  {
   "cell_type": "code",
   "execution_count": 24,
   "metadata": {},
   "outputs": [
    {
     "data": {
      "text/html": [
       "<div>\n",
       "<style scoped>\n",
       "    .dataframe tbody tr th:only-of-type {\n",
       "        vertical-align: middle;\n",
       "    }\n",
       "\n",
       "    .dataframe tbody tr th {\n",
       "        vertical-align: top;\n",
       "    }\n",
       "\n",
       "    .dataframe thead th {\n",
       "        text-align: right;\n",
       "    }\n",
       "</style>\n",
       "<table border=\"1\" class=\"dataframe\">\n",
       "  <thead>\n",
       "    <tr style=\"text-align: right;\">\n",
       "      <th></th>\n",
       "      <th>experimental_group</th>\n",
       "      <th>is_click</th>\n",
       "      <th>user_id</th>\n",
       "    </tr>\n",
       "  </thead>\n",
       "  <tbody>\n",
       "    <tr>\n",
       "      <th>0</th>\n",
       "      <td>A</td>\n",
       "      <td>False</td>\n",
       "      <td>517</td>\n",
       "    </tr>\n",
       "    <tr>\n",
       "      <th>1</th>\n",
       "      <td>A</td>\n",
       "      <td>True</td>\n",
       "      <td>310</td>\n",
       "    </tr>\n",
       "    <tr>\n",
       "      <th>2</th>\n",
       "      <td>B</td>\n",
       "      <td>False</td>\n",
       "      <td>572</td>\n",
       "    </tr>\n",
       "    <tr>\n",
       "      <th>3</th>\n",
       "      <td>B</td>\n",
       "      <td>True</td>\n",
       "      <td>255</td>\n",
       "    </tr>\n",
       "  </tbody>\n",
       "</table>\n",
       "</div>"
      ],
      "text/plain": [
       "  experimental_group  is_click  user_id\n",
       "0                  A     False      517\n",
       "1                  A      True      310\n",
       "2                  B     False      572\n",
       "3                  B      True      255"
      ]
     },
     "execution_count": 24,
     "metadata": {},
     "output_type": "execute_result"
    }
   ],
   "source": [
    "df.groupby([\"experimental_group\", \"is_click\"]).user_id.count().reset_index()"
   ]
  },
  {
   "cell_type": "markdown",
   "metadata": {},
   "source": [
    "#### 9."
   ]
  },
  {
   "cell_type": "markdown",
   "metadata": {},
   "source": [
    "The Product Manager for the A/B test thinks that the clicks might have changed by day of the week.\n",
    "\n",
    "Start by creating two DataFrames: `a_clicks` and `b_clicks`, which contain only the results for `A` group and `B` group, respectively."
   ]
  },
  {
   "cell_type": "code",
   "execution_count": 28,
   "metadata": {},
   "outputs": [],
   "source": [
    "a_clicks = df[df.experimental_group == 'A']\n",
    "b_clicks = df[df.experimental_group == 'B']"
   ]
  },
  {
   "cell_type": "code",
   "execution_count": 29,
   "metadata": {},
   "outputs": [
    {
     "data": {
      "text/html": [
       "<div>\n",
       "<style scoped>\n",
       "    .dataframe tbody tr th:only-of-type {\n",
       "        vertical-align: middle;\n",
       "    }\n",
       "\n",
       "    .dataframe tbody tr th {\n",
       "        vertical-align: top;\n",
       "    }\n",
       "\n",
       "    .dataframe thead th {\n",
       "        text-align: right;\n",
       "    }\n",
       "</style>\n",
       "<table border=\"1\" class=\"dataframe\">\n",
       "  <thead>\n",
       "    <tr style=\"text-align: right;\">\n",
       "      <th></th>\n",
       "      <th>user_id</th>\n",
       "      <th>utm_source</th>\n",
       "      <th>day</th>\n",
       "      <th>ad_click_timestamp</th>\n",
       "      <th>experimental_group</th>\n",
       "      <th>is_click</th>\n",
       "    </tr>\n",
       "  </thead>\n",
       "  <tbody>\n",
       "    <tr>\n",
       "      <th>0</th>\n",
       "      <td>008b7c6c-7272-471e-b90e-930d548bd8d7</td>\n",
       "      <td>google</td>\n",
       "      <td>6 - Saturday</td>\n",
       "      <td>7:18</td>\n",
       "      <td>A</td>\n",
       "      <td>True</td>\n",
       "    </tr>\n",
       "    <tr>\n",
       "      <th>2</th>\n",
       "      <td>00f5d532-ed58-4570-b6d2-768df5f41aed</td>\n",
       "      <td>twitter</td>\n",
       "      <td>2 - Tuesday</td>\n",
       "      <td>NaN</td>\n",
       "      <td>A</td>\n",
       "      <td>False</td>\n",
       "    </tr>\n",
       "    <tr>\n",
       "      <th>5</th>\n",
       "      <td>013b0072-7b72-40e7-b698-98b4d0c9967f</td>\n",
       "      <td>facebook</td>\n",
       "      <td>1 - Monday</td>\n",
       "      <td>NaN</td>\n",
       "      <td>A</td>\n",
       "      <td>False</td>\n",
       "    </tr>\n",
       "    <tr>\n",
       "      <th>6</th>\n",
       "      <td>0153d85b-7660-4c39-92eb-1e1acd023280</td>\n",
       "      <td>google</td>\n",
       "      <td>4 - Thursday</td>\n",
       "      <td>NaN</td>\n",
       "      <td>A</td>\n",
       "      <td>False</td>\n",
       "    </tr>\n",
       "    <tr>\n",
       "      <th>7</th>\n",
       "      <td>01555297-d6e6-49ae-aeba-1b196fdbb09f</td>\n",
       "      <td>google</td>\n",
       "      <td>3 - Wednesday</td>\n",
       "      <td>NaN</td>\n",
       "      <td>A</td>\n",
       "      <td>False</td>\n",
       "    </tr>\n",
       "  </tbody>\n",
       "</table>\n",
       "</div>"
      ],
      "text/plain": [
       "                                user_id utm_source            day  \\\n",
       "0  008b7c6c-7272-471e-b90e-930d548bd8d7     google   6 - Saturday   \n",
       "2  00f5d532-ed58-4570-b6d2-768df5f41aed    twitter    2 - Tuesday   \n",
       "5  013b0072-7b72-40e7-b698-98b4d0c9967f   facebook     1 - Monday   \n",
       "6  0153d85b-7660-4c39-92eb-1e1acd023280     google   4 - Thursday   \n",
       "7  01555297-d6e6-49ae-aeba-1b196fdbb09f     google  3 - Wednesday   \n",
       "\n",
       "  ad_click_timestamp experimental_group  is_click  \n",
       "0               7:18                  A      True  \n",
       "2                NaN                  A     False  \n",
       "5                NaN                  A     False  \n",
       "6                NaN                  A     False  \n",
       "7                NaN                  A     False  "
      ]
     },
     "execution_count": 29,
     "metadata": {},
     "output_type": "execute_result"
    }
   ],
   "source": [
    "a_clicks.head()"
   ]
  },
  {
   "cell_type": "code",
   "execution_count": 30,
   "metadata": {},
   "outputs": [
    {
     "data": {
      "text/html": [
       "<div>\n",
       "<style scoped>\n",
       "    .dataframe tbody tr th:only-of-type {\n",
       "        vertical-align: middle;\n",
       "    }\n",
       "\n",
       "    .dataframe tbody tr th {\n",
       "        vertical-align: top;\n",
       "    }\n",
       "\n",
       "    .dataframe thead th {\n",
       "        text-align: right;\n",
       "    }\n",
       "</style>\n",
       "<table border=\"1\" class=\"dataframe\">\n",
       "  <thead>\n",
       "    <tr style=\"text-align: right;\">\n",
       "      <th></th>\n",
       "      <th>user_id</th>\n",
       "      <th>utm_source</th>\n",
       "      <th>day</th>\n",
       "      <th>ad_click_timestamp</th>\n",
       "      <th>experimental_group</th>\n",
       "      <th>is_click</th>\n",
       "    </tr>\n",
       "  </thead>\n",
       "  <tbody>\n",
       "    <tr>\n",
       "      <th>1</th>\n",
       "      <td>009abb94-5e14-4b6c-bb1c-4f4df7aa7557</td>\n",
       "      <td>facebook</td>\n",
       "      <td>7 - Sunday</td>\n",
       "      <td>NaN</td>\n",
       "      <td>B</td>\n",
       "      <td>False</td>\n",
       "    </tr>\n",
       "    <tr>\n",
       "      <th>3</th>\n",
       "      <td>011adc64-0f44-4fd9-a0bb-f1506d2ad439</td>\n",
       "      <td>google</td>\n",
       "      <td>2 - Tuesday</td>\n",
       "      <td>NaN</td>\n",
       "      <td>B</td>\n",
       "      <td>False</td>\n",
       "    </tr>\n",
       "    <tr>\n",
       "      <th>4</th>\n",
       "      <td>012137e6-7ae7-4649-af68-205b4702169c</td>\n",
       "      <td>facebook</td>\n",
       "      <td>7 - Sunday</td>\n",
       "      <td>NaN</td>\n",
       "      <td>B</td>\n",
       "      <td>False</td>\n",
       "    </tr>\n",
       "    <tr>\n",
       "      <th>9</th>\n",
       "      <td>01a210c3-fde0-4e6f-8efd-4f0e38730ae6</td>\n",
       "      <td>email</td>\n",
       "      <td>2 - Tuesday</td>\n",
       "      <td>15:21</td>\n",
       "      <td>B</td>\n",
       "      <td>True</td>\n",
       "    </tr>\n",
       "    <tr>\n",
       "      <th>10</th>\n",
       "      <td>01adb2e7-f711-4ae4-a7c6-29f48457eea1</td>\n",
       "      <td>google</td>\n",
       "      <td>3 - Wednesday</td>\n",
       "      <td>NaN</td>\n",
       "      <td>B</td>\n",
       "      <td>False</td>\n",
       "    </tr>\n",
       "  </tbody>\n",
       "</table>\n",
       "</div>"
      ],
      "text/plain": [
       "                                 user_id utm_source            day  \\\n",
       "1   009abb94-5e14-4b6c-bb1c-4f4df7aa7557   facebook     7 - Sunday   \n",
       "3   011adc64-0f44-4fd9-a0bb-f1506d2ad439     google    2 - Tuesday   \n",
       "4   012137e6-7ae7-4649-af68-205b4702169c   facebook     7 - Sunday   \n",
       "9   01a210c3-fde0-4e6f-8efd-4f0e38730ae6      email    2 - Tuesday   \n",
       "10  01adb2e7-f711-4ae4-a7c6-29f48457eea1     google  3 - Wednesday   \n",
       "\n",
       "   ad_click_timestamp experimental_group  is_click  \n",
       "1                 NaN                  B     False  \n",
       "3                 NaN                  B     False  \n",
       "4                 NaN                  B     False  \n",
       "9               15:21                  B      True  \n",
       "10                NaN                  B     False  "
      ]
     },
     "execution_count": 30,
     "metadata": {},
     "output_type": "execute_result"
    }
   ],
   "source": [
    "b_clicks.head()"
   ]
  },
  {
   "cell_type": "markdown",
   "metadata": {},
   "source": [
    "#### 10."
   ]
  },
  {
   "cell_type": "markdown",
   "metadata": {},
   "source": [
    "For each group (`a_clicks` and `b_clicks`), calculate the percent of users who clicked on the ad by `day`."
   ]
  },
  {
   "cell_type": "code",
   "execution_count": 45,
   "metadata": {},
   "outputs": [],
   "source": [
    "def sol_10(df):\n",
    "    df = df.groupby([\"is_click\", \"day\"]).user_id.count().reset_index()\n",
    "    df_pivot = df.pivot(columns=\"is_click\", index=\"day\", values=\"user_id\")\n",
    "    df_pivot[\"percent_clicked\"] = df_pivot.apply(lambda x: (x[True]*100)/(x[True]+x[False]), axis=1)\n",
    "    return df_pivot"
   ]
  },
  {
   "cell_type": "code",
   "execution_count": 46,
   "metadata": {},
   "outputs": [
    {
     "data": {
      "text/html": [
       "<div>\n",
       "<style scoped>\n",
       "    .dataframe tbody tr th:only-of-type {\n",
       "        vertical-align: middle;\n",
       "    }\n",
       "\n",
       "    .dataframe tbody tr th {\n",
       "        vertical-align: top;\n",
       "    }\n",
       "\n",
       "    .dataframe thead th {\n",
       "        text-align: right;\n",
       "    }\n",
       "</style>\n",
       "<table border=\"1\" class=\"dataframe\">\n",
       "  <thead>\n",
       "    <tr style=\"text-align: right;\">\n",
       "      <th>is_click</th>\n",
       "      <th>False</th>\n",
       "      <th>True</th>\n",
       "      <th>percent_clicked</th>\n",
       "    </tr>\n",
       "    <tr>\n",
       "      <th>day</th>\n",
       "      <th></th>\n",
       "      <th></th>\n",
       "      <th></th>\n",
       "    </tr>\n",
       "  </thead>\n",
       "  <tbody>\n",
       "    <tr>\n",
       "      <th>1 - Monday</th>\n",
       "      <td>70</td>\n",
       "      <td>43</td>\n",
       "      <td>38.053097</td>\n",
       "    </tr>\n",
       "    <tr>\n",
       "      <th>2 - Tuesday</th>\n",
       "      <td>76</td>\n",
       "      <td>43</td>\n",
       "      <td>36.134454</td>\n",
       "    </tr>\n",
       "    <tr>\n",
       "      <th>3 - Wednesday</th>\n",
       "      <td>86</td>\n",
       "      <td>38</td>\n",
       "      <td>30.645161</td>\n",
       "    </tr>\n",
       "    <tr>\n",
       "      <th>4 - Thursday</th>\n",
       "      <td>69</td>\n",
       "      <td>47</td>\n",
       "      <td>40.517241</td>\n",
       "    </tr>\n",
       "    <tr>\n",
       "      <th>5 - Friday</th>\n",
       "      <td>77</td>\n",
       "      <td>51</td>\n",
       "      <td>39.843750</td>\n",
       "    </tr>\n",
       "    <tr>\n",
       "      <th>6 - Saturday</th>\n",
       "      <td>73</td>\n",
       "      <td>45</td>\n",
       "      <td>38.135593</td>\n",
       "    </tr>\n",
       "    <tr>\n",
       "      <th>7 - Sunday</th>\n",
       "      <td>66</td>\n",
       "      <td>43</td>\n",
       "      <td>39.449541</td>\n",
       "    </tr>\n",
       "  </tbody>\n",
       "</table>\n",
       "</div>"
      ],
      "text/plain": [
       "is_click       False  True  percent_clicked\n",
       "day                                        \n",
       "1 - Monday        70    43        38.053097\n",
       "2 - Tuesday       76    43        36.134454\n",
       "3 - Wednesday     86    38        30.645161\n",
       "4 - Thursday      69    47        40.517241\n",
       "5 - Friday        77    51        39.843750\n",
       "6 - Saturday      73    45        38.135593\n",
       "7 - Sunday        66    43        39.449541"
      ]
     },
     "execution_count": 46,
     "metadata": {},
     "output_type": "execute_result"
    }
   ],
   "source": [
    "sol_10(a_clicks)"
   ]
  },
  {
   "cell_type": "code",
   "execution_count": 47,
   "metadata": {},
   "outputs": [
    {
     "data": {
      "text/html": [
       "<div>\n",
       "<style scoped>\n",
       "    .dataframe tbody tr th:only-of-type {\n",
       "        vertical-align: middle;\n",
       "    }\n",
       "\n",
       "    .dataframe tbody tr th {\n",
       "        vertical-align: top;\n",
       "    }\n",
       "\n",
       "    .dataframe thead th {\n",
       "        text-align: right;\n",
       "    }\n",
       "</style>\n",
       "<table border=\"1\" class=\"dataframe\">\n",
       "  <thead>\n",
       "    <tr style=\"text-align: right;\">\n",
       "      <th>is_click</th>\n",
       "      <th>False</th>\n",
       "      <th>True</th>\n",
       "      <th>percent_clicked</th>\n",
       "    </tr>\n",
       "    <tr>\n",
       "      <th>day</th>\n",
       "      <th></th>\n",
       "      <th></th>\n",
       "      <th></th>\n",
       "    </tr>\n",
       "  </thead>\n",
       "  <tbody>\n",
       "    <tr>\n",
       "      <th>1 - Monday</th>\n",
       "      <td>81</td>\n",
       "      <td>32</td>\n",
       "      <td>28.318584</td>\n",
       "    </tr>\n",
       "    <tr>\n",
       "      <th>2 - Tuesday</th>\n",
       "      <td>74</td>\n",
       "      <td>45</td>\n",
       "      <td>37.815126</td>\n",
       "    </tr>\n",
       "    <tr>\n",
       "      <th>3 - Wednesday</th>\n",
       "      <td>89</td>\n",
       "      <td>35</td>\n",
       "      <td>28.225806</td>\n",
       "    </tr>\n",
       "    <tr>\n",
       "      <th>4 - Thursday</th>\n",
       "      <td>87</td>\n",
       "      <td>29</td>\n",
       "      <td>25.000000</td>\n",
       "    </tr>\n",
       "    <tr>\n",
       "      <th>5 - Friday</th>\n",
       "      <td>90</td>\n",
       "      <td>38</td>\n",
       "      <td>29.687500</td>\n",
       "    </tr>\n",
       "    <tr>\n",
       "      <th>6 - Saturday</th>\n",
       "      <td>76</td>\n",
       "      <td>42</td>\n",
       "      <td>35.593220</td>\n",
       "    </tr>\n",
       "    <tr>\n",
       "      <th>7 - Sunday</th>\n",
       "      <td>75</td>\n",
       "      <td>34</td>\n",
       "      <td>31.192661</td>\n",
       "    </tr>\n",
       "  </tbody>\n",
       "</table>\n",
       "</div>"
      ],
      "text/plain": [
       "is_click       False  True  percent_clicked\n",
       "day                                        \n",
       "1 - Monday        81    32        28.318584\n",
       "2 - Tuesday       74    45        37.815126\n",
       "3 - Wednesday     89    35        28.225806\n",
       "4 - Thursday      87    29        25.000000\n",
       "5 - Friday        90    38        29.687500\n",
       "6 - Saturday      76    42        35.593220\n",
       "7 - Sunday        75    34        31.192661"
      ]
     },
     "execution_count": 47,
     "metadata": {},
     "output_type": "execute_result"
    }
   ],
   "source": [
    "sol_10(b_clicks)"
   ]
  },
  {
   "cell_type": "markdown",
   "metadata": {},
   "source": [
    "#### 11."
   ]
  },
  {
   "cell_type": "markdown",
   "metadata": {},
   "source": [
    "Compare the results for `A` and `B`. What happened over the course of the week?\n",
    "\n",
    "Do you recommend that your company use Ad A or Ad B?\n",
    "\n",
    "<details><summary style=\"display:list-item; font-size:16px; color:white;\">Solution</summary>\n",
    "\n",
    "I would recommend using Ad A, because overall this Ad had a higher click rate than Ad B.\n",
    "At the beginning of the week, less people clicked on Ad A than on Ad B compared to the middle of the week. But at the end of the week, Ad A had a higher click rate than Ad B."
   ]
  }
 ],
 "metadata": {
  "kernelspec": {
   "display_name": "Codecademy-XphA9WxU",
   "language": "python",
   "name": "python3"
  },
  "language_info": {
   "codemirror_mode": {
    "name": "ipython",
    "version": 3
   },
   "file_extension": ".py",
   "mimetype": "text/x-python",
   "name": "python",
   "nbconvert_exporter": "python",
   "pygments_lexer": "ipython3",
   "version": "3.11.1"
  }
 },
 "nbformat": 4,
 "nbformat_minor": 2
}
