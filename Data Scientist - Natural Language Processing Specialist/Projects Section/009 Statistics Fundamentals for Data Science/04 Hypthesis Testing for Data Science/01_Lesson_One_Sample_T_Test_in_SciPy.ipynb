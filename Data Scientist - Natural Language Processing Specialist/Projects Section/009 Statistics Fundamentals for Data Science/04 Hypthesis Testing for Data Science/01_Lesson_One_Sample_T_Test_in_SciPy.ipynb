{
 "cells": [
  {
   "cell_type": "markdown",
   "metadata": {},
   "source": [
    "# Lesson: One Sample T-Test in SciPy"
   ]
  },
  {
   "cell_type": "code",
   "execution_count": 52,
   "metadata": {},
   "outputs": [],
   "source": [
    "import numpy as np\n",
    "from scipy.stats import ttest_1samp\n",
    "import matplotlib.pyplot as plt"
   ]
  },
  {
   "cell_type": "markdown",
   "metadata": {},
   "source": [
    "## 1. Introduction"
   ]
  },
  {
   "cell_type": "code",
   "execution_count": 53,
   "metadata": {},
   "outputs": [],
   "source": [
    "prices = np.genfromtxt('prices.csv')"
   ]
  },
  {
   "cell_type": "markdown",
   "metadata": {},
   "source": [
    "- We have provided a small dataset called `prices`, representing the purchase prices of customers to BuyPie.com in the past day.  \n",
    "- First, print out `prices` to the console and examine the numbers. \n",
    "- How much variation is there in the purchase prices? Can you estimate the mean by looking at these numbers?"
   ]
  },
  {
   "cell_type": "code",
   "execution_count": 54,
   "metadata": {},
   "outputs": [
    {
     "data": {
      "text/plain": [
       "array([ 978., 1080.,  999.,  855., 1105.,  961.,  899., 1061.,  880.,\n",
       "       1455.,  505.,  936., 1024.,  982.,  840.,  930.,  829.,  504.,\n",
       "        955., 1380., 1361., 1130.,  946.,  973., 1076., 1131.,  810.,\n",
       "        734., 1275.,  867.,  962.,  865.,  709., 1216.,  735.,  768.,\n",
       "        757., 1060.,  715.,  839.,  999., 1259., 1194., 1082., 1129.,\n",
       "       1255.,  931., 1236.,  921.,  907.])"
      ]
     },
     "execution_count": 54,
     "metadata": {},
     "output_type": "execute_result"
    }
   ],
   "source": [
    "prices"
   ]
  },
  {
   "cell_type": "markdown",
   "metadata": {},
   "source": [
    "- Calculate the mean of prices using `np.mean()`. \n",
    "- Store it in a variable called `prices_mean` and print it out.  \n",
    "- What is the average purchase price for these 50 purchases? Is it a lot less than 1000? Or only a little less?"
   ]
  },
  {
   "cell_type": "code",
   "execution_count": 55,
   "metadata": {},
   "outputs": [
    {
     "data": {
      "text/plain": [
       "np.float64(980.0)"
      ]
     },
     "execution_count": 55,
     "metadata": {},
     "output_type": "execute_result"
    }
   ],
   "source": [
    "prices_mean = np.mean(prices)\n",
    "prices_mean"
   ]
  },
  {
   "cell_type": "markdown",
   "metadata": {},
   "source": [
    "## 2. Implementing a One-Sample T-Test"
   ]
  },
  {
   "cell_type": "code",
   "execution_count": 56,
   "metadata": {},
   "outputs": [
    {
     "name": "stdout",
     "output_type": "stream",
     "text": [
      "[ 978. 1080.  999.  855. 1105.  961.  899. 1061.  880. 1455.  505.  936.\n",
      " 1024.  982.  840.  930.  829.  504.  955. 1380. 1361. 1130.  946.  973.\n",
      " 1076. 1131.  810.  734. 1275.  867.  962.  865.  709. 1216.  735.  768.\n",
      "  757. 1060.  715.  839.  999. 1259. 1194. 1082. 1129. 1255.  931. 1236.\n",
      "  921.  907.]\n",
      "mean of prices: 980.0\n"
     ]
    }
   ],
   "source": [
    "prices = np.genfromtxt(\"prices.csv\")\n",
    "print(prices)\n",
    "\n",
    "prices_mean = np.mean(prices)\n",
    "print(\"mean of prices: \" + str(prices_mean))"
   ]
  },
  {
   "cell_type": "markdown",
   "metadata": {},
   "source": [
    "- Use `ttest_1samp()` to run the hypothesis test described above \n",
    "    - **null**: the average price is 1000 Rupees; \n",
    "    - **alternative**: the average price is **not** 1000 Rupees.  \n",
    "- Store the p-value in a variable called `pval`. \n",
    "- Remember that it is the second output of the `ttest_1samp()` function. \n",
    "- We won’t use the first output, the t-statistic, so you can store it in a variable with whatever name you’d like."
   ]
  },
  {
   "cell_type": "code",
   "execution_count": 57,
   "metadata": {},
   "outputs": [],
   "source": [
    "_, pval = ttest_1samp(prices, 1000)"
   ]
  },
  {
   "cell_type": "markdown",
   "metadata": {},
   "source": [
    "- Print out `pval` to the console.  \n",
    "- Does the p-value you got make sense, knowing the mean of `prices` and having inspected the data? (Look at the hint for an answer to this question)."
   ]
  },
  {
   "cell_type": "code",
   "execution_count": 58,
   "metadata": {},
   "outputs": [
    {
     "data": {
      "text/plain": [
       "np.float64(0.4920744804182786)"
      ]
     },
     "execution_count": 58,
     "metadata": {},
     "output_type": "execute_result"
    }
   ],
   "source": [
    "pval"
   ]
  },
  {
   "cell_type": "markdown",
   "metadata": {},
   "source": [
    "- P-values are probabilities, so they should be between 0 and 1. \n",
    "- This p-value is the probability of observing an average purchase price less than 980 OR more than 1020 among a sample of 50 purchases. \n",
    "- If you run the test correctly, you should see a p-value of 0.49 or 49%.\n",
    "- Given that the mean purchase price in this sample was 980, which is not very far from 1000, we probably expect this p-value to be relatively large. \n",
    "- The only reason it COULD be small (eg., <.05) is if purchase prices had very little variation (eg., they were all within a few Rupees of 980). \n",
    "- We can see from the data print out that this is not the case. \n",
    "- Therefore, a p-value around 0.49 makes sense!"
   ]
  },
  {
   "cell_type": "markdown",
   "metadata": {},
   "source": [
    "## 3. Assumptions of a One Sample T-Test"
   ]
  },
  {
   "cell_type": "code",
   "execution_count": 59,
   "metadata": {},
   "outputs": [],
   "source": [
    "prices = np.genfromtxt(\"prices.csv\")"
   ]
  },
  {
   "cell_type": "markdown",
   "metadata": {},
   "source": [
    "- Using `plt.hist()`, plot a histogram of `prices` and check whether the values are (approximately) normally distributed. \n",
    "- Do you see anything to make you concerned that the assumptions of the test were not met (skew, bi-modality, outliers)?"
   ]
  },
  {
   "cell_type": "code",
   "execution_count": 60,
   "metadata": {},
   "outputs": [
    {
     "data": {
      "image/png": "[encoded data removed]",
      "text/plain": [
       "<Figure size 640x480 with 1 Axes>"
      ]
     },
     "metadata": {},
     "output_type": "display_data"
    }
   ],
   "source": [
    "plt.hist(prices)\n",
    "plt.show()"
   ]
  },
  {
   "cell_type": "markdown",
   "metadata": {},
   "source": [
    "- There does not seem to be any clear skewness, bi-modality, or outliers. \n",
    "- The histogram is approximately normal."
   ]
  },
  {
   "cell_type": "markdown",
   "metadata": {},
   "source": [
    "## 4. Review"
   ]
  },
  {
   "cell_type": "code",
   "execution_count": 61,
   "metadata": {},
   "outputs": [],
   "source": [
    "daily_prices = np.genfromtxt(\"daily_prices.csv\", delimiter=\",\")"
   ]
  },
  {
   "cell_type": "markdown",
   "metadata": {},
   "source": [
    "- As a final exercise, some data has been loaded for you with purchase prices for consecutive days at BuyPie. \n",
    "- You can access the first day using `daily_prices[0]`, the second using `daily_prices[1]`, etc.. \n",
    "- To practice running a one-sample t-test and inspecting the resulting p-value, try the following:"
   ]
  },
  {
   "cell_type": "code",
   "execution_count": 62,
   "metadata": {},
   "outputs": [
    {
     "data": {
      "text/plain": [
       "(array([1353.,  760.,  900.,  759.,  854.,  925.,  839.,  917., 1236.,\n",
       "         940., 1253.,  859.,  873.,  814.,  909.,  718.,  835., 1027.,\n",
       "        1075.,  801.,  714.,  733., 1137., 1057., 1118., 1025.,  858.,\n",
       "        1010.,  600.,  967., 1286., 1072., 1007.,  585.,  853., 1286.,\n",
       "        1531.,  685.,  764., 1113.,  905.,  711.,  758.,  643.,  748.,\n",
       "         965., 1102., 1239., 1354., 1265., 1046.,  995., 1230.,  822.,\n",
       "        1185., 1183., 1285.,  969.,  964.,  958., 1159., 1123.,  739.,\n",
       "        1076., 1712., 1241., 1337.,  852., 1075., 1274., 1023.,  862.,\n",
       "         964.,  926., 1150., 1124., 1004.,  894.,  939., 1161., 1028.,\n",
       "         793.,  677., 1107., 1356., 1284.,  775.,  955., 1145.,  856.,\n",
       "         930.,  748., 1257., 1019., 1180., 1581., 1246.,  998., 1078.,\n",
       "        1104.]),\n",
       " array([ 831.,  993.,  922.,  559., 1086., 1119.,  787., 1374., 1100.,\n",
       "        1097., 1066., 1010.,  958., 1272.,  876., 1267.,  929., 1441.,\n",
       "        1072., 1176., 1166., 1086., 1221.,  818., 1312.,  844.,  798.,\n",
       "         756., 1331., 1131.,  857.,  717.,  759.,  911., 1082.,  848.,\n",
       "        1125., 1069.,  676., 1001.,  756.,  831., 1201.,  916., 1515.,\n",
       "         863., 1059., 1053., 1274.,  839.,  825., 1457., 1078., 1255.,\n",
       "        1218., 1153., 1414.,  887., 1084.,  700., 1117.,  940., 1640.,\n",
       "        1018.,  752., 1282.,  488., 1231.,  827., 1413.,  945.,  862.,\n",
       "         786., 1199.,  723., 1210., 1087.,  678., 1264.,  929., 1262.,\n",
       "         962., 1172.,  915., 1013.,  937.,  822.,  828.,  751.,  990.,\n",
       "         611.,  963.,  991., 1014., 1158.,  937.,  907., 1149., 1068.,\n",
       "        1158.]))"
      ]
     },
     "execution_count": 62,
     "metadata": {},
     "output_type": "execute_result"
    }
   ],
   "source": [
    "daily_prices[0], daily_prices[1]"
   ]
  },
  {
   "cell_type": "markdown",
   "metadata": {},
   "source": [
    "- Calculate and print out a p-value for day 1 where the null hypothesis is that the average purchase price was 1000 Rupees and the alternative hypothesis is that the average purchase price was not 1000 Rupees. \n",
    "- Print out the p-value."
   ]
  },
  {
   "cell_type": "code",
   "execution_count": 63,
   "metadata": {},
   "outputs": [
    {
     "data": {
      "text/plain": [
       "np.float64(0.6071186852381733)"
      ]
     },
     "execution_count": 63,
     "metadata": {},
     "output_type": "execute_result"
    }
   ],
   "source": [
    "_, pval = ttest_1samp(daily_prices[0], 1000)\n",
    "pval"
   ]
  },
  {
   "cell_type": "markdown",
   "metadata": {},
   "source": [
    "- Run the same hypothesis tests for days 1-10 (the fastest way to do this is with a for-loop!) and print out the resulting p-values. \n",
    "- What’s the smallest p-value you observe for those 10 days?"
   ]
  },
  {
   "cell_type": "code",
   "execution_count": 64,
   "metadata": {},
   "outputs": [
    {
     "name": "stdout",
     "output_type": "stream",
     "text": [
      "Day 1: P-value = 0.6071186852381733\n",
      "Day 2: P-value = 0.4093623236367092\n",
      "Day 3: P-value = 0.6823152912621232\n",
      "Day 4: P-value = 0.9396281562313855\n",
      "Day 5: P-value = 0.8434532443692766\n",
      "Day 6: P-value = 0.018765443076610086\n",
      "Day 7: P-value = 0.6240646986588566\n",
      "Day 8: P-value = 0.8594296361029083\n",
      "Day 9: P-value = 0.774383958509746\n",
      "Day 10: P-value = 0.6813407662727201\n",
      "Min-P-value = 0.018765443076610086 at day 6\n"
     ]
    }
   ],
   "source": [
    "pvals = []\n",
    "for i in range(0, 10):\n",
    "    _, pval = ttest_1samp(daily_prices[i], 1000)\n",
    "    pvals.append(pval)\n",
    "    print(f\"Day {i+1}: P-value = {pval}\")\n",
    "\n",
    "print(f\"Min-P-value = {min(pvals)} at day {pvals.index(min(pvals))+1}\")"
   ]
  },
  {
   "cell_type": "markdown",
   "metadata": {},
   "source": [
    "- Try changing the null hypothesis so that the expected population mean that you’re testing against is different from 1000. \n",
    "- Try any numbers that you want. \n",
    "- How do your p-values change?"
   ]
  },
  {
   "cell_type": "code",
   "execution_count": 65,
   "metadata": {},
   "outputs": [
    {
     "name": "stdout",
     "output_type": "stream",
     "text": [
      "Day 1: P-value = 0.006068400953830714\n",
      "Day 2: P-value = 0.00248388684038805\n",
      "Day 3: P-value = 0.005760623841230095\n",
      "Day 4: P-value = 0.022860837090812915\n",
      "Day 5: P-value = 0.02269727235522927\n",
      "Day 6: P-value = 3.7291718443794065e-06\n",
      "Day 7: P-value = 0.007970863097214977\n",
      "Day 8: P-value = 0.05444296471985296\n",
      "Day 9: P-value = 0.022347610165122662\n",
      "Day 10: P-value = 0.07949349326248731\n"
     ]
    }
   ],
   "source": [
    "for i in range(10):\n",
    "    _, pval = ttest_1samp(daily_prices[i], 950)\n",
    "    print(f\"Day {i+1}: P-value = {pval}\")"
   ]
  }
 ],
 "metadata": {
  "kernelspec": {
   "display_name": "Codecademy-XphA9WxU",
   "language": "python",
   "name": "python3"
  },
  "language_info": {
   "codemirror_mode": {
    "name": "ipython",
    "version": 3
   },
   "file_extension": ".py",
   "mimetype": "text/x-python",
   "name": "python",
   "nbconvert_exporter": "python",
   "pygments_lexer": "ipython3",
   "version": "3.11.1"
  }
 },
 "nbformat": 4,
 "nbformat_minor": 2
}
