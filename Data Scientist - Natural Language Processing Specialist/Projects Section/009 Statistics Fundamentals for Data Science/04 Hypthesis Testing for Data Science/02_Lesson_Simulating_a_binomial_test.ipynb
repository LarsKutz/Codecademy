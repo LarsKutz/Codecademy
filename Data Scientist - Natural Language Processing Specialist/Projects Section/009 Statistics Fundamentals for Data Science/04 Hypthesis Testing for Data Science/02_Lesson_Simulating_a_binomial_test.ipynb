{
 "cells": [
  {
   "cell_type": "markdown",
   "metadata": {},
   "source": [
    "# Simulating a Binomial Test"
   ]
  },
  {
   "cell_type": "code",
   "execution_count": 1,
   "metadata": {},
   "outputs": [],
   "source": [
    "import pandas as pd\n",
    "import numpy as np\n",
    "import matplotlib.pyplot as plt\n",
    "from scipy.stats import binomtest"
   ]
  },
  {
   "cell_type": "markdown",
   "metadata": {},
   "source": [
    "## 1. Introduction"
   ]
  },
  {
   "cell_type": "code",
   "execution_count": 2,
   "metadata": {},
   "outputs": [],
   "source": [
    "monthly_report = pd.read_csv('monthly_report.csv')"
   ]
  },
  {
   "cell_type": "markdown",
   "metadata": {},
   "source": [
    "- The next few exercises will walk through the process of using a binomial test to analyze data from a hypothetical online company, Live-it-LIVE.com — a website that sells all the necessary props and costumes to recreate iconic movie scenes at home!\n",
    "- The data we’ll be working with has been loaded for you in the workspace and saved as an object named `monthly_report`. \n",
    "- Print `monthly_report` so that you can inspect it in the web browser.\n",
    "- Note that the `purchase` column tells us whether a purchase was made; if so, the item that was purchased is listed in the `item` column. \n",
    "- Feel free to scroll through the data so you can inspect more of the items!"
   ]
  },
  {
   "cell_type": "code",
   "execution_count": 3,
   "metadata": {},
   "outputs": [
    {
     "data": {
      "text/html": [
       "<div>\n",
       "<style scoped>\n",
       "    .dataframe tbody tr th:only-of-type {\n",
       "        vertical-align: middle;\n",
       "    }\n",
       "\n",
       "    .dataframe tbody tr th {\n",
       "        vertical-align: top;\n",
       "    }\n",
       "\n",
       "    .dataframe thead th {\n",
       "        text-align: right;\n",
       "    }\n",
       "</style>\n",
       "<table border=\"1\" class=\"dataframe\">\n",
       "  <thead>\n",
       "    <tr style=\"text-align: right;\">\n",
       "      <th></th>\n",
       "      <th>timestamp</th>\n",
       "      <th>purchase</th>\n",
       "      <th>item</th>\n",
       "    </tr>\n",
       "  </thead>\n",
       "  <tbody>\n",
       "    <tr>\n",
       "      <th>0</th>\n",
       "      <td>2020-01-17 17:23:06</td>\n",
       "      <td>y</td>\n",
       "      <td>cue cards - love actually</td>\n",
       "    </tr>\n",
       "    <tr>\n",
       "      <th>1</th>\n",
       "      <td>2020-01-25 17:09:39</td>\n",
       "      <td>n</td>\n",
       "      <td>NaN</td>\n",
       "    </tr>\n",
       "    <tr>\n",
       "      <th>2</th>\n",
       "      <td>2020-01-25 05:22:01</td>\n",
       "      <td>n</td>\n",
       "      <td>NaN</td>\n",
       "    </tr>\n",
       "    <tr>\n",
       "      <th>3</th>\n",
       "      <td>2020-01-18 04:33:40</td>\n",
       "      <td>y</td>\n",
       "      <td>t-rex - jurassic park</td>\n",
       "    </tr>\n",
       "    <tr>\n",
       "      <th>4</th>\n",
       "      <td>2020-01-24 17:24:52</td>\n",
       "      <td>n</td>\n",
       "      <td>NaN</td>\n",
       "    </tr>\n",
       "    <tr>\n",
       "      <th>...</th>\n",
       "      <td>...</td>\n",
       "      <td>...</td>\n",
       "      <td>...</td>\n",
       "    </tr>\n",
       "    <tr>\n",
       "      <th>495</th>\n",
       "      <td>2020-01-16 08:40:02</td>\n",
       "      <td>n</td>\n",
       "      <td>NaN</td>\n",
       "    </tr>\n",
       "    <tr>\n",
       "      <th>496</th>\n",
       "      <td>2020-01-09 21:11:19</td>\n",
       "      <td>n</td>\n",
       "      <td>NaN</td>\n",
       "    </tr>\n",
       "    <tr>\n",
       "      <th>497</th>\n",
       "      <td>2020-01-31 08:54:51</td>\n",
       "      <td>n</td>\n",
       "      <td>NaN</td>\n",
       "    </tr>\n",
       "    <tr>\n",
       "      <th>498</th>\n",
       "      <td>2020-01-21 19:35:03</td>\n",
       "      <td>n</td>\n",
       "      <td>NaN</td>\n",
       "    </tr>\n",
       "    <tr>\n",
       "      <th>499</th>\n",
       "      <td>2020-01-31 09:48:43</td>\n",
       "      <td>n</td>\n",
       "      <td>NaN</td>\n",
       "    </tr>\n",
       "  </tbody>\n",
       "</table>\n",
       "<p>500 rows × 3 columns</p>\n",
       "</div>"
      ],
      "text/plain": [
       "               timestamp purchase                       item\n",
       "0    2020-01-17 17:23:06        y  cue cards - love actually\n",
       "1    2020-01-25 17:09:39        n                        NaN\n",
       "2    2020-01-25 05:22:01        n                        NaN\n",
       "3    2020-01-18 04:33:40        y      t-rex - jurassic park\n",
       "4    2020-01-24 17:24:52        n                        NaN\n",
       "..                   ...      ...                        ...\n",
       "495  2020-01-16 08:40:02        n                        NaN\n",
       "496  2020-01-09 21:11:19        n                        NaN\n",
       "497  2020-01-31 08:54:51        n                        NaN\n",
       "498  2020-01-21 19:35:03        n                        NaN\n",
       "499  2020-01-31 09:48:43        n                        NaN\n",
       "\n",
       "[500 rows x 3 columns]"
      ]
     },
     "execution_count": 3,
     "metadata": {},
     "output_type": "execute_result"
    }
   ],
   "source": [
    "monthly_report"
   ]
  },
  {
   "cell_type": "markdown",
   "metadata": {},
   "source": [
    "## 2. Summarizing the Sample"
   ]
  },
  {
   "cell_type": "code",
   "execution_count": 4,
   "metadata": {},
   "outputs": [],
   "source": [
    "monthly_report = pd.read_csv('monthly_report.csv')"
   ]
  },
  {
   "cell_type": "markdown",
   "metadata": {},
   "source": [
    "- Each row of the dataset `monthly_report` represents a single visitor to Live-it-LIVE.com during the month in question. \n",
    "- Use `.head()` to print the first five rows of the data once again and inspect the `'purchase'` column. \n",
    "- What are the values and how can you tell whether someone made a purchase?"
   ]
  },
  {
   "cell_type": "code",
   "execution_count": 5,
   "metadata": {},
   "outputs": [
    {
     "data": {
      "text/html": [
       "<div>\n",
       "<style scoped>\n",
       "    .dataframe tbody tr th:only-of-type {\n",
       "        vertical-align: middle;\n",
       "    }\n",
       "\n",
       "    .dataframe tbody tr th {\n",
       "        vertical-align: top;\n",
       "    }\n",
       "\n",
       "    .dataframe thead th {\n",
       "        text-align: right;\n",
       "    }\n",
       "</style>\n",
       "<table border=\"1\" class=\"dataframe\">\n",
       "  <thead>\n",
       "    <tr style=\"text-align: right;\">\n",
       "      <th></th>\n",
       "      <th>timestamp</th>\n",
       "      <th>purchase</th>\n",
       "      <th>item</th>\n",
       "    </tr>\n",
       "  </thead>\n",
       "  <tbody>\n",
       "    <tr>\n",
       "      <th>0</th>\n",
       "      <td>2020-01-17 17:23:06</td>\n",
       "      <td>y</td>\n",
       "      <td>cue cards - love actually</td>\n",
       "    </tr>\n",
       "    <tr>\n",
       "      <th>1</th>\n",
       "      <td>2020-01-25 17:09:39</td>\n",
       "      <td>n</td>\n",
       "      <td>NaN</td>\n",
       "    </tr>\n",
       "    <tr>\n",
       "      <th>2</th>\n",
       "      <td>2020-01-25 05:22:01</td>\n",
       "      <td>n</td>\n",
       "      <td>NaN</td>\n",
       "    </tr>\n",
       "    <tr>\n",
       "      <th>3</th>\n",
       "      <td>2020-01-18 04:33:40</td>\n",
       "      <td>y</td>\n",
       "      <td>t-rex - jurassic park</td>\n",
       "    </tr>\n",
       "    <tr>\n",
       "      <th>4</th>\n",
       "      <td>2020-01-24 17:24:52</td>\n",
       "      <td>n</td>\n",
       "      <td>NaN</td>\n",
       "    </tr>\n",
       "  </tbody>\n",
       "</table>\n",
       "</div>"
      ],
      "text/plain": [
       "             timestamp purchase                       item\n",
       "0  2020-01-17 17:23:06        y  cue cards - love actually\n",
       "1  2020-01-25 17:09:39        n                        NaN\n",
       "2  2020-01-25 05:22:01        n                        NaN\n",
       "3  2020-01-18 04:33:40        y      t-rex - jurassic park\n",
       "4  2020-01-24 17:24:52        n                        NaN"
      ]
     },
     "execution_count": 5,
     "metadata": {},
     "output_type": "execute_result"
    }
   ],
   "source": [
    "monthly_report.head()\n",
    "\n",
    "# The `purchase` column contains `y` and `n` values.\n",
    "# If the value is `y`, then the visitor made a purchase. \n",
    "# If the value is `n`, then the visitor did not make a purchase."
   ]
  },
  {
   "cell_type": "markdown",
   "metadata": {},
   "source": [
    "- Calculate the sample size and assign it to a variable named `sample_size`. \n",
    "- Print `sample_size`. \n",
    "- How many visitors accessed the website this month?"
   ]
  },
  {
   "cell_type": "code",
   "execution_count": 6,
   "metadata": {},
   "outputs": [
    {
     "data": {
      "text/plain": [
       "500"
      ]
     },
     "execution_count": 6,
     "metadata": {},
     "output_type": "execute_result"
    }
   ],
   "source": [
    "sample_size = len(monthly_report)\n",
    "sample_size"
   ]
  },
  {
   "cell_type": "markdown",
   "metadata": {},
   "source": [
    "- Calculate the number of visitors who made a purchase this month and save it to a variable named `num_purchased`. \n",
    "- Print `num_purchased`. How many visitors made a purchase this month?"
   ]
  },
  {
   "cell_type": "code",
   "execution_count": 7,
   "metadata": {},
   "outputs": [
    {
     "data": {
      "text/plain": [
       "np.int64(41)"
      ]
     },
     "execution_count": 7,
     "metadata": {},
     "output_type": "execute_result"
    }
   ],
   "source": [
    "num_purchased = np.sum(monthly_report.purchase == 'y')\n",
    "num_purchased"
   ]
  },
  {
   "cell_type": "markdown",
   "metadata": {},
   "source": [
    "## 3. Simulating Randomness"
   ]
  },
  {
   "cell_type": "code",
   "execution_count": 8,
   "metadata": {},
   "outputs": [],
   "source": [
    "monthly_report = pd.read_csv('monthly_report.csv')"
   ]
  },
  {
   "cell_type": "markdown",
   "metadata": {},
   "source": [
    "- Use the `random.choice()` function from NumPy to simulate a single visitor to Live-it-LIVE.com, who has a 10% chance of making a purchase (p=0.1). \n",
    "- Save the outcome as a variable named `one_visitor` and print it. \n",
    "- If the visitor made a purchase, the value of `one_visitor` should be `['y']`; if they did not make a purchase, it should be `['n']` (just like in the original data!).\n",
    "- Did that one simulated visitor make a purchase?"
   ]
  },
  {
   "cell_type": "code",
   "execution_count": 9,
   "metadata": {},
   "outputs": [
    {
     "data": {
      "text/plain": [
       "array(['n'], dtype='<U1')"
      ]
     },
     "execution_count": 9,
     "metadata": {},
     "output_type": "execute_result"
    }
   ],
   "source": [
    "one_visitor = np.random.choice(['y', 'n'], size=1, p=[0.1, 0.9])\n",
    "one_visitor"
   ]
  },
  {
   "cell_type": "markdown",
   "metadata": {},
   "source": [
    "- Now, create a new list named `simulated_monthly_visitors`, which contains the randomly-generated outcomes for 500 visitors to Live-it-LIVE.com (still with a 10% chance of a purchase). \n",
    "- Print simulated_monthly_visitors out. \n",
    "- Do you see any visitors in this list who made a purchase?"
   ]
  },
  {
   "cell_type": "code",
   "execution_count": 10,
   "metadata": {},
   "outputs": [
    {
     "data": {
      "text/plain": [
       "array(['n', 'n', 'n', 'n', 'n', 'n', 'n', 'n', 'n', 'n', 'n', 'y', 'n',\n",
       "       'n', 'n', 'n', 'n', 'y', 'n', 'n', 'n', 'n', 'n', 'y', 'n', 'n',\n",
       "       'n', 'n', 'n', 'n', 'n', 'n', 'n', 'n', 'n', 'y', 'n', 'n', 'n',\n",
       "       'n', 'n', 'n', 'n', 'n', 'n', 'n', 'n', 'n', 'n', 'y', 'n', 'n',\n",
       "       'n', 'n', 'n', 'n', 'n', 'n', 'n', 'n', 'n', 'n', 'n', 'n', 'n',\n",
       "       'n', 'y', 'n', 'y', 'n', 'n', 'n', 'y', 'n', 'y', 'y', 'n', 'n',\n",
       "       'n', 'n', 'n', 'n', 'n', 'n', 'n', 'n', 'n', 'n', 'n', 'n', 'n',\n",
       "       'n', 'n', 'y', 'n', 'y', 'n', 'n', 'n', 'n', 'n', 'n', 'n', 'n',\n",
       "       'n', 'n', 'n', 'n', 'n', 'n', 'n', 'n', 'n', 'n', 'n', 'n', 'n',\n",
       "       'n', 'n', 'y', 'n', 'n', 'y', 'n', 'n', 'y', 'n', 'n', 'n', 'y',\n",
       "       'n', 'n', 'n', 'n', 'n', 'n', 'n', 'n', 'y', 'n', 'n', 'y', 'n',\n",
       "       'n', 'n', 'n', 'y', 'n', 'n', 'n', 'n', 'n', 'n', 'n', 'n', 'n',\n",
       "       'n', 'n', 'n', 'n', 'n', 'n', 'y', 'n', 'n', 'n', 'n', 'n', 'n',\n",
       "       'n', 'n', 'n', 'n', 'n', 'n', 'y', 'y', 'n', 'n', 'n', 'n', 'n',\n",
       "       'n', 'n', 'n', 'n', 'n', 'n', 'y', 'n', 'n', 'n', 'n', 'y', 'n',\n",
       "       'y', 'n', 'y', 'n', 'n', 'n', 'n', 'n', 'n', 'n', 'n', 'n', 'n',\n",
       "       'n', 'n', 'n', 'n', 'n', 'n', 'n', 'n', 'y', 'n', 'n', 'n', 'n',\n",
       "       'n', 'n', 'n', 'n', 'n', 'n', 'n', 'y', 'n', 'n', 'n', 'y', 'n',\n",
       "       'y', 'n', 'n', 'n', 'n', 'n', 'n', 'n', 'n', 'n', 'n', 'n', 'n',\n",
       "       'y', 'n', 'n', 'n', 'n', 'n', 'n', 'n', 'n', 'y', 'n', 'n', 'n',\n",
       "       'n', 'n', 'n', 'n', 'n', 'n', 'n', 'n', 'n', 'y', 'n', 'n', 'n',\n",
       "       'n', 'n', 'n', 'n', 'n', 'n', 'n', 'n', 'n', 'n', 'n', 'n', 'n',\n",
       "       'n', 'n', 'n', 'n', 'n', 'n', 'n', 'n', 'n', 'y', 'n', 'n', 'n',\n",
       "       'n', 'n', 'n', 'n', 'n', 'n', 'y', 'n', 'n', 'n', 'n', 'n', 'n',\n",
       "       'n', 'n', 'n', 'n', 'n', 'n', 'n', 'n', 'n', 'n', 'n', 'n', 'n',\n",
       "       'n', 'n', 'n', 'n', 'n', 'n', 'n', 'n', 'n', 'n', 'n', 'n', 'y',\n",
       "       'n', 'n', 'n', 'n', 'n', 'n', 'y', 'n', 'n', 'n', 'n', 'n', 'y',\n",
       "       'n', 'y', 'n', 'n', 'n', 'y', 'n', 'n', 'y', 'n', 'n', 'n', 'n',\n",
       "       'n', 'n', 'n', 'n', 'n', 'n', 'n', 'n', 'n', 'n', 'n', 'n', 'n',\n",
       "       'n', 'n', 'y', 'n', 'n', 'n', 'y', 'n', 'y', 'n', 'n', 'n', 'n',\n",
       "       'n', 'n', 'n', 'n', 'n', 'n', 'n', 'n', 'n', 'n', 'n', 'n', 'n',\n",
       "       'n', 'n', 'n', 'n', 'n', 'n', 'n', 'n', 'n', 'n', 'n', 'n', 'n',\n",
       "       'n', 'n', 'n', 'n', 'n', 'n', 'n', 'n', 'n', 'n', 'n', 'n', 'n',\n",
       "       'n', 'n', 'n', 'n', 'n', 'n', 'n', 'n', 'n', 'n', 'n', 'n', 'n',\n",
       "       'n', 'n', 'n', 'n', 'n', 'n', 'n', 'n', 'y', 'n', 'n', 'y', 'n',\n",
       "       'n', 'n', 'n', 'n', 'n', 'n', 'y', 'n', 'n', 'n', 'n', 'n', 'n',\n",
       "       'n', 'y', 'y', 'n', 'y', 'y', 'n', 'n', 'n', 'n', 'n', 'n', 'n',\n",
       "       'n', 'n', 'n', 'n', 'n', 'n', 'y', 'y', 'n', 'n', 'n', 'n', 'n',\n",
       "       'n', 'n', 'n', 'n', 'n', 'n'], dtype='<U1')"
      ]
     },
     "execution_count": 10,
     "metadata": {},
     "output_type": "execute_result"
    }
   ],
   "source": [
    "simulated_monthly_visitors = np.random.choice(['y', 'n'], size=500, p=[0.1, 0.9])\n",
    "simulated_monthly_visitors "
   ]
  },
  {
   "cell_type": "markdown",
   "metadata": {},
   "source": [
    "## 4. Simulating the Null Distribution I"
   ]
  },
  {
   "cell_type": "code",
   "execution_count": 11,
   "metadata": {},
   "outputs": [],
   "source": [
    "monthly_report = pd.read_csv('monthly_report.csv')\n",
    "simulated_monthly_visitors = np.random.choice(['y', 'n'], size=500, p=[0.1, 0.9])"
   ]
  },
  {
   "cell_type": "markdown",
   "metadata": {},
   "source": [
    "- You’ll see the code we used in the previous exercise to generate `simulated_monthly_visitors`, a list of 500 simulated outcomes, `'y'` (with probability 0.1) or `'n'`, indicating whether each imaginary site visitor made a purchase.\n",
    "- Add a line of code to calculate the number of those simulated visitors who made a purchase. Save the result as `num_purchased` and print it out."
   ]
  },
  {
   "cell_type": "code",
   "execution_count": 12,
   "metadata": {},
   "outputs": [
    {
     "data": {
      "text/plain": [
       "np.int64(53)"
      ]
     },
     "execution_count": 12,
     "metadata": {},
     "output_type": "execute_result"
    }
   ],
   "source": [
    "num_purchased = np.sum(simulated_monthly_visitors == 'y')\n",
    "num_purchased"
   ]
  },
  {
   "cell_type": "markdown",
   "metadata": {},
   "source": [
    "- Inspect the value of `num_purchased` from the previous instruction. \n",
    "- Is it close to 50 (which is what we would expect for a purchase probability of 10%)? \n",
    "- Less than? Greater than? Now try a few more times and see what other values of `num_purchased` you observe. \n",
    "- What’s the farthest number from 50 that you observe after pressing 5 times?"
   ]
  },
  {
   "cell_type": "code",
   "execution_count": 13,
   "metadata": {},
   "outputs": [
    {
     "data": {
      "text/plain": [
       "[np.int64(54), np.int64(58), np.int64(36), np.int64(46), np.int64(50)]"
      ]
     },
     "execution_count": 13,
     "metadata": {},
     "output_type": "execute_result"
    }
   ],
   "source": [
    "def simulate_monthly_visitors(size=1, loop=1):\n",
    "    l = []\n",
    "    for _ in range(loop):\n",
    "        sim_vis = np.random.choice(['y', 'n'], size=size, p=[0.1, 0.9])\n",
    "        num_purch = np.sum(sim_vis == 'y')\n",
    "        l.append(num_purch)\n",
    "    return l\n",
    "\n",
    "\n",
    "simulate_monthly_visitors(500, 5)"
   ]
  },
  {
   "cell_type": "markdown",
   "metadata": {},
   "source": [
    "## 5. Simulating the Null Distribution II"
   ]
  },
  {
   "cell_type": "code",
   "execution_count": 14,
   "metadata": {},
   "outputs": [],
   "source": [
    "null_outcomes = []"
   ]
  },
  {
   "cell_type": "markdown",
   "metadata": {},
   "source": [
    "- Now let’s ask the same question with regards to purchases: \n",
    "    - If we run an experiment where we simulate a sample of 500 visitors, each with a 10% chance of making a purchase, and record the number of purchases for that imaginary sample — then repeat that experiment a bunch of times — what are the minimum and maximum number of purchases that we’ll observe by random chance?\n",
    "- Use a for-loop to repeat this process 10000 times. \n",
    "- Each time, append the number of simulated visitors who made a purchase to the list `null_outcomes`."
   ]
  },
  {
   "cell_type": "code",
   "execution_count": 15,
   "metadata": {},
   "outputs": [],
   "source": [
    "for i in range(10000):\n",
    "    simulated_monthly_visitors = np.random.choice(['y', 'n'], size=500, p=[0.1, 0.9])\n",
    "    num_purchased = np.sum(simulated_monthly_visitors == 'y')\n",
    "    null_outcomes.append(num_purchased)"
   ]
  },
  {
   "cell_type": "markdown",
   "metadata": {},
   "source": [
    "- Outside of your loop, save the minimum and maximum values in null_outcomes as `null_min` and `null_max` respectively, then print them out. \n",
    "- How much does the number of purchases seem to be varying by random chance?"
   ]
  },
  {
   "cell_type": "code",
   "execution_count": 16,
   "metadata": {},
   "outputs": [
    {
     "data": {
      "text/plain": [
       "(np.int64(27), np.int64(78))"
      ]
     },
     "execution_count": 16,
     "metadata": {},
     "output_type": "execute_result"
    }
   ],
   "source": [
    "null_min = np.min(null_outcomes)\n",
    "null_max = np.max(null_outcomes)\n",
    "\n",
    "null_min, null_max"
   ]
  },
  {
   "cell_type": "markdown",
   "metadata": {},
   "source": [
    "## 6. Inspecting the Null Distribution"
   ]
  },
  {
   "cell_type": "code",
   "execution_count": 17,
   "metadata": {},
   "outputs": [],
   "source": [
    "null_outcomes = []\n",
    "\n",
    "for i in range(10000):\n",
    "    simulated_monthly_visitors = np.random.choice(['y', 'n'], size=500, p=[0.1, 0.9])\n",
    "    num_purchased = np.sum(simulated_monthly_visitors == 'y')\n",
    "    null_outcomes.append(num_purchased)"
   ]
  },
  {
   "cell_type": "markdown",
   "metadata": {},
   "source": [
    "- The list `null_outcomes` contains numbers of purchases simulated under the null hypothesis.\n",
    "- Add code to plot a histogram of `null_outcomes` and inspect the plot. \n",
    "- What range of values occurs most frequently?"
   ]
  },
  {
   "cell_type": "code",
   "execution_count": 18,
   "metadata": {},
   "outputs": [
    {
     "data": {
      "image/png": "[encoded data removed]",
      "text/plain": [
       "<Figure size 640x480 with 1 Axes>"
      ]
     },
     "metadata": {},
     "output_type": "display_data"
    }
   ],
   "source": [
    "plt.hist(null_outcomes)\n",
    "plt.show()"
   ]
  },
  {
   "cell_type": "markdown",
   "metadata": {},
   "source": [
    "- In the month we’re investigating, we calculated that there were 41 purchases. \n",
    "- Add a vertical line to your histogram at 41. \n",
    "- Make this line red using `color = 'r'` so that you can see it.\n",
    "- Where does 41 fall in this distribution? Is it relatively likely or unlikely?"
   ]
  },
  {
   "cell_type": "code",
   "execution_count": 19,
   "metadata": {},
   "outputs": [
    {
     "data": {
      "image/png": "[encoded data removed]",
      "text/plain": [
       "<Figure size 640x480 with 1 Axes>"
      ]
     },
     "metadata": {},
     "output_type": "display_data"
    }
   ],
   "source": [
    "plt.hist(null_outcomes)\n",
    "plt.axvline(x=41, color='red')\n",
    "plt.show()"
   ]
  },
  {
   "cell_type": "markdown",
   "metadata": {},
   "source": [
    "- 41 purchases is somewhat likely to occur based on this null distribution. \n",
    "- It’s not in the middle of the distribution, where there’s the most density, but it’s also not way out in the tails (which would mean it is very unlikely)."
   ]
  },
  {
   "cell_type": "markdown",
   "metadata": {},
   "source": [
    "## 7. Confidence Intervals"
   ]
  },
  {
   "cell_type": "code",
   "execution_count": 20,
   "metadata": {},
   "outputs": [],
   "source": [
    "null_outcomes = []\n",
    "\n",
    "for i in range(10000):\n",
    "    simulated_monthly_visitors = np.random.choice(['y', 'n'], size=500, p=[0.1, 0.9])\n",
    "    num_purchased = np.sum(simulated_monthly_visitors == 'y')\n",
    "    null_outcomes.append(num_purchased)"
   ]
  },
  {
   "cell_type": "markdown",
   "metadata": {},
   "source": [
    "- The code to generate `null_outcomes` has been provided for you. \n",
    "- Calculate an interval covering the middle 90% of the values in `null_outcomes`. \n",
    "- Save the output in a variable named `null_90CI` and print it out. \n",
    "- Is the observed value of 41 purchases inside or outside this interval?"
   ]
  },
  {
   "cell_type": "code",
   "execution_count": 21,
   "metadata": {},
   "outputs": [
    {
     "data": {
      "text/plain": [
       "array([39., 61.])"
      ]
     },
     "execution_count": 21,
     "metadata": {},
     "output_type": "execute_result"
    }
   ],
   "source": [
    "null_90CI = np.percentile(null_outcomes, [5, 95])\n",
    "null_90CI"
   ]
  },
  {
   "cell_type": "markdown",
   "metadata": {},
   "source": [
    "- Yes, the observed value of 41 purchases is inside the 90% confidence interval."
   ]
  },
  {
   "cell_type": "markdown",
   "metadata": {},
   "source": [
    "## 8. Calculating a One-Sided P-Value"
   ]
  },
  {
   "cell_type": "markdown",
   "metadata": {},
   "source": [
    "### Using a Fair Coin"
   ]
  },
  {
   "cell_type": "code",
   "execution_count": 22,
   "metadata": {},
   "outputs": [
    {
     "data": {
      "text/plain": [
       "np.float64(0.0547)"
      ]
     },
     "execution_count": 22,
     "metadata": {},
     "output_type": "execute_result"
    }
   ],
   "source": [
    "outcomes_heads = [] # Will store the number of heads from each simulation\n",
    "for _ in range(10000):\n",
    "    # Simulate 10 coin flips\n",
    "    outcome = np.random.choice(['head', 'tail'], size=10, p=[0.5, 0.5])\n",
    "    # Count the number of heads\n",
    "    outcome_heads = np.sum(outcome == 'head')\n",
    "    # Append the number of heads to outcomes_heads\n",
    "    outcomes_heads.append(outcome_heads)\n",
    "\n",
    "# Calculate the p-value\n",
    "# Calculate the probability of observing 2 or fewer heads\n",
    "p_value = np.sum(np.array(outcomes_heads) <= 2)/len(outcomes_heads)\n",
    "p_value"
   ]
  },
  {
   "cell_type": "code",
   "execution_count": 23,
   "metadata": {},
   "outputs": [
    {
     "data": {
      "image/png": "[encoded data removed]",
      "text/plain": [
       "<Figure size 640x480 with 1 Axes>"
      ]
     },
     "metadata": {},
     "output_type": "display_data"
    }
   ],
   "source": [
    "n, bins, patches = plt.hist(outcomes_heads, bins=range(12), edgecolor='white', align='left')\n",
    "\n",
    "for i, patch in enumerate(patches):\n",
    "    if i in [0, 1, 2]:  # Bars 0, 1, 2\n",
    "        patch.set_facecolor('#FF0000')\n",
    "\n",
    "plt.xticks(range(11)) \n",
    "plt.xlabel('Number of heads')\n",
    "plt.ylabel('Frequency')\n",
    "plt.title('Distribution of heads in 10 coin flips in 10,000 simulations')\n",
    "for i in range(len(n)):\n",
    "    plt.text(bins[i]-0.4, n[i]+20, str(int(n[i])))\n",
    "plt.show()"
   ]
  },
  {
   "cell_type": "markdown",
   "metadata": {},
   "source": [
    "### Using the Example above"
   ]
  },
  {
   "cell_type": "code",
   "execution_count": 24,
   "metadata": {},
   "outputs": [],
   "source": [
    "null_outcomes = []\n",
    "\n",
    "for i in range(10000):\n",
    "    simulated_monthly_visitors = np.random.choice(['y', 'n'], size=500, p=[0.1, 0.9])\n",
    "    num_purchased = np.sum(simulated_monthly_visitors == 'y')\n",
    "    null_outcomes.append(num_purchased)"
   ]
  },
  {
   "cell_type": "markdown",
   "metadata": {},
   "source": [
    "- Use `null_outcomes` to estimate the p-value for a binomial hypothesis test with the following null and alternative hypotheses:\n",
    "    - **Null**: the probability of a purchase was 10%\n",
    "    - **Alternative**: the probability of a purchase rate was LESS THAN 10%\n",
    "- In other words, calculate the proportion of values in `null_outcomes` that are less than or equal to 41 (the observed number of purchases that we calculated earlier). \n",
    "- Save this number as a variable named `p_value` and print it out.\n",
    "- Try a few times; You should see slightly different values of `p_value` each time. \n",
    "- What do you think the true probability is?"
   ]
  },
  {
   "cell_type": "code",
   "execution_count": 25,
   "metadata": {},
   "outputs": [
    {
     "data": {
      "text/plain": [
       "np.float64(0.0982)"
      ]
     },
     "execution_count": 25,
     "metadata": {},
     "output_type": "execute_result"
    }
   ],
   "source": [
    "p_value = np.sum(np.array(null_outcomes) <= 41)/len(null_outcomes)\n",
    "p_value"
   ]
  },
  {
   "cell_type": "markdown",
   "metadata": {},
   "source": [
    "## 9. Calculating a Two-Sided P-Value"
   ]
  },
  {
   "cell_type": "markdown",
   "metadata": {},
   "source": [
    "### Using a Fair Coin"
   ]
  },
  {
   "cell_type": "code",
   "execution_count": 26,
   "metadata": {},
   "outputs": [
    {
     "data": {
      "text/plain": [
       "np.float64(0.1065)"
      ]
     },
     "execution_count": 26,
     "metadata": {},
     "output_type": "execute_result"
    }
   ],
   "source": [
    "outcomes_heads = [] # Will store the number of heads from each simulation\n",
    "for _ in range(10000):\n",
    "    # Simulate 10 coin flips\n",
    "    outcome = np.random.choice(['head', 'tail'], size=10, p=[0.5, 0.5])\n",
    "    # Count the number of heads\n",
    "    outcome_heads = np.sum(outcome == 'head')\n",
    "    # Append the number of heads to outcomes_heads\n",
    "    outcomes_heads.append(outcome_heads)\n",
    "\n",
    "# Calculate the p-value\n",
    "# Calculate the probability of observing 2 or fewer heads or 8 or more heads\n",
    "p_value = np.sum((np.array(outcomes_heads) <= 2) | (np.array(outcomes_heads) >= 8))/len(outcomes_heads)\n",
    "p_value"
   ]
  },
  {
   "cell_type": "code",
   "execution_count": 27,
   "metadata": {},
   "outputs": [
    {
     "data": {
      "image/png": "[encoded data removed]",
      "text/plain": [
       "<Figure size 640x480 with 1 Axes>"
      ]
     },
     "metadata": {},
     "output_type": "display_data"
    }
   ],
   "source": [
    "n, bins, patches = plt.hist(outcomes_heads, bins=range(12), edgecolor='white', align='left')\n",
    "\n",
    "for i, patch in enumerate(patches):\n",
    "    if i in [0, 1, 2, 8, 9, 10]:  # Bars 0, 1, 2, 8, 9, 10\n",
    "        patch.set_facecolor('#FF0000')\n",
    "\n",
    "plt.xticks(range(11)) \n",
    "plt.xlabel('Number of heads')\n",
    "plt.ylabel('Frequency')\n",
    "plt.title('Distribution of heads in 10 coin flips in 10,000 simulations')\n",
    "for i in range(len(n)):\n",
    "    plt.text(bins[i]-0.4, n[i]+20, str(int(n[i])))\n",
    "plt.show()"
   ]
  },
  {
   "cell_type": "markdown",
   "metadata": {},
   "source": [
    "### Using the Example above"
   ]
  },
  {
   "cell_type": "code",
   "execution_count": 28,
   "metadata": {},
   "outputs": [],
   "source": [
    "null_outcomes = []\n",
    "\n",
    "for i in range(10000):\n",
    "    simulated_monthly_visitors = np.random.choice(['y', 'n'], size=500, p=[0.1, 0.9])\n",
    "    num_purchased = np.sum(simulated_monthly_visitors == 'y')\n",
    "    null_outcomes.append(num_purchased)"
   ]
  },
  {
   "cell_type": "markdown",
   "metadata": {},
   "source": [
    "- Use `null_outcomes` to calculate the p-value for a two-sided test (alternative hypothesis is that the purchase probability was DIFFERENT FROM 10%). \n",
    "- Remember that, if the purchase rate is 10%, we expect 50 of the 500 visitors to make a purchase.\n",
    "- In other words, calculate the proportion of values in `null_outcomes` that are less than or equal to 41 (the number of purchases we observed in our sample, which is 9 fewer than 50) OR greater than or equal to 59 (which is 9 purchases more than 50).\n",
    "-  Save this number as a variable named `p_value` and print it out.\n",
    "- Again, try a few times to observe a few different estimates of `p_value`. \n",
    "- What do you think the true p-value is for this test?"
   ]
  },
  {
   "cell_type": "code",
   "execution_count": 29,
   "metadata": {},
   "outputs": [
    {
     "data": {
      "text/plain": [
       "np.float64(0.1965)"
      ]
     },
     "execution_count": 29,
     "metadata": {},
     "output_type": "execute_result"
    }
   ],
   "source": [
    "p_value = np.sum((np.array(null_outcomes) <= 41) | (np.array(null_outcomes) >= 59))/len(null_outcomes)\n",
    "p_value"
   ]
  },
  {
   "cell_type": "markdown",
   "metadata": {},
   "source": [
    "## 10. Writing a Binomial Test Function"
   ]
  },
  {
   "cell_type": "markdown",
   "metadata": {},
   "source": [
    "- So far, we’ve conducted a simulated binomial hypothesis test for Live-it-LIVE.com. \n",
    "- In this exercise, we’ll use our code from the previous exercises to write our own binomial test function. \n",
    "- Our function will use simulation, so it will estimate (albeit fairly accurately) the same p-values we would get using much more complex mathematical equations.\n",
    "\n",
    "<br>\n",
    "\n",
    "- A function has been outlined for you which contains the code that we used for Live_it_LIVE inside a function named `simulation_binomial_test()`. \n",
    "- Your goal in the next few exercises will be to edit this function so that it takes in any values for the following:\n",
    "    - The observed sample statistic (eg., 41 purchases)\n",
    "    - The sample size (eg., 500 visitors)\n",
    "    - The null probability of success (eg., 0.10 probability of a purchase)\n",
    "- The function should return a p-value for a one-sided test where the alternative hypothesis is that the true probability of success is LESS THAN the null."
   ]
  },
  {
   "cell_type": "markdown",
   "metadata": {},
   "source": [
    "**Tasks:**\n",
    "\n",
    "- The `simulation_binomial_test()` function has been outlined for you in script.py. \n",
    "- Add the following parameters to the function (in this order):\n",
    "    - `observed_successes` (the observed sample statistic, eg., 41 purchases)\n",
    "    - `n` (the sample size, eg., 500 visitors)\n",
    "    - `p` (the null probability of success, eg., 0.10)"
   ]
  },
  {
   "cell_type": "markdown",
   "metadata": {},
   "source": [
    "- Next, edit the `simulation_binomial_test()` function to remove all of the hard-coded values (eg., 500, 0.1, 0.9, and 41) so that the proper parameters are used in each calculation."
   ]
  },
  {
   "cell_type": "code",
   "execution_count": 32,
   "metadata": {},
   "outputs": [],
   "source": [
    "def simulation_binomial_test(observed_successes, n, p):\n",
    "    #initialize null_outcomes\n",
    "    null_outcomes = []\n",
    "    \n",
    "    #generate the simulated null distribution\n",
    "    for i in range(10000):\n",
    "        simulated_monthly_visitors = np.random.choice(['y', 'n'], size=n, p=[p, 1-p])\n",
    "        num_purchased = np.sum(simulated_monthly_visitors == 'y')\n",
    "        null_outcomes.append(num_purchased)\n",
    "    \n",
    "    #calculate a 1-sided p-value\n",
    "    null_outcomes = np.array(null_outcomes)\n",
    "    p_value = np.sum(null_outcomes <= observed_successes)/len(null_outcomes) \n",
    "    \n",
    "    #return the p-value\n",
    "    return p_value"
   ]
  },
  {
   "cell_type": "markdown",
   "metadata": {},
   "source": [
    "- Test out your function and compare the results to the SciPy `binomtest()` function. \n",
    "- Do you get similar answers?"
   ]
  },
  {
   "cell_type": "code",
   "execution_count": 33,
   "metadata": {},
   "outputs": [
    {
     "name": "stdout",
     "output_type": "stream",
     "text": [
      "simulation p-value:  0.2545\n"
     ]
    }
   ],
   "source": [
    "p_value1 = simulation_binomial_test(45, 500, .1)\n",
    "print(\"simulation p-value: \", p_value1)"
   ]
  },
  {
   "cell_type": "code",
   "execution_count": 38,
   "metadata": {},
   "outputs": [
    {
     "name": "stdout",
     "output_type": "stream",
     "text": [
      "binom_test p-value:  BinomTestResult(k=45, n=500, alternative='less', statistic=0.09, pvalue=0.254689260562342)\n"
     ]
    }
   ],
   "source": [
    "p_value2 = binomtest(45, 500, .1, alternative = 'less')\n",
    "print(\"binom_test p-value: \", p_value2)"
   ]
  },
  {
   "cell_type": "markdown",
   "metadata": {},
   "source": [
    "## 11. Binomial Testing with SciPy"
   ]
  },
  {
   "cell_type": "markdown",
   "metadata": {},
   "source": [
    "- Use the `binomtest` function to run the same binomial test that you just simulated: \n",
    "    - A two-sided test for whether the observed 41 purchases among 500 visitors to Live-it-LIVE.com is far enough from the expected 10% purchase rate to convince you that the purchase rate was different from expectation this week.\n",
    "- Save the p-value as `p_value_2sided` and print it out. \n",
    "- Is this p-value similar to what you calculated via simulation (approximately 0.2)?"
   ]
  },
  {
   "cell_type": "code",
   "execution_count": 40,
   "metadata": {},
   "outputs": [
    {
     "data": {
      "text/plain": [
       "np.float64(0.20456397700682577)"
      ]
     },
     "execution_count": 40,
     "metadata": {},
     "output_type": "execute_result"
    }
   ],
   "source": [
    "p_value_2sided = binomtest(41, 500, .1)\n",
    "p_value_2sided.pvalue"
   ]
  },
  {
   "cell_type": "markdown",
   "metadata": {},
   "source": [
    "- Run the same hypothesis test as in step 1, but now as a one-sided test where the alternative hypothesis is that the probability of a visitor making a purchase was less than 10% (0.1).\n",
    "- Save the p-value as `p_value_1sided` and print it out. \n",
    "- Is this p-value similar to what you calculated via simulation (approximately 0.1)?"
   ]
  },
  {
   "cell_type": "code",
   "execution_count": 41,
   "metadata": {},
   "outputs": [
    {
     "data": {
      "text/plain": [
       "np.float64(0.10011352697567102)"
      ]
     },
     "execution_count": 41,
     "metadata": {},
     "output_type": "execute_result"
    }
   ],
   "source": [
    "p_value_1sided = binomtest(41, 500, .1, alternative='less')\n",
    "p_value_1sided.pvalue"
   ]
  },
  {
   "cell_type": "markdown",
   "metadata": {},
   "source": [
    "## 12. Review"
   ]
  },
  {
   "cell_type": "markdown",
   "metadata": {},
   "source": [
    "-  To summarize, here are some of the things you’ve learned about hypothesis tests in general:\n",
    "    - All hypothesis tests start with a null and alternative hypothesis\n",
    "    - Outcomes of a hypothesis test that might be reported include:\n",
    "        - confidence intervals\n",
    "        - p-values\n",
    "    - A hypothesis test can be simulated by:\n",
    "        - taking repeated random samples where the null hypothesis is assumed to be true\n",
    "        - using those simulated samples to generate a null distribution\n",
    "        - comparing an observed sample statistic to that null distribution"
   ]
  },
  {
   "cell_type": "code",
   "execution_count": 42,
   "metadata": {},
   "outputs": [],
   "source": [
    "def simulation_binomial_test(observed_successes, n, p):\n",
    "    #initialize null_outcomes\n",
    "    null_outcomes = []\n",
    "    \n",
    "    #generate the simulated null distribution\n",
    "    for i in range(10000):\n",
    "        simulated_monthly_visitors = np.random.choice(['y', 'n'], size=n, p=[p, 1-p])\n",
    "        num_purchased = np.sum(simulated_monthly_visitors == 'y')\n",
    "        null_outcomes.append(num_purchased)\n",
    "    \n",
    "    #calculate a 1-sided p-value\n",
    "    null_outcomes = np.array(null_outcomes)\n",
    "    p_value = np.sum(null_outcomes <= observed_successes)/len(null_outcomes) \n",
    "    \n",
    "    #return the p-value\n",
    "    return p_value"
   ]
  },
  {
   "cell_type": "markdown",
   "metadata": {},
   "source": [
    "- As a challenge, see if you can re-write the simulation-based binomial test function so that it has an input named `alternative_hypothesis` that can be equal to '`less`', '`not_equal`', or '`greater`'. \n",
    "- Then change the function so that it performs the appropriate one- or two-sided test for the alternative hypothesis provided. "
   ]
  },
  {
   "cell_type": "code",
   "execution_count": 43,
   "metadata": {},
   "outputs": [],
   "source": [
    "def simulation_binomial_test(observed_successes, n, p, alternative_hypothesis):\n",
    "    #initialize null_outcomes\n",
    "    null_outcomes = []\n",
    "    \n",
    "    #generate the simulated null distribution\n",
    "    for i in range(10000):\n",
    "        simulated_monthly_visitors = np.random.choice(['y', 'n'], size=n, p=[p, 1-p])\n",
    "        num_purchased = np.sum(simulated_monthly_visitors == 'y')\n",
    "        null_outcomes.append(num_purchased)\n",
    "    \n",
    "    null_outcomes = np.array(null_outcomes)\n",
    "\n",
    "    #calculate a 1-sided p-value\n",
    "    if alternative_hypothesis == 'less':\n",
    "        p_value = np.sum(null_outcomes <= observed_successes)/len(null_outcomes) \n",
    "    elif alternative_hypothesis == 'greater':\n",
    "        p_value = np.sum(null_outcomes >= observed_successes)/len(null_outcomes)\n",
    "    else:\n",
    "        diff = np.abs(p*n - observed_successes)\n",
    "        lower = p*n - diff\n",
    "        upper = p*n + diff\n",
    "        p_value = np.sum((null_outcomes <= lower) | (null_outcomes >= upper))/len(null_outcomes)\n",
    "\n",
    "    \n",
    "    #return the p-value\n",
    "    return p_value"
   ]
  },
  {
   "cell_type": "code",
   "execution_count": 51,
   "metadata": {},
   "outputs": [
    {
     "name": "stdout",
     "output_type": "stream",
     "text": [
      "lower tail one-sided test:\n",
      "simulation p-value:  0.249\n",
      "binom_test p-value:  0.254689260562342\n",
      "\n",
      "upper tail one-sided test:\n",
      "simulation p-value:  0.3519\n",
      "binom_test p-value:  0.34838119949983054\n",
      "\n",
      "two-sided test:\n",
      "simulation p-value:  0.2669\n",
      "binom_test p-value:  0.2631383468731764\n"
     ]
    }
   ],
   "source": [
    "print('lower tail one-sided test:')\n",
    "p_value1 = simulation_binomial_test(45, 500, .1, alternative_hypothesis = 'less')\n",
    "print(\"simulation p-value: \", p_value1)\n",
    "p_value2 = binomtest(45, 500, .1, alternative = 'less')\n",
    "print(\"binom_test p-value: \", p_value2.pvalue)\n",
    "\n",
    "print('\\nupper tail one-sided test:')\n",
    "p_value1 = simulation_binomial_test(53, 500, .1, alternative_hypothesis = 'greater')\n",
    "print(\"simulation p-value: \", p_value1)\n",
    "p_value2 = binomtest(53, 500, .1, alternative = 'greater')\n",
    "print(\"binom_test p-value: \", p_value2.pvalue)\n",
    "\n",
    "print('\\ntwo-sided test:')\n",
    "p_value1 = simulation_binomial_test(42, 500, .1, alternative_hypothesis = 'not_equal')\n",
    "print(\"simulation p-value: \", p_value1)\n",
    "p_value2 = binomtest(42, 500, .1)\n",
    "print(\"binom_test p-value: \", p_value2.pvalue)"
   ]
  }
 ],
 "metadata": {
  "kernelspec": {
   "display_name": "Codecademy-XphA9WxU",
   "language": "python",
   "name": "python3"
  },
  "language_info": {
   "codemirror_mode": {
    "name": "ipython",
    "version": 3
   },
   "file_extension": ".py",
   "mimetype": "text/x-python",
   "name": "python",
   "nbconvert_exporter": "python",
   "pygments_lexer": "ipython3",
   "version": "3.11.1"
  }
 },
 "nbformat": 4,
 "nbformat_minor": 2
}
