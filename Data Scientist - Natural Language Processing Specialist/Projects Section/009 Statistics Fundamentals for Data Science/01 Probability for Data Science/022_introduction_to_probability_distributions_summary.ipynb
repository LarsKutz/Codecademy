{
 "cells": [
  {
   "cell_type": "markdown",
   "metadata": {},
   "source": [
    "# Summary: Introduction to Probability Distributions\n",
    "\n",
    "A Summary about the used python libraries and functions in this section.\n",
    "\n",
    "See also [*PMF vs. CDF*](pmf%20and%20cdf.ipynb) for more comparison between PMF and CDF calculations.\n",
    "\n",
    "PMF is using with discrete random variables, while PDF is using with continuous random variables. CDF can be used with both."
   ]
  },
  {
   "cell_type": "code",
   "execution_count": 5,
   "metadata": {},
   "outputs": [],
   "source": [
    "import numpy as np\n",
    "import matplotlib.pyplot as plt\n",
    "from scipy import stats"
   ]
  },
  {
   "cell_type": "markdown",
   "metadata": {},
   "source": [
    "## Random Variables"
   ]
  },
  {
   "cell_type": "markdown",
   "metadata": {},
   "source": [
    "**Situation**: *Rolling a dice 2 times.*"
   ]
  },
  {
   "cell_type": "markdown",
   "metadata": {},
   "source": [
    "The `np.random.choice()` function is used to generate random variables. The function has the following parameters:\n",
    "- `a`: the array from which to generate the random variables\n",
    "- `size`: the number of time to draw from the array\n",
    "- `replace`: whether to replace the drawn value back into the array\n",
    "- `p`: the probability of drawing each value in the array"
   ]
  },
  {
   "cell_type": "code",
   "execution_count": 14,
   "metadata": {},
   "outputs": [
    {
     "data": {
      "text/plain": [
       "array([5, 4])"
      ]
     },
     "execution_count": 14,
     "metadata": {},
     "output_type": "execute_result"
    }
   ],
   "source": [
    "# create a list of numbers from 1 to 6, like a die\n",
    "die_6 = range(1, 7)\n",
    "\n",
    "# simulate rolling the die 2 times\n",
    "values = np.random.choice(a=die_6, size=2, replace=True)\n",
    "\n",
    "values  # [5, 4] -> means the first roll was 5 and the second roll was 4"
   ]
  },
  {
   "cell_type": "markdown",
   "metadata": {},
   "source": [
    "## Probability Mass Function (PMF)"
   ]
  },
  {
   "cell_type": "markdown",
   "metadata": {},
   "source": [
    "A probability *mass function (PMF)* is a type of probability distribution that defines the probability of observing a particular value of a discrete random variable.\n",
    "\n",
    "**Situation**: *Throwing a fair coin 10 times*"
   ]
  },
  {
   "cell_type": "markdown",
   "metadata": {},
   "source": [
    "The `stats.binom.pmf()` functions is used to calculate the probability of observing a particular value of a binomial distribution. The function has the following parameters:\n",
    "- `x`: the value for how many times the event occurs, like the number of heads\n",
    "- `n`: the number of trials\n",
    "- `p`: the probability of success\n",
    "\n",
    "This function is always the calculating for a specific value. If you choose `x=5` it will calculate the probability of exactly 5 heads.\n",
    "\n",
    "For a range of values you can use the CDF function or calculate the addition between more PMF values."
   ]
  },
  {
   "cell_type": "markdown",
   "metadata": {},
   "source": [
    "### Plotting Distribution"
   ]
  },
  {
   "cell_type": "code",
   "execution_count": 52,
   "metadata": {},
   "outputs": [
    {
     "name": "stdout",
     "output_type": "stream",
     "text": [
      "Sum of all probabilities: 0.9999999999999998\n"
     ]
    },
    {
     "data": {
      "image/png": "[encoded data removed]",
      "text/plain": [
       "<Figure size 640x480 with 1 Axes>"
      ]
     },
     "metadata": {},
     "output_type": "display_data"
    }
   ],
   "source": [
    "# Plotting bar chart \n",
    "throws = 10\n",
    "prob = 0.5\n",
    "\n",
    "probs = [stats.binom.pmf(i, throws, prob) for i in range(throws + 1)]   # sum of all values == 1\n",
    "print(f\"Sum of all probabilities: {sum(probs)}\")\n",
    "\n",
    "plt.bar(range(throws + 1), probs)\n",
    "plt.xlabel('Number of Heads')\n",
    "plt.ylabel('Probability')\n",
    "plt.title('Binomial Distribution')\n",
    "plt.show()"
   ]
  },
  {
   "cell_type": "markdown",
   "metadata": {},
   "source": [
    "### Using PMF for calculating of a specific value"
   ]
  },
  {
   "cell_type": "markdown",
   "metadata": {},
   "source": [
    "**Situation**: *I have a fair coin, 10 tries and want to know what is the probability of getting 5 heads.**\n",
    "\n",
    "5 Heads is given in different paths. We have paths like:\n",
    "- H H H H H T T T T T\n",
    "- H H H H T H T T T T\n",
    "- ...\n",
    "\n",
    "$$ P(X=5) = P(X=5) $$"
   ]
  },
  {
   "cell_type": "code",
   "execution_count": 20,
   "metadata": {},
   "outputs": [
    {
     "name": "stdout",
     "output_type": "stream",
     "text": [
      "Probability of getting 5 heads: 0.24609375\n"
     ]
    }
   ],
   "source": [
    "tries = 10\n",
    "prob_each_site = 0.5\n",
    "x = 5\n",
    "\n",
    "prob_for_5_heads = stats.binom.pmf(x, tries, prob_each_site)\n",
    "print(f\"Probability of getting 5 heads: {prob_for_5_heads}\")"
   ]
  },
  {
   "cell_type": "markdown",
   "metadata": {},
   "source": [
    "### Using PMF for calculating of a range of values"
   ]
  },
  {
   "cell_type": "markdown",
   "metadata": {},
   "source": [
    "**Situation**: *I have a fair coin, 10 tries and want to know what is the probability of getting 9 or fewer heads.*\n",
    "\n",
    "$$ P (X \\leq 9) = P(X=0) + P(X=1) + P(X=2) + ... + P(X=9) $$\n",
    "$$ or $$\n",
    "$$ P(X \\leq 9) = 1 - P(X=10) $$\n",
    "\n",
    "![Binomial Distribution](../../Informations/Images/Binomial-Distribution-PMF-Probability-over-a-Range.gif)"
   ]
  },
  {
   "cell_type": "code",
   "execution_count": 31,
   "metadata": {},
   "outputs": [
    {
     "name": "stdout",
     "output_type": "stream",
     "text": [
      "Probability of getting 9 or fewer heads: 0.9990234375\n"
     ]
    }
   ],
   "source": [
    "tries = 10\n",
    "prob_each_site = 0.5\n",
    "x = 9\n",
    "\n",
    "prob_for_9fewer_heads = 1 - stats.binom.pmf(x + 1, tries, prob_each_site)\n",
    "print(f\"Probability of getting 9 or fewer heads: {prob_for_9fewer_heads}\")"
   ]
  },
  {
   "cell_type": "markdown",
   "metadata": {},
   "source": [
    "## Cumulative Distribution Function (CDF)"
   ]
  },
  {
   "cell_type": "markdown",
   "metadata": {},
   "source": [
    "The *cumulative distribution function* for a discrete random variable can be derived from the probability mass function.\n",
    "\n",
    "**Situation**: *Throwing a fair coin 10 times*"
   ]
  },
  {
   "cell_type": "markdown",
   "metadata": {},
   "source": [
    "The `stats.binom.cdf()` functions is used to calculate the cumulative probability of observing a value less than or equal to a particular value of a binomial distribution. The function has the following parameters:\n",
    "- `x`: the value for how many times the event occurs, like the number of heads\n",
    "- `n`: the number of trials\n",
    "- `p`: the probability of success\n",
    "\n",
    "This function is always the calculating for a range of values. If you choose `x=5` it will calculate the probability of getting 5 or fewer heads.\n",
    "\n",
    "For a specific value you can use the PMF function or calculate the difference between two CDF values.\n",
    "\n",
    "![Cumulative Distribution Function](../../Informations/Images/cdf.gif)"
   ]
  },
  {
   "cell_type": "markdown",
   "metadata": {},
   "source": [
    "### Plotting Distribution"
   ]
  },
  {
   "cell_type": "code",
   "execution_count": 49,
   "metadata": {},
   "outputs": [
    {
     "name": "stdout",
     "output_type": "stream",
     "text": [
      "Sum of all probabilities: 6.0\n"
     ]
    },
    {
     "data": {
      "image/png": "[encoded data removed]",
      "text/plain": [
       "<Figure size 1500x500 with 2 Axes>"
      ]
     },
     "metadata": {},
     "output_type": "display_data"
    }
   ],
   "source": [
    "# Plotting bar chart \n",
    "throws = 10\n",
    "prob = 0.5\n",
    "\n",
    "probs = [stats.binom.cdf(i, throws, prob) for i in range(throws + 1)] \n",
    "print(f\"Sum of all probabilities: {sum(probs)}\")\n",
    "\n",
    "fig, axes = plt.subplots(1, 2, figsize=(15, 5))\n",
    "\n",
    "axes[0].bar(range(throws + 1), probs)\n",
    "axes[0].set_xlabel('Number of Heads')\n",
    "axes[0].set_ylabel('Probability')\n",
    "axes[0].set_title('Cumulative Distribution Function')\n",
    "\n",
    "axes[1].scatter(range(throws + 1), probs)\n",
    "axes[1].set_xlabel('Number of Heads')\n",
    "axes[1].set_ylabel('Probability')\n",
    "axes[1].set_title('Cumulative Distribution Function')\n",
    "\n",
    "plt.show()"
   ]
  },
  {
   "cell_type": "markdown",
   "metadata": {},
   "source": [
    "Every bar is the sum of the current and all previous bars, like the bar for 5 is the sum of the bars for 0, 1, 2, 3, 4, and 5."
   ]
  },
  {
   "cell_type": "markdown",
   "metadata": {},
   "source": [
    "### Using CDF for calculating of a specific value"
   ]
  },
  {
   "cell_type": "markdown",
   "metadata": {},
   "source": [
    "**Situation**: *I have a fair coin, 10 tries and want to know what is the probability of getting 5 heads.**\n",
    "\n",
    "5 Heads is given in different paths. We have paths like:\n",
    "- H H H H H T T T T T\n",
    "- H H H H T H T T T T\n",
    "- ...\n",
    "\n",
    "$$ P(X=5) = P(X \\leq 5) - P(X \\leq 4) $$"
   ]
  },
  {
   "cell_type": "code",
   "execution_count": 53,
   "metadata": {},
   "outputs": [
    {
     "name": "stdout",
     "output_type": "stream",
     "text": [
      "Probability of getting 5 heads: 0.24609375\n"
     ]
    }
   ],
   "source": [
    "tries = 10\n",
    "prob_each_site = 0.5\n",
    "x = 5\n",
    "\n",
    "prob_for_5_heads = stats.binom.cdf(x, tries, prob_each_site) - stats.binom.cdf(x - 1, tries, prob_each_site)\n",
    "print(f\"Probability of getting 5 heads: {prob_for_5_heads}\")"
   ]
  },
  {
   "cell_type": "markdown",
   "metadata": {},
   "source": [
    "### Using CDF for calculating of a range of values"
   ]
  },
  {
   "cell_type": "markdown",
   "metadata": {},
   "source": [
    "**Situation**: *I have a fair coin, 10 tries and want to know what is the probability of getting 9 or fewer heads.*\n",
    "\n",
    "$$ P (X \\leq 9) = P(X \\leq 9) $$"
   ]
  },
  {
   "cell_type": "code",
   "execution_count": 55,
   "metadata": {},
   "outputs": [
    {
     "name": "stdout",
     "output_type": "stream",
     "text": [
      "Probability of getting 9 or fewer heads: 0.9990234375\n"
     ]
    }
   ],
   "source": [
    "tries = 10\n",
    "prob_each_site = 0.5\n",
    "x = 9\n",
    "\n",
    "prob_for_9fewer_heads = stats.binom.cdf(x, tries, prob_each_site)\n",
    "print(f\"Probability of getting 9 or fewer heads: {prob_for_9fewer_heads}\")"
   ]
  },
  {
   "cell_type": "markdown",
   "metadata": {},
   "source": [
    "## Probability Density Function (PDF)"
   ]
  },
  {
   "cell_type": "markdown",
   "metadata": {},
   "source": [
    "It`s not possible to calculate the probability of a specific value for a continuous random variable. The probability of a specific value is always 0.\n",
    "\n",
    "We can calculate the area under the curve using the *cumulative distribution function (CDF)*.\n",
    "\n",
    "**Situation**: *We know that women´s heights have a mean of 167.64 cm with a std of 8 cm. What´s the probability that a randomly chosen woman is less than 158 cm tall.*\n",
    "\n",
    "![Probability Density Function](../../Informations/Images/norm_pdf_167_8_filled.svg)"
   ]
  },
  {
   "cell_type": "code",
   "execution_count": 60,
   "metadata": {},
   "outputs": [
    {
     "data": {
      "text/plain": [
       "np.float64(0.11410165094812996)"
      ]
     },
     "execution_count": 60,
     "metadata": {},
     "output_type": "execute_result"
    }
   ],
   "source": [
    "h = 158\n",
    "mean = 167.64\n",
    "std = 8\n",
    "\n",
    "stats.norm.cdf(h, mean, std)"
   ]
  },
  {
   "cell_type": "markdown",
   "metadata": {},
   "source": [
    "## Probability Density Functions (PDF) and Cumulative Distribution Function (CDF)"
   ]
  },
  {
   "cell_type": "markdown",
   "metadata": {},
   "source": [
    "We can take the difference between two overlapping ranges to calculate the probability that a random selection will be within a range of values for continuous distributions.\n",
    "\n",
    "**Situation**: *We know that women´s heights have a mean of 167.64 cm with a std of 8 cm. What´s the probability for randomly observing a woman **between** 165 cm and 175 cm tall.*\n",
    "\n",
    "![Probability Density Function](../../Informations/Images/Normal-PDF-Range.gif)"
   ]
  },
  {
   "cell_type": "code",
   "execution_count": 62,
   "metadata": {},
   "outputs": [
    {
     "data": {
      "text/plain": [
       "np.float64(0.45051363932628175)"
      ]
     },
     "execution_count": 62,
     "metadata": {},
     "output_type": "execute_result"
    }
   ],
   "source": [
    "h1 = 165\n",
    "h2 = 175\n",
    "mean = 167.64\n",
    "std = 8\n",
    "\n",
    "stats.norm.cdf(h2, mean, std) - stats.norm.cdf(h1, mean, std)"
   ]
  },
  {
   "cell_type": "markdown",
   "metadata": {},
   "source": [
    "**Situation**: *Whats the probability for randomly observing a woman **taller** than 172 cm?*\n",
    "\n",
    "![Probability Density Function](../../Informations/Images/norm_pdf_167_8_filled2.svg)"
   ]
  },
  {
   "cell_type": "code",
   "execution_count": 63,
   "metadata": {},
   "outputs": [
    {
     "data": {
      "text/plain": [
       "np.float64(0.29287675880580455)"
      ]
     },
     "execution_count": 63,
     "metadata": {},
     "output_type": "execute_result"
    }
   ],
   "source": [
    "h = 172\n",
    "mean = 167.64\n",
    "std = 8\n",
    "\n",
    "1 - stats.norm.cdf(h, mean, std)"
   ]
  },
  {
   "cell_type": "markdown",
   "metadata": {},
   "source": [
    "**Situation**: *Whats the probability for randomly observing a woman **shorter** than 172 cm?*"
   ]
  },
  {
   "cell_type": "code",
   "execution_count": 64,
   "metadata": {},
   "outputs": [
    {
     "data": {
      "text/plain": [
       "np.float64(0.7071232411941955)"
      ]
     },
     "execution_count": 64,
     "metadata": {},
     "output_type": "execute_result"
    }
   ],
   "source": [
    "h = 172\n",
    "mean = 167.64\n",
    "std = 8\n",
    "\n",
    "stats.norm.cdf(h, mean, std)"
   ]
  },
  {
   "cell_type": "markdown",
   "metadata": {},
   "source": [
    "The addition of both probabilities is 1."
   ]
  },
  {
   "cell_type": "code",
   "execution_count": 67,
   "metadata": {},
   "outputs": [
    {
     "data": {
      "text/plain": [
       "np.float64(1.0)"
      ]
     },
     "execution_count": 67,
     "metadata": {},
     "output_type": "execute_result"
    }
   ],
   "source": [
    "h = 172\n",
    "mean = 167.64\n",
    "std = 8\n",
    "\n",
    "#         Taller than h            +         Shorter than h\n",
    "(1 - stats.norm.cdf(h, mean, std)) + stats.norm.cdf(h, mean, std)"
   ]
  }
 ],
 "metadata": {
  "kernelspec": {
   "display_name": "Codecademy-XphA9WxU",
   "language": "python",
   "name": "python3"
  },
  "language_info": {
   "codemirror_mode": {
    "name": "ipython",
    "version": 3
   },
   "file_extension": ".py",
   "mimetype": "text/x-python",
   "name": "python",
   "nbconvert_exporter": "python",
   "pygments_lexer": "ipython3",
   "version": "3.11.1"
  }
 },
 "nbformat": 4,
 "nbformat_minor": 2
}
