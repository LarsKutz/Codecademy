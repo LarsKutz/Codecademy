{
 "cells": [
  {
   "cell_type": "markdown",
   "metadata": {},
   "source": [
    "# Addition Rule"
   ]
  },
  {
   "cell_type": "code",
   "execution_count": null,
   "metadata": {},
   "outputs": [
    {
     "name": "stdout",
     "output_type": "stream",
     "text": [
      "First: 1.0\n",
      "Second: 0.8333333333333333\n",
      "Third: 0.4230769230769231\n"
     ]
    }
   ],
   "source": [
    "def prob_a_or_b(a: set, b: set, all_possible_outcomes: set):\n",
    "    # probability of event a\n",
    "    prob_a = len(a) / len(all_possible_outcomes)\n",
    "        \n",
    "    # probability of event b\n",
    "    prob_b = len(b) / len(all_possible_outcomes)\n",
    "        \n",
    "    # intersection of events a and b\n",
    "    inter = a.intersection(b)\n",
    "        \n",
    "    # probability of intersection of events a and b\n",
    "    prob_inter = len(inter) / len(all_possible_outcomes)\n",
    "        \n",
    "    # add return statement herer\n",
    "    return prob_a + prob_b - prob_inter\n",
    "\n",
    "\n",
    "# rolling a die once and getting an even number or an odd number\n",
    "evens = {2, 4, 6}\n",
    "odds = {1, 3, 5}\n",
    "all_possible_rolls = {1, 2, 3, 4, 5, 6}\n",
    "\n",
    "# call function here first\n",
    "print(f\"First: {prob_a_or_b(evens, odds, all_possible_rolls)}\") # 1.0, mutually exclusive events, no intersection\n",
    "# P(A or B) = P(A) + P(B) - P(A and B)\n",
    "# P(A) = 3/6 = 0.5\n",
    "# P(B) = 3/6 = 0.5\n",
    "# P(A and B) = 0/6 = 0.0\n",
    "# P(A or B) = 0.5 + 0.5 - 0.0 = 1.0\n",
    "\n",
    "\n",
    "# rolling a die once and getting an odd number or a number greater than 2\n",
    "odds = {1, 3, 5}\n",
    "greater_than_two = {3, 4, 5, 6}\n",
    "all_possible_rolls = {1, 2, 3, 4, 5, 6}\n",
    "\n",
    "# call function here second\n",
    "print(f\"Second: {prob_a_or_b(odds, greater_than_two, all_possible_rolls)}\") # 0.8333333333333333, not mutually exclusive events, intersection\n",
    "# P(A or B) = P(A) + P(B) - P(A and B)\n",
    "# P(A) = 3/6 = 0.5\n",
    "# P(B) = 4/6 = 0.6666666666666666\n",
    "# P(A and B) = 2/6 = 0.3333333333333333\n",
    "# P(A or B) = 0.5 + 0.6666666666666666 - 0.3333333333333333 = 0.8333333333333333\n",
    "\n",
    "\n",
    "# selecting a diamond card or a face card from a standard deck of cards (13 cards diamonds, 12 cards face)\n",
    "diamond_cards = {\n",
    "    'ace_diamond', '2_diamond', '3_diamond', '4_diamond', '5_diamond', '6_diamond', '7_diamond', '8_diamond', '9_diamond', \n",
    "    '10_diamond', 'jack_diamond', 'queen_diamond', 'king_diamond'\n",
    "}\n",
    "face_cards = {\n",
    "    'jack_diamond', 'jack_spade', 'jack_heart', 'jack_club', 'queen_diamond', 'queen_spade', 'queen_heart', 'queen_club', \n",
    "    'king_diamond', 'king_spade', 'king_heart', 'king_club'\n",
    "}\n",
    "# all cards in a deck representing the entire sample space (52 cards in a deck)\n",
    "all_possible_cards = {\n",
    "    'ace_diamond', '2_diamond', '3_diamond', '4_diamond', '5_diamond', '6_diamond', '7_diamond', '8_diamond', '9_diamond', \n",
    "    '10_diamond', 'jack_diamond', 'queen_diamond', 'king_diamond', 'ace_heart', '2_heart', '3_heart', '4_heart', '5_heart', \n",
    "    '6_heart', '7_heart', '8_heart', '9_heart', '10_heart', 'jack_heart', 'queen_heart', 'king_heart', 'ace_spade', '2_spade', \n",
    "    '3_spade', '4_spade', '5_spade', '6_spade', '7_spade', '8_spade', '9_spade', '10_spade', 'jack_spade', 'queen_spade', \n",
    "    'king_spade', 'ace_club', '2_club', '3_club', '4_club', '5_club', '6_club', '7_club', '8_club', '9_club', '10_club', \n",
    "    'jack_club', 'queen_club', 'king_club'\n",
    "}\n",
    "\n",
    "# call function here third\n",
    "print(f\"Third: {prob_a_or_b(diamond_cards, face_cards, all_possible_cards)}\") # 0.42307692307692313, not mutually exclusive events, intersection\n",
    "# P(A or B) = P(A) + P(B) - P(A and B)\n",
    "# P(A) = 13/52 = 0.25\n",
    "# P(B) = 12/52 = 0.23076923076923078\n",
    "# P(A and B) = 3/52 = 0.057692307692307696\n",
    "# P(A or B) = 0.25 + 0.23076923076923078 - 0.057692307692307696 = 0.42307692307692313"
   ]
  }
 ],
 "metadata": {
  "kernelspec": {
   "display_name": "Codecademy-XphA9WxU",
   "language": "python",
   "name": "python3"
  },
  "language_info": {
   "codemirror_mode": {
    "name": "ipython",
    "version": 3
   },
   "file_extension": ".py",
   "mimetype": "text/x-python",
   "name": "python",
   "nbconvert_exporter": "python",
   "pygments_lexer": "ipython3",
   "version": "3.11.1"
  }
 },
 "nbformat": 4,
 "nbformat_minor": 2
}
