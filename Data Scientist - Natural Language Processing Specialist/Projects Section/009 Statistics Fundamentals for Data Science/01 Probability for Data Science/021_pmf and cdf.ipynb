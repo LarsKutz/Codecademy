{
 "cells": [
  {
   "cell_type": "markdown",
   "metadata": {},
   "source": [
    "# PMF and CDF"
   ]
  },
  {
   "cell_type": "markdown",
   "metadata": {},
   "source": [
    "- Probability Mass Function (PMF)\n",
    "- Cumulative Distribution Function (CDF)"
   ]
  },
  {
   "cell_type": "code",
   "execution_count": 2,
   "metadata": {},
   "outputs": [],
   "source": [
    "from scipy import stats\n",
    "import matplotlib.pyplot as plt"
   ]
  },
  {
   "cell_type": "markdown",
   "metadata": {},
   "source": [
    "## Calculating Probability using PMF\n",
    "\n",
    "- Used for calculating the probability of **a specific value**.\n",
    "- But can also be used to calculate the probability of **a range of values**.\n",
    "    - It´s more unwieldy than using the [CDF](#calculating-probability-using-cdf) for this purpose.\n",
    "- `stats.binom.pmf(k, n, p)` calculates the probability of getting **exact `k` successes** in **`n`** trials with a probability of success **`p`**.\n",
    "    - **successes** = `k`\n",
    "\n",
    "**Situation**: *You have a fair coin and flip it 10 times.*"
   ]
  },
  {
   "cell_type": "code",
   "execution_count": 5,
   "metadata": {},
   "outputs": [
    {
     "data": {
      "image/png": "[encoded data removed]",
      "text/plain": [
       "<Figure size 640x480 with 1 Axes>"
      ]
     },
     "metadata": {},
     "output_type": "display_data"
    }
   ],
   "source": [
    "# Binomial distribution\n",
    "\n",
    "lst_pmf = [stats.binom.pmf(i, 10, 0.5) for i in range(11)]\n",
    "plt.bar(range(11), lst_pmf)\n",
    "plt.show()"
   ]
  },
  {
   "cell_type": "markdown",
   "metadata": {},
   "source": [
    "##### **What is the probability of getting exact 3 heads?**\n",
    "\n",
    "$$ P(X=3) $$\n",
    "\n",
    "Exact 3 heads can be obtained in different ways (*\"H\" for head and \"T\" for tail*):\n",
    "- HH-HT-TT-TT-TT\n",
    "- HT-HH-TT-TT-TT\n",
    "- ..."
   ]
  },
  {
   "cell_type": "code",
   "execution_count": 4,
   "metadata": {},
   "outputs": [
    {
     "data": {
      "text/plain": [
       "np.float64(0.11718749999999999)"
      ]
     },
     "execution_count": 4,
     "metadata": {},
     "output_type": "execute_result"
    }
   ],
   "source": [
    "pmf_exact_3_h = stats.binom.pmf(3, 10, 0.5)\n",
    "pmf_exact_3_h"
   ]
  },
  {
   "cell_type": "markdown",
   "metadata": {},
   "source": [
    "##### **What is the probability of getting 3 or fewer heads?**\n",
    "\n",
    "$$ P(X \\leq 3) = P(X=0) + P(X=1) + P(X=2) + P(X=3) $$"
   ]
  },
  {
   "cell_type": "code",
   "execution_count": 23,
   "metadata": {},
   "outputs": [
    {
     "data": {
      "text/plain": [
       "(np.float64(0.17187500000000003), np.float64(0.17187500000000003))"
      ]
     },
     "execution_count": 23,
     "metadata": {},
     "output_type": "execute_result"
    }
   ],
   "source": [
    "pmf_3_or_fewer_h = stats.binom.pmf(0, 10, 0.5) \\\n",
    "    + stats.binom.pmf(1, 10, 0.5) \\\n",
    "    + stats.binom.pmf(2, 10, 0.5) \\\n",
    "    + stats.binom.pmf(3, 10, 0.5)\n",
    "\n",
    "pmf_3_or_fewer_h_v2 = sum([stats.binom.pmf(i, 10, 0.5) for i in range(4)])\n",
    "\n",
    "pmf_3_or_fewer_h, pmf_3_or_fewer_h_v2"
   ]
  },
  {
   "cell_type": "markdown",
   "metadata": {},
   "source": [
    "##### **What is the probability of getting 3 to 6 heads?**\n",
    "\n",
    "$$ P(3 \\leq X \\leq 6) = P(X=3) + P(X=4) + P(X=5) + P(X=6) $$"
   ]
  },
  {
   "cell_type": "code",
   "execution_count": 14,
   "metadata": {},
   "outputs": [
    {
     "data": {
      "text/plain": [
       "np.float64(0.7734374999999998)"
      ]
     },
     "execution_count": 14,
     "metadata": {},
     "output_type": "execute_result"
    }
   ],
   "source": [
    "pmf_3_to_6_h = sum([stats.binom.pmf(i, 10, 0.5) for i in range(3, 7)])\n",
    "pmf_3_to_6_h"
   ]
  },
  {
   "cell_type": "markdown",
   "metadata": {},
   "source": [
    "##### **What is the probability of getting 9 or fewer heads?**\n",
    "\n",
    "$$ P(X \\leq 9) = 1 - P(X=10) $$"
   ]
  },
  {
   "cell_type": "code",
   "execution_count": 22,
   "metadata": {},
   "outputs": [
    {
     "data": {
      "text/plain": [
       "(np.float64(0.9990234375), np.float64(0.9990234374999998))"
      ]
     },
     "execution_count": 22,
     "metadata": {},
     "output_type": "execute_result"
    }
   ],
   "source": [
    "pmf_9_or_fewer_h = 1 - stats.binom.pmf(10, 10, 0.5)\n",
    "pmf_9_or_fewer_h_v2 = sum([stats.binom.pmf(i, 10, 0.5) for i in range(10)])\n",
    "\n",
    "pmf_9_or_fewer_h, pmf_9_or_fewer_h_v2"
   ]
  },
  {
   "cell_type": "markdown",
   "metadata": {},
   "source": [
    "##### **What is the probability of getting 2 or more heads?**\n",
    "\n",
    "$$ P(X \\geq 2) = 1 - P(X=0) - P(X=1) $$"
   ]
  },
  {
   "cell_type": "code",
   "execution_count": 24,
   "metadata": {},
   "outputs": [
    {
     "data": {
      "text/plain": [
       "(np.float64(0.9892578125), np.float64(0.9892578124999998))"
      ]
     },
     "execution_count": 24,
     "metadata": {},
     "output_type": "execute_result"
    }
   ],
   "source": [
    "pmf_2_or_more_h = 1 - stats.binom.pmf(0, 10, 0.5) - stats.binom.pmf(1, 10, 0.5)\n",
    "pmf_2_or_more_h_v2 = sum([stats.binom.pmf(i, 10, 0.5) for i in range(2, 11)])\n",
    "\n",
    "pmf_2_or_more_h, pmf_2_or_more_h_v2"
   ]
  },
  {
   "cell_type": "markdown",
   "metadata": {},
   "source": [
    "## Calculating Probability using CDF\n",
    "\n",
    "- Used for calculating the probability of **a range of values**.\n",
    "- `stats.binom.cdf(k, n, p)` calculates the probability of getting **`k` or fewer** successes in **`n`** trials with a probability of success **`p`**.\n",
    "    - **sucesses**: 0 to `k`.\n",
    "\n",
    "**Situation**: *You have a fair coin and flip it 10 times.*"
   ]
  },
  {
   "cell_type": "markdown",
   "metadata": {},
   "source": [
    "##### **What is the probability of getting 9 or fewer heads?**\n",
    "\n",
    "$$ P(X \\leq 6) $$"
   ]
  },
  {
   "cell_type": "code",
   "execution_count": 26,
   "metadata": {},
   "outputs": [
    {
     "data": {
      "text/plain": [
       "np.float64(0.9990234375)"
      ]
     },
     "execution_count": 26,
     "metadata": {},
     "output_type": "execute_result"
    }
   ],
   "source": [
    "cdf_6_or_fewer_h = stats.binom.cdf(9, 10, 0.5)\n",
    "cdf_6_or_fewer_h"
   ]
  },
  {
   "cell_type": "markdown",
   "metadata": {},
   "source": [
    "##### **What is the probability of getting 2 or more heads?**\n",
    "\n",
    "$$ P(2 \\leq X) = 1 - P(X \\leq 1) $$"
   ]
  },
  {
   "cell_type": "code",
   "execution_count": 27,
   "metadata": {},
   "outputs": [
    {
     "data": {
      "text/plain": [
       "np.float64(0.9892578125)"
      ]
     },
     "execution_count": 27,
     "metadata": {},
     "output_type": "execute_result"
    }
   ],
   "source": [
    "cdf_2_or_more_h = 1 - stats.binom.cdf(1, 10, 0.5)\n",
    "cdf_2_or_more_h"
   ]
  },
  {
   "cell_type": "markdown",
   "metadata": {},
   "source": [
    "##### **What is the probability of getting 3 to 6 heads?**\n",
    "\n",
    "$$ P(3 \\leq X \\leq 6) = P(X \\leq 6) - P(X \\leq 2) $$\n",
    "$$ or $$\n",
    "$$ P(3 \\leq X \\leq 6) = P(X \\leq 6) - P(X < 3) $$"
   ]
  },
  {
   "cell_type": "code",
   "execution_count": 28,
   "metadata": {},
   "outputs": [
    {
     "data": {
      "text/plain": [
       "np.float64(0.7734375)"
      ]
     },
     "execution_count": 28,
     "metadata": {},
     "output_type": "execute_result"
    }
   ],
   "source": [
    "cdf_3_to_6_h = stats.binom.cdf(6, 10, 0.5) - stats.binom.cdf(2, 10, 0.5)\n",
    "cdf_3_to_6_h"
   ]
  },
  {
   "cell_type": "markdown",
   "metadata": {},
   "source": [
    "##### **What is the probability of getting 3 or fewer heads?**\n",
    "\n",
    "$$ P(X \\leq 3) $$"
   ]
  },
  {
   "cell_type": "code",
   "execution_count": 29,
   "metadata": {},
   "outputs": [
    {
     "data": {
      "text/plain": [
       "np.float64(0.171875)"
      ]
     },
     "execution_count": 29,
     "metadata": {},
     "output_type": "execute_result"
    }
   ],
   "source": [
    "cdf_3_or_fewer_h = stats.binom.cdf(3, 10, 0.5)\n",
    "cdf_3_or_fewer_h"
   ]
  },
  {
   "cell_type": "markdown",
   "metadata": {},
   "source": [
    "##### **What is the probability of getting exact 3 heads?**\n",
    "\n",
    "$$ P(X=3) = P(X \\leq 3) - P(X \\leq 2) $$\n",
    "\n",
    "- Successes of `0`, `1`, `2` and `3` heads = $ P(X \\leq 3) $\n",
    "- Successes of `0`, `1` and `2` heads = $ P(X \\leq 2) $\n",
    "- Success of exact `3` heads = $ P(X \\leq 3) - P(X \\leq 2) $"
   ]
  },
  {
   "cell_type": "code",
   "execution_count": 30,
   "metadata": {},
   "outputs": [
    {
     "data": {
      "text/plain": [
       "np.float64(0.1171875)"
      ]
     },
     "execution_count": 30,
     "metadata": {},
     "output_type": "execute_result"
    }
   ],
   "source": [
    "cdf_exact_3_h = stats.binom.cdf(3, 10, 0.5) - stats.binom.cdf(2, 10, 0.5)\n",
    "cdf_exact_3_h"
   ]
  }
 ],
 "metadata": {
  "kernelspec": {
   "display_name": "Codecademy-XphA9WxU",
   "language": "python",
   "name": "python3"
  },
  "language_info": {
   "codemirror_mode": {
    "name": "ipython",
    "version": 3
   },
   "file_extension": ".py",
   "mimetype": "text/x-python",
   "name": "python",
   "nbconvert_exporter": "python",
   "pygments_lexer": "ipython3",
   "version": "3.11.1"
  }
 },
 "nbformat": 4,
 "nbformat_minor": 2
}
