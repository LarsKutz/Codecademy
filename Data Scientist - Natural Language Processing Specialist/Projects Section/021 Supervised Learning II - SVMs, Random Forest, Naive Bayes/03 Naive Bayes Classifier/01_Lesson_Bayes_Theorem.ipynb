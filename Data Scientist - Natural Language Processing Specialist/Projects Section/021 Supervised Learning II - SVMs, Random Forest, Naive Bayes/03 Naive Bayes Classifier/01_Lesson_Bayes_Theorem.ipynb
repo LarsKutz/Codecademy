{
 "cells": [
  {
   "cell_type": "markdown",
   "id": "7426f34a",
   "metadata": {},
   "source": [
    "# Bayes Theorem"
   ]
  },
  {
   "cell_type": "code",
   "execution_count": 1,
   "id": "59d13910",
   "metadata": {},
   "outputs": [],
   "source": [
    "import numpy as np"
   ]
  },
  {
   "cell_type": "markdown",
   "id": "dfa82370",
   "metadata": {},
   "source": [
    "## 2. Independent Events"
   ]
  },
  {
   "cell_type": "markdown",
   "id": "daa91dda",
   "metadata": {},
   "source": [
    "**Task 1**  \n",
    "- A certain family plans to have three children. \n",
    "- Is the event that the couple’s third child is a girl independent of the event that the couple’s first two children are girls?\n",
    "- Save your answer (`'independent'` or `'not independent'`) to the variable `third_child`."
   ]
  },
  {
   "cell_type": "code",
   "execution_count": 2,
   "id": "04b6a140",
   "metadata": {},
   "outputs": [],
   "source": [
    "third_child = 'independent'"
   ]
  },
  {
   "cell_type": "markdown",
   "id": "7713029c",
   "metadata": {},
   "source": [
    "## 3. Conditional Probability"
   ]
  },
  {
   "cell_type": "markdown",
   "id": "a46ef247",
   "metadata": {},
   "source": [
    "**Task 1**  \n",
    "- This week, there is a 30% probability that it will rain on any given day. \n",
    "- At a certain high school, gym class is held on three days out of the five day school week.\n",
    "- On a school day, what is the probability that it is raining and the students have gym class?\n",
    "- Save your answer to the variable `p_rain_and_gym`."
   ]
  },
  {
   "cell_type": "code",
   "execution_count": 3,
   "id": "234ba8b7",
   "metadata": {},
   "outputs": [],
   "source": [
    "# 30% prob to rain on any given day\n",
    "# school claas gym is held outside on 3 of 5 days of the week\n",
    "# What is the prob that its raining on a day when class is held outside?\n",
    "# Events are independent so we can multiply the probabilities"
   ]
  },
  {
   "cell_type": "code",
   "execution_count": 4,
   "id": "cd99a339",
   "metadata": {},
   "outputs": [
    {
     "data": {
      "text/plain": [
       "0.18"
      ]
     },
     "execution_count": 4,
     "metadata": {},
     "output_type": "execute_result"
    }
   ],
   "source": [
    "p_rain = 0.3\n",
    "p_gym = 3/5\n",
    "\n",
    "p_rain_and_gym = p_rain * p_gym\n",
    "p_rain_and_gym"
   ]
  },
  {
   "cell_type": "markdown",
   "id": "7a830e64",
   "metadata": {},
   "source": [
    "## 4. Testing for a Rare Disease"
   ]
  },
  {
   "cell_type": "markdown",
   "id": "f462ce76",
   "metadata": {},
   "source": [
    "**Task 1**  \n",
    "- What is the probability that the patient had the disease **and** the test correctly diagnosed the disease?\n",
    "- Save your answer to the variable `p_disease_and_correct`.\n",
    "\n",
    "<br>\n",
    "\n",
    "**Task 2**  \n",
    "- What is the probability that the patient *does not* have the disease **and** the test incorrectly diagnosed the disease?\n",
    "- Save your answer to the variable `p_no_disease_and_not_correct`.\n",
    "\n",
    "<br>\n",
    "\n",
    "**Task 3**  \n",
    "- Print both `p_disease_and_correct` and `p_no_disease_and_not_correct`."
   ]
  },
  {
   "cell_type": "code",
   "execution_count": 5,
   "id": "94043721",
   "metadata": {},
   "outputs": [],
   "source": [
    "test_correct = .99\n",
    "p_disease = 1/100_000"
   ]
  },
  {
   "cell_type": "code",
   "execution_count": 6,
   "id": "637c36e6",
   "metadata": {},
   "outputs": [
    {
     "name": "stdout",
     "output_type": "stream",
     "text": [
      "Test correct and Patient has disease: 9.9e-06\n",
      "Test not correct and Patient does not have disease: 0.00999990000000001\n"
     ]
    },
    {
     "data": {
      "text/plain": [
       "1010.09090909091"
      ]
     },
     "execution_count": 6,
     "metadata": {},
     "output_type": "execute_result"
    }
   ],
   "source": [
    "# Task 1\n",
    "p_disease_and_correct = test_correct * p_disease\n",
    "print(f\"Test correct and Patient has disease: {p_disease_and_correct}\")\n",
    "\n",
    "# Task 2\n",
    "p_no_disease_and_not_correct = (1 - test_correct) * (1 - p_disease)\n",
    "print(f\"Test not correct and Patient does not have disease: {p_no_disease_and_not_correct}\")\n",
    "\n",
    "# How many times bigger is one than the other?\n",
    "p_no_disease_and_not_correct / p_disease_and_correct"
   ]
  },
  {
   "cell_type": "markdown",
   "id": "a7856f90",
   "metadata": {},
   "source": [
    "## 5. Bayes' Theorem"
   ]
  },
  {
   "cell_type": "markdown",
   "id": "b9504ee8",
   "metadata": {},
   "source": [
    "**Task 1**  \n",
    "- Calculate `P(positive result | rare disease)`, or the probability of a positive test result, given that a patient really has this rare disease.\n",
    "- Save your answer (as a decimal) to `p_positive_given_disease`.\n",
    "\n",
    "<br>\n",
    "\n",
    "**Task 2**  \n",
    "- What is `P(rare disease)`, the probability that a randomly selected patient has the rare disease?\n",
    "- Save your answer to `p_disease`.\n",
    "\n",
    "<br>\n",
    "\n",
    "**Task 3**  \n",
    "- We now need to compute the denominator; we need to find `P(positive result)`.\n",
    "- As we discussed previously, there are two ways to get a positive result:\n",
    "    - The patient had the disease, **and** the test correctly diagnosed the disease.\n",
    "    - The patient didn’t have the disease **and** the test incorrectly diagnosed that they had the disease.\n",
    "- Using these two probabilities, calculate the total probability that a randomly selected patient receives a positive test result, `P(positive result)`.\n",
    "- Save your answer to the variable `p_positive`.\n",
    "\n",
    "<br>\n",
    "\n",
    "**Task 4**  \n",
    "- Substitute all three of these values into Bayes’ Theorem and calculate `P(rare disease | positive result)`.\n",
    "- Save your result as `p_disease_given_positive`.\n",
    "\n",
    "<br>\n",
    "\n",
    "**Task 5**  \n",
    "- Print `p_disease_given_positive`.\n",
    "- Is it likely that your patient has this disease?"
   ]
  },
  {
   "cell_type": "code",
   "execution_count": 7,
   "id": "aced6cca",
   "metadata": {},
   "outputs": [
    {
     "data": {
      "text/plain": [
       "0.0009890307498651313"
      ]
     },
     "execution_count": 7,
     "metadata": {},
     "output_type": "execute_result"
    }
   ],
   "source": [
    "# Task 1\n",
    "p_positive_given_disease = .99\n",
    "\n",
    "# Task 2\n",
    "p_disease = 1/100_000\n",
    "\n",
    "# Task 3\n",
    "p_positive = p_positive_given_disease * p_disease + (1 - p_positive_given_disease)* (1 - p_disease)\n",
    "\n",
    "# Task 4\n",
    "p_disease_given_positive = p_positive_given_disease * p_disease / p_positive\n",
    "\n",
    "# Task 5\n",
    "p_disease_given_positive"
   ]
  },
  {
   "cell_type": "markdown",
   "id": "f19ed62e",
   "metadata": {},
   "source": [
    "## 6. Spam Filters"
   ]
  },
  {
   "cell_type": "markdown",
   "id": "7407b553",
   "metadata": {},
   "source": [
    "**Task 1**  \n",
    "- In this example, we are dealing with two probabilities:\n",
    "    - `P(enhancement)` - the probability that the word “enhancement” appears in an email.\n",
    "    - `P(spam)` - the probability that an email is spam.\n",
    "- Using Bayes’ Theorem to answer our question means that we want to calculate `P(A|B)`.\n",
    "- But what are A and B referring to in this case?\n",
    "- Save the string `'spam'` to the variable `a`.\n",
    "- Save the string `'enhancement'` to the variable `b`.\n",
    "\n",
    "<br>\n",
    "\n",
    "**Task 2**  \n",
    "- What is `P(spam)`?\n",
    "- Save your answer to `p_spam`.\n",
    "\n",
    "<br>\n",
    "\n",
    "**Task 3**  \n",
    "- What is `P(enhancement | spam)`?\n",
    "- Save your answer to `p_enhancement_given_spam`.\n",
    "\n",
    "<br>\n",
    "\n",
    "**Task 4**  \n",
    "- We want to know the overall probability that any email (spam or non-spam) contains “enhancement”.\n",
    "- Because we know the probability of “enhancement” occurring in both spam (`0.05`) and non-spam (`0.001`) emails, we can use a weighted average to calculate the probability of “enhancement” occurring in an email:\n",
    "$$ P(enhancement) = P(enhancement | spam) \\times P(spam) + P(enhancement | non-spam) * P(non-spam) $$\n",
    "- Save your answer to `p_enhancement`.\n",
    "\n",
    "<br>\n",
    "\n",
    "**Task 5**  \n",
    "- Now that we know:\n",
    "    - `P(spam)`\n",
    "    - `P(enhancement | spam)`\n",
    "    - `P(enhancement)`\n",
    "- We can plug this into Bayes’ Theorem:\n",
    "$$ P(A|B) = \\frac{P(B|A) \\times P(A)}{P(B)} $$\n",
    "- Save your answer as `p_spam_enhancement`.\n",
    "\n",
    "<br>\n",
    "\n",
    "**Task 6**  \n",
    "- Print `p_spam_enhancement`."
   ]
  },
  {
   "cell_type": "code",
   "execution_count": 8,
   "id": "b0a396b2",
   "metadata": {},
   "outputs": [
    {
     "data": {
      "text/plain": [
       "0.9259259259259259"
      ]
     },
     "execution_count": 8,
     "metadata": {},
     "output_type": "execute_result"
    }
   ],
   "source": [
    "# Task 1\n",
    "a = \"spam\"\n",
    "b = \"enhancement\"\n",
    "\n",
    "# Task 2\n",
    "p_spam = .2\n",
    "\n",
    "# Task 3\n",
    "p_enhancement_given_spam = .05\n",
    "\n",
    "# Task 4\n",
    "p_enhancement = p_enhancement_given_spam * p_spam + .001 * (1 - p_spam)\n",
    "\n",
    "# Task 5\n",
    "p_spam_enhancement = p_enhancement_given_spam * p_spam / p_enhancement\n",
    "\n",
    "# Task 6\n",
    "p_spam_enhancement"
   ]
  },
  {
   "cell_type": "markdown",
   "id": "99644d14",
   "metadata": {},
   "source": [
    "<img src=\"Images/bayes_l1_6.PNG\" width=\"800\">"
   ]
  }
 ],
 "metadata": {
  "kernelspec": {
   "display_name": "Codecademy-XphA9WxU",
   "language": "python",
   "name": "python3"
  },
  "language_info": {
   "codemirror_mode": {
    "name": "ipython",
    "version": 3
   },
   "file_extension": ".py",
   "mimetype": "text/x-python",
   "name": "python",
   "nbconvert_exporter": "python",
   "pygments_lexer": "ipython3",
   "version": "3.11.1"
  }
 },
 "nbformat": 4,
 "nbformat_minor": 5
}
