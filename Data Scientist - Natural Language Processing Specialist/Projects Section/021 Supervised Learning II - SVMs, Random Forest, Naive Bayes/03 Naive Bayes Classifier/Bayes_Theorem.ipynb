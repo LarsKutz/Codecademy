{
 "cells": [
  {
   "cell_type": "markdown",
   "metadata": {},
   "source": [
    "# Bayes Theorem"
   ]
  },
  {
   "cell_type": "markdown",
   "metadata": {},
   "source": [
    "## Dataset"
   ]
  },
  {
   "cell_type": "code",
   "execution_count": 41,
   "metadata": {},
   "outputs": [
    {
     "name": "stdout",
     "output_type": "stream",
     "text": [
      "# Positive reviews:  50\n",
      "# Negative reviews:  50\n"
     ]
    }
   ],
   "source": [
    "import csv\n",
    "from collections import Counter\n",
    "\n",
    "\n",
    "def read_input_list(path, mode='r'):\n",
    "    with open(path, mode) as f:\n",
    "        reader = csv.reader(f)\n",
    "        next(reader)  # Skip the header\n",
    "        return [row[0] for row in reader]\n",
    "\n",
    "\n",
    "def read_input_counter(path, mode='r'):\n",
    "    with open(path, mode) as f:\n",
    "        reader = csv.reader(f)\n",
    "        next(reader)  # Skip the header\n",
    "        return Counter({row[0]: int(row[1]) for row in reader})\n",
    "    \n",
    "\n",
    "neg_list = read_input_list(\"neg_list.csv\")              # contains a list of negative reviews\n",
    "pos_list = read_input_list(\"pos_list.csv\")              # contains a list of positive reviews\n",
    "neg_counter = read_input_counter(\"neg_counter.csv\")     # contains a counter of words in negative reviews\n",
    "pos_counter = read_input_counter(\"pos_counter.csv\")     # contains a counter of words in positive reviews\n",
    "\n",
    "print(\"# Positive reviews: \", len(pos_list))\n",
    "print(\"# Negative reviews: \", len(neg_list))"
   ]
  },
  {
   "cell_type": "markdown",
   "metadata": {},
   "source": [
    "## Naive Bayes Classifier Step by Step"
   ]
  },
  {
   "cell_type": "markdown",
   "metadata": {},
   "source": [
    "### Fundamentals of Bayes Theorem"
   ]
  },
  {
   "cell_type": "markdown",
   "metadata": {},
   "source": [
    "- General formula for Bayes Theorem is given by:\n",
    "$$ P(A|B) = \\frac{P(B|A) \\cdot P(A)}{P(B)} $$\n",
    "- If we use an example whether we want to say if a review is positive or negative, we have to calculate the probability of the review being positive or negative given the words in the review. \n",
    "- We can use Bayes Theorem to calculate this probability.\n",
    "$$ P(\\text{positive}|\\text{review}) = \\frac{P(\\text{review}|\\text{positive}) \\cdot P(\\text{positive})}{P(\\text{review})} $$\n",
    "$$ P(\\text{negative}|\\text{review}) = \\frac{P(\\text{review}|\\text{negative}) \\cdot P(\\text{negative})}{P(\\text{review})} $$\n",
    "- The probability that is higher will be the prediction of the review.\n",
    "\n",
    "---"
   ]
  },
  {
   "cell_type": "markdown",
   "metadata": {},
   "source": [
    "### $P(\\text{positive})$ / $P(\\text{negative})$"
   ]
  },
  {
   "cell_type": "markdown",
   "metadata": {},
   "source": [
    "- Is defined as follows:\n",
    "$$ P(\\text{positive}) = \\frac{\\text{\\# positve reviews}}{\\text{\\# total reviews}} $$"
   ]
  },
  {
   "cell_type": "code",
   "execution_count": 42,
   "metadata": {},
   "outputs": [
    {
     "name": "stdout",
     "output_type": "stream",
     "text": [
      "A review is positive with probability of: 50.0%\n",
      "A review is negative with probability of: 50.0%\n"
     ]
    }
   ],
   "source": [
    "total_reviews = len(neg_list) + len(pos_list)\n",
    "p_pos = len(pos_list) / total_reviews\n",
    "p_neg = len(neg_list) / total_reviews\n",
    "\n",
    "print(f\"A review is positive with probability of: {p_pos*100:.1f}%\")\n",
    "print(f\"A review is negative with probability of: {p_neg*100:.1f}%\")"
   ]
  },
  {
   "cell_type": "markdown",
   "metadata": {},
   "source": [
    "- The review has a $50\\%$ chance of being positive. \n",
    "- The same goes for the negative review.\n",
    "\n",
    "---"
   ]
  },
  {
   "cell_type": "markdown",
   "metadata": {},
   "source": [
    "### $P(\\text{review}|\\text{positive})$ / $P(\\text{review}|\\text{negative})$"
   ]
  },
  {
   "cell_type": "markdown",
   "metadata": {},
   "source": [
    "- Is defined as follows:\n",
    "$$ P(\\text{review}|\\text{positive}) = P(\\text{word\\_1}|\\text{positive}) \\cdot P(\\text{word\\_2}|\\text{positive}) \\cdot \\ldots \\cdot P(\\text{word\\_n}|\\text{positive}) $$\n",
    "$$ P(\\text{word\\_n}) = \\frac{\\text{\\# of word\\_n in positive}}{\\text{\\# of words in positive}} $$\n",
    "- If we have following example review: \"This crib was amazing\", we have following equation:\n",
    "$$ P(\\text{\"This crib was amazing\"}|\\text{positive}) = P(\\text{\"This\"}|\\text{positive}) \\cdot P(\\text{\"crib\"}|\\text{positive}) \\cdot P(\\text{\"was\"}|\\text{positive}) \\cdot P(\\text{\"amazing\"}|\\text{positive}) $$\n",
    "$$ P(\\text{\"This\"}|\\text{positive}) = \\frac{\\text{\\# of \"This\" in positive}}{\\text{\\# of words in positive}} $$\n",
    "$$ \\dots $$"
   ]
  },
  {
   "cell_type": "code",
   "execution_count": 43,
   "metadata": {},
   "outputs": [
    {
     "data": {
      "text/plain": [
       "(0.0, 0.0)"
      ]
     },
     "execution_count": 43,
     "metadata": {},
     "output_type": "execute_result"
    }
   ],
   "source": [
    "review = \"This crib was amazing\"\n",
    "review_words = review.split()\n",
    "total_words_pos = sum(pos_counter.values())\n",
    "total_words_neg = sum(neg_counter.values())\n",
    "p_rev_pos = 1\n",
    "p_rev_neg = 1\n",
    "\n",
    "\n",
    "for word in review_words:\n",
    "    n_word_pos = pos_counter[word]\n",
    "    n_word_neg = neg_counter[word]\n",
    "    \n",
    "    p_rev_pos *= n_word_pos / total_words_pos\n",
    "    p_rev_neg *= n_word_neg / total_words_neg\n",
    "\n",
    "\n",
    "p_rev_pos, p_rev_neg"
   ]
  },
  {
   "cell_type": "markdown",
   "metadata": {},
   "source": [
    "### $P(\\text{review}|\\text{positive})$ / $P(\\text{review}|\\text{negative})$ - Modification: Smoothing"
   ]
  },
  {
   "cell_type": "markdown",
   "metadata": {},
   "source": [
    "- Also called [Laplace Smoothing](https://en.wikipedia.org/wiki/Additive_smoothing).\n",
    "- The problematic with the current calculation is, that if one words is not in the positive reviews (e.g. typos (e.g. \"amazin\" instead of \"amazing\")), the whole probability will be 0, because if one term is 0, the whole product will be 0.\n",
    "- To prevent this problematic, we can use a technique called *smoothing*.\n",
    "- We have to modify the formula for $P(\\text{word\\_n}|\\text{positive})$ as follows:\n",
    "$$ P(\\text{word\\_n}|\\text{positive}) = \\frac{\\text{\\# of word\\_n in positive} + 1}{\\text{\\# of words in positive} + \\text{\\# of unique words in positive}} $$\n",
    "- The same goes for the negative review:\n",
    "$$ P(\\text{word\\_n}|\\text{negative}) = \\frac{\\text{\\# of word\\_n in negative} + 1}{\\text{\\# of words in negative} + \\text{\\# of unique words in negative}} $$"
   ]
  },
  {
   "cell_type": "code",
   "execution_count": 44,
   "metadata": {},
   "outputs": [
    {
     "data": {
      "text/plain": [
       "(2.181371537690297e-12, 2.4484861544170253e-12)"
      ]
     },
     "execution_count": 44,
     "metadata": {},
     "output_type": "execute_result"
    }
   ],
   "source": [
    "review = \"This crib was amazing\"\n",
    "review_words = review.split()\n",
    "total_words_pos = sum(pos_counter.values())\n",
    "total_words_neg = sum(neg_counter.values())\n",
    "p_rev_pos = 1\n",
    "p_rev_neg = 1\n",
    "\n",
    "\n",
    "for word in review_words:\n",
    "    n_word_pos = pos_counter[word]\n",
    "    n_word_neg = neg_counter[word]\n",
    "    \n",
    "    p_rev_pos *= (n_word_pos + 1) / (total_words_pos + len(pos_counter))\n",
    "    p_rev_neg *= (n_word_neg + 1) / (total_words_neg + len(neg_counter))\n",
    "\n",
    "\n",
    "p_rev_pos, p_rev_neg"
   ]
  },
  {
   "cell_type": "markdown",
   "metadata": {},
   "source": [
    "---"
   ]
  },
  {
   "cell_type": "markdown",
   "metadata": {},
   "source": [
    "### $P(\\text{review})$"
   ]
  },
  {
   "cell_type": "markdown",
   "metadata": {},
   "source": [
    "- It's extremely similar to $P(\\text{review}|\\text{positive})$ and $P(\\text{review}|\\text{negative})$.\n",
    "- In this case we dont assume that the review is positive or negative.\n",
    "$$ P(\\text{review}) = P(\\text{word\\_1}) \\cdot P(\\text{word\\_2}) \\cdot \\ldots \\cdot P(\\text{word\\_n}) $$\n",
    "$$ P(\\text{word\\_n}) = \\frac{\\text{\\# of word\\_n in all positive AND negative}}{\\text{\\# of words in positive AND negative}} $$\n",
    "- Our final question is, we want to predict whether the review \"This crib was amazing\" is a positive or negative review.\n",
    "- In other words, we are asking whether $P(\\text{positive}|\\text{review})$ is greater than $P(\\text{negative}|\\text{review})$.\n",
    "- Then we end up with following equation:\n",
    "$$ P(\\text{positive}|\\text{review}) = \\frac{P(\\text{review}|\\text{positive}) \\cdot P(\\text{positive})}{P(\\text{review})} $$\n",
    "$$ P(\\text{negative}|\\text{review}) = \\frac{P(\\text{review}|\\text{negative}) \\cdot P(\\text{negative})}{P(\\text{review})} $$\n",
    "- $P(\\text{review})$ is in the denominator or each, so the value will be the same for both equations.\n",
    "- Since we are only interested in compating these two proabilities, there is no reason why we need to divide them by the same value.\n",
    "- We can completely ignore the denominator!"
   ]
  },
  {
   "cell_type": "markdown",
   "metadata": {},
   "source": [
    "---"
   ]
  },
  {
   "cell_type": "markdown",
   "metadata": {},
   "source": [
    "### Add all together"
   ]
  },
  {
   "cell_type": "markdown",
   "metadata": {},
   "source": [
    "- We use following equation:\n",
    "$$ P(\\text{positive}|\\text{review}) = \\frac{P(\\text{review}|\\text{positive}) \\cdot P(\\text{positive})}{P(\\text{review})} $$\n",
    "$$ P(\\text{negative}|\\text{review}) = \\frac{P(\\text{review}|\\text{negative}) \\cdot P(\\text{negative})}{P(\\text{review})} $$"
   ]
  },
  {
   "cell_type": "code",
   "execution_count": 45,
   "metadata": {},
   "outputs": [],
   "source": [
    "def bayes_theorem(review):\n",
    "    total_reviews = len(neg_list) + len(pos_list)\n",
    "    p_pos = len(pos_list) / total_reviews\n",
    "    p_neg = len(neg_list) / total_reviews\n",
    "    \n",
    "    review_words = review.split()\n",
    "    total_words_pos = sum(pos_counter.values())\n",
    "    total_words_neg = sum(neg_counter.values())\n",
    "    p_rev_pos = 1\n",
    "    p_rev_neg = 1\n",
    "    \n",
    "    for word in review_words:\n",
    "        # p(review|class) = p(word1|class) * p(word2|class) * ... * p(wordN|class)\n",
    "        n_word_pos = pos_counter[word]\n",
    "        n_word_neg = neg_counter[word]\n",
    "        \n",
    "        p_rev_pos *= (n_word_pos + 1) / (total_words_pos + len(pos_counter))\n",
    "        p_rev_neg *= (n_word_neg + 1) / (total_words_neg + len(neg_counter))\n",
    "    \n",
    "    # p(class|review) = p(review|class) * p(class)\n",
    "    p_pos_rev = p_rev_pos * p_pos \n",
    "    p_neg_rev = p_rev_neg * p_neg \n",
    "    \n",
    "    return p_pos_rev, p_neg_rev"
   ]
  },
  {
   "cell_type": "code",
   "execution_count": 46,
   "metadata": {},
   "outputs": [
    {
     "name": "stdout",
     "output_type": "stream",
     "text": [
      "Positive review\n"
     ]
    }
   ],
   "source": [
    "prob_pos, prob_neg = bayes_theorem(\"This movie was amazing!\")\n",
    "\n",
    "if prob_pos > prob_neg:\n",
    "    print(\"Positive review\")\n",
    "else:\n",
    "    print(\"Negative review\")"
   ]
  },
  {
   "cell_type": "markdown",
   "metadata": {},
   "source": [
    "- Lets investigate all reviews and check if the bayes theorem is correct."
   ]
  },
  {
   "cell_type": "code",
   "execution_count": 47,
   "metadata": {},
   "outputs": [
    {
     "name": "stdout",
     "output_type": "stream",
     "text": [
      "--------------------------------------------------\n"
     ]
    }
   ],
   "source": [
    "for review in pos_list:\n",
    "    prob_pos, prob_neg = bayes_theorem(review)\n",
    "    if prob_pos < prob_neg:\n",
    "        print(f\"False classified: {review}\")\n",
    "\n",
    "print(\"-\" * 50)\n",
    "for review in neg_list:\n",
    "    prob_pos, prob_neg = bayes_theorem(review)\n",
    "    if prob_pos > prob_neg:\n",
    "        print(f\"False classified: {review}\")"
   ]
  },
  {
   "cell_type": "markdown",
   "metadata": {},
   "source": [
    "## Using `scikit-Learn`"
   ]
  },
  {
   "cell_type": "code",
   "execution_count": 48,
   "metadata": {},
   "outputs": [],
   "source": [
    "from sklearn.feature_extraction.text import CountVectorizer\n",
    "from sklearn.naive_bayes import MultinomialNB"
   ]
  },
  {
   "cell_type": "markdown",
   "metadata": {},
   "source": [
    "### Formatting the Data"
   ]
  },
  {
   "cell_type": "markdown",
   "metadata": {},
   "source": [
    "- If we want use the `scikit-learn` library, we have to format the data in a specific way.\n",
    "- We want to create a vocabulary with all the words from the dataset / reviews.\n",
    "- We can easily use the `CountVectorizer` class from the `scikit-learn` library to do this.\n",
    "    - As default, the `CountVectorizer` class will convert all the words to lowercase and remove all punctuation.\n",
    "    - The `.fit()` method will create the vocabulary and takes a list of strings as input.\n",
    "- After fitting the `CountVectorizer` class, we have access to the vocabulary using the `.vocabulary_` attribute.\n",
    "    - This vocabulary is a python dictionary which has following structure: `{'word': index, ...}`.\n",
    "    - It is not sorted by the index, so for example we can have following vocabulary if we have following review as input: `\"This movie was amazing\"`:\n",
    "        ```py\n",
    "        {\n",
    "            'this': 2,\n",
    "            'movie': 1,\n",
    "            'was': 0,\n",
    "            'amazing': 3\n",
    "        }\n",
    "        ```"
   ]
  },
  {
   "cell_type": "code",
   "execution_count": 54,
   "metadata": {},
   "outputs": [
    {
     "data": {
      "text/plain": [
       "({'training': 3, 'review': 1, 'one': 0, 'second': 2},\n",
       " {'one': 0, 'review': 1, 'second': 2, 'training': 3})"
      ]
     },
     "execution_count": 54,
     "metadata": {},
     "output_type": "execute_result"
    }
   ],
   "source": [
    "samples = [\"Training review one\", \"Second review\"]\n",
    "\n",
    "counter = CountVectorizer()\n",
    "counter.fit(samples)\n",
    "\n",
    "\n",
    "counter.vocabulary_, dict(sorted(counter.vocabulary_.items()))"
   ]
  },
  {
   "cell_type": "markdown",
   "metadata": {},
   "source": [
    "- Now we can use the `.transform()` method to make a list, that counts the number of times each word appears in the sample.\n",
    "- It takes also a list of strings as input and returns a numpy array.\n",
    "- The returning numpy array counts how often a word appears in his own sample.\n",
    "- For example, if we have following vocabulary create with the `.fit()` method:\n",
    "    ```py\n",
    "    {\n",
    "        'training': 3,\n",
    "        'review': 1,\n",
    "        'one': 0,\n",
    "        'second': 2\n",
    "    }\n",
    "    ```\n",
    "    - And we have following sample: `\"one review two review\"`, we get following output:\n",
    "    ```py\n",
    "    [\n",
    "        [1, 2, 0, 0]\n",
    "    ]\n",
    "    ```\n",
    "    - This means:\n",
    "        - At index `0`, we have `1` so the word `one` (also has index `0` in the vocabulary) appears `1` time in the sample.\n",
    "        - At index `1`, we have `2` so the word `review` (also has index `1` in the vocabulary) appears `2` times in the sample.\n",
    "        - The other words `second` and `training` do not appear in the sample, so they are `0`.\n",
    "- The Length of the array is the length of the vocabulary\n",
    "- Each index in this array represent one word from the vocabulary. \n",
    "- The value at this index is the number of times this word appears in the sample."
   ]
  },
  {
   "cell_type": "code",
   "execution_count": 59,
   "metadata": {},
   "outputs": [
    {
     "data": {
      "text/plain": [
       "array([[1, 2, 0, 0],\n",
       "       [3, 0, 0, 0]])"
      ]
     },
     "execution_count": 59,
     "metadata": {},
     "output_type": "execute_result"
    }
   ],
   "source": [
    "counts = counter.transform([\"one review two review three reviews\", \"one one one\"])\n",
    "\n",
    "counts.toarray()"
   ]
  },
  {
   "cell_type": "markdown",
   "metadata": {},
   "source": [
    "- Let's use our original dataset from the beginning.\n",
    "- We use both, the negative and positive reviews / datasets."
   ]
  },
  {
   "cell_type": "code",
   "execution_count": 51,
   "metadata": {},
   "outputs": [
    {
     "data": {
      "text/plain": [
       "(1603, (100, 1603))"
      ]
     },
     "execution_count": 51,
     "metadata": {},
     "output_type": "execute_result"
    }
   ],
   "source": [
    "counter = CountVectorizer()\n",
    "counts = counter.fit_transform(pos_list + neg_list)\n",
    "\n",
    "len(counter.vocabulary_), counts.toarray().shape"
   ]
  },
  {
   "cell_type": "markdown",
   "metadata": {},
   "source": [
    "- We have a vocabulary with unique words from the dataset (`1603` words).\n",
    "- If we use the same reviews again to create the `counts`, we have following shape: `(100, 1603)`.\n",
    "    - First dimension is the number of reviews.\n",
    "    - Second dimension is the number of unique words in the vocabulary we want to count.\n",
    "\n",
    "---"
   ]
  },
  {
   "cell_type": "markdown",
   "metadata": {},
   "source": [
    "### Using `MultinomialNB`"
   ]
  },
  {
   "cell_type": "markdown",
   "metadata": {},
   "source": [
    "- To use the `MultinomialNB` class we have to several steps:\n",
    "    - We need to create `training_counts` using the `CountVectorizer` class.\n",
    "    - - We need to create the labels for the training set.\n",
    "- Then we create the `MultinomialNB` class and use the `.fit()` method to train the model."
   ]
  },
  {
   "cell_type": "code",
   "execution_count": 61,
   "metadata": {},
   "outputs": [
    {
     "name": "stdout",
     "output_type": "stream",
     "text": [
      "Size Vocabulary: 1603\n",
      "Size Dataset: 100\n",
      "Shape training counts: (100, 1603)\n"
     ]
    },
    {
     "data": {
      "text/html": [
       "<style>#sk-container-id-7 {\n",
       "  /* Definition of color scheme common for light and dark mode */\n",
       "  --sklearn-color-text: #000;\n",
       "  --sklearn-color-text-muted: #666;\n",
       "  --sklearn-color-line: gray;\n",
       "  /* Definition of color scheme for unfitted estimators */\n",
       "  --sklearn-color-unfitted-level-0: #fff5e6;\n",
       "  --sklearn-color-unfitted-level-1: #f6e4d2;\n",
       "  --sklearn-color-unfitted-level-2: #ffe0b3;\n",
       "  --sklearn-color-unfitted-level-3: chocolate;\n",
       "  /* Definition of color scheme for fitted estimators */\n",
       "  --sklearn-color-fitted-level-0: #f0f8ff;\n",
       "  --sklearn-color-fitted-level-1: #d4ebff;\n",
       "  --sklearn-color-fitted-level-2: #b3dbfd;\n",
       "  --sklearn-color-fitted-level-3: cornflowerblue;\n",
       "\n",
       "  /* Specific color for light theme */\n",
       "  --sklearn-color-text-on-default-background: var(--sg-text-color, var(--theme-code-foreground, var(--jp-content-font-color1, black)));\n",
       "  --sklearn-color-background: var(--sg-background-color, var(--theme-background, var(--jp-layout-color0, white)));\n",
       "  --sklearn-color-border-box: var(--sg-text-color, var(--theme-code-foreground, var(--jp-content-font-color1, black)));\n",
       "  --sklearn-color-icon: #696969;\n",
       "\n",
       "  @media (prefers-color-scheme: dark) {\n",
       "    /* Redefinition of color scheme for dark theme */\n",
       "    --sklearn-color-text-on-default-background: var(--sg-text-color, var(--theme-code-foreground, var(--jp-content-font-color1, white)));\n",
       "    --sklearn-color-background: var(--sg-background-color, var(--theme-background, var(--jp-layout-color0, #111)));\n",
       "    --sklearn-color-border-box: var(--sg-text-color, var(--theme-code-foreground, var(--jp-content-font-color1, white)));\n",
       "    --sklearn-color-icon: #878787;\n",
       "  }\n",
       "}\n",
       "\n",
       "#sk-container-id-7 {\n",
       "  color: var(--sklearn-color-text);\n",
       "}\n",
       "\n",
       "#sk-container-id-7 pre {\n",
       "  padding: 0;\n",
       "}\n",
       "\n",
       "#sk-container-id-7 input.sk-hidden--visually {\n",
       "  border: 0;\n",
       "  clip: rect(1px 1px 1px 1px);\n",
       "  clip: rect(1px, 1px, 1px, 1px);\n",
       "  height: 1px;\n",
       "  margin: -1px;\n",
       "  overflow: hidden;\n",
       "  padding: 0;\n",
       "  position: absolute;\n",
       "  width: 1px;\n",
       "}\n",
       "\n",
       "#sk-container-id-7 div.sk-dashed-wrapped {\n",
       "  border: 1px dashed var(--sklearn-color-line);\n",
       "  margin: 0 0.4em 0.5em 0.4em;\n",
       "  box-sizing: border-box;\n",
       "  padding-bottom: 0.4em;\n",
       "  background-color: var(--sklearn-color-background);\n",
       "}\n",
       "\n",
       "#sk-container-id-7 div.sk-container {\n",
       "  /* jupyter's `normalize.less` sets `[hidden] { display: none; }`\n",
       "     but bootstrap.min.css set `[hidden] { display: none !important; }`\n",
       "     so we also need the `!important` here to be able to override the\n",
       "     default hidden behavior on the sphinx rendered scikit-learn.org.\n",
       "     See: https://github.com/scikit-learn/scikit-learn/issues/21755 */\n",
       "  display: inline-block !important;\n",
       "  position: relative;\n",
       "}\n",
       "\n",
       "#sk-container-id-7 div.sk-text-repr-fallback {\n",
       "  display: none;\n",
       "}\n",
       "\n",
       "div.sk-parallel-item,\n",
       "div.sk-serial,\n",
       "div.sk-item {\n",
       "  /* draw centered vertical line to link estimators */\n",
       "  background-image: linear-gradient(var(--sklearn-color-text-on-default-background), var(--sklearn-color-text-on-default-background));\n",
       "  background-size: 2px 100%;\n",
       "  background-repeat: no-repeat;\n",
       "  background-position: center center;\n",
       "}\n",
       "\n",
       "/* Parallel-specific style estimator block */\n",
       "\n",
       "#sk-container-id-7 div.sk-parallel-item::after {\n",
       "  content: \"\";\n",
       "  width: 100%;\n",
       "  border-bottom: 2px solid var(--sklearn-color-text-on-default-background);\n",
       "  flex-grow: 1;\n",
       "}\n",
       "\n",
       "#sk-container-id-7 div.sk-parallel {\n",
       "  display: flex;\n",
       "  align-items: stretch;\n",
       "  justify-content: center;\n",
       "  background-color: var(--sklearn-color-background);\n",
       "  position: relative;\n",
       "}\n",
       "\n",
       "#sk-container-id-7 div.sk-parallel-item {\n",
       "  display: flex;\n",
       "  flex-direction: column;\n",
       "}\n",
       "\n",
       "#sk-container-id-7 div.sk-parallel-item:first-child::after {\n",
       "  align-self: flex-end;\n",
       "  width: 50%;\n",
       "}\n",
       "\n",
       "#sk-container-id-7 div.sk-parallel-item:last-child::after {\n",
       "  align-self: flex-start;\n",
       "  width: 50%;\n",
       "}\n",
       "\n",
       "#sk-container-id-7 div.sk-parallel-item:only-child::after {\n",
       "  width: 0;\n",
       "}\n",
       "\n",
       "/* Serial-specific style estimator block */\n",
       "\n",
       "#sk-container-id-7 div.sk-serial {\n",
       "  display: flex;\n",
       "  flex-direction: column;\n",
       "  align-items: center;\n",
       "  background-color: var(--sklearn-color-background);\n",
       "  padding-right: 1em;\n",
       "  padding-left: 1em;\n",
       "}\n",
       "\n",
       "\n",
       "/* Toggleable style: style used for estimator/Pipeline/ColumnTransformer box that is\n",
       "clickable and can be expanded/collapsed.\n",
       "- Pipeline and ColumnTransformer use this feature and define the default style\n",
       "- Estimators will overwrite some part of the style using the `sk-estimator` class\n",
       "*/\n",
       "\n",
       "/* Pipeline and ColumnTransformer style (default) */\n",
       "\n",
       "#sk-container-id-7 div.sk-toggleable {\n",
       "  /* Default theme specific background. It is overwritten whether we have a\n",
       "  specific estimator or a Pipeline/ColumnTransformer */\n",
       "  background-color: var(--sklearn-color-background);\n",
       "}\n",
       "\n",
       "/* Toggleable label */\n",
       "#sk-container-id-7 label.sk-toggleable__label {\n",
       "  cursor: pointer;\n",
       "  display: flex;\n",
       "  width: 100%;\n",
       "  margin-bottom: 0;\n",
       "  padding: 0.5em;\n",
       "  box-sizing: border-box;\n",
       "  text-align: center;\n",
       "  align-items: start;\n",
       "  justify-content: space-between;\n",
       "  gap: 0.5em;\n",
       "}\n",
       "\n",
       "#sk-container-id-7 label.sk-toggleable__label .caption {\n",
       "  font-size: 0.6rem;\n",
       "  font-weight: lighter;\n",
       "  color: var(--sklearn-color-text-muted);\n",
       "}\n",
       "\n",
       "#sk-container-id-7 label.sk-toggleable__label-arrow:before {\n",
       "  /* Arrow on the left of the label */\n",
       "  content: \"▸\";\n",
       "  float: left;\n",
       "  margin-right: 0.25em;\n",
       "  color: var(--sklearn-color-icon);\n",
       "}\n",
       "\n",
       "#sk-container-id-7 label.sk-toggleable__label-arrow:hover:before {\n",
       "  color: var(--sklearn-color-text);\n",
       "}\n",
       "\n",
       "/* Toggleable content - dropdown */\n",
       "\n",
       "#sk-container-id-7 div.sk-toggleable__content {\n",
       "  max-height: 0;\n",
       "  max-width: 0;\n",
       "  overflow: hidden;\n",
       "  text-align: left;\n",
       "  /* unfitted */\n",
       "  background-color: var(--sklearn-color-unfitted-level-0);\n",
       "}\n",
       "\n",
       "#sk-container-id-7 div.sk-toggleable__content.fitted {\n",
       "  /* fitted */\n",
       "  background-color: var(--sklearn-color-fitted-level-0);\n",
       "}\n",
       "\n",
       "#sk-container-id-7 div.sk-toggleable__content pre {\n",
       "  margin: 0.2em;\n",
       "  border-radius: 0.25em;\n",
       "  color: var(--sklearn-color-text);\n",
       "  /* unfitted */\n",
       "  background-color: var(--sklearn-color-unfitted-level-0);\n",
       "}\n",
       "\n",
       "#sk-container-id-7 div.sk-toggleable__content.fitted pre {\n",
       "  /* unfitted */\n",
       "  background-color: var(--sklearn-color-fitted-level-0);\n",
       "}\n",
       "\n",
       "#sk-container-id-7 input.sk-toggleable__control:checked~div.sk-toggleable__content {\n",
       "  /* Expand drop-down */\n",
       "  max-height: 200px;\n",
       "  max-width: 100%;\n",
       "  overflow: auto;\n",
       "}\n",
       "\n",
       "#sk-container-id-7 input.sk-toggleable__control:checked~label.sk-toggleable__label-arrow:before {\n",
       "  content: \"▾\";\n",
       "}\n",
       "\n",
       "/* Pipeline/ColumnTransformer-specific style */\n",
       "\n",
       "#sk-container-id-7 div.sk-label input.sk-toggleable__control:checked~label.sk-toggleable__label {\n",
       "  color: var(--sklearn-color-text);\n",
       "  background-color: var(--sklearn-color-unfitted-level-2);\n",
       "}\n",
       "\n",
       "#sk-container-id-7 div.sk-label.fitted input.sk-toggleable__control:checked~label.sk-toggleable__label {\n",
       "  background-color: var(--sklearn-color-fitted-level-2);\n",
       "}\n",
       "\n",
       "/* Estimator-specific style */\n",
       "\n",
       "/* Colorize estimator box */\n",
       "#sk-container-id-7 div.sk-estimator input.sk-toggleable__control:checked~label.sk-toggleable__label {\n",
       "  /* unfitted */\n",
       "  background-color: var(--sklearn-color-unfitted-level-2);\n",
       "}\n",
       "\n",
       "#sk-container-id-7 div.sk-estimator.fitted input.sk-toggleable__control:checked~label.sk-toggleable__label {\n",
       "  /* fitted */\n",
       "  background-color: var(--sklearn-color-fitted-level-2);\n",
       "}\n",
       "\n",
       "#sk-container-id-7 div.sk-label label.sk-toggleable__label,\n",
       "#sk-container-id-7 div.sk-label label {\n",
       "  /* The background is the default theme color */\n",
       "  color: var(--sklearn-color-text-on-default-background);\n",
       "}\n",
       "\n",
       "/* On hover, darken the color of the background */\n",
       "#sk-container-id-7 div.sk-label:hover label.sk-toggleable__label {\n",
       "  color: var(--sklearn-color-text);\n",
       "  background-color: var(--sklearn-color-unfitted-level-2);\n",
       "}\n",
       "\n",
       "/* Label box, darken color on hover, fitted */\n",
       "#sk-container-id-7 div.sk-label.fitted:hover label.sk-toggleable__label.fitted {\n",
       "  color: var(--sklearn-color-text);\n",
       "  background-color: var(--sklearn-color-fitted-level-2);\n",
       "}\n",
       "\n",
       "/* Estimator label */\n",
       "\n",
       "#sk-container-id-7 div.sk-label label {\n",
       "  font-family: monospace;\n",
       "  font-weight: bold;\n",
       "  display: inline-block;\n",
       "  line-height: 1.2em;\n",
       "}\n",
       "\n",
       "#sk-container-id-7 div.sk-label-container {\n",
       "  text-align: center;\n",
       "}\n",
       "\n",
       "/* Estimator-specific */\n",
       "#sk-container-id-7 div.sk-estimator {\n",
       "  font-family: monospace;\n",
       "  border: 1px dotted var(--sklearn-color-border-box);\n",
       "  border-radius: 0.25em;\n",
       "  box-sizing: border-box;\n",
       "  margin-bottom: 0.5em;\n",
       "  /* unfitted */\n",
       "  background-color: var(--sklearn-color-unfitted-level-0);\n",
       "}\n",
       "\n",
       "#sk-container-id-7 div.sk-estimator.fitted {\n",
       "  /* fitted */\n",
       "  background-color: var(--sklearn-color-fitted-level-0);\n",
       "}\n",
       "\n",
       "/* on hover */\n",
       "#sk-container-id-7 div.sk-estimator:hover {\n",
       "  /* unfitted */\n",
       "  background-color: var(--sklearn-color-unfitted-level-2);\n",
       "}\n",
       "\n",
       "#sk-container-id-7 div.sk-estimator.fitted:hover {\n",
       "  /* fitted */\n",
       "  background-color: var(--sklearn-color-fitted-level-2);\n",
       "}\n",
       "\n",
       "/* Specification for estimator info (e.g. \"i\" and \"?\") */\n",
       "\n",
       "/* Common style for \"i\" and \"?\" */\n",
       "\n",
       ".sk-estimator-doc-link,\n",
       "a:link.sk-estimator-doc-link,\n",
       "a:visited.sk-estimator-doc-link {\n",
       "  float: right;\n",
       "  font-size: smaller;\n",
       "  line-height: 1em;\n",
       "  font-family: monospace;\n",
       "  background-color: var(--sklearn-color-background);\n",
       "  border-radius: 1em;\n",
       "  height: 1em;\n",
       "  width: 1em;\n",
       "  text-decoration: none !important;\n",
       "  margin-left: 0.5em;\n",
       "  text-align: center;\n",
       "  /* unfitted */\n",
       "  border: var(--sklearn-color-unfitted-level-1) 1pt solid;\n",
       "  color: var(--sklearn-color-unfitted-level-1);\n",
       "}\n",
       "\n",
       ".sk-estimator-doc-link.fitted,\n",
       "a:link.sk-estimator-doc-link.fitted,\n",
       "a:visited.sk-estimator-doc-link.fitted {\n",
       "  /* fitted */\n",
       "  border: var(--sklearn-color-fitted-level-1) 1pt solid;\n",
       "  color: var(--sklearn-color-fitted-level-1);\n",
       "}\n",
       "\n",
       "/* On hover */\n",
       "div.sk-estimator:hover .sk-estimator-doc-link:hover,\n",
       ".sk-estimator-doc-link:hover,\n",
       "div.sk-label-container:hover .sk-estimator-doc-link:hover,\n",
       ".sk-estimator-doc-link:hover {\n",
       "  /* unfitted */\n",
       "  background-color: var(--sklearn-color-unfitted-level-3);\n",
       "  color: var(--sklearn-color-background);\n",
       "  text-decoration: none;\n",
       "}\n",
       "\n",
       "div.sk-estimator.fitted:hover .sk-estimator-doc-link.fitted:hover,\n",
       ".sk-estimator-doc-link.fitted:hover,\n",
       "div.sk-label-container:hover .sk-estimator-doc-link.fitted:hover,\n",
       ".sk-estimator-doc-link.fitted:hover {\n",
       "  /* fitted */\n",
       "  background-color: var(--sklearn-color-fitted-level-3);\n",
       "  color: var(--sklearn-color-background);\n",
       "  text-decoration: none;\n",
       "}\n",
       "\n",
       "/* Span, style for the box shown on hovering the info icon */\n",
       ".sk-estimator-doc-link span {\n",
       "  display: none;\n",
       "  z-index: 9999;\n",
       "  position: relative;\n",
       "  font-weight: normal;\n",
       "  right: .2ex;\n",
       "  padding: .5ex;\n",
       "  margin: .5ex;\n",
       "  width: min-content;\n",
       "  min-width: 20ex;\n",
       "  max-width: 50ex;\n",
       "  color: var(--sklearn-color-text);\n",
       "  box-shadow: 2pt 2pt 4pt #999;\n",
       "  /* unfitted */\n",
       "  background: var(--sklearn-color-unfitted-level-0);\n",
       "  border: .5pt solid var(--sklearn-color-unfitted-level-3);\n",
       "}\n",
       "\n",
       ".sk-estimator-doc-link.fitted span {\n",
       "  /* fitted */\n",
       "  background: var(--sklearn-color-fitted-level-0);\n",
       "  border: var(--sklearn-color-fitted-level-3);\n",
       "}\n",
       "\n",
       ".sk-estimator-doc-link:hover span {\n",
       "  display: block;\n",
       "}\n",
       "\n",
       "/* \"?\"-specific style due to the `<a>` HTML tag */\n",
       "\n",
       "#sk-container-id-7 a.estimator_doc_link {\n",
       "  float: right;\n",
       "  font-size: 1rem;\n",
       "  line-height: 1em;\n",
       "  font-family: monospace;\n",
       "  background-color: var(--sklearn-color-background);\n",
       "  border-radius: 1rem;\n",
       "  height: 1rem;\n",
       "  width: 1rem;\n",
       "  text-decoration: none;\n",
       "  /* unfitted */\n",
       "  color: var(--sklearn-color-unfitted-level-1);\n",
       "  border: var(--sklearn-color-unfitted-level-1) 1pt solid;\n",
       "}\n",
       "\n",
       "#sk-container-id-7 a.estimator_doc_link.fitted {\n",
       "  /* fitted */\n",
       "  border: var(--sklearn-color-fitted-level-1) 1pt solid;\n",
       "  color: var(--sklearn-color-fitted-level-1);\n",
       "}\n",
       "\n",
       "/* On hover */\n",
       "#sk-container-id-7 a.estimator_doc_link:hover {\n",
       "  /* unfitted */\n",
       "  background-color: var(--sklearn-color-unfitted-level-3);\n",
       "  color: var(--sklearn-color-background);\n",
       "  text-decoration: none;\n",
       "}\n",
       "\n",
       "#sk-container-id-7 a.estimator_doc_link.fitted:hover {\n",
       "  /* fitted */\n",
       "  background-color: var(--sklearn-color-fitted-level-3);\n",
       "}\n",
       "</style><div id=\"sk-container-id-7\" class=\"sk-top-container\"><div class=\"sk-text-repr-fallback\"><pre>MultinomialNB()</pre><b>In a Jupyter environment, please rerun this cell to show the HTML representation or trust the notebook. <br />On GitHub, the HTML representation is unable to render, please try loading this page with nbviewer.org.</b></div><div class=\"sk-container\" hidden><div class=\"sk-item\"><div class=\"sk-estimator fitted sk-toggleable\"><input class=\"sk-toggleable__control sk-hidden--visually\" id=\"sk-estimator-id-7\" type=\"checkbox\" checked><label for=\"sk-estimator-id-7\" class=\"sk-toggleable__label fitted sk-toggleable__label-arrow\"><div><div>MultinomialNB</div></div><div><a class=\"sk-estimator-doc-link fitted\" rel=\"noreferrer\" target=\"_blank\" href=\"https://scikit-learn.org/1.6/modules/generated/sklearn.naive_bayes.MultinomialNB.html\">?<span>Documentation for MultinomialNB</span></a><span class=\"sk-estimator-doc-link fitted\">i<span>Fitted</span></span></div></label><div class=\"sk-toggleable__content fitted\"><pre>MultinomialNB()</pre></div> </div></div></div></div>"
      ],
      "text/plain": [
       "MultinomialNB()"
      ]
     },
     "execution_count": 61,
     "metadata": {},
     "output_type": "execute_result"
    }
   ],
   "source": [
    "counter = CountVectorizer()\n",
    "training_counts = counter.fit_transform(pos_list + neg_list)\n",
    "print(f\"Size Vocabulary: {len(counter.vocabulary_)}\")\n",
    "print(f\"Size Dataset: {len(pos_list) + len(neg_list)}\")\n",
    "print(f\"Shape training counts: {training_counts.shape}\")\n",
    "\n",
    "\n",
    "classifier = MultinomialNB()\n",
    "training_labels = [1] * len(pos_list) + [0] * len(neg_list)\n",
    "classifier.fit(training_counts, training_labels)"
   ]
  },
  {
   "cell_type": "markdown",
   "metadata": {},
   "source": [
    "- To use the trained model, we can use the `.predict()` method to predict the labels for the test set.\n",
    "- We also need to create the `test_counts` using the `CountVectorizer` class that we used for the training set.\n",
    "- We can use the `.predict()` method to predict the labels for the test set.\n",
    "- If we want the probabilities of the predictions, we can use the `.predict_proba()` method."
   ]
  },
  {
   "cell_type": "code",
   "execution_count": 63,
   "metadata": {},
   "outputs": [
    {
     "name": "stdout",
     "output_type": "stream",
     "text": [
      "Test Sample is classified as: [1]\n",
      "Probability of being negative: 0.35\n",
      "Probability of being positive: 0.65\n"
     ]
    }
   ],
   "source": [
    "test_sample = \"This movie was amazing\"\n",
    "test_sample_counts = counter.transform([test_sample])\n",
    "\n",
    "# 1 means positive review, 0 means negative review\n",
    "print(f\"Test Sample is classified as: {classifier.predict(test_sample_counts)}\") \n",
    "\n",
    "prob_neg, prob_pos = classifier.predict_proba(test_sample_counts)[0]\n",
    "print(f\"Probability of being negative: {prob_neg:.2f}\")\n",
    "print(f\"Probability of being positive: {prob_pos:.2f}\")"
   ]
  }
 ],
 "metadata": {
  "kernelspec": {
   "display_name": "Codecademy-XphA9WxU",
   "language": "python",
   "name": "python3"
  },
  "language_info": {
   "codemirror_mode": {
    "name": "ipython",
    "version": 3
   },
   "file_extension": ".py",
   "mimetype": "text/x-python",
   "name": "python",
   "nbconvert_exporter": "python",
   "pygments_lexer": "ipython3",
   "version": "3.11.1"
  }
 },
 "nbformat": 4,
 "nbformat_minor": 2
}
