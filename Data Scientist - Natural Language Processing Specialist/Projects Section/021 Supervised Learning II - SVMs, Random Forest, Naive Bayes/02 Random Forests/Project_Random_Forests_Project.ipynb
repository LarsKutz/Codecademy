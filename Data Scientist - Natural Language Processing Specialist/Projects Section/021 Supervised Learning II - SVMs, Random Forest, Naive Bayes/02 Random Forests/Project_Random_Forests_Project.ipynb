{
 "cells": [
  {
   "cell_type": "markdown",
   "id": "dc22997e",
   "metadata": {},
   "source": [
    "# Random Forests Project"
   ]
  },
  {
   "cell_type": "markdown",
   "id": "75445925",
   "metadata": {},
   "source": [
    "In this project, we will be using a dataset containing census information from UCI’s Machine Learning Repository.\n",
    "\n",
    "By using this census data with a random forest, we will try to predict whether or not a person makes more than $50,000.\n",
    "\n",
    "<br>\n",
    "\n",
    "## Datasets\n",
    "The original data set is available at the UCI Machine Learning Repository:\n",
    "- [https://archive.ics.uci.edu/dataset/20/census+income](https://archive.ics.uci.edu/dataset/20/census+income)\n",
    "\n",
    "The dataset has been saved as a dataframe named df. Some of the input and output features of interest are:\n",
    "- age: continuous.\n",
    "- workclass: Private, Self-emp-not-inc, Self-emp-inc, Federal-gov, Local-gov, State-gov, Without-pay, Never-worked.\n",
    "- education: Bachelors, Some-college, 11th, HS-grad, Prof-school, Assoc-acdm, Assoc-voc, 9th, 7th-8th, 12th, Masters, 1st-4th, 10th, Doctorate, 5th-6th, Preschool\n",
    "- race: White, Asian-Pac-Islander, Amer-Indian-Eskimo, Other, Black\n",
    "- sex: Female, Male\n",
    "- capital-gain: continuous.\n",
    "- capital-loss: continuous.\n",
    "- hours-per-week: continuous.\n",
    "- native-country: discrete.\n",
    "- income: discrete, >50K, <=50K."
   ]
  },
  {
   "cell_type": "code",
   "execution_count": 22,
   "id": "c9ea4a1b",
   "metadata": {},
   "outputs": [],
   "source": [
    "import pandas as pd\n",
    "import numpy as np\n",
    "import matplotlib.pyplot as plt\n",
    "import seaborn as sns\n",
    "from sklearn.model_selection import train_test_split\n",
    "from sklearn.tree import DecisionTreeClassifier\n",
    "from sklearn.ensemble import RandomForestClassifier, BaggingClassifier, RandomForestRegressor\n",
    "from sklearn import tree\n",
    "from sklearn.linear_model import LogisticRegression\n",
    "from sklearn.metrics import accuracy_score, precision_score, recall_score, f1_score, roc_auc_score"
   ]
  },
  {
   "cell_type": "code",
   "execution_count": 23,
   "id": "6bf4050f",
   "metadata": {},
   "outputs": [
    {
     "data": {
      "application/vnd.microsoft.datawrangler.viewer.v0+json": {
       "columns": [
        {
         "name": "index",
         "rawType": "int64",
         "type": "integer"
        },
        {
         "name": "age",
         "rawType": "int64",
         "type": "integer"
        },
        {
         "name": "workclass",
         "rawType": "object",
         "type": "string"
        },
        {
         "name": "fnlwgt",
         "rawType": "int64",
         "type": "integer"
        },
        {
         "name": "education",
         "rawType": "object",
         "type": "string"
        },
        {
         "name": "education-num",
         "rawType": "int64",
         "type": "integer"
        },
        {
         "name": "marital-status",
         "rawType": "object",
         "type": "string"
        },
        {
         "name": "occupation",
         "rawType": "object",
         "type": "string"
        },
        {
         "name": "relationship",
         "rawType": "object",
         "type": "string"
        },
        {
         "name": "race",
         "rawType": "object",
         "type": "string"
        },
        {
         "name": "sex",
         "rawType": "object",
         "type": "string"
        },
        {
         "name": "capital-gain",
         "rawType": "int64",
         "type": "integer"
        },
        {
         "name": "capital-loss",
         "rawType": "int64",
         "type": "integer"
        },
        {
         "name": "hours-per-week",
         "rawType": "int64",
         "type": "integer"
        },
        {
         "name": "native-country",
         "rawType": "object",
         "type": "string"
        },
        {
         "name": "income",
         "rawType": "object",
         "type": "string"
        }
       ],
       "conversionMethod": "pd.DataFrame",
       "ref": "7b47ad15-95e1-431e-a1d6-4b30d5d9795d",
       "rows": [
        [
         "0",
         "39",
         " State-gov",
         "77516",
         " Bachelors",
         "13",
         " Never-married",
         " Adm-clerical",
         " Not-in-family",
         " White",
         " Male",
         "2174",
         "0",
         "40",
         " United-States",
         " <=50K"
        ],
        [
         "1",
         "50",
         " Self-emp-not-inc",
         "83311",
         " Bachelors",
         "13",
         " Married-civ-spouse",
         " Exec-managerial",
         " Husband",
         " White",
         " Male",
         "0",
         "0",
         "13",
         " United-States",
         " <=50K"
        ],
        [
         "2",
         "38",
         " Private",
         "215646",
         " HS-grad",
         "9",
         " Divorced",
         " Handlers-cleaners",
         " Not-in-family",
         " White",
         " Male",
         "0",
         "0",
         "40",
         " United-States",
         " <=50K"
        ],
        [
         "3",
         "53",
         " Private",
         "234721",
         " 11th",
         "7",
         " Married-civ-spouse",
         " Handlers-cleaners",
         " Husband",
         " Black",
         " Male",
         "0",
         "0",
         "40",
         " United-States",
         " <=50K"
        ],
        [
         "4",
         "28",
         " Private",
         "338409",
         " Bachelors",
         "13",
         " Married-civ-spouse",
         " Prof-specialty",
         " Wife",
         " Black",
         " Female",
         "0",
         "0",
         "40",
         " Cuba",
         " <=50K"
        ]
       ],
       "shape": {
        "columns": 15,
        "rows": 5
       }
      },
      "text/html": [
       "<div>\n",
       "<style scoped>\n",
       "    .dataframe tbody tr th:only-of-type {\n",
       "        vertical-align: middle;\n",
       "    }\n",
       "\n",
       "    .dataframe tbody tr th {\n",
       "        vertical-align: top;\n",
       "    }\n",
       "\n",
       "    .dataframe thead th {\n",
       "        text-align: right;\n",
       "    }\n",
       "</style>\n",
       "<table border=\"1\" class=\"dataframe\">\n",
       "  <thead>\n",
       "    <tr style=\"text-align: right;\">\n",
       "      <th></th>\n",
       "      <th>age</th>\n",
       "      <th>workclass</th>\n",
       "      <th>fnlwgt</th>\n",
       "      <th>education</th>\n",
       "      <th>education-num</th>\n",
       "      <th>marital-status</th>\n",
       "      <th>occupation</th>\n",
       "      <th>relationship</th>\n",
       "      <th>race</th>\n",
       "      <th>sex</th>\n",
       "      <th>capital-gain</th>\n",
       "      <th>capital-loss</th>\n",
       "      <th>hours-per-week</th>\n",
       "      <th>native-country</th>\n",
       "      <th>income</th>\n",
       "    </tr>\n",
       "  </thead>\n",
       "  <tbody>\n",
       "    <tr>\n",
       "      <th>0</th>\n",
       "      <td>39</td>\n",
       "      <td>State-gov</td>\n",
       "      <td>77516</td>\n",
       "      <td>Bachelors</td>\n",
       "      <td>13</td>\n",
       "      <td>Never-married</td>\n",
       "      <td>Adm-clerical</td>\n",
       "      <td>Not-in-family</td>\n",
       "      <td>White</td>\n",
       "      <td>Male</td>\n",
       "      <td>2174</td>\n",
       "      <td>0</td>\n",
       "      <td>40</td>\n",
       "      <td>United-States</td>\n",
       "      <td>&lt;=50K</td>\n",
       "    </tr>\n",
       "    <tr>\n",
       "      <th>1</th>\n",
       "      <td>50</td>\n",
       "      <td>Self-emp-not-inc</td>\n",
       "      <td>83311</td>\n",
       "      <td>Bachelors</td>\n",
       "      <td>13</td>\n",
       "      <td>Married-civ-spouse</td>\n",
       "      <td>Exec-managerial</td>\n",
       "      <td>Husband</td>\n",
       "      <td>White</td>\n",
       "      <td>Male</td>\n",
       "      <td>0</td>\n",
       "      <td>0</td>\n",
       "      <td>13</td>\n",
       "      <td>United-States</td>\n",
       "      <td>&lt;=50K</td>\n",
       "    </tr>\n",
       "    <tr>\n",
       "      <th>2</th>\n",
       "      <td>38</td>\n",
       "      <td>Private</td>\n",
       "      <td>215646</td>\n",
       "      <td>HS-grad</td>\n",
       "      <td>9</td>\n",
       "      <td>Divorced</td>\n",
       "      <td>Handlers-cleaners</td>\n",
       "      <td>Not-in-family</td>\n",
       "      <td>White</td>\n",
       "      <td>Male</td>\n",
       "      <td>0</td>\n",
       "      <td>0</td>\n",
       "      <td>40</td>\n",
       "      <td>United-States</td>\n",
       "      <td>&lt;=50K</td>\n",
       "    </tr>\n",
       "    <tr>\n",
       "      <th>3</th>\n",
       "      <td>53</td>\n",
       "      <td>Private</td>\n",
       "      <td>234721</td>\n",
       "      <td>11th</td>\n",
       "      <td>7</td>\n",
       "      <td>Married-civ-spouse</td>\n",
       "      <td>Handlers-cleaners</td>\n",
       "      <td>Husband</td>\n",
       "      <td>Black</td>\n",
       "      <td>Male</td>\n",
       "      <td>0</td>\n",
       "      <td>0</td>\n",
       "      <td>40</td>\n",
       "      <td>United-States</td>\n",
       "      <td>&lt;=50K</td>\n",
       "    </tr>\n",
       "    <tr>\n",
       "      <th>4</th>\n",
       "      <td>28</td>\n",
       "      <td>Private</td>\n",
       "      <td>338409</td>\n",
       "      <td>Bachelors</td>\n",
       "      <td>13</td>\n",
       "      <td>Married-civ-spouse</td>\n",
       "      <td>Prof-specialty</td>\n",
       "      <td>Wife</td>\n",
       "      <td>Black</td>\n",
       "      <td>Female</td>\n",
       "      <td>0</td>\n",
       "      <td>0</td>\n",
       "      <td>40</td>\n",
       "      <td>Cuba</td>\n",
       "      <td>&lt;=50K</td>\n",
       "    </tr>\n",
       "  </tbody>\n",
       "</table>\n",
       "</div>"
      ],
      "text/plain": [
       "   age          workclass  fnlwgt   education  education-num  \\\n",
       "0   39          State-gov   77516   Bachelors             13   \n",
       "1   50   Self-emp-not-inc   83311   Bachelors             13   \n",
       "2   38            Private  215646     HS-grad              9   \n",
       "3   53            Private  234721        11th              7   \n",
       "4   28            Private  338409   Bachelors             13   \n",
       "\n",
       "        marital-status          occupation    relationship    race      sex  \\\n",
       "0        Never-married        Adm-clerical   Not-in-family   White     Male   \n",
       "1   Married-civ-spouse     Exec-managerial         Husband   White     Male   \n",
       "2             Divorced   Handlers-cleaners   Not-in-family   White     Male   \n",
       "3   Married-civ-spouse   Handlers-cleaners         Husband   Black     Male   \n",
       "4   Married-civ-spouse      Prof-specialty            Wife   Black   Female   \n",
       "\n",
       "   capital-gain  capital-loss  hours-per-week  native-country  income  \n",
       "0          2174             0              40   United-States   <=50K  \n",
       "1             0             0              13   United-States   <=50K  \n",
       "2             0             0              40   United-States   <=50K  \n",
       "3             0             0              40   United-States   <=50K  \n",
       "4             0             0              40            Cuba   <=50K  "
      ]
     },
     "execution_count": 23,
     "metadata": {},
     "output_type": "execute_result"
    }
   ],
   "source": [
    "df = pd.read_csv('adult.csv')\n",
    "df.head()"
   ]
  },
  {
   "cell_type": "markdown",
   "id": "63a4798b",
   "metadata": {},
   "source": [
    "## 1."
   ]
  },
  {
   "cell_type": "markdown",
   "id": "c2137e61",
   "metadata": {},
   "source": [
    "- We will build a random forest classifier to predict the income category. \n",
    "- First, take a look at the distribution of income values – what percentage of samples have incomes less than 50k and greater than 50k?"
   ]
  },
  {
   "cell_type": "code",
   "execution_count": 24,
   "id": "9b15acd1",
   "metadata": {},
   "outputs": [
    {
     "data": {
      "text/plain": [
       "income\n",
       "<=50K    0.75919\n",
       ">50K     0.24081\n",
       "Name: proportion, dtype: float64"
      ]
     },
     "execution_count": 24,
     "metadata": {},
     "output_type": "execute_result"
    }
   ],
   "source": [
    "df.income.value_counts(normalize=True)"
   ]
  },
  {
   "cell_type": "markdown",
   "id": "cc6b578f",
   "metadata": {},
   "source": [
    "## 2. "
   ]
  },
  {
   "cell_type": "markdown",
   "id": "6091a951",
   "metadata": {},
   "source": [
    "- There’s a small problem with our data that is a little hard to catch — every string has an extra space at the start. \n",
    "- For example, the first row’s native-country is “ United-States”, but we want it to be “United-States”. \n",
    "- One way to fix this is to select all columns of type `object` and use the string method `.str.strip()`."
   ]
  },
  {
   "cell_type": "code",
   "execution_count": 25,
   "id": "4bbe91d9",
   "metadata": {},
   "outputs": [
    {
     "data": {
      "application/vnd.microsoft.datawrangler.viewer.v0+json": {
       "columns": [
        {
         "name": "index",
         "rawType": "int64",
         "type": "integer"
        },
        {
         "name": "age",
         "rawType": "int64",
         "type": "integer"
        },
        {
         "name": "workclass",
         "rawType": "object",
         "type": "string"
        },
        {
         "name": "fnlwgt",
         "rawType": "int64",
         "type": "integer"
        },
        {
         "name": "education",
         "rawType": "object",
         "type": "string"
        },
        {
         "name": "education-num",
         "rawType": "int64",
         "type": "integer"
        },
        {
         "name": "marital-status",
         "rawType": "object",
         "type": "string"
        },
        {
         "name": "occupation",
         "rawType": "object",
         "type": "string"
        },
        {
         "name": "relationship",
         "rawType": "object",
         "type": "string"
        },
        {
         "name": "race",
         "rawType": "object",
         "type": "string"
        },
        {
         "name": "sex",
         "rawType": "object",
         "type": "string"
        },
        {
         "name": "capital-gain",
         "rawType": "int64",
         "type": "integer"
        },
        {
         "name": "capital-loss",
         "rawType": "int64",
         "type": "integer"
        },
        {
         "name": "hours-per-week",
         "rawType": "int64",
         "type": "integer"
        },
        {
         "name": "native-country",
         "rawType": "object",
         "type": "string"
        },
        {
         "name": "income",
         "rawType": "object",
         "type": "string"
        }
       ],
       "conversionMethod": "pd.DataFrame",
       "ref": "b1402488-a0cb-4ed6-bf99-d804d761f2c0",
       "rows": [
        [
         "0",
         "39",
         "State-gov",
         "77516",
         "Bachelors",
         "13",
         "Never-married",
         "Adm-clerical",
         "Not-in-family",
         "White",
         "Male",
         "2174",
         "0",
         "40",
         "United-States",
         "<=50K"
        ],
        [
         "1",
         "50",
         "Self-emp-not-inc",
         "83311",
         "Bachelors",
         "13",
         "Married-civ-spouse",
         "Exec-managerial",
         "Husband",
         "White",
         "Male",
         "0",
         "0",
         "13",
         "United-States",
         "<=50K"
        ],
        [
         "2",
         "38",
         "Private",
         "215646",
         "HS-grad",
         "9",
         "Divorced",
         "Handlers-cleaners",
         "Not-in-family",
         "White",
         "Male",
         "0",
         "0",
         "40",
         "United-States",
         "<=50K"
        ],
        [
         "3",
         "53",
         "Private",
         "234721",
         "11th",
         "7",
         "Married-civ-spouse",
         "Handlers-cleaners",
         "Husband",
         "Black",
         "Male",
         "0",
         "0",
         "40",
         "United-States",
         "<=50K"
        ],
        [
         "4",
         "28",
         "Private",
         "338409",
         "Bachelors",
         "13",
         "Married-civ-spouse",
         "Prof-specialty",
         "Wife",
         "Black",
         "Female",
         "0",
         "0",
         "40",
         "Cuba",
         "<=50K"
        ]
       ],
       "shape": {
        "columns": 15,
        "rows": 5
       }
      },
      "text/html": [
       "<div>\n",
       "<style scoped>\n",
       "    .dataframe tbody tr th:only-of-type {\n",
       "        vertical-align: middle;\n",
       "    }\n",
       "\n",
       "    .dataframe tbody tr th {\n",
       "        vertical-align: top;\n",
       "    }\n",
       "\n",
       "    .dataframe thead th {\n",
       "        text-align: right;\n",
       "    }\n",
       "</style>\n",
       "<table border=\"1\" class=\"dataframe\">\n",
       "  <thead>\n",
       "    <tr style=\"text-align: right;\">\n",
       "      <th></th>\n",
       "      <th>age</th>\n",
       "      <th>workclass</th>\n",
       "      <th>fnlwgt</th>\n",
       "      <th>education</th>\n",
       "      <th>education-num</th>\n",
       "      <th>marital-status</th>\n",
       "      <th>occupation</th>\n",
       "      <th>relationship</th>\n",
       "      <th>race</th>\n",
       "      <th>sex</th>\n",
       "      <th>capital-gain</th>\n",
       "      <th>capital-loss</th>\n",
       "      <th>hours-per-week</th>\n",
       "      <th>native-country</th>\n",
       "      <th>income</th>\n",
       "    </tr>\n",
       "  </thead>\n",
       "  <tbody>\n",
       "    <tr>\n",
       "      <th>0</th>\n",
       "      <td>39</td>\n",
       "      <td>State-gov</td>\n",
       "      <td>77516</td>\n",
       "      <td>Bachelors</td>\n",
       "      <td>13</td>\n",
       "      <td>Never-married</td>\n",
       "      <td>Adm-clerical</td>\n",
       "      <td>Not-in-family</td>\n",
       "      <td>White</td>\n",
       "      <td>Male</td>\n",
       "      <td>2174</td>\n",
       "      <td>0</td>\n",
       "      <td>40</td>\n",
       "      <td>United-States</td>\n",
       "      <td>&lt;=50K</td>\n",
       "    </tr>\n",
       "    <tr>\n",
       "      <th>1</th>\n",
       "      <td>50</td>\n",
       "      <td>Self-emp-not-inc</td>\n",
       "      <td>83311</td>\n",
       "      <td>Bachelors</td>\n",
       "      <td>13</td>\n",
       "      <td>Married-civ-spouse</td>\n",
       "      <td>Exec-managerial</td>\n",
       "      <td>Husband</td>\n",
       "      <td>White</td>\n",
       "      <td>Male</td>\n",
       "      <td>0</td>\n",
       "      <td>0</td>\n",
       "      <td>13</td>\n",
       "      <td>United-States</td>\n",
       "      <td>&lt;=50K</td>\n",
       "    </tr>\n",
       "    <tr>\n",
       "      <th>2</th>\n",
       "      <td>38</td>\n",
       "      <td>Private</td>\n",
       "      <td>215646</td>\n",
       "      <td>HS-grad</td>\n",
       "      <td>9</td>\n",
       "      <td>Divorced</td>\n",
       "      <td>Handlers-cleaners</td>\n",
       "      <td>Not-in-family</td>\n",
       "      <td>White</td>\n",
       "      <td>Male</td>\n",
       "      <td>0</td>\n",
       "      <td>0</td>\n",
       "      <td>40</td>\n",
       "      <td>United-States</td>\n",
       "      <td>&lt;=50K</td>\n",
       "    </tr>\n",
       "    <tr>\n",
       "      <th>3</th>\n",
       "      <td>53</td>\n",
       "      <td>Private</td>\n",
       "      <td>234721</td>\n",
       "      <td>11th</td>\n",
       "      <td>7</td>\n",
       "      <td>Married-civ-spouse</td>\n",
       "      <td>Handlers-cleaners</td>\n",
       "      <td>Husband</td>\n",
       "      <td>Black</td>\n",
       "      <td>Male</td>\n",
       "      <td>0</td>\n",
       "      <td>0</td>\n",
       "      <td>40</td>\n",
       "      <td>United-States</td>\n",
       "      <td>&lt;=50K</td>\n",
       "    </tr>\n",
       "    <tr>\n",
       "      <th>4</th>\n",
       "      <td>28</td>\n",
       "      <td>Private</td>\n",
       "      <td>338409</td>\n",
       "      <td>Bachelors</td>\n",
       "      <td>13</td>\n",
       "      <td>Married-civ-spouse</td>\n",
       "      <td>Prof-specialty</td>\n",
       "      <td>Wife</td>\n",
       "      <td>Black</td>\n",
       "      <td>Female</td>\n",
       "      <td>0</td>\n",
       "      <td>0</td>\n",
       "      <td>40</td>\n",
       "      <td>Cuba</td>\n",
       "      <td>&lt;=50K</td>\n",
       "    </tr>\n",
       "  </tbody>\n",
       "</table>\n",
       "</div>"
      ],
      "text/plain": [
       "   age         workclass  fnlwgt  education  education-num  \\\n",
       "0   39         State-gov   77516  Bachelors             13   \n",
       "1   50  Self-emp-not-inc   83311  Bachelors             13   \n",
       "2   38           Private  215646    HS-grad              9   \n",
       "3   53           Private  234721       11th              7   \n",
       "4   28           Private  338409  Bachelors             13   \n",
       "\n",
       "       marital-status         occupation   relationship   race     sex  \\\n",
       "0       Never-married       Adm-clerical  Not-in-family  White    Male   \n",
       "1  Married-civ-spouse    Exec-managerial        Husband  White    Male   \n",
       "2            Divorced  Handlers-cleaners  Not-in-family  White    Male   \n",
       "3  Married-civ-spouse  Handlers-cleaners        Husband  Black    Male   \n",
       "4  Married-civ-spouse     Prof-specialty           Wife  Black  Female   \n",
       "\n",
       "   capital-gain  capital-loss  hours-per-week native-country income  \n",
       "0          2174             0              40  United-States  <=50K  \n",
       "1             0             0              13  United-States  <=50K  \n",
       "2             0             0              40  United-States  <=50K  \n",
       "3             0             0              40  United-States  <=50K  \n",
       "4             0             0              40           Cuba  <=50K  "
      ]
     },
     "execution_count": 25,
     "metadata": {},
     "output_type": "execute_result"
    }
   ],
   "source": [
    "obj_df = df.select_dtypes(include=['object']).columns\n",
    "df[obj_df] = df[obj_df].apply(lambda x: x.str.strip())\n",
    "df.head()"
   ]
  },
  {
   "cell_type": "markdown",
   "id": "c40bc94f",
   "metadata": {},
   "source": [
    "## 3."
   ]
  },
  {
   "cell_type": "markdown",
   "id": "bc09a721",
   "metadata": {},
   "source": [
    "- Create a features dataframe `X`. \n",
    "- This should include only features in the list `feature_cols` and convert categorical features to dummy variables using `pd.get_dummies()`. \n",
    "- Include the paramter `drop_first=True` to eliminate redundant features."
   ]
  },
  {
   "cell_type": "code",
   "execution_count": 26,
   "id": "d2ec729b",
   "metadata": {},
   "outputs": [
    {
     "data": {
      "application/vnd.microsoft.datawrangler.viewer.v0+json": {
       "columns": [
        {
         "name": "index",
         "rawType": "int64",
         "type": "integer"
        },
        {
         "name": "age",
         "rawType": "int64",
         "type": "integer"
        },
        {
         "name": "capital-gain",
         "rawType": "int64",
         "type": "integer"
        },
        {
         "name": "capital-loss",
         "rawType": "int64",
         "type": "integer"
        },
        {
         "name": "hours-per-week",
         "rawType": "int64",
         "type": "integer"
        },
        {
         "name": "sex_Male",
         "rawType": "bool",
         "type": "boolean"
        },
        {
         "name": "race_Asian-Pac-Islander",
         "rawType": "bool",
         "type": "boolean"
        },
        {
         "name": "race_Black",
         "rawType": "bool",
         "type": "boolean"
        },
        {
         "name": "race_Other",
         "rawType": "bool",
         "type": "boolean"
        },
        {
         "name": "race_White",
         "rawType": "bool",
         "type": "boolean"
        }
       ],
       "conversionMethod": "pd.DataFrame",
       "ref": "8ddf25c2-0dfc-4411-9b4f-b482b05333c0",
       "rows": [
        [
         "0",
         "39",
         "2174",
         "0",
         "40",
         "True",
         "False",
         "False",
         "False",
         "True"
        ],
        [
         "1",
         "50",
         "0",
         "0",
         "13",
         "True",
         "False",
         "False",
         "False",
         "True"
        ],
        [
         "2",
         "38",
         "0",
         "0",
         "40",
         "True",
         "False",
         "False",
         "False",
         "True"
        ],
        [
         "3",
         "53",
         "0",
         "0",
         "40",
         "True",
         "False",
         "True",
         "False",
         "False"
        ],
        [
         "4",
         "28",
         "0",
         "0",
         "40",
         "False",
         "False",
         "True",
         "False",
         "False"
        ]
       ],
       "shape": {
        "columns": 9,
        "rows": 5
       }
      },
      "text/html": [
       "<div>\n",
       "<style scoped>\n",
       "    .dataframe tbody tr th:only-of-type {\n",
       "        vertical-align: middle;\n",
       "    }\n",
       "\n",
       "    .dataframe tbody tr th {\n",
       "        vertical-align: top;\n",
       "    }\n",
       "\n",
       "    .dataframe thead th {\n",
       "        text-align: right;\n",
       "    }\n",
       "</style>\n",
       "<table border=\"1\" class=\"dataframe\">\n",
       "  <thead>\n",
       "    <tr style=\"text-align: right;\">\n",
       "      <th></th>\n",
       "      <th>age</th>\n",
       "      <th>capital-gain</th>\n",
       "      <th>capital-loss</th>\n",
       "      <th>hours-per-week</th>\n",
       "      <th>sex_Male</th>\n",
       "      <th>race_Asian-Pac-Islander</th>\n",
       "      <th>race_Black</th>\n",
       "      <th>race_Other</th>\n",
       "      <th>race_White</th>\n",
       "    </tr>\n",
       "  </thead>\n",
       "  <tbody>\n",
       "    <tr>\n",
       "      <th>0</th>\n",
       "      <td>39</td>\n",
       "      <td>2174</td>\n",
       "      <td>0</td>\n",
       "      <td>40</td>\n",
       "      <td>True</td>\n",
       "      <td>False</td>\n",
       "      <td>False</td>\n",
       "      <td>False</td>\n",
       "      <td>True</td>\n",
       "    </tr>\n",
       "    <tr>\n",
       "      <th>1</th>\n",
       "      <td>50</td>\n",
       "      <td>0</td>\n",
       "      <td>0</td>\n",
       "      <td>13</td>\n",
       "      <td>True</td>\n",
       "      <td>False</td>\n",
       "      <td>False</td>\n",
       "      <td>False</td>\n",
       "      <td>True</td>\n",
       "    </tr>\n",
       "    <tr>\n",
       "      <th>2</th>\n",
       "      <td>38</td>\n",
       "      <td>0</td>\n",
       "      <td>0</td>\n",
       "      <td>40</td>\n",
       "      <td>True</td>\n",
       "      <td>False</td>\n",
       "      <td>False</td>\n",
       "      <td>False</td>\n",
       "      <td>True</td>\n",
       "    </tr>\n",
       "    <tr>\n",
       "      <th>3</th>\n",
       "      <td>53</td>\n",
       "      <td>0</td>\n",
       "      <td>0</td>\n",
       "      <td>40</td>\n",
       "      <td>True</td>\n",
       "      <td>False</td>\n",
       "      <td>True</td>\n",
       "      <td>False</td>\n",
       "      <td>False</td>\n",
       "    </tr>\n",
       "    <tr>\n",
       "      <th>4</th>\n",
       "      <td>28</td>\n",
       "      <td>0</td>\n",
       "      <td>0</td>\n",
       "      <td>40</td>\n",
       "      <td>False</td>\n",
       "      <td>False</td>\n",
       "      <td>True</td>\n",
       "      <td>False</td>\n",
       "      <td>False</td>\n",
       "    </tr>\n",
       "  </tbody>\n",
       "</table>\n",
       "</div>"
      ],
      "text/plain": [
       "   age  capital-gain  capital-loss  hours-per-week  sex_Male  \\\n",
       "0   39          2174             0              40      True   \n",
       "1   50             0             0              13      True   \n",
       "2   38             0             0              40      True   \n",
       "3   53             0             0              40      True   \n",
       "4   28             0             0              40     False   \n",
       "\n",
       "   race_Asian-Pac-Islander  race_Black  race_Other  race_White  \n",
       "0                    False       False       False        True  \n",
       "1                    False       False       False        True  \n",
       "2                    False       False       False        True  \n",
       "3                    False        True       False       False  \n",
       "4                    False        True       False       False  "
      ]
     },
     "execution_count": 26,
     "metadata": {},
     "output_type": "execute_result"
    }
   ],
   "source": [
    "feature_cols = ['age', 'capital-gain', 'capital-loss', 'hours-per-week', 'sex','race']\n",
    "\n",
    "X = pd.get_dummies(df[feature_cols], drop_first=True)\n",
    "X.head()"
   ]
  },
  {
   "cell_type": "markdown",
   "id": "c1fb04f0",
   "metadata": {},
   "source": [
    "## 4."
   ]
  },
  {
   "cell_type": "markdown",
   "id": "b2c903eb",
   "metadata": {},
   "source": [
    "- Create the output variable `y`, which is binary. \n",
    "- It should be 0 when income is less than 50k and 1 when it is greater than 50k."
   ]
  },
  {
   "cell_type": "code",
   "execution_count": 29,
   "id": "5af79cd2",
   "metadata": {},
   "outputs": [
    {
     "data": {
      "text/plain": [
       "array([0, 0, 0, ..., 0, 0, 1], shape=(32561,))"
      ]
     },
     "execution_count": 29,
     "metadata": {},
     "output_type": "execute_result"
    }
   ],
   "source": [
    "y = np.where(df.income=='<=50K', 0, 1)\n",
    "y"
   ]
  },
  {
   "cell_type": "markdown",
   "id": "95dccdd3",
   "metadata": {},
   "source": [
    "## 5."
   ]
  },
  {
   "cell_type": "markdown",
   "id": "bfdcb756",
   "metadata": {},
   "source": [
    "- plit the data into a train and test set with a test size of `20%`."
   ]
  },
  {
   "cell_type": "code",
   "execution_count": 65,
   "id": "f6d1ee46",
   "metadata": {},
   "outputs": [],
   "source": [
    "X_train, X_test, y_train, y_test = train_test_split(X, y, test_size=0.2, random_state=1)"
   ]
  },
  {
   "cell_type": "markdown",
   "id": "9c984b61",
   "metadata": {},
   "source": [
    "## 6."
   ]
  },
  {
   "cell_type": "markdown",
   "id": "0843aa76",
   "metadata": {},
   "source": [
    "- Instantiate an instance of a `RandomForestClassifier()` (with default parameters). \n",
    "- Fit the model on the train data and print the score (accuracy) on the test data. \n",
    "- This will act as a baseline to compare other model performances."
   ]
  },
  {
   "cell_type": "code",
   "execution_count": 66,
   "id": "a422c681",
   "metadata": {},
   "outputs": [
    {
     "data": {
      "text/plain": [
       "0.8186703516044833"
      ]
     },
     "execution_count": 66,
     "metadata": {},
     "output_type": "execute_result"
    }
   ],
   "source": [
    "cls = DecisionTreeClassifier()\n",
    "cls.fit(X_train, y_train)\n",
    "cls.score(X_test, y_test)"
   ]
  },
  {
   "cell_type": "markdown",
   "id": "f1989116",
   "metadata": {},
   "source": [
    "## 7."
   ]
  },
  {
   "cell_type": "markdown",
   "id": "06e67c49",
   "metadata": {},
   "source": [
    "- We will explore tuning the random forest classifier model by testing the performance over a range of `max_depth` values. \n",
    "- Fit a random forest classifier for `max_depth` values from 1-25. \n",
    "- Save the accuracy score for the train and test sets in the lists `accuracy_train`, `accuracy_test`."
   ]
  },
  {
   "cell_type": "code",
   "execution_count": 71,
   "id": "9b8819e9",
   "metadata": {},
   "outputs": [],
   "source": [
    "np.random.seed(0)\n",
    "accuracy_train=[]\n",
    "accuracy_test = []\n",
    "\n",
    "for i in range(1, 26):\n",
    "    cls = DecisionTreeClassifier(max_depth=i)\n",
    "    cls.fit(X_train, y_train)\n",
    "    y_pred_train = cls.predict(X_train)\n",
    "    y_pred_test = cls.predict(X_test)\n",
    "    accuracy_train.append(accuracy_score(y_train, y_pred_train))\n",
    "    accuracy_test.append(accuracy_score(y_test, y_pred_test))"
   ]
  },
  {
   "cell_type": "markdown",
   "id": "fdd73e5a",
   "metadata": {},
   "source": [
    "## 8."
   ]
  },
  {
   "cell_type": "markdown",
   "id": "bff2a075",
   "metadata": {},
   "source": [
    "- Find the largest accuracy and the depth this occurs on the test data."
   ]
  },
  {
   "cell_type": "code",
   "execution_count": 78,
   "id": "0cfc4bd6",
   "metadata": {},
   "outputs": [
    {
     "data": {
      "text/plain": [
       "(np.int64(7), np.float64(0.831874712114233))"
      ]
     },
     "execution_count": 78,
     "metadata": {},
     "output_type": "execute_result"
    }
   ],
   "source": [
    "idx_depth = np.argmax(accuracy_test) + 1\n",
    "best_depth = np.max(accuracy_test)\n",
    "idx_depth, best_depth"
   ]
  },
  {
   "cell_type": "markdown",
   "id": "47f68f5f",
   "metadata": {},
   "source": [
    "## 9."
   ]
  },
  {
   "cell_type": "markdown",
   "id": "0501f5df",
   "metadata": {},
   "source": [
    "- Plot the training and test accuracy of the models versus the `max_depth`."
   ]
  },
  {
   "cell_type": "code",
   "execution_count": 76,
   "id": "cf3cc3cc",
   "metadata": {},
   "outputs": [
    {
     "data": {
      "image/png": "[encoded data removed]",
      "text/plain": [
       "<Figure size 640x480 with 1 Axes>"
      ]
     },
     "metadata": {},
     "output_type": "display_data"
    }
   ],
   "source": [
    "plt.plot(range(1, 26), accuracy_train, label='train accuracy', marker='*', linestyle='dotted', linewidth=1, color='red')\n",
    "plt.plot(range(1, 26), accuracy_test, label='test accuracy', marker='o', linestyle='dashed', linewidth=1, color='blue')\n",
    "plt.xlabel('Depth')\n",
    "plt.ylabel('Accuracy')\n",
    "plt.legend()\n",
    "plt.show()"
   ]
  },
  {
   "cell_type": "markdown",
   "id": "7bf493d8",
   "metadata": {},
   "source": [
    "## 10."
   ]
  },
  {
   "cell_type": "markdown",
   "id": "9ed81fba",
   "metadata": {},
   "source": [
    "- Refit the random forest model using the `max_depth` from above; save the feature importances in a dataframe. \n",
    "- Sort the results and print the top five features."
   ]
  },
  {
   "cell_type": "code",
   "execution_count": 80,
   "id": "80e5ce54",
   "metadata": {},
   "outputs": [
    {
     "data": {
      "application/vnd.microsoft.datawrangler.viewer.v0+json": {
       "columns": [
        {
         "name": "index",
         "rawType": "int64",
         "type": "integer"
        },
        {
         "name": "feature",
         "rawType": "object",
         "type": "string"
        },
        {
         "name": "importance",
         "rawType": "float64",
         "type": "float"
        }
       ],
       "conversionMethod": "pd.DataFrame",
       "ref": "fb97ae8b-84ce-4533-bdf8-629f042ccc55",
       "rows": [
        [
         "1",
         "capital-gain",
         "0.43450856691968953"
        ],
        [
         "0",
         "age",
         "0.22642096238704612"
        ],
        [
         "2",
         "capital-loss",
         "0.17127320981136174"
        ],
        [
         "4",
         "sex_Male",
         "0.08693651672015745"
        ],
        [
         "3",
         "hours-per-week",
         "0.0777994765674931"
        ]
       ],
       "shape": {
        "columns": 2,
        "rows": 5
       }
      },
      "text/html": [
       "<div>\n",
       "<style scoped>\n",
       "    .dataframe tbody tr th:only-of-type {\n",
       "        vertical-align: middle;\n",
       "    }\n",
       "\n",
       "    .dataframe tbody tr th {\n",
       "        vertical-align: top;\n",
       "    }\n",
       "\n",
       "    .dataframe thead th {\n",
       "        text-align: right;\n",
       "    }\n",
       "</style>\n",
       "<table border=\"1\" class=\"dataframe\">\n",
       "  <thead>\n",
       "    <tr style=\"text-align: right;\">\n",
       "      <th></th>\n",
       "      <th>feature</th>\n",
       "      <th>importance</th>\n",
       "    </tr>\n",
       "  </thead>\n",
       "  <tbody>\n",
       "    <tr>\n",
       "      <th>1</th>\n",
       "      <td>capital-gain</td>\n",
       "      <td>0.434509</td>\n",
       "    </tr>\n",
       "    <tr>\n",
       "      <th>0</th>\n",
       "      <td>age</td>\n",
       "      <td>0.226421</td>\n",
       "    </tr>\n",
       "    <tr>\n",
       "      <th>2</th>\n",
       "      <td>capital-loss</td>\n",
       "      <td>0.171273</td>\n",
       "    </tr>\n",
       "    <tr>\n",
       "      <th>4</th>\n",
       "      <td>sex_Male</td>\n",
       "      <td>0.086937</td>\n",
       "    </tr>\n",
       "    <tr>\n",
       "      <th>3</th>\n",
       "      <td>hours-per-week</td>\n",
       "      <td>0.077799</td>\n",
       "    </tr>\n",
       "  </tbody>\n",
       "</table>\n",
       "</div>"
      ],
      "text/plain": [
       "          feature  importance\n",
       "1    capital-gain    0.434509\n",
       "0             age    0.226421\n",
       "2    capital-loss    0.171273\n",
       "4        sex_Male    0.086937\n",
       "3  hours-per-week    0.077799"
      ]
     },
     "execution_count": 80,
     "metadata": {},
     "output_type": "execute_result"
    }
   ],
   "source": [
    "best_cls = DecisionTreeClassifier(max_depth=idx_depth)\n",
    "best_cls.fit(X_train, y_train)\n",
    "best_cls.score(X_test, y_test)  \n",
    "\n",
    "feature_imp_df = pd.DataFrame(zip(X_train.columns, best_cls.feature_importances_),  columns=['feature', 'importance'])\n",
    "feature_imp_df.sort_values('importance', ascending=False).iloc[0:5]"
   ]
  },
  {
   "cell_type": "markdown",
   "id": "65d9eb27",
   "metadata": {},
   "source": [
    "## 11."
   ]
  },
  {
   "cell_type": "markdown",
   "id": "ddd1ea72",
   "metadata": {},
   "source": [
    "- Looking at the education feature, there are 16 unique values – from preschool to professional school. \n",
    "- Rather than adding dummy variables for each value, it makes sense to bin some of these values together.\n",
    "- While there are many ways to do this, we will take the approach of combining the values into 3 groups: `High school and less`, `College to Bachelors` and `Masters and more`. \n",
    "- Create a new column in `df` for this new features called `education_bin`."
   ]
  },
  {
   "cell_type": "code",
   "execution_count": 82,
   "id": "1905934f",
   "metadata": {},
   "outputs": [],
   "source": [
    "df['education_bin'] = pd.cut(df['education-num'], [0,9,13,16], labels=['HS or less', 'College to Bachelors', 'Masters or more'])"
   ]
  },
  {
   "cell_type": "markdown",
   "id": "ebb9a4db",
   "metadata": {},
   "source": [
    "## 12."
   ]
  },
  {
   "cell_type": "markdown",
   "id": "d7863f49",
   "metadata": {},
   "source": [
    "- Like we did previously, we will now add this new feature into our feature list and recreate `X`."
   ]
  },
  {
   "cell_type": "code",
   "execution_count": 83,
   "id": "a2bf6fb7",
   "metadata": {},
   "outputs": [],
   "source": [
    "feature_cols = ['age', 'capital-gain', 'capital-loss', 'hours-per-week', 'sex', 'race','education_bin']"
   ]
  },
  {
   "cell_type": "markdown",
   "id": "8809701a",
   "metadata": {},
   "source": [
    "## 13."
   ]
  },
  {
   "cell_type": "markdown",
   "id": "b729f46f",
   "metadata": {},
   "source": [
    "- As we did before, we will tune the random forest classifier model by testing the performance over a range of `max_depth` values. \n",
    "- Fit a random forest classifier for `max_depth` values from 1-25. \n",
    "- Save the accuracy score for the train and test sets in the lists `accuracy_train`, `accuracy_test`."
   ]
  },
  {
   "cell_type": "code",
   "execution_count": 85,
   "id": "4e100fd0",
   "metadata": {},
   "outputs": [],
   "source": [
    "X = pd.get_dummies(df[feature_cols], drop_first=True)\n",
    "\n",
    "X_train, X_test, y_train, y_test = train_test_split(X, y, random_state=1, test_size=.2)\n",
    "\n",
    "np.random.seed(0)\n",
    "accuracy_train=[]\n",
    "accuracy_test = []\n",
    "\n",
    "for i in range(1, 26):\n",
    "    cls = DecisionTreeClassifier(max_depth=i)\n",
    "    cls.fit(X_train, y_train)\n",
    "    y_pred_train = cls.predict(X_train)\n",
    "    y_pred_test = cls.predict(X_test)\n",
    "    accuracy_train.append(accuracy_score(y_train, y_pred_train))\n",
    "    accuracy_test.append(accuracy_score(y_test, y_pred_test))"
   ]
  },
  {
   "cell_type": "markdown",
   "id": "21954bc4",
   "metadata": {},
   "source": [
    "## 14."
   ]
  },
  {
   "cell_type": "markdown",
   "id": "75739286",
   "metadata": {},
   "source": [
    "- Find the largest accuracy and the depth this occurs on the test data. \n",
    "- Compare the results from the previous model tuned."
   ]
  },
  {
   "cell_type": "code",
   "execution_count": 86,
   "id": "af6216f7",
   "metadata": {},
   "outputs": [
    {
     "data": {
      "text/plain": [
       "(np.int64(10), np.float64(0.8444649163212038))"
      ]
     },
     "execution_count": 86,
     "metadata": {},
     "output_type": "execute_result"
    }
   ],
   "source": [
    "idx_depth = np.argmax(accuracy_test) + 1\n",
    "best_depth = np.max(accuracy_test)\n",
    "idx_depth, best_depth"
   ]
  },
  {
   "cell_type": "markdown",
   "id": "f3e95991",
   "metadata": {},
   "source": [
    "## 15."
   ]
  },
  {
   "cell_type": "markdown",
   "id": "a083d517",
   "metadata": {},
   "source": [
    "- Plot the training and test accuracy of the models versus the `max_depth`. \n",
    "- Compare the results from the previous model tuned."
   ]
  },
  {
   "cell_type": "code",
   "execution_count": 87,
   "id": "9f7633a1",
   "metadata": {},
   "outputs": [
    {
     "data": {
      "image/png": "[encoded data removed]",
      "text/plain": [
       "<Figure size 640x480 with 1 Axes>"
      ]
     },
     "metadata": {},
     "output_type": "display_data"
    }
   ],
   "source": [
    "plt.plot(range(1, 26), accuracy_train, label='train accuracy', marker='*', linestyle='dotted', linewidth=1, color='red')\n",
    "plt.plot(range(1, 26), accuracy_test, label='test accuracy', marker='o', linestyle='dashed', linewidth=1, color='blue')\n",
    "plt.xlabel('Depth')\n",
    "plt.ylabel('Accuracy')\n",
    "plt.legend()\n",
    "plt.show()"
   ]
  },
  {
   "cell_type": "markdown",
   "id": "dc1d72ad",
   "metadata": {},
   "source": [
    "## 16."
   ]
  },
  {
   "cell_type": "markdown",
   "id": "d67e4b24",
   "metadata": {},
   "source": [
    "- Refit the random forest model using the `max_depth` from above; save the feature importances in a dataframe. \n",
    "- Sort the results and print the top five features. \n",
    "- Compare the results from the previous model tuned."
   ]
  },
  {
   "cell_type": "code",
   "execution_count": 88,
   "id": "d8e9ab6f",
   "metadata": {},
   "outputs": [
    {
     "data": {
      "application/vnd.microsoft.datawrangler.viewer.v0+json": {
       "columns": [
        {
         "name": "index",
         "rawType": "int64",
         "type": "integer"
        },
        {
         "name": "feature",
         "rawType": "object",
         "type": "string"
        },
        {
         "name": "importance",
         "rawType": "float64",
         "type": "float"
        }
       ],
       "conversionMethod": "pd.DataFrame",
       "ref": "d61b5d16-8a8b-454f-a73d-d6fa82f12e11",
       "rows": [
        [
         "1",
         "capital-gain",
         "0.36706230957027036"
        ],
        [
         "0",
         "age",
         "0.2030866159943434"
        ],
        [
         "2",
         "capital-loss",
         "0.10854912361384297"
        ],
        [
         "10",
         "education_bin_Masters or more",
         "0.09667674802545867"
        ],
        [
         "4",
         "sex_Male",
         "0.08965489640084083"
        ]
       ],
       "shape": {
        "columns": 2,
        "rows": 5
       }
      },
      "text/html": [
       "<div>\n",
       "<style scoped>\n",
       "    .dataframe tbody tr th:only-of-type {\n",
       "        vertical-align: middle;\n",
       "    }\n",
       "\n",
       "    .dataframe tbody tr th {\n",
       "        vertical-align: top;\n",
       "    }\n",
       "\n",
       "    .dataframe thead th {\n",
       "        text-align: right;\n",
       "    }\n",
       "</style>\n",
       "<table border=\"1\" class=\"dataframe\">\n",
       "  <thead>\n",
       "    <tr style=\"text-align: right;\">\n",
       "      <th></th>\n",
       "      <th>feature</th>\n",
       "      <th>importance</th>\n",
       "    </tr>\n",
       "  </thead>\n",
       "  <tbody>\n",
       "    <tr>\n",
       "      <th>1</th>\n",
       "      <td>capital-gain</td>\n",
       "      <td>0.367062</td>\n",
       "    </tr>\n",
       "    <tr>\n",
       "      <th>0</th>\n",
       "      <td>age</td>\n",
       "      <td>0.203087</td>\n",
       "    </tr>\n",
       "    <tr>\n",
       "      <th>2</th>\n",
       "      <td>capital-loss</td>\n",
       "      <td>0.108549</td>\n",
       "    </tr>\n",
       "    <tr>\n",
       "      <th>10</th>\n",
       "      <td>education_bin_Masters or more</td>\n",
       "      <td>0.096677</td>\n",
       "    </tr>\n",
       "    <tr>\n",
       "      <th>4</th>\n",
       "      <td>sex_Male</td>\n",
       "      <td>0.089655</td>\n",
       "    </tr>\n",
       "  </tbody>\n",
       "</table>\n",
       "</div>"
      ],
      "text/plain": [
       "                          feature  importance\n",
       "1                    capital-gain    0.367062\n",
       "0                             age    0.203087\n",
       "2                    capital-loss    0.108549\n",
       "10  education_bin_Masters or more    0.096677\n",
       "4                        sex_Male    0.089655"
      ]
     },
     "execution_count": 88,
     "metadata": {},
     "output_type": "execute_result"
    }
   ],
   "source": [
    "best_cls = DecisionTreeClassifier(max_depth=idx_depth)\n",
    "best_cls.fit(X_train, y_train)\n",
    "best_cls.score(X_test, y_test)  \n",
    "\n",
    "feature_imp_df = pd.DataFrame(zip(X_train.columns, best_cls.feature_importances_),  columns=['feature', 'importance'])\n",
    "feature_imp_df.sort_values('importance', ascending=False).iloc[0:5]"
   ]
  },
  {
   "cell_type": "markdown",
   "id": "acab82d2",
   "metadata": {},
   "source": [
    "## 17."
   ]
  },
  {
   "cell_type": "markdown",
   "id": "338367ae",
   "metadata": {},
   "source": [
    "- Note that the accuracy of our final model increased and one of our added features is now in the top 5 based on importance!\n",
    "- There are a few different ways to extend this project:\n",
    "    - Are there other features that may lead to an even better performace? Consider creating new ones or adding additional features not part of the original feature list.\n",
    "    - Consider tuning hyperparameters based on a different evaluation metric – our classes are fairly imbalanced, AUC of F1 may lead to a different result\n",
    "    - Tune more parameters of the model. You can find a description of all the parameters you can tune in the Random Forest Classifier documentation. For example, see what happens if you tune `max_features` or `n_estimators`."
   ]
  }
 ],
 "metadata": {
  "kernelspec": {
   "display_name": "Codecademy-XphA9WxU",
   "language": "python",
   "name": "python3"
  },
  "language_info": {
   "codemirror_mode": {
    "name": "ipython",
    "version": 3
   },
   "file_extension": ".py",
   "mimetype": "text/x-python",
   "name": "python",
   "nbconvert_exporter": "python",
   "pygments_lexer": "ipython3",
   "version": "3.11.1"
  }
 },
 "nbformat": 4,
 "nbformat_minor": 5
}
