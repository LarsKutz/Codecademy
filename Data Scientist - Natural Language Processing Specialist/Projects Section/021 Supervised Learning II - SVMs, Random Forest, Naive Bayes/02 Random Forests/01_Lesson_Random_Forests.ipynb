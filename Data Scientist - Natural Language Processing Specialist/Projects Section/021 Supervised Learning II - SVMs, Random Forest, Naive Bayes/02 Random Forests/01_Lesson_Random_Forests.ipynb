{
 "cells": [
  {
   "cell_type": "markdown",
   "id": "11028294",
   "metadata": {},
   "source": [
    "# Random Forests"
   ]
  },
  {
   "cell_type": "code",
   "execution_count": 15,
   "id": "9eb4a2e9",
   "metadata": {},
   "outputs": [],
   "source": [
    "import pandas as pd\n",
    "import numpy as np\n",
    "import matplotlib.pyplot as plt\n",
    "import seaborn as sns\n",
    "from sklearn import tree\n",
    "from sklearn.metrics import confusion_matrix, classification_report, accuracy_score, precision_score, recall_score, f1_score, mean_absolute_error\n",
    "from sklearn.model_selection import train_test_split\n",
    "from sklearn.tree import DecisionTreeClassifier\n",
    "from sklearn.ensemble import RandomForestClassifier, BaggingClassifier, RandomForestRegressor"
   ]
  },
  {
   "cell_type": "markdown",
   "id": "3ac15144",
   "metadata": {},
   "source": [
    "## 2. Bootstrapping"
   ]
  },
  {
   "cell_type": "markdown",
   "id": "a547a033",
   "metadata": {},
   "source": [
    "**Task 1**  \n",
    "- We’ve written some code to print the number of rows in the data set and the distribution of safety ratings of the entire dataset. \n",
    "- Uncomment the relevant lines (under `## 1.`)\n",
    "- Are the safety classes distributed equally in the dataset?\n",
    "\n",
    "<br>\n",
    "\n",
    "**Task 2**  \n",
    "- Now that we know the safety variable classes are equally distributed, we’re going to create a bootstrapped sample using `.sample()`.\n",
    "- `.sample()` takes two arguments:\n",
    "    - number of rows: which is the same size as the dataset\n",
    "    - `replace`: set to `True` because bootstrapping is sampling with replacement.\n",
    "- Uncomment the lines under `## 2.` and then print the distribution of safety ratings of the new sampled dataset.\n",
    "- What is the safety ratings distribution of the bootstrapped data?\n",
    "\n",
    "<br>\n",
    "\n",
    "**Task 3**  \n",
    "- Note that the distribution has now shifted! \n",
    "- Using the same process, write a for loop to create 1000 bootstrapped samples of the same size as the original dataset. \n",
    "- Save the percentage of “low” ratings into an array called `low_perc`.\n",
    "\n",
    "<br>\n",
    "\n",
    "**Task 4**  \n",
    "- We’ve written some code to plot a histogram of the low percentage values. \n",
    "- Uncomment the lines under `## 4.`\n",
    "- We see that the average value of the low safety proportion of vehicles spans a range centered around the true mean.\n",
    "\n",
    "<br>\n",
    "\n",
    "**Task 5**  \n",
    "- Now uncomment the lines under `## 5.` to print the average low percentage and the 95% confidence range."
   ]
  },
  {
   "cell_type": "code",
   "execution_count": 10,
   "id": "252ddc0d",
   "metadata": {},
   "outputs": [
    {
     "name": "stdout",
     "output_type": "stream",
     "text": [
      "1728\n",
      "Distribution of safety ratings in 1728 of data:\n",
      "safety\n",
      "low     0.333333\n",
      "med     0.333333\n",
      "high    0.333333\n",
      "Name: proportion, dtype: float64\n",
      "Distribution of safety ratings in bootstrapped sample data:\n",
      "safety\n",
      "med     0.350116\n",
      "low     0.332176\n",
      "high    0.317708\n",
      "Name: proportion, dtype: float64\n",
      "0.33279861111111114\n"
     ]
    },
    {
     "data": {
      "image/png": "[encoded data removed]",
      "text/plain": [
       "<Figure size 640x480 with 1 Axes>"
      ]
     },
     "metadata": {},
     "output_type": "display_data"
    },
    {
     "name": "stdout",
     "output_type": "stream",
     "text": [
      "Average low percentage: 0.3328\n",
      "95% Confidence Interval for low percengage: (0.3096,0.3536)\n"
     ]
    }
   ],
   "source": [
    "df = pd.read_csv('https://archive.ics.uci.edu/ml/machine-learning-databases/car/car.data', names=['buying', 'maint', 'doors', 'persons', 'lug_boot', 'safety', 'accep'])\n",
    "df['accep'] = ~(df['accep']=='unacc') #1 is acceptable, 0 if not acceptable\n",
    "X = pd.get_dummies(df.iloc[:,0:6], drop_first=True)\n",
    "y = df['accep']\n",
    "\n",
    "x_train, x_test, y_train, y_test = train_test_split(X,y, random_state=0, test_size=0.25)\n",
    "nrows = df.shape[0]\n",
    "\n",
    "## 1. Print number of rows and distribution of safety ratings\n",
    "print(nrows)\n",
    "print(f'Distribution of safety ratings in {nrows} of data:')\n",
    "print(df.safety.value_counts(normalize=True))\n",
    "\n",
    "## 2. Create bootstrapped sample\n",
    "boot_sample = df.sample(nrows, replace=True)\n",
    "print(f'Distribution of safety ratings in bootstrapped sample data:')\n",
    "print(boot_sample.safety.value_counts(normalize=True))\n",
    "\n",
    "\n",
    "## 3. Create 1000 bootstrapped samples\n",
    "low_perc = []\n",
    "for i in range(1000):\n",
    "    boot_sample = df.sample(nrows, replace=True)\n",
    "    low_perc.append(boot_sample.safety.value_counts(normalize=True)['low'])\n",
    "\n",
    "\n",
    "## 4. Plot a histogram of the low percentage values\n",
    "mean_lp = np.mean(low_perc) \n",
    "print(mean_lp)\n",
    "plt.hist(low_perc, bins=20)\n",
    "plt.xlabel('Low Percentage')\n",
    "plt.show()\n",
    "\n",
    "## 5. What are the 2.5 and 97.5 percentiles?\n",
    "print(f'Average low percentage: {np.mean(low_perc).round(4)}')\n",
    "\n",
    "low_perc.sort()\n",
    "print(f'95% Confidence Interval for low percengage: ({low_perc[25].round(4)},{low_perc[975].round(4)})')"
   ]
  },
  {
   "cell_type": "markdown",
   "id": "bcf97524",
   "metadata": {},
   "source": [
    "## 3. Bagging"
   ]
  },
  {
   "cell_type": "markdown",
   "id": "7dd9a138",
   "metadata": {},
   "source": [
    "**Task 1**  \n",
    "- Train a decision tree with `max_depth` set to 5. \n",
    "- Evaluate the `accuracy_score` on the `test` data.\n",
    "\n",
    "<br>\n",
    "\n",
    "**Task 2**  \n",
    "- We’ve written some code to get a new set of indices, `ids`, to generate a bootstrapped set of row indices. \n",
    "- We’ve set the `random_state` argument to `0` for reproducibility. \n",
    "- Using these indices, fit another decision tree to training data pertaining to these rows. \n",
    "- What is the accuracy score on the test set for the new classifier?\n",
    "\n",
    "<br>\n",
    "\n",
    "**Task 3**  \n",
    "- Repeat a decision tree build on 10 different bootstrapped samples using a for loop. \n",
    "- Save the results, `y_pred` of all 10 predictions on the test set in an array, `preds`. \n",
    "- Take the average of the 10 results and save it as `ba_pred`\n",
    "\n",
    "<br>\n",
    "\n",
    "**Task 4**  \n",
    "- We have just performed bagging! Calculate the accuracy score on the bagged predictions and save it as `ba_accuracy`. \n",
    "- (Note that the predictions are averaged and will no longer be binary as a bunch of zeroes and ones have been averaged.)"
   ]
  },
  {
   "cell_type": "code",
   "execution_count": 19,
   "id": "837e2a5a",
   "metadata": {},
   "outputs": [
    {
     "name": "stdout",
     "output_type": "stream",
     "text": [
      "Accuracy score of DT on test set (trained using full set): 0.8588\n",
      "Accuracy score of DT on test set (trained using bootstrapped sample): 0.8912\n",
      "Accuracy score of aggregated 10 bootstrapped samples:0.9097\n"
     ]
    }
   ],
   "source": [
    "df = pd.read_csv('https://archive.ics.uci.edu/ml/machine-learning-databases/car/car.data', names=['buying', 'maint', 'doors', 'persons', 'lug_boot', 'safety', 'accep'])\n",
    "df['accep'] = ~(df['accep']=='unacc') #1 is acceptable, 0 if not acceptable\n",
    "X = pd.get_dummies(df.iloc[:,0:6], drop_first=True)\n",
    "y = df['accep']\n",
    "x_train, x_test, y_train, y_test = train_test_split(X,y, random_state=0, test_size=0.25)\n",
    "\n",
    "#1.Decision tree trained on  training set\n",
    "dt = DecisionTreeClassifier(max_depth=5)\n",
    "dt.fit(x_train, y_train)\n",
    "\n",
    "print(f'Accuracy score of DT on test set (trained using full set): {np.round(dt.score(x_test, y_test), 4)}')\n",
    "\n",
    "#2. New decision tree trained on bootstrapped sample\n",
    "dt2 = DecisionTreeClassifier(max_depth=5)\n",
    "#ids are the indices of the bootstrapped sample\n",
    "ids = x_train.sample(x_train.shape[0], replace=True, random_state=0).index\n",
    "dt2.fit(x_train.loc[ids], y_train.loc[ids])\n",
    "print(f'Accuracy score of DT on test set (trained using bootstrapped sample): {np.round(dt2.score(x_test, y_test), 4)}')\n",
    "\n",
    "## 3. Bootstapping ten samples and aggregating the results:\n",
    "preds = []\n",
    "random_state = 0\n",
    "#Write for loop:\n",
    "for i in range(10):\n",
    "    ids = x_train.sample(x_train.shape[0], replace=True, random_state=random_state+i).index\n",
    "    dt = DecisionTreeClassifier(max_depth=5)\n",
    "    dt.fit(x_train.loc[ids], y_train.loc[ids])\n",
    "    y_pred = dt.predict(x_test)\n",
    "    preds.append(y_pred)\n",
    "\n",
    "ba_pred = np.array(preds).mean(0)\n",
    "\n",
    "# 4. Calculate accuracy of the bagged sample\n",
    "ba_accuracy = accuracy_score(ba_pred>=0.5, y_test)\n",
    "print(f'Accuracy score of aggregated 10 bootstrapped samples:{np.round(ba_accuracy, 4)}')"
   ]
  },
  {
   "cell_type": "markdown",
   "id": "f8685ab5",
   "metadata": {},
   "source": [
    "## 4. Random Feature Selection"
   ]
  },
  {
   "cell_type": "markdown",
   "id": "f5da8b2e",
   "metadata": {},
   "source": [
    "**Task 1**  \n",
    "- We’ve written some code that create a random sample of 10 features, `rand_features` from the 15 original features by using NumPy’s `random.choice` method and defined a decision tree classifier `dt2`.\n",
    "- Train the new decision tree model (without specifying any pre-selected parameters!), `dt2` on training data that *contains only these ten columns*. \n",
    "- Calculate the new accuracy on the test set, store it as `accuracy_dt2` and print it to compare it to the tree built using the entire training set.\n",
    "\n",
    "<br>\n",
    "\n",
    "**Task 2**  \n",
    "- Every time we use `np.random.choice`, we can generate a new subset of random features. \n",
    "- We’re now going to obtain predictions from ten decision tree classifiers by doing the following. \n",
    "- We’ve initialized an empty array called `predictions` and created a `for` loop with ten iterations with the following steps:\n",
    "    - The first line selects ten random features using `rand_features = np.random.choice(x_train.columns, 10)`\n",
    "    - Fit the decision tree `dt2` to training data pertaining to these features.\n",
    "    - Append the predictions on test data (with only `rand_features` columns!) to the array `predictions`\n",
    "- Uncomment the relevant lines.\n",
    "\n",
    "<br>\n",
    "\n",
    "**Task 3**  \n",
    "- We have ten decision trees’ worth of predictions now! \n",
    "- To meaningfully combine their predictions, let’s use the following system. \n",
    "- If more than 5 classifiers predict that a datapoint belong to a certain class, we assign an aggregate prediction to that class. \n",
    "- To do this:\n",
    "    - Create an array `prob_predictions` that is the mean value of the predictions stored in `predictions`. This is similar to a probability on each datapoint since this is a binary classification problem.\n",
    "    - Create an array agg_predictions that assigns a value of False or True to each element in `prob_predictions` based on whether the value is <= 0.5 or >0.5. This gives us the *aggregate* prediction from the 10 decision tree classifiers.\n",
    "    - Calculate the accuaracy score on this aggregate prediction array. Store it as `agg_accuracy` and print it to compare it to the previous accuracy scores."
   ]
  },
  {
   "cell_type": "code",
   "execution_count": 28,
   "id": "87edb988",
   "metadata": {},
   "outputs": [
    {
     "name": "stdout",
     "output_type": "stream",
     "text": [
      "Accuracy score of DT on test set (trained using full feature set):\n",
      "0.9467592592592593\n",
      "Accuracy score of DT on test set (trained using random feature sample):\n",
      "0.6782407407407407\n",
      "Accuracy score of aggregated 10 samples:\n",
      "0.7731481481481481\n"
     ]
    }
   ],
   "source": [
    "df = pd.read_csv('https://archive.ics.uci.edu/ml/machine-learning-databases/car/car.data', names=['buying', 'maint', 'doors', 'persons', 'lug_boot', 'safety', 'accep'])\n",
    "df['accep'] = ~(df['accep']=='unacc') #1 is acceptable, 0 if not acceptable\n",
    "X = pd.get_dummies(df.iloc[:,0:6], drop_first=True)\n",
    "y = df['accep']\n",
    "x_train, x_test, y_train, y_test = train_test_split(X,y, random_state=0, test_size=0.25)\n",
    "dt = DecisionTreeClassifier()\n",
    "dt.fit(x_train, y_train)\n",
    "print(\"Accuracy score of DT on test set (trained using full feature set):\")\n",
    "accuracy_dt = dt.score(x_test, y_test)\n",
    "print(accuracy_dt)\n",
    "\n",
    "# 1. Create rand_features, random samples from the set of features\n",
    "rand_features = np.random.choice(x_train.columns, 10)\n",
    "\n",
    "# Make new decision tree trained on random sample of 10 features and calculate the new accuracy score\n",
    "dt2 = DecisionTreeClassifier()\n",
    "dt2.fit(x_train[rand_features], y_train)\n",
    "accuracy_dt2 = dt2.score(x_test[rand_features], y_test)\n",
    "\n",
    "print(\"Accuracy score of DT on test set (trained using random feature sample):\")\n",
    "print(accuracy_dt2)\n",
    "\n",
    "# 2. Build decision trees on 10 different random samples \n",
    "predictions = []\n",
    "for i in range(10):\n",
    "    rand_features = np.random.choice(x_train.columns,10)\n",
    "    dt2.fit(x_train[rand_features], y_train)\n",
    "    predictions.append(dt2.predict(x_test[rand_features]))\n",
    "\n",
    "## 3. Get aggregate predictions and accuracy score\n",
    "prob_predictions = np.array(predictions).mean(0)\n",
    "agg_predictions = (prob_predictions > 0.5)\n",
    "agg_accuracy = accuracy_score(agg_predictions, y_test)\n",
    "print('Accuracy score of aggregated 10 samples:')\n",
    "print(agg_accuracy)"
   ]
  },
  {
   "cell_type": "markdown",
   "id": "359bcc8d",
   "metadata": {},
   "source": [
    "## 5. Bagging in `scikit-learn`"
   ]
  },
  {
   "cell_type": "markdown",
   "id": "8b2bbc0a",
   "metadata": {},
   "source": [
    "**Task 1**  \n",
    "- Create an instance of `BaggingClassifier`, `bag_dt` with the following arguments:\n",
    "    - `DecisionTreeClassifier` (with `max_depth=5)` base estimator\n",
    "    - `n_estimators=10`.\n",
    "- Fit the model on the training set and evaluate the model on the test set by calculating the accuracy score. \n",
    "- Save the score as `bag_accuracy` and print it.\n",
    "\n",
    "<br>\n",
    "\n",
    "**Task 2**  \n",
    "- Create a different bagging classifier, `bag_dt_10` that includes the parameter `max_features=10` over and above the parameters in `bag_dt`. \n",
    "- Fit the model on the training set and evaluate the model on the test set by calculating the accuracy score. \n",
    "- Save the score as `bag_accuracy_10` and print it.\n",
    "\n",
    "<br>\n",
    "\n",
    "**Task 3**  \n",
    "- Change the base estimator of the bagged classifier to be logistic regression and call this instance `bag_lr` as follows:\n",
    "    - Set base_estimator to be `LogisticRegression`()\n",
    "    - Set `n_estimators` and `max_features` to be 10 like in the previous checkpoint\n",
    "- Refit on the training set and calculate the accuracy on the test set. \n",
    "- Store this as `bag_accuracy_lr` and print it."
   ]
  },
  {
   "cell_type": "code",
   "execution_count": 7,
   "id": "c493e4a5",
   "metadata": {},
   "outputs": [
    {
     "name": "stdout",
     "output_type": "stream",
     "text": [
      "Accuracy score of Bagged Classifier, 10 estimators:\n",
      "0.9143518518518519\n",
      "Accuracy score of Bagged Classifier, 10 estimators, 10 max features:\n",
      "0.8125\n",
      "Accuracy score of Logistic Regression, 10 estimators, 10 max features:\n",
      "0.9050925925925926\n"
     ]
    }
   ],
   "source": [
    "df = pd.read_csv('https://archive.ics.uci.edu/ml/machine-learning-databases/car/car.data', names=['buying', 'maint', 'doors', 'persons', 'lug_boot', 'safety', 'accep'])\n",
    "df['accep'] = ~(df['accep']=='unacc') #1 is acceptable, 0 if not acceptable\n",
    "X = pd.get_dummies(df.iloc[:,0:6], drop_first=True)\n",
    "y = df['accep']\n",
    "x_train, x_test, y_train, y_test = train_test_split(X,y, random_state=0, test_size=0.25)\n",
    "\n",
    "# 1. Bagging classifier with 10 Decision Tree base estimators\n",
    "bag_dt = BaggingClassifier(estimator=DecisionTreeClassifier(max_depth=5), n_estimators=10)\n",
    "bag_dt.fit(x_train, y_train)\n",
    "bag_accuracy = bag_dt.score(x_test, y_test)\n",
    "\n",
    "print('Accuracy score of Bagged Classifier, 10 estimators:')\n",
    "print(bag_accuracy)\n",
    "\n",
    "# 2.Set `max_features` to 10.\n",
    "bag_dt_10 = BaggingClassifier(estimator=DecisionTreeClassifier(max_depth=5), n_estimators=10, max_features=10)\n",
    "bag_dt_10.fit(x_train, y_train)\n",
    "bag_accuracy_10 = bag_dt_10.score(x_test, y_test)\n",
    "print('Accuracy score of Bagged Classifier, 10 estimators, 10 max features:')\n",
    "print(bag_accuracy_10)\n",
    "\n",
    "\n",
    "# 3. Change base estimator to Logistic Regression\n",
    "from sklearn.linear_model import LogisticRegression\n",
    "\n",
    "bag_lr = BaggingClassifier(estimator=LogisticRegression(), n_estimators=10, max_features=10)\n",
    "bag_lr.fit(x_train, y_train)\n",
    "bag_accuracy_lr = bag_lr.score(x_test, y_test)\n",
    "\n",
    "print('Accuracy score of Logistic Regression, 10 estimators, 10 max features:')\n",
    "print(bag_accuracy_lr)"
   ]
  },
  {
   "cell_type": "markdown",
   "id": "add1eab7",
   "metadata": {},
   "source": [
    "## 6. Train and Predict using `scikit-learn`"
   ]
  },
  {
   "cell_type": "markdown",
   "id": "b36bb669",
   "metadata": {},
   "source": [
    "**Task 1**  \n",
    "- Create a random forest classification model defined as `rf` with default parameters. \n",
    "- Use the `.get_params()` method to get the parameters of the random forest. \n",
    "- Store it as `rf_params` and print it.\n",
    "\n",
    "<br>\n",
    "\n",
    "**Task 2**  \n",
    "- Fit `rf` using the training data set and labels. \n",
    "- Predict the classes of the test data set (`x_test`) and save this as an array `y_pred`. \n",
    "- Calculate the accuracy of model on the test set (either using `.score()` or `accuracy_score()`) and save it as `rf_accuracy`.\n",
    "\n",
    "<br>\n",
    "\n",
    "**Task 3**  \n",
    "- Implement additional classification evaluation metrics — calculate and print the precision, recall, and confusion matrix on the test set. \n",
    "- Store them as `rf_precision`, `rf_recall` and `rf_confusion_matrix` respectively."
   ]
  },
  {
   "cell_type": "code",
   "execution_count": 13,
   "id": "9ab84948",
   "metadata": {},
   "outputs": [
    {
     "name": "stdout",
     "output_type": "stream",
     "text": [
      "Random Forest parameters:\n",
      "{'bootstrap': True, 'ccp_alpha': 0.0, 'class_weight': None, 'criterion': 'gini', 'max_depth': None, 'max_features': 'sqrt', 'max_leaf_nodes': None, 'max_samples': None, 'min_impurity_decrease': 0.0, 'min_samples_leaf': 1, 'min_samples_split': 2, 'min_weight_fraction_leaf': 0.0, 'monotonic_cst': None, 'n_estimators': 100, 'n_jobs': None, 'oob_score': False, 'random_state': None, 'verbose': 0, 'warm_start': False}\n",
      "Test set accuracy:\n",
      "0.9513888888888888\n",
      "Test set precision: 0.9457364341085271\n",
      "Test set recall: 0.8970588235294118\n",
      "Test set confusion matrix:\n",
      "[[289   7]\n",
      " [ 14 122]]\n"
     ]
    }
   ],
   "source": [
    "df = pd.read_csv('https://archive.ics.uci.edu/ml/machine-learning-databases/car/car.data', names=['buying', 'maint', 'doors', 'persons', 'lug_boot', 'safety', 'accep'])\n",
    "df['accep'] = ~(df['accep']=='unacc') #1 is acceptable, 0 if not acceptable\n",
    "X = pd.get_dummies(df.iloc[:,0:6], drop_first=True)\n",
    "y = df['accep']\n",
    "x_train, x_test, y_train, y_test = train_test_split(X,y, random_state=0, test_size=0.25)\n",
    "\n",
    "# 1. Create a Random Forest Classifier and print its parameters\n",
    "rf = RandomForestClassifier()\n",
    "rf_params = rf.get_params()\n",
    "print('Random Forest parameters:')\n",
    "print(rf_params)\n",
    "\n",
    "# 2. Fit the Random Forest Classifier to training data and calculate accuracy score on the test data\n",
    "rf.fit(x_train, y_train)\n",
    "y_pred = rf.predict(x_test)\n",
    "print('Test set accuracy:')\n",
    "rf_accuracy = rf.score(x_test, y_test)\n",
    "print(rf_accuracy)\n",
    "\n",
    "# 3. Calculate Precision and Recall scores and the Confusion Matrix\n",
    "rf_precision = precision_score(y_test, y_pred)\n",
    "print(f'Test set precision: {rf_precision}')\n",
    "rf_recall = recall_score(y_test, y_pred)\n",
    "print(f'Test set recall: {rf_recall}')\n",
    "rf_confusion_matrix = confusion_matrix(y_test, y_pred)\n",
    "print(f'Test set confusion matrix:\\n{rf_confusion_matrix}')"
   ]
  },
  {
   "cell_type": "markdown",
   "id": "d1b653c8",
   "metadata": {},
   "source": [
    "## 7."
   ]
  },
  {
   "cell_type": "markdown",
   "id": "6a72c80b",
   "metadata": {},
   "source": [
    "**Task 1**  \n",
    "- Initialize and fit a `RandomForestRegressor()` model named `rfr` on the training data. \n",
    "- Calculate the default scores (the R^2 values here) on the train and test sets, store them as `r_squared_train` and `r_squared_test` respectively, and print them.\n",
    "\n",
    "<br>\n",
    "\n",
    "**Task 2**  \n",
    "- Calculate the average price of a car, store it as `avg_price`. \n",
    "- Calculate the MAE (Mean Absolute Error) for the train and test sets and store the values as `mae_train` and `mae_test`. \n",
    "- Print all three values to to see how the errors compare to the mean."
   ]
  },
  {
   "cell_type": "code",
   "execution_count": 18,
   "id": "ce5411c7",
   "metadata": {},
   "outputs": [
    {
     "name": "stdout",
     "output_type": "stream",
     "text": [
      "count     1728.000000\n",
      "mean     36476.712880\n",
      "std      13457.464931\n",
      "min       4786.538756\n",
      "25%      25779.729816\n",
      "50%      36383.240521\n",
      "75%      47528.160340\n",
      "max      67246.782150\n",
      "Name: price, dtype: float64\n",
      "Train set R^2: 0.9772821150013223\n",
      "Test set R^2: 0.8339109800951005\n",
      "Avg Price Train/Test: 36476.7128804898\n",
      "Train set MAE: 1595.3337323474311\n",
      "Test set MAE: 4480.9920316610405\n"
     ]
    }
   ],
   "source": [
    "df = pd.read_csv('https://archive.ics.uci.edu/ml/machine-learning-databases/car/car.data', names=['buying', 'maint', 'doors', 'persons', 'lug_boot', 'safety', 'accep'])\n",
    "df['accep'] = ~(df['accep']=='unacc') #1 is acceptable, 0 if not acceptable\n",
    "X = pd.get_dummies(df.iloc[:,0:6], drop_first=True)\n",
    "\n",
    "## Generating some fake prices for regression! :) \n",
    "fake_prices = (15000 + 25*df.index.values)+np.random.normal(size=df.shape[0])*5000\n",
    "df['price'] = fake_prices\n",
    "print(df.price.describe())\n",
    "y = df['price']\n",
    "\n",
    "x_train, x_test, y_train, y_test = train_test_split(X,y, random_state=0, test_size=0.25)\n",
    "\n",
    "# 1. Create a Random Regressor and print `R^2` scores on training and test data\n",
    "rfr = RandomForestRegressor()\n",
    "rfr.fit(x_train, y_train)\n",
    "r_squared_train = rfr.score(x_train, y_train)\n",
    "r_squared_test = rfr.score(x_test, y_test)\n",
    "\n",
    "print(f'Train set R^2: {r_squared_train}')\n",
    "print(f'Test set R^2: {r_squared_test}')\n",
    "\n",
    "# 2. Print Mean Absolute Error on training and test data\n",
    "y_pred_train = rfr.predict(x_train)\n",
    "y_pred_test = rfr.predict(x_test)\n",
    "mae_train = mean_absolute_error(y_train, y_pred_train)\n",
    "mae_test = mean_absolute_error(y_test, y_pred_test)\n",
    "avg_price = y.mean()\n",
    "\n",
    "print(f'Avg Price Train/Test: {avg_price}')\n",
    "print(f'Train set MAE: {mae_train}')\n",
    "print(f'Test set MAE: {mae_test}')"
   ]
  },
  {
   "cell_type": "markdown",
   "id": "a58b0af2",
   "metadata": {},
   "source": [
    "## 8."
   ]
  },
  {
   "cell_type": "markdown",
   "id": "9f43f65b",
   "metadata": {},
   "source": []
  },
  {
   "cell_type": "code",
   "execution_count": null,
   "id": "9ec065ad",
   "metadata": {},
   "outputs": [],
   "source": []
  },
  {
   "cell_type": "code",
   "execution_count": null,
   "id": "65fc3f8c",
   "metadata": {},
   "outputs": [],
   "source": []
  }
 ],
 "metadata": {
  "kernelspec": {
   "display_name": "Codecademy-XphA9WxU",
   "language": "python",
   "name": "python3"
  },
  "language_info": {
   "codemirror_mode": {
    "name": "ipython",
    "version": 3
   },
   "file_extension": ".py",
   "mimetype": "text/x-python",
   "name": "python",
   "nbconvert_exporter": "python",
   "pygments_lexer": "ipython3",
   "version": "3.11.1"
  }
 },
 "nbformat": 4,
 "nbformat_minor": 5
}
