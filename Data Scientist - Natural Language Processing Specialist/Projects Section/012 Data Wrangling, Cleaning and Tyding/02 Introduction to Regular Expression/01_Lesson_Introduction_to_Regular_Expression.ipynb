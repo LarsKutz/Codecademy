{
 "cells": [
  {
   "cell_type": "markdown",
   "metadata": {},
   "source": [
    "# Introduction to Regular Expressions"
   ]
  },
  {
   "cell_type": "code",
   "execution_count": 1,
   "metadata": {},
   "outputs": [],
   "source": [
    "import re"
   ]
  },
  {
   "cell_type": "code",
   "execution_count": 90,
   "metadata": {},
   "outputs": [],
   "source": [
    "def check(true_match_list, false_match_list=[], pattern=None, verbose=False):\n",
    "    pattern = input(\"Enter a regex here: \") if pattern is None else pattern\n",
    "    print(\"The regex you entered is: \" + pattern)\n",
    "    x = re.findall(pattern, str(true_match_list + false_match_list))\n",
    "    if verbose:\n",
    "        print(\"The matches are: \" + str(x))\n",
    "    if x == true_match_list:\n",
    "        print(f\"Matching with {str(true_match_list)}.\")\n",
    "    else:\n",
    "        print(f\"Not matching with {str(true_match_list)}.\")"
   ]
  },
  {
   "cell_type": "markdown",
   "metadata": {},
   "source": [
    "## 2. Literals"
   ]
  },
  {
   "cell_type": "code",
   "execution_count": 60,
   "metadata": {},
   "outputs": [
    {
     "name": "stdout",
     "output_type": "stream",
     "text": [
      "The regex you entered is: bark\n",
      "Matching with ['bark'].\n"
     ]
    }
   ],
   "source": [
    "check([\"bark\"], [\"baa\", \"bellow\", \"boom\"])"
   ]
  },
  {
   "cell_type": "markdown",
   "metadata": {},
   "source": [
    "## 3. Alternation"
   ]
  },
  {
   "cell_type": "code",
   "execution_count": 61,
   "metadata": {},
   "outputs": [
    {
     "name": "stdout",
     "output_type": "stream",
     "text": [
      "The regex you entered is: cat|dog\n",
      "Matching with ['cat', 'dog'].\n"
     ]
    }
   ],
   "source": [
    "check([\"cat\", \"dog\"])"
   ]
  },
  {
   "cell_type": "markdown",
   "metadata": {},
   "source": [
    "## 4. Character Sets"
   ]
  },
  {
   "cell_type": "code",
   "execution_count": 62,
   "metadata": {},
   "outputs": [
    {
     "name": "stdout",
     "output_type": "stream",
     "text": [
      "The regex you entered is: [chr]at\n",
      "Matching with ['cat', 'hat', 'rat'].\n"
     ]
    }
   ],
   "source": [
    "check([\"cat\", \"hat\", \"rat\"], [\"eat\", \"mat\", \"sat\"])"
   ]
  },
  {
   "cell_type": "markdown",
   "metadata": {},
   "source": [
    "## 5. Wildcards"
   ]
  },
  {
   "cell_type": "code",
   "execution_count": 64,
   "metadata": {},
   "outputs": [
    {
     "name": "stdout",
     "output_type": "stream",
     "text": [
      "The regex you entered is: ....\\.\n",
      "Matching with ['bear.', 'lion.', 'orca.'].\n"
     ]
    }
   ],
   "source": [
    "check([\"bear.\", \"lion.\", \"orca.\"], [\"mouse\", \"koala\", \"snail\"])"
   ]
  },
  {
   "cell_type": "markdown",
   "metadata": {},
   "source": [
    "## 6. Ranges"
   ]
  },
  {
   "cell_type": "code",
   "execution_count": 65,
   "metadata": {},
   "outputs": [
    {
     "name": "stdout",
     "output_type": "stream",
     "text": [
      "The regex you entered is: [c-e][uol][bgk]\n",
      "Matching with ['cub', 'dog', 'elk'].\n"
     ]
    }
   ],
   "source": [
    "check([\"cub\", \"dog\", \"elk\"], [\"ape\", \"cow\", \"ewe\"])"
   ]
  },
  {
   "cell_type": "markdown",
   "metadata": {},
   "source": [
    "## 7. Shorthand Character Classes"
   ]
  },
  {
   "cell_type": "code",
   "execution_count": 66,
   "metadata": {},
   "outputs": [
    {
     "name": "stdout",
     "output_type": "stream",
     "text": [
      "The regex you entered is: \\d\\s\\w\\w\\w\\w\\w\\w\n",
      "Matching with ['5 sloths', '8 llamas', '7 hyenas'].\n"
     ]
    }
   ],
   "source": [
    "check([\"5 sloths\", \"8 llamas\", \"7 hyenas\"], [\"one bird\", \"two owls\"])"
   ]
  },
  {
   "cell_type": "markdown",
   "metadata": {},
   "source": [
    "## 8. Grouping"
   ]
  },
  {
   "cell_type": "code",
   "execution_count": 93,
   "metadata": {},
   "outputs": [
    {
     "name": "stdout",
     "output_type": "stream",
     "text": [
      "The regex you entered is: (?:puppies|kitty cats) are my favorite!\n",
      "The matches are: ['puppies are my favorite!', 'kitty cats are my favorite!']\n",
      "Matching with ['puppies are my favorite!', 'kitty cats are my favorite!'].\n"
     ]
    }
   ],
   "source": [
    "true_match_list = [\n",
    "    \"puppies are my favorite!\", \n",
    "    \"kitty cats are my favorite!\"\n",
    "]\n",
    "false_match_list = [\n",
    "    \"deer are my favorite!\", \n",
    "    \"otters are my favorite!\",\n",
    "    \"hedgehogs are my favorite!\"\n",
    "]\n",
    "\n",
    "# (?: ...) is a non-capturing group, meaning it groups the alternatives \n",
    "# but does not create a separate capture group.\n",
    "pattern = \"(?:puppies|kitty cats) are my favorite!\"\n",
    "\n",
    "# In Python, when you use re.findall() with a regex pattern that contains \n",
    "# groups (like (puppies|kitty cats)), it returns a list of all matched \n",
    "# groups, not the entire matched strings.\n",
    "check(true_match_list, false_match_list, pattern, verbose=True)"
   ]
  },
  {
   "cell_type": "markdown",
   "metadata": {},
   "source": [
    "## 9. Quantifiers - Fixed"
   ]
  },
  {
   "cell_type": "code",
   "execution_count": 94,
   "metadata": {},
   "outputs": [
    {
     "name": "stdout",
     "output_type": "stream",
     "text": [
      "The regex you entered is: squea{3,5}k\n",
      "Matching with ['squeaaak', 'squeaaaak', 'squeaaaaak'].\n"
     ]
    }
   ],
   "source": [
    "true_match_list = [\n",
    "    \"squeaaak\", \n",
    "    \"squeaaaak\",\n",
    "    \"squeaaaaak\"\n",
    "]\n",
    "false_match_list = [\n",
    "    \"squeak\", \n",
    "    \"squeaak\",\n",
    "    \"squeaaaaaak\"\n",
    "]\n",
    "\n",
    "pattern = \"squea{3,5}k\"\n",
    "\n",
    "check(true_match_list, false_match_list, pattern)"
   ]
  },
  {
   "cell_type": "markdown",
   "metadata": {},
   "source": [
    "## 10. Quantifiers - Optional"
   ]
  },
  {
   "cell_type": "code",
   "execution_count": 98,
   "metadata": {},
   "outputs": [
    {
     "name": "stdout",
     "output_type": "stream",
     "text": [
      "The regex you entered is: \\d ducks? for adoption\\?\n",
      "Matching with ['1 duck for adoption?', '5 ducks for adoption?', '7 ducks for adoption?'].\n"
     ]
    }
   ],
   "source": [
    "true_match_list = [\n",
    "    \"1 duck for adoption?\", \n",
    "    \"5 ducks for adoption?\",\n",
    "    \"7 ducks for adoption?\"\n",
    "]\n",
    "\n",
    "pattern = \"\\d ducks? for adoption\\?\"\n",
    "\n",
    "check(true_match_list, pattern=pattern)"
   ]
  },
  {
   "cell_type": "markdown",
   "metadata": {},
   "source": [
    "## 11. Quantifiers - 0 or More, 1 or More"
   ]
  },
  {
   "cell_type": "code",
   "execution_count": 99,
   "metadata": {},
   "outputs": [
    {
     "name": "stdout",
     "output_type": "stream",
     "text": [
      "The regex you entered is: hoo+t\n",
      "Matching with ['hoot', 'hoooooot', 'hooooooooooot'].\n"
     ]
    }
   ],
   "source": [
    "true_match_list = [\n",
    "    \"hoot\", \n",
    "    \"hoooooot\",\n",
    "    \"hooooooooooot\"\n",
    "]\n",
    "false_match_list = [\n",
    "    \"hot\", \n",
    "    \"hoat\",\n",
    "    \"hoo\"\n",
    "]\n",
    "\n",
    "pattern = \"hoo+t\"\n",
    "\n",
    "check(true_match_list, false_match_list, pattern)"
   ]
  },
  {
   "cell_type": "markdown",
   "metadata": {},
   "source": [
    "## 12. Anchors"
   ]
  },
  {
   "cell_type": "code",
   "execution_count": 100,
   "metadata": {},
   "outputs": [
    {
     "name": "stdout",
     "output_type": "stream",
     "text": [
      "The regex you entered is: ^penguins are cooler than regular expressions$\n",
      "Matching with ['penguins are cooler than regular expressions'].\n"
     ]
    }
   ],
   "source": [
    "true_match_list = [\n",
    "    \"penguins are cooler than regular expressions\"\n",
    "]\n",
    "false_match_list = [\n",
    "    \"king penguins are cooler than regular expressions\", \n",
    "    \"penguins are cooler than regular expressions!\"\n",
    "]\n",
    "\n",
    "pattern = \"^penguins are cooler than regular expressions$\"\n",
    "\n",
    "check(true_match_list, false_match_list, pattern)"
   ]
  },
  {
   "cell_type": "markdown",
   "metadata": {},
   "source": [
    "## 13. Review"
   ]
  },
  {
   "cell_type": "code",
   "execution_count": 101,
   "metadata": {},
   "outputs": [
    {
     "name": "stdout",
     "output_type": "stream",
     "text": [
      "The regex you entered is: [\\d(]{1}[\\s\\d]{1}\\d[-.\\d]{1}[)\\d]{1}[\\s\\d]{1}\\d[-.\\d]{1}\\d[\\s\\d]{1}\\d*\n",
      "Matching with ['718-555-3810', '9175552849', '1 212 555 3821', '(917)5551298', '212.555.8731'].\n"
     ]
    }
   ],
   "source": [
    "true_match_list = [\n",
    "    \"718-555-3810\",\n",
    "    \"9175552849\",\n",
    "    \"1 212 555 3821\",\n",
    "    \"(917)5551298\",\n",
    "    \"212.555.8731\"\n",
    "]\n",
    "false_match_list = [\n",
    "    \"wildebeest\", \n",
    "    \"hippopotamus\",\n",
    "    \"woolly mammoth\"\n",
    "]\n",
    "\n",
    "pattern = \"[\\d(]{1}[\\s\\d]{1}\\d[-.\\d]{1}[)\\d]{1}[\\s\\d]{1}\\d[-.\\d]{1}\\d[\\s\\d]{1}\\d*\"\n",
    "\n",
    "check(true_match_list, false_match_list, pattern)"
   ]
  }
 ],
 "metadata": {
  "kernelspec": {
   "display_name": "Codecademy-XphA9WxU",
   "language": "python",
   "name": "python3"
  },
  "language_info": {
   "codemirror_mode": {
    "name": "ipython",
    "version": 3
   },
   "file_extension": ".py",
   "mimetype": "text/x-python",
   "name": "python",
   "nbconvert_exporter": "python",
   "pygments_lexer": "ipython3",
   "version": "3.11.1"
  }
 },
 "nbformat": 4,
 "nbformat_minor": 2
}
